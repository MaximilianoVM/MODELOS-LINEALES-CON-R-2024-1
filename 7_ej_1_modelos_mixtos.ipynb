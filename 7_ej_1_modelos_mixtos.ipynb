{
 "cells": [
  {
   "cell_type": "code",
   "execution_count": null,
   "metadata": {
    "vscode": {
     "languageId": "r"
    }
   },
   "outputs": [],
   "source": []
  },
  {
   "cell_type": "markdown",
   "metadata": {},
   "source": [
    "<h1>Modelos Lineales Mixtos</h1>\n",
    "<h2> Ejemplo guía #1 </h2>"
   ]
  },
  {
   "cell_type": "markdown",
   "metadata": {},
   "source": [
    "<img src=\"figuras/7_fig_arboles.png\" width=\"500\">"
   ]
  },
  {
   "cell_type": "markdown",
   "metadata": {},
   "source": [
    "$$ y_i = \\alpha_j + \\beta_k + \\epsilon_i $$\n",
    "si la observacion $i$ es para el nivel $j$ de CO2 del arbol $k$ <br>"
   ]
  },
  {
   "cell_type": "markdown",
   "metadata": {},
   "source": [
    "Datos"
   ]
  },
  {
   "cell_type": "code",
   "execution_count": 1,
   "metadata": {
    "vscode": {
     "languageId": "r"
    }
   },
   "outputs": [
    {
     "data": {
      "text/html": [
       "<table class=\"dataframe\">\n",
       "<caption>A data.frame: 24 × 3</caption>\n",
       "<thead>\n",
       "\t<tr><th></th><th scope=col>area</th><th scope=col>CO2</th><th scope=col>tree</th></tr>\n",
       "\t<tr><th></th><th scope=col>&lt;dbl&gt;</th><th scope=col>&lt;fct&gt;</th><th scope=col>&lt;fct&gt;</th></tr>\n",
       "</thead>\n",
       "<tbody>\n",
       "\t<tr><th scope=row>1</th><td>1.6055739</td><td>1</td><td>1</td></tr>\n",
       "\t<tr><th scope=row>2</th><td>1.6300711</td><td>1</td><td>1</td></tr>\n",
       "\t<tr><th scope=row>3</th><td>1.5391189</td><td>1</td><td>1</td></tr>\n",
       "\t<tr><th scope=row>4</th><td>1.7187315</td><td>1</td><td>1</td></tr>\n",
       "\t<tr><th scope=row>5</th><td>1.3896163</td><td>1</td><td>2</td></tr>\n",
       "\t<tr><th scope=row>6</th><td>1.5858805</td><td>1</td><td>2</td></tr>\n",
       "\t<tr><th scope=row>7</th><td>1.4697276</td><td>1</td><td>2</td></tr>\n",
       "\t<tr><th scope=row>8</th><td>1.9493473</td><td>1</td><td>2</td></tr>\n",
       "\t<tr><th scope=row>9</th><td>1.5397020</td><td>1</td><td>3</td></tr>\n",
       "\t<tr><th scope=row>10</th><td>1.2436558</td><td>1</td><td>3</td></tr>\n",
       "\t<tr><th scope=row>11</th><td>0.8752505</td><td>1</td><td>3</td></tr>\n",
       "\t<tr><th scope=row>12</th><td>0.9932352</td><td>1</td><td>3</td></tr>\n",
       "\t<tr><th scope=row>13</th><td>3.1149370</td><td>2</td><td>4</td></tr>\n",
       "\t<tr><th scope=row>14</th><td>2.7402102</td><td>2</td><td>4</td></tr>\n",
       "\t<tr><th scope=row>15</th><td>2.4825228</td><td>2</td><td>4</td></tr>\n",
       "\t<tr><th scope=row>16</th><td>2.8192831</td><td>2</td><td>4</td></tr>\n",
       "\t<tr><th scope=row>17</th><td>2.8924475</td><td>2</td><td>5</td></tr>\n",
       "\t<tr><th scope=row>18</th><td>2.8622759</td><td>2</td><td>5</td></tr>\n",
       "\t<tr><th scope=row>19</th><td>2.8410755</td><td>2</td><td>5</td></tr>\n",
       "\t<tr><th scope=row>20</th><td>3.0183753</td><td>2</td><td>5</td></tr>\n",
       "\t<tr><th scope=row>21</th><td>2.6576575</td><td>2</td><td>6</td></tr>\n",
       "\t<tr><th scope=row>22</th><td>2.0839150</td><td>2</td><td>6</td></tr>\n",
       "\t<tr><th scope=row>23</th><td>2.2310707</td><td>2</td><td>6</td></tr>\n",
       "\t<tr><th scope=row>24</th><td>2.3464027</td><td>2</td><td>6</td></tr>\n",
       "</tbody>\n",
       "</table>\n"
      ],
      "text/latex": [
       "A data.frame: 24 × 3\n",
       "\\begin{tabular}{r|lll}\n",
       "  & area & CO2 & tree\\\\\n",
       "  & <dbl> & <fct> & <fct>\\\\\n",
       "\\hline\n",
       "\t1 & 1.6055739 & 1 & 1\\\\\n",
       "\t2 & 1.6300711 & 1 & 1\\\\\n",
       "\t3 & 1.5391189 & 1 & 1\\\\\n",
       "\t4 & 1.7187315 & 1 & 1\\\\\n",
       "\t5 & 1.3896163 & 1 & 2\\\\\n",
       "\t6 & 1.5858805 & 1 & 2\\\\\n",
       "\t7 & 1.4697276 & 1 & 2\\\\\n",
       "\t8 & 1.9493473 & 1 & 2\\\\\n",
       "\t9 & 1.5397020 & 1 & 3\\\\\n",
       "\t10 & 1.2436558 & 1 & 3\\\\\n",
       "\t11 & 0.8752505 & 1 & 3\\\\\n",
       "\t12 & 0.9932352 & 1 & 3\\\\\n",
       "\t13 & 3.1149370 & 2 & 4\\\\\n",
       "\t14 & 2.7402102 & 2 & 4\\\\\n",
       "\t15 & 2.4825228 & 2 & 4\\\\\n",
       "\t16 & 2.8192831 & 2 & 4\\\\\n",
       "\t17 & 2.8924475 & 2 & 5\\\\\n",
       "\t18 & 2.8622759 & 2 & 5\\\\\n",
       "\t19 & 2.8410755 & 2 & 5\\\\\n",
       "\t20 & 3.0183753 & 2 & 5\\\\\n",
       "\t21 & 2.6576575 & 2 & 6\\\\\n",
       "\t22 & 2.0839150 & 2 & 6\\\\\n",
       "\t23 & 2.2310707 & 2 & 6\\\\\n",
       "\t24 & 2.3464027 & 2 & 6\\\\\n",
       "\\end{tabular}\n"
      ],
      "text/markdown": [
       "\n",
       "A data.frame: 24 × 3\n",
       "\n",
       "| <!--/--> | area &lt;dbl&gt; | CO2 &lt;fct&gt; | tree &lt;fct&gt; |\n",
       "|---|---|---|---|\n",
       "| 1 | 1.6055739 | 1 | 1 |\n",
       "| 2 | 1.6300711 | 1 | 1 |\n",
       "| 3 | 1.5391189 | 1 | 1 |\n",
       "| 4 | 1.7187315 | 1 | 1 |\n",
       "| 5 | 1.3896163 | 1 | 2 |\n",
       "| 6 | 1.5858805 | 1 | 2 |\n",
       "| 7 | 1.4697276 | 1 | 2 |\n",
       "| 8 | 1.9493473 | 1 | 2 |\n",
       "| 9 | 1.5397020 | 1 | 3 |\n",
       "| 10 | 1.2436558 | 1 | 3 |\n",
       "| 11 | 0.8752505 | 1 | 3 |\n",
       "| 12 | 0.9932352 | 1 | 3 |\n",
       "| 13 | 3.1149370 | 2 | 4 |\n",
       "| 14 | 2.7402102 | 2 | 4 |\n",
       "| 15 | 2.4825228 | 2 | 4 |\n",
       "| 16 | 2.8192831 | 2 | 4 |\n",
       "| 17 | 2.8924475 | 2 | 5 |\n",
       "| 18 | 2.8622759 | 2 | 5 |\n",
       "| 19 | 2.8410755 | 2 | 5 |\n",
       "| 20 | 3.0183753 | 2 | 5 |\n",
       "| 21 | 2.6576575 | 2 | 6 |\n",
       "| 22 | 2.0839150 | 2 | 6 |\n",
       "| 23 | 2.2310707 | 2 | 6 |\n",
       "| 24 | 2.3464027 | 2 | 6 |\n",
       "\n"
      ],
      "text/plain": [
       "   area      CO2 tree\n",
       "1  1.6055739 1   1   \n",
       "2  1.6300711 1   1   \n",
       "3  1.5391189 1   1   \n",
       "4  1.7187315 1   1   \n",
       "5  1.3896163 1   2   \n",
       "6  1.5858805 1   2   \n",
       "7  1.4697276 1   2   \n",
       "8  1.9493473 1   2   \n",
       "9  1.5397020 1   3   \n",
       "10 1.2436558 1   3   \n",
       "11 0.8752505 1   3   \n",
       "12 0.9932352 1   3   \n",
       "13 3.1149370 2   4   \n",
       "14 2.7402102 2   4   \n",
       "15 2.4825228 2   4   \n",
       "16 2.8192831 2   4   \n",
       "17 2.8924475 2   5   \n",
       "18 2.8622759 2   5   \n",
       "19 2.8410755 2   5   \n",
       "20 3.0183753 2   5   \n",
       "21 2.6576575 2   6   \n",
       "22 2.0839150 2   6   \n",
       "23 2.2310707 2   6   \n",
       "24 2.3464027 2   6   "
      ]
     },
     "metadata": {},
     "output_type": "display_data"
    }
   ],
   "source": [
    "library(gamair)\n",
    "data(stomata)\n",
    "\n",
    "stomata"
   ]
  },
  {
   "cell_type": "markdown",
   "metadata": {},
   "source": [
    "Primero compare modelos con y sin el factor de árbol $\\beta_k$:"
   ]
  },
  {
   "cell_type": "markdown",
   "metadata": {},
   "source": [
    "$$ y_i = \\alpha_j + \\beta_k + \\epsilon_i $$"
   ]
  },
  {
   "cell_type": "markdown",
   "metadata": {},
   "source": []
  },
  {
   "cell_type": "code",
   "execution_count": 2,
   "metadata": {
    "vscode": {
     "languageId": "r"
    }
   },
   "outputs": [
    {
     "data": {
      "text/html": [
       "<table class=\"dataframe\">\n",
       "<caption>A anova: 2 × 6</caption>\n",
       "<thead>\n",
       "\t<tr><th></th><th scope=col>Res.Df</th><th scope=col>RSS</th><th scope=col>Df</th><th scope=col>Sum of Sq</th><th scope=col>F</th><th scope=col>Pr(&gt;F)</th></tr>\n",
       "\t<tr><th></th><th scope=col>&lt;dbl&gt;</th><th scope=col>&lt;dbl&gt;</th><th scope=col>&lt;dbl&gt;</th><th scope=col>&lt;dbl&gt;</th><th scope=col>&lt;dbl&gt;</th><th scope=col>&lt;dbl&gt;</th></tr>\n",
       "</thead>\n",
       "<tbody>\n",
       "\t<tr><th scope=row>1</th><td>22</td><td>2.1348274</td><td>NA</td><td>      NA</td><td>      NA</td><td>         NA</td></tr>\n",
       "\t<tr><th scope=row>2</th><td>18</td><td>0.8603993</td><td> 4</td><td>1.274428</td><td>6.665424</td><td>0.001787974</td></tr>\n",
       "</tbody>\n",
       "</table>\n"
      ],
      "text/latex": [
       "A anova: 2 × 6\n",
       "\\begin{tabular}{r|llllll}\n",
       "  & Res.Df & RSS & Df & Sum of Sq & F & Pr(>F)\\\\\n",
       "  & <dbl> & <dbl> & <dbl> & <dbl> & <dbl> & <dbl>\\\\\n",
       "\\hline\n",
       "\t1 & 22 & 2.1348274 & NA &       NA &       NA &          NA\\\\\n",
       "\t2 & 18 & 0.8603993 &  4 & 1.274428 & 6.665424 & 0.001787974\\\\\n",
       "\\end{tabular}\n"
      ],
      "text/markdown": [
       "\n",
       "A anova: 2 × 6\n",
       "\n",
       "| <!--/--> | Res.Df &lt;dbl&gt; | RSS &lt;dbl&gt; | Df &lt;dbl&gt; | Sum of Sq &lt;dbl&gt; | F &lt;dbl&gt; | Pr(&gt;F) &lt;dbl&gt; |\n",
       "|---|---|---|---|---|---|---|\n",
       "| 1 | 22 | 2.1348274 | NA |       NA |       NA |          NA |\n",
       "| 2 | 18 | 0.8603993 |  4 | 1.274428 | 6.665424 | 0.001787974 |\n",
       "\n"
      ],
      "text/plain": [
       "  Res.Df RSS       Df Sum of Sq F        Pr(>F)     \n",
       "1 22     2.1348274 NA       NA        NA          NA\n",
       "2 18     0.8603993  4 1.274428  6.665424 0.001787974"
      ]
     },
     "metadata": {},
     "output_type": "display_data"
    }
   ],
   "source": [
    "m0 <- lm(area ~ CO2, data = stomata)\n",
    "m1 <- lm(area ~ CO2 + tree, data = stomata)\n",
    "\n",
    "anova(m0, m1)"
   ]
  },
  {
   "cell_type": "markdown",
   "metadata": {},
   "source": [
    "Claramente, existe evidencia sólida de diferencias entre árboles, lo que significa que con este modelo no podemos decir si el CO2 tuvo un efecto o no.<br>Para volver a enfatizar este punto, esto es lo que sucede si intentamos probar el efecto del CO2:"
   ]
  },
  {
   "cell_type": "markdown",
   "metadata": {},
   "source": [
    "Para volver a enfatizar este punto, esto es lo que sucede si intentamos probar el efecto del CO2: "
   ]
  },
  {
   "cell_type": "code",
   "execution_count": 3,
   "metadata": {
    "vscode": {
     "languageId": "r"
    }
   },
   "outputs": [
    {
     "data": {
      "text/html": [
       "<table class=\"dataframe\">\n",
       "<caption>A anova: 2 × 6</caption>\n",
       "<thead>\n",
       "\t<tr><th></th><th scope=col>Res.Df</th><th scope=col>RSS</th><th scope=col>Df</th><th scope=col>Sum of Sq</th><th scope=col>F</th><th scope=col>Pr(&gt;F)</th></tr>\n",
       "\t<tr><th></th><th scope=col>&lt;dbl&gt;</th><th scope=col>&lt;dbl&gt;</th><th scope=col>&lt;dbl&gt;</th><th scope=col>&lt;dbl&gt;</th><th scope=col>&lt;dbl&gt;</th><th scope=col>&lt;dbl&gt;</th></tr>\n",
       "</thead>\n",
       "<tbody>\n",
       "\t<tr><th scope=row>1</th><td>18</td><td>0.8603993</td><td>NA</td><td>           NA</td><td>NA</td><td>NA</td></tr>\n",
       "\t<tr><th scope=row>2</th><td>18</td><td>0.8603993</td><td> 0</td><td>-1.110223e-16</td><td>NA</td><td>NA</td></tr>\n",
       "</tbody>\n",
       "</table>\n"
      ],
      "text/latex": [
       "A anova: 2 × 6\n",
       "\\begin{tabular}{r|llllll}\n",
       "  & Res.Df & RSS & Df & Sum of Sq & F & Pr(>F)\\\\\n",
       "  & <dbl> & <dbl> & <dbl> & <dbl> & <dbl> & <dbl>\\\\\n",
       "\\hline\n",
       "\t1 & 18 & 0.8603993 & NA &            NA & NA & NA\\\\\n",
       "\t2 & 18 & 0.8603993 &  0 & -1.110223e-16 & NA & NA\\\\\n",
       "\\end{tabular}\n"
      ],
      "text/markdown": [
       "\n",
       "A anova: 2 × 6\n",
       "\n",
       "| <!--/--> | Res.Df &lt;dbl&gt; | RSS &lt;dbl&gt; | Df &lt;dbl&gt; | Sum of Sq &lt;dbl&gt; | F &lt;dbl&gt; | Pr(&gt;F) &lt;dbl&gt; |\n",
       "|---|---|---|---|---|---|---|\n",
       "| 1 | 18 | 0.8603993 | NA |            NA | NA | NA |\n",
       "| 2 | 18 | 0.8603993 |  0 | -1.110223e-16 | NA | NA |\n",
       "\n"
      ],
      "text/plain": [
       "  Res.Df RSS       Df Sum of Sq     F  Pr(>F)\n",
       "1 18     0.8603993 NA            NA NA NA    \n",
       "2 18     0.8603993  0 -1.110223e-16 NA NA    "
      ]
     },
     "metadata": {},
     "output_type": "display_data"
    }
   ],
   "source": [
    "m2 <- lm(area ~ tree, stomata)\n",
    "\n",
    "anova(m2, m1)"
   ]
  },
  {
   "cell_type": "markdown",
   "metadata": {},
   "source": [
    "La confusión del CO2 y los tres factores significa que los modelos que se comparan aquí\n",
    "son en realidad el mismo modelo; \"compararlos\" no nos dice\n",
    "nada sobre el efecto del CO2"
   ]
  },
  {
   "cell_type": "markdown",
   "metadata": {},
   "source": [
    "Tratar los árboles individuales, no como individuos completamente únicos sino como unamuestra aleatoria de la población de árboles objetivo, nos permitirá estimar el efecto del CO2 y generalizar más allá de los 6 árboles del experimento"
   ]
  },
  {
   "cell_type": "markdown",
   "metadata": {},
   "source": [
    "<h3>El enfoque correcto: un modelo de efectos mixtos</h3>"
   ]
  },
  {
   "cell_type": "markdown",
   "metadata": {},
   "source": [
    " el efecto del CO2 se modelará como un efecto fijo, pero el efecto del árbol se\n",
    "modelará como un efecto aleatorio \n",
    "\n",
    "$$ y_i = \\alpha_j + b_k + \\epsilon_i $$\n",
    "\n",
    "Si la observación $i$ es para el nivel $j$ del CO2, y el árbol $k$, donde ahora, \n",
    "$$b_k \\sim N(0,\\sigma_b^2)$$\n",
    "$$ \\epsilon_i \\sim N(0,\\sigma^2) $$\n",
    "y las $b_k$ y $\\epsilon_i$ son v.a. mutuamente independientes"
   ]
  },
  {
   "cell_type": "markdown",
   "metadata": {},
   "source": [
    "... <br>\n",
    "Es fácil ver que el modelo para el área estomática promedio por árbol debe ser\n",
    "* $\\overline{y_k} = \\alpha_j + e_k$\n",
    "* si el arbol $k$ está en el nivel $j$ de CO2, y donde $e_k \\sim N(0, \\frac{\\sigma_b^2 + \\sigma^2}{4})$\n",
    "* hint: $Var(1/4(\\epsilon_1+\\epsilon_2+\\epsilon_3+\\epsilon_4))$\n"
   ]
  },
  {
   "cell_type": "markdown",
   "metadata": {},
   "source": [
    "<h3>Usando R</h3>\n",
    "Ahora es sencillo probar el efecto del CO2 en R, primero agregue los datos de cada árbol:"
   ]
  },
  {
   "cell_type": "markdown",
   "metadata": {},
   "source": [
    "* utilizando la función $\\texttt{aggregate()}$ para calcular la media de todas las columnas numéricas en el dataframe $\\texttt{stomata}$, agrupadas por la columna $\\texttt{tree}$. El resultado es un nuevo dataframe $\\texttt{st}$ que contiene las medias de las columnas numéricas para cada valor único en la columna tree.\n",
    "\n",
    "* <b><i>st$CO2 <- as.factor(st$CO2)</i></b>: Esta línea está convirtiendo la columna CO2 del dataframe st en un factor. Esto puede ser útil si CO2 se va a utilizar en un análisis que requiere que sea una variable categórica, como un análisis de varianza (ANOVA) o un modelo lineal generalizado (GLM)."
   ]
  },
  {
   "cell_type": "code",
   "execution_count": 4,
   "metadata": {
    "vscode": {
     "languageId": "r"
    }
   },
   "outputs": [
    {
     "data": {
      "text/html": [
       "<table class=\"dataframe\">\n",
       "<caption>A data.frame: 6 × 4</caption>\n",
       "<thead>\n",
       "\t<tr><th scope=col>tree</th><th scope=col>area</th><th scope=col>CO2</th><th scope=col>tree</th></tr>\n",
       "\t<tr><th scope=col>&lt;fct&gt;</th><th scope=col>&lt;dbl&gt;</th><th scope=col>&lt;fct&gt;</th><th scope=col>&lt;dbl&gt;</th></tr>\n",
       "</thead>\n",
       "<tbody>\n",
       "\t<tr><td>1</td><td>1.623374</td><td>1</td><td>1</td></tr>\n",
       "\t<tr><td>2</td><td>1.598643</td><td>1</td><td>2</td></tr>\n",
       "\t<tr><td>3</td><td>1.162961</td><td>1</td><td>3</td></tr>\n",
       "\t<tr><td>4</td><td>2.789238</td><td>2</td><td>4</td></tr>\n",
       "\t<tr><td>5</td><td>2.903544</td><td>2</td><td>5</td></tr>\n",
       "\t<tr><td>6</td><td>2.329761</td><td>2</td><td>6</td></tr>\n",
       "</tbody>\n",
       "</table>\n"
      ],
      "text/latex": [
       "A data.frame: 6 × 4\n",
       "\\begin{tabular}{llll}\n",
       " tree & area & CO2 & tree\\\\\n",
       " <fct> & <dbl> & <fct> & <dbl>\\\\\n",
       "\\hline\n",
       "\t 1 & 1.623374 & 1 & 1\\\\\n",
       "\t 2 & 1.598643 & 1 & 2\\\\\n",
       "\t 3 & 1.162961 & 1 & 3\\\\\n",
       "\t 4 & 2.789238 & 2 & 4\\\\\n",
       "\t 5 & 2.903544 & 2 & 5\\\\\n",
       "\t 6 & 2.329761 & 2 & 6\\\\\n",
       "\\end{tabular}\n"
      ],
      "text/markdown": [
       "\n",
       "A data.frame: 6 × 4\n",
       "\n",
       "| tree &lt;fct&gt; | area &lt;dbl&gt; | CO2 &lt;fct&gt; | tree &lt;dbl&gt; |\n",
       "|---|---|---|---|\n",
       "| 1 | 1.623374 | 1 | 1 |\n",
       "| 2 | 1.598643 | 1 | 2 |\n",
       "| 3 | 1.162961 | 1 | 3 |\n",
       "| 4 | 2.789238 | 2 | 4 |\n",
       "| 5 | 2.903544 | 2 | 5 |\n",
       "| 6 | 2.329761 | 2 | 6 |\n",
       "\n"
      ],
      "text/plain": [
       "  tree area     CO2 tree\n",
       "1 1    1.623374 1   1   \n",
       "2 2    1.598643 1   2   \n",
       "3 3    1.162961 1   3   \n",
       "4 4    2.789238 2   4   \n",
       "5 5    2.903544 2   5   \n",
       "6 6    2.329761 2   6   "
      ]
     },
     "metadata": {},
     "output_type": "display_data"
    }
   ],
   "source": [
    "st <- aggregate(data.matrix(stomata), by=list(tree=stomata$tree), mean)\n",
    "\n",
    "st$CO2 <- as.factor(st$CO2)\n",
    "\n",
    "st"
   ]
  },
  {
   "cell_type": "markdown",
   "metadata": {},
   "source": [
    "y luego ajustar el modelo implícito en la agregación:"
   ]
  },
  {
   "cell_type": "code",
   "execution_count": 6,
   "metadata": {
    "vscode": {
     "languageId": "r"
    }
   },
   "outputs": [
    {
     "data": {
      "text/html": [
       "<table class=\"dataframe\">\n",
       "<caption>A anova: 2 × 5</caption>\n",
       "<thead>\n",
       "\t<tr><th></th><th scope=col>Df</th><th scope=col>Sum Sq</th><th scope=col>Mean Sq</th><th scope=col>F value</th><th scope=col>Pr(&gt;F)</th></tr>\n",
       "\t<tr><th></th><th scope=col>&lt;int&gt;</th><th scope=col>&lt;dbl&gt;</th><th scope=col>&lt;dbl&gt;</th><th scope=col>&lt;dbl&gt;</th><th scope=col>&lt;dbl&gt;</th></tr>\n",
       "</thead>\n",
       "<tbody>\n",
       "\t<tr><th scope=row>CO2</th><td>1</td><td>2.205314</td><td>2.20531395</td><td>27.68695</td><td>0.006246682</td></tr>\n",
       "\t<tr><th scope=row>Residuals</th><td>4</td><td>0.318607</td><td>0.07965176</td><td>      NA</td><td>         NA</td></tr>\n",
       "</tbody>\n",
       "</table>\n"
      ],
      "text/latex": [
       "A anova: 2 × 5\n",
       "\\begin{tabular}{r|lllll}\n",
       "  & Df & Sum Sq & Mean Sq & F value & Pr(>F)\\\\\n",
       "  & <int> & <dbl> & <dbl> & <dbl> & <dbl>\\\\\n",
       "\\hline\n",
       "\tCO2 & 1 & 2.205314 & 2.20531395 & 27.68695 & 0.006246682\\\\\n",
       "\tResiduals & 4 & 0.318607 & 0.07965176 &       NA &          NA\\\\\n",
       "\\end{tabular}\n"
      ],
      "text/markdown": [
       "\n",
       "A anova: 2 × 5\n",
       "\n",
       "| <!--/--> | Df &lt;int&gt; | Sum Sq &lt;dbl&gt; | Mean Sq &lt;dbl&gt; | F value &lt;dbl&gt; | Pr(&gt;F) &lt;dbl&gt; |\n",
       "|---|---|---|---|---|---|\n",
       "| CO2 | 1 | 2.205314 | 2.20531395 | 27.68695 | 0.006246682 |\n",
       "| Residuals | 4 | 0.318607 | 0.07965176 |       NA |          NA |\n",
       "\n"
      ],
      "text/plain": [
       "          Df Sum Sq   Mean Sq    F value  Pr(>F)     \n",
       "CO2       1  2.205314 2.20531395 27.68695 0.006246682\n",
       "Residuals 4  0.318607 0.07965176       NA          NA"
      ]
     },
     "metadata": {},
     "output_type": "display_data"
    }
   ],
   "source": [
    "m3 <- lm(area ~ CO2, st)\n",
    "\n",
    "anova(m3)"
   ]
  },
  {
   "cell_type": "markdown",
   "metadata": {},
   "source": [
    "Aquí hay pruebas sólidas de un efecto del CO2, y ahora procederíamos a examinar la estimación de este efecto fijo"
   ]
  },
  {
   "cell_type": "code",
   "execution_count": 7,
   "metadata": {
    "vscode": {
     "languageId": "r"
    }
   },
   "outputs": [
    {
     "data": {
      "text/plain": [
       "\n",
       "Call:\n",
       "lm(formula = area ~ CO2, data = st)\n",
       "\n",
       "Residuals:\n",
       "      1       2       3       4       5       6 \n",
       " 0.1617  0.1370 -0.2987  0.1151  0.2294 -0.3444 \n",
       "\n",
       "Coefficients:\n",
       "            Estimate Std. Error t value Pr(>|t|)    \n",
       "(Intercept)   1.4617     0.1629   8.970 0.000855 ***\n",
       "CO22          1.2125     0.2304   5.262 0.006247 ** \n",
       "---\n",
       "Signif. codes:  0 ‘***’ 0.001 ‘**’ 0.01 ‘*’ 0.05 ‘.’ 0.1 ‘ ’ 1\n",
       "\n",
       "Residual standard error: 0.2822 on 4 degrees of freedom\n",
       "Multiple R-squared:  0.8738,\tAdjusted R-squared:  0.8422 \n",
       "F-statistic: 27.69 on 1 and 4 DF,  p-value: 0.006247\n"
      ]
     },
     "metadata": {},
     "output_type": "display_data"
    }
   ],
   "source": [
    "summary(m3)"
   ]
  },
  {
   "cell_type": "markdown",
   "metadata": {},
   "source": [
    "<b>Generalmente con un modelo mixto las varianzas de los efectosaleatorios son de más interés que los efectos mismos, por lo que en este ejemplo se debe estimar</b> $\\sigma_b^2$"
   ]
  },
  {
   "cell_type": "markdown",
   "metadata": {},
   "source": [
    "sea $RSS_i$ la suma residual de cuadrados del modelo $i$. <br>\n",
    "De la teoría de modelos lineales tenemos que: <br>\n",
    "* $\\hat{\\sigma^2} = RSS_2/18$ (modelos sin promediar) <br>\n",
    "* $\\hat{\\sigma_b^2 + \\sigma^2}/4 = RSS_3/4$ (modelos promediando) <br>\n",
    "\n",
    "Ambos estimadores son insesgados <br>\n",
    "Por tanto, un estimador insesgado para $\\sigma_b^2$ es: <br>\n",
    "$$\\hat{\\sigma_b^2} = \\frac{\\hat{\\sigma_b^2 + \\sigma^2}}{4} - \n",
    "    \\frac{\\hat{\\sigma^2}}{4} = RSS_3/4 - RSS_2/72$$"
   ]
  },
  {
   "cell_type": "code",
   "execution_count": 8,
   "metadata": {
    "vscode": {
     "languageId": "r"
    }
   },
   "outputs": [
    {
     "data": {
      "text/html": [
       "0.0677017670742175"
      ],
      "text/latex": [
       "0.0677017670742175"
      ],
      "text/markdown": [
       "0.0677017670742175"
      ],
      "text/plain": [
       "[1] 0.06770177"
      ]
     },
     "metadata": {},
     "output_type": "display_data"
    }
   ],
   "source": [
    "summary(m3)$sigma^2 - summary(m2)$sigma^2 / 4"
   ]
  }
 ],
 "metadata": {
  "kernelspec": {
   "display_name": "R",
   "language": "R",
   "name": "ir"
  },
  "language_info": {
   "codemirror_mode": "r",
   "file_extension": ".r",
   "mimetype": "text/x-r-source",
   "name": "R",
   "pygments_lexer": "r",
   "version": "4.1.2"
  }
 },
 "nbformat": 4,
 "nbformat_minor": 2
}

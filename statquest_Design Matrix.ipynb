{
 "cells": [
  {
   "cell_type": "code",
   "execution_count": null,
   "metadata": {
    "vscode": {
     "languageId": "r"
    }
   },
   "outputs": [],
   "source": []
  },
  {
   "cell_type": "markdown",
   "metadata": {},
   "source": [
    "<h1>Design Matrix Examples in R, Clearly Explained!!! </h1>\n",
    "<i>https://www.youtube.com/watch?v=Hrr2anyK_5s&list=PLblh5JKOoLUIzaEkCLIUxQFjPIlapw8nU&index=9&ab_channel=StatQuestwithJoshStarmer </i>"
   ]
  },
  {
   "cell_type": "markdown",
   "metadata": {},
   "source": [
    "<h2>Example 1"
   ]
  },
  {
   "cell_type": "code",
   "execution_count": 1,
   "metadata": {
    "vscode": {
     "languageId": "r"
    }
   },
   "outputs": [],
   "source": [
    "Type <- factor( c( \n",
    "    rep(\"Control\", times=4), \n",
    "    rep(\"Mutant\", times=4)))\n",
    "\n",
    "Weight <- c(2.4, 3.5, 4.4, 4.9, 1.7, 2.8, 3.2, 3.9)\n",
    "Size <-   c(1.9, 3, 2.9, 3.7, 2.8, 3.3, 3.9, 4.8)"
   ]
  },
  {
   "cell_type": "code",
   "execution_count": 5,
   "metadata": {
    "vscode": {
     "languageId": "r"
    }
   },
   "outputs": [
    {
     "data": {
      "image/png": "[encoded data removed]",
      "text/plain": [
       "plot without title"
      ]
     },
     "metadata": {
      "image/png": {
       "height": 420,
       "width": 420
      }
     },
     "output_type": "display_data"
    }
   ],
   "source": [
    "plot(Weight, Size)"
   ]
  },
  {
   "cell_type": "markdown",
   "metadata": {},
   "source": [
    "$y = control\\:intercept + mutant\\:offset + slope$"
   ]
  },
  {
   "cell_type": "code",
   "execution_count": 2,
   "metadata": {
    "vscode": {
     "languageId": "r"
    }
   },
   "outputs": [
    {
     "data": {
      "text/html": [
       "<table class=\"dataframe\">\n",
       "<caption>A matrix: 8 × 3 of type dbl</caption>\n",
       "<thead>\n",
       "\t<tr><th></th><th scope=col>(Intercept)</th><th scope=col>TypeMutant</th><th scope=col>Weight</th></tr>\n",
       "</thead>\n",
       "<tbody>\n",
       "\t<tr><th scope=row>1</th><td>1</td><td>0</td><td>2.4</td></tr>\n",
       "\t<tr><th scope=row>2</th><td>1</td><td>0</td><td>3.5</td></tr>\n",
       "\t<tr><th scope=row>3</th><td>1</td><td>0</td><td>4.4</td></tr>\n",
       "\t<tr><th scope=row>4</th><td>1</td><td>0</td><td>4.9</td></tr>\n",
       "\t<tr><th scope=row>5</th><td>1</td><td>1</td><td>1.7</td></tr>\n",
       "\t<tr><th scope=row>6</th><td>1</td><td>1</td><td>2.8</td></tr>\n",
       "\t<tr><th scope=row>7</th><td>1</td><td>1</td><td>3.2</td></tr>\n",
       "\t<tr><th scope=row>8</th><td>1</td><td>1</td><td>3.9</td></tr>\n",
       "</tbody>\n",
       "</table>\n"
      ],
      "text/latex": [
       "A matrix: 8 × 3 of type dbl\n",
       "\\begin{tabular}{r|lll}\n",
       "  & (Intercept) & TypeMutant & Weight\\\\\n",
       "\\hline\n",
       "\t1 & 1 & 0 & 2.4\\\\\n",
       "\t2 & 1 & 0 & 3.5\\\\\n",
       "\t3 & 1 & 0 & 4.4\\\\\n",
       "\t4 & 1 & 0 & 4.9\\\\\n",
       "\t5 & 1 & 1 & 1.7\\\\\n",
       "\t6 & 1 & 1 & 2.8\\\\\n",
       "\t7 & 1 & 1 & 3.2\\\\\n",
       "\t8 & 1 & 1 & 3.9\\\\\n",
       "\\end{tabular}\n"
      ],
      "text/markdown": [
       "\n",
       "A matrix: 8 × 3 of type dbl\n",
       "\n",
       "| <!--/--> | (Intercept) | TypeMutant | Weight |\n",
       "|---|---|---|---|\n",
       "| 1 | 1 | 0 | 2.4 |\n",
       "| 2 | 1 | 0 | 3.5 |\n",
       "| 3 | 1 | 0 | 4.4 |\n",
       "| 4 | 1 | 0 | 4.9 |\n",
       "| 5 | 1 | 1 | 1.7 |\n",
       "| 6 | 1 | 1 | 2.8 |\n",
       "| 7 | 1 | 1 | 3.2 |\n",
       "| 8 | 1 | 1 | 3.9 |\n",
       "\n"
      ],
      "text/plain": [
       "  (Intercept) TypeMutant Weight\n",
       "1 1           0          2.4   \n",
       "2 1           0          3.5   \n",
       "3 1           0          4.4   \n",
       "4 1           0          4.9   \n",
       "5 1           1          1.7   \n",
       "6 1           1          2.8   \n",
       "7 1           1          3.2   \n",
       "8 1           1          3.9   "
      ]
     },
     "metadata": {},
     "output_type": "display_data"
    }
   ],
   "source": [
    "model.matrix(~Type+Weight)"
   ]
  },
  {
   "cell_type": "code",
   "execution_count": 4,
   "metadata": {
    "vscode": {
     "languageId": "r"
    }
   },
   "outputs": [
    {
     "data": {
      "text/plain": [
       "\n",
       "Call:\n",
       "lm(formula = Size ~ Type)\n",
       "\n",
       "Residuals:\n",
       "    Min      1Q  Median      3Q     Max \n",
       "-0.9750 -0.5250  0.0750  0.3563  1.1000 \n",
       "\n",
       "Coefficients:\n",
       "            Estimate Std. Error t value Pr(>|t|)    \n",
       "(Intercept)   2.8750     0.4014   7.162 0.000374 ***\n",
       "TypeMutant    0.8250     0.5677   1.453 0.196384    \n",
       "---\n",
       "Signif. codes:  0 ‘***’ 0.001 ‘**’ 0.01 ‘*’ 0.05 ‘.’ 0.1 ‘ ’ 1\n",
       "\n",
       "Residual standard error: 0.8029 on 6 degrees of freedom\n",
       "Multiple R-squared:  0.2603,\tAdjusted R-squared:  0.1371 \n",
       "F-statistic: 2.112 on 1 and 6 DF,  p-value: 0.1964\n"
      ]
     },
     "metadata": {},
     "output_type": "display_data"
    }
   ],
   "source": [
    "model <- lm(Size~Type)\n",
    "summary(model)"
   ]
  },
  {
   "cell_type": "markdown",
   "metadata": {},
   "source": [
    "<h2>Example 2"
   ]
  },
  {
   "cell_type": "code",
   "execution_count": 6,
   "metadata": {
    "vscode": {
     "languageId": "r"
    }
   },
   "outputs": [],
   "source": [
    "Lab <- factor(c(\n",
    "    rep(\"A\", times=6),\n",
    "    rep(\"B\", times=6)\n",
    "))\n",
    "\n",
    "Type <- factor(c(\n",
    "    rep(\"Control\", times=3)\n",
    "))"
   ]
  },
  {
   "cell_type": "code",
   "execution_count": null,
   "metadata": {
    "vscode": {
     "languageId": "r"
    }
   },
   "outputs": [],
   "source": []
  }
 ],
 "metadata": {
  "kernelspec": {
   "display_name": "R",
   "language": "R",
   "name": "ir"
  },
  "language_info": {
   "codemirror_mode": "r",
   "file_extension": ".r",
   "mimetype": "text/x-r-source",
   "name": "R",
   "pygments_lexer": "r",
   "version": "4.1.2"
  }
 },
 "nbformat": 4,
 "nbformat_minor": 2
}

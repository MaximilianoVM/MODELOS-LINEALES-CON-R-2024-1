{
 "cells": [
  {
   "cell_type": "markdown",
   "metadata": {},
   "source": [
    "<h1>Práctica 5</h1>\n",
    "\n",
    "<i>\n",
    "Maximiliano Vaca Montejano <br>\n",
    "364897 <br>\n",
    "maximiliano.vaca@uabc.edu.mx\n",
    "</i>"
   ]
  },
  {
   "cell_type": "markdown",
   "metadata": {},
   "source": [
    "<i>Profesor: Andrés García Medina <br>\n",
    "andres.garcia.medina@uabc.edu.mx <br>\n",
    "Fecha de entrega: jueves 9 de mayo, 2024 (12pm).</i>"
   ]
  },
  {
   "cell_type": "markdown",
   "metadata": {},
   "source": [
    "<h2>Ejercicio 1</h2>\n",
    "Los siguientes datos muestran las edades (en años) e indicadores de presencia\n",
    "o ausencia de daño significativo en la coronaria de 100 individuos seleccionados\n",
    "para participar en el estudio. <br> <br>\n",
    "\n",
    "<img src=\"figuras/10_fig_tabla.png\" width=\"900\">\n",
    "\n",
    "<br><br>\n",
    "Deseamos establecer una relacion entre la edad de una persona y su propension\n",
    "a padecer un problema en la coronaria"
   ]
  },
  {
   "cell_type": "markdown",
   "metadata": {},
   "source": [
    "<b>(a)</b> Encuentre el valor esperado de las betas asociadas por medio de optimización<br> \n",
    "directa (IRLWLS) y compare sus resultados con ayuda de la\n",
    "función $glm$"
   ]
  },
  {
   "cell_type": "code",
   "execution_count": 1,
   "metadata": {
    "vscode": {
     "languageId": "r"
    }
   },
   "outputs": [
    {
     "data": {
      "text/html": [
       "<table class=\"dataframe\">\n",
       "<caption>A data.frame: 10 × 2</caption>\n",
       "<thead>\n",
       "\t<tr><th></th><th scope=col>edad</th><th scope=col>CHD</th></tr>\n",
       "\t<tr><th></th><th scope=col>&lt;int&gt;</th><th scope=col>&lt;int&gt;</th></tr>\n",
       "</thead>\n",
       "<tbody>\n",
       "\t<tr><th scope=row>1</th><td>20</td><td>0</td></tr>\n",
       "\t<tr><th scope=row>2</th><td>23</td><td>0</td></tr>\n",
       "\t<tr><th scope=row>3</th><td>24</td><td>0</td></tr>\n",
       "\t<tr><th scope=row>4</th><td>25</td><td>0</td></tr>\n",
       "\t<tr><th scope=row>5</th><td>25</td><td>1</td></tr>\n",
       "\t<tr><th scope=row>6</th><td>26</td><td>0</td></tr>\n",
       "\t<tr><th scope=row>7</th><td>26</td><td>0</td></tr>\n",
       "\t<tr><th scope=row>8</th><td>28</td><td>0</td></tr>\n",
       "\t<tr><th scope=row>9</th><td>28</td><td>0</td></tr>\n",
       "\t<tr><th scope=row>10</th><td>29</td><td>0</td></tr>\n",
       "</tbody>\n",
       "</table>\n"
      ],
      "text/latex": [
       "A data.frame: 10 × 2\n",
       "\\begin{tabular}{r|ll}\n",
       "  & edad & CHD\\\\\n",
       "  & <int> & <int>\\\\\n",
       "\\hline\n",
       "\t1 & 20 & 0\\\\\n",
       "\t2 & 23 & 0\\\\\n",
       "\t3 & 24 & 0\\\\\n",
       "\t4 & 25 & 0\\\\\n",
       "\t5 & 25 & 1\\\\\n",
       "\t6 & 26 & 0\\\\\n",
       "\t7 & 26 & 0\\\\\n",
       "\t8 & 28 & 0\\\\\n",
       "\t9 & 28 & 0\\\\\n",
       "\t10 & 29 & 0\\\\\n",
       "\\end{tabular}\n"
      ],
      "text/markdown": [
       "\n",
       "A data.frame: 10 × 2\n",
       "\n",
       "| <!--/--> | edad &lt;int&gt; | CHD &lt;int&gt; |\n",
       "|---|---|---|\n",
       "| 1 | 20 | 0 |\n",
       "| 2 | 23 | 0 |\n",
       "| 3 | 24 | 0 |\n",
       "| 4 | 25 | 0 |\n",
       "| 5 | 25 | 1 |\n",
       "| 6 | 26 | 0 |\n",
       "| 7 | 26 | 0 |\n",
       "| 8 | 28 | 0 |\n",
       "| 9 | 28 | 0 |\n",
       "| 10 | 29 | 0 |\n",
       "\n"
      ],
      "text/plain": [
       "   edad CHD\n",
       "1  20   0  \n",
       "2  23   0  \n",
       "3  24   0  \n",
       "4  25   0  \n",
       "5  25   1  \n",
       "6  26   0  \n",
       "7  26   0  \n",
       "8  28   0  \n",
       "9  28   0  \n",
       "10 29   0  "
      ]
     },
     "metadata": {},
     "output_type": "display_data"
    }
   ],
   "source": [
    "data <- read.csv('datos/coronaria.csv')\n",
    "colnames(data) <- c(\"edad\", \"CHD\")\n",
    "\n",
    "head(data, 10)"
   ]
  },
  {
   "cell_type": "code",
   "execution_count": 2,
   "metadata": {
    "vscode": {
     "languageId": "r"
    }
   },
   "outputs": [
    {
     "name": "stdout",
     "output_type": "stream",
     "text": [
      "[1] \"X:\"\n"
     ]
    },
    {
     "data": {
      "text/html": [
       "<table class=\"dataframe\">\n",
       "<caption>A matrix: 5 × 2 of type dbl</caption>\n",
       "<tbody>\n",
       "\t<tr><td>1</td><td>20</td></tr>\n",
       "\t<tr><td>1</td><td>23</td></tr>\n",
       "\t<tr><td>1</td><td>24</td></tr>\n",
       "\t<tr><td>1</td><td>25</td></tr>\n",
       "\t<tr><td>1</td><td>25</td></tr>\n",
       "</tbody>\n",
       "</table>\n"
      ],
      "text/latex": [
       "A matrix: 5 × 2 of type dbl\n",
       "\\begin{tabular}{ll}\n",
       "\t 1 & 20\\\\\n",
       "\t 1 & 23\\\\\n",
       "\t 1 & 24\\\\\n",
       "\t 1 & 25\\\\\n",
       "\t 1 & 25\\\\\n",
       "\\end{tabular}\n"
      ],
      "text/markdown": [
       "\n",
       "A matrix: 5 × 2 of type dbl\n",
       "\n",
       "| 1 | 20 |\n",
       "| 1 | 23 |\n",
       "| 1 | 24 |\n",
       "| 1 | 25 |\n",
       "| 1 | 25 |\n",
       "\n"
      ],
      "text/plain": [
       "     [,1] [,2]\n",
       "[1,] 1    20  \n",
       "[2,] 1    23  \n",
       "[3,] 1    24  \n",
       "[4,] 1    25  \n",
       "[5,] 1    25  "
      ]
     },
     "metadata": {},
     "output_type": "display_data"
    },
    {
     "name": "stdout",
     "output_type": "stream",
     "text": [
      "[1] \"dim X:\"\n"
     ]
    },
    {
     "data": {
      "text/html": [
       "<style>\n",
       ".list-inline {list-style: none; margin:0; padding: 0}\n",
       ".list-inline>li {display: inline-block}\n",
       ".list-inline>li:not(:last-child)::after {content: \"\\00b7\"; padding: 0 .5ex}\n",
       "</style>\n",
       "<ol class=list-inline><li>100</li><li>2</li></ol>\n"
      ],
      "text/latex": [
       "\\begin{enumerate*}\n",
       "\\item 100\n",
       "\\item 2\n",
       "\\end{enumerate*}\n"
      ],
      "text/markdown": [
       "1. 100\n",
       "2. 2\n",
       "\n",
       "\n"
      ],
      "text/plain": [
       "[1] 100   2"
      ]
     },
     "metadata": {},
     "output_type": "display_data"
    },
    {
     "name": "stdout",
     "output_type": "stream",
     "text": [
      "[1] \"dim b0:\"\n"
     ]
    },
    {
     "data": {
      "text/html": [
       "<style>\n",
       ".list-inline {list-style: none; margin:0; padding: 0}\n",
       ".list-inline>li {display: inline-block}\n",
       ".list-inline>li:not(:last-child)::after {content: \"\\00b7\"; padding: 0 .5ex}\n",
       "</style>\n",
       "<ol class=list-inline><li>2</li><li>1</li></ol>\n"
      ],
      "text/latex": [
       "\\begin{enumerate*}\n",
       "\\item 2\n",
       "\\item 1\n",
       "\\end{enumerate*}\n"
      ],
      "text/markdown": [
       "1. 2\n",
       "2. 1\n",
       "\n",
       "\n"
      ],
      "text/plain": [
       "[1] 2 1"
      ]
     },
     "metadata": {},
     "output_type": "display_data"
    },
    {
     "name": "stdout",
     "output_type": "stream",
     "text": [
      "[1] \"u:\"\n"
     ]
    },
    {
     "data": {
      "text/html": [
       "<style>\n",
       ".list-inline {list-style: none; margin:0; padding: 0}\n",
       ".list-inline>li {display: inline-block}\n",
       ".list-inline>li:not(:last-child)::after {content: \"\\00b7\"; padding: 0 .5ex}\n",
       "</style>\n",
       "<ol class=list-inline><li>100</li><li>1</li></ol>\n"
      ],
      "text/latex": [
       "\\begin{enumerate*}\n",
       "\\item 100\n",
       "\\item 1\n",
       "\\end{enumerate*}\n"
      ],
      "text/markdown": [
       "1. 100\n",
       "2. 1\n",
       "\n",
       "\n"
      ],
      "text/plain": [
       "[1] 100   1"
      ]
     },
     "metadata": {},
     "output_type": "display_data"
    },
    {
     "data": {
      "text/html": [
       "<table class=\"dataframe\">\n",
       "<caption>A matrix: 5 × 1 of type dbl</caption>\n",
       "<tbody>\n",
       "\t<tr><td>0.002472623</td></tr>\n",
       "\t<tr><td>0.004496273</td></tr>\n",
       "\t<tr><td>0.005486299</td></tr>\n",
       "\t<tr><td>0.006692851</td></tr>\n",
       "\t<tr><td>0.006692851</td></tr>\n",
       "</tbody>\n",
       "</table>\n"
      ],
      "text/latex": [
       "A matrix: 5 × 1 of type dbl\n",
       "\\begin{tabular}{l}\n",
       "\t 0.002472623\\\\\n",
       "\t 0.004496273\\\\\n",
       "\t 0.005486299\\\\\n",
       "\t 0.006692851\\\\\n",
       "\t 0.006692851\\\\\n",
       "\\end{tabular}\n"
      ],
      "text/markdown": [
       "\n",
       "A matrix: 5 × 1 of type dbl\n",
       "\n",
       "| 0.002472623 |\n",
       "| 0.004496273 |\n",
       "| 0.005486299 |\n",
       "| 0.006692851 |\n",
       "| 0.006692851 |\n",
       "\n"
      ],
      "text/plain": [
       "     [,1]       \n",
       "[1,] 0.002472623\n",
       "[2,] 0.004496273\n",
       "[3,] 0.005486299\n",
       "[4,] 0.006692851\n",
       "[5,] 0.006692851"
      ]
     },
     "metadata": {},
     "output_type": "display_data"
    }
   ],
   "source": [
    "#condiciones\n",
    "b0 = c(-10, 0.2); b0 = t(t(b0))\n",
    "tol = 1e-6\n",
    "m = 100 \n",
    "\n",
    "#definimos X y Y \n",
    "Y = data$CHD\n",
    "X = cbind(1, data$edad) # matriz de diseño\n",
    "\n",
    "print(\"X:\"); head(X, 5)\n",
    "\n",
    "#X transpuesta \n",
    "Xt = t(X)\n",
    "\n",
    "print(\"dim X:\"); dim(X)\n",
    "print(\"dim b0:\"); dim(b0)\n",
    "\n",
    "# u \n",
    "u = 1 / (1 + exp(- X%*%b0))\n",
    "\n",
    "print(\"u:\"); dim(u); head(u, 5)"
   ]
  },
  {
   "cell_type": "markdown",
   "metadata": {},
   "source": [
    "definimos W"
   ]
  },
  {
   "cell_type": "code",
   "execution_count": 3,
   "metadata": {
    "vscode": {
     "languageId": "r"
    }
   },
   "outputs": [
    {
     "data": {
      "text/html": [
       "<style>\n",
       ".list-inline {list-style: none; margin:0; padding: 0}\n",
       ".list-inline>li {display: inline-block}\n",
       ".list-inline>li:not(:last-child)::after {content: \"\\00b7\"; padding: 0 .5ex}\n",
       "</style>\n",
       "<ol class=list-inline><li>100</li><li>100</li></ol>\n"
      ],
      "text/latex": [
       "\\begin{enumerate*}\n",
       "\\item 100\n",
       "\\item 100\n",
       "\\end{enumerate*}\n"
      ],
      "text/markdown": [
       "1. 100\n",
       "2. 100\n",
       "\n",
       "\n"
      ],
      "text/plain": [
       "[1] 100 100"
      ]
     },
     "metadata": {},
     "output_type": "display_data"
    }
   ],
   "source": [
    "v = u*(1-u)\n",
    "\n",
    "W = diag(as.vector(v))\n",
    "\n",
    "dim(W)"
   ]
  },
  {
   "cell_type": "markdown",
   "metadata": {},
   "source": [
    "para b1"
   ]
  },
  {
   "cell_type": "code",
   "execution_count": 4,
   "metadata": {
    "vscode": {
     "languageId": "r"
    }
   },
   "outputs": [],
   "source": [
    "# b1 = b0 + solve(t(X)%*%W%*%X) %*% t(X) %*%(Y-u)\n",
    "\n",
    "# b1"
   ]
  },
  {
   "cell_type": "markdown",
   "metadata": {},
   "source": [
    "para cada b"
   ]
  },
  {
   "cell_type": "code",
   "execution_count": 5,
   "metadata": {
    "vscode": {
     "languageId": "r"
    }
   },
   "outputs": [],
   "source": [
    "# i = 0\n",
    "\n",
    "# while (m > tol  & i < 100) {\n",
    "#     i = i + 1\n",
    "\n",
    "#     b1 = b0 + solve(t(X)%*%W%*%X) %*% t(X) %*%(Y-u)\n",
    "\n",
    "#     m = sum((b1 - b0)^2)\n",
    "#     b0 = b1\n",
    "# }\n",
    "\n",
    "# b0"
   ]
  },
  {
   "cell_type": "code",
   "execution_count": 6,
   "metadata": {
    "vscode": {
     "languageId": "r"
    }
   },
   "outputs": [],
   "source": [
    "i = 0\n",
    "\n",
    "#b <- c(b0) # no \n",
    "\n",
    "b <- list(b0)\n",
    "#as.vector(b)\n",
    "\n",
    "while (m > tol  & i < 100) {\n",
    "    i = i + 1\n",
    "\n",
    "    b1 = b0 + solve(t(X)%*%W%*%X) %*% t(X) %*%(Y-u)\n",
    "\n",
    "    m = sum((b1 - b0)^2)\n",
    "    b0 = b1\n",
    "\n",
    "    b <- c(b, list(b0))\n",
    "}\n",
    "\n",
    "#b\n",
    "b <- as.matrix(b)"
   ]
  },
  {
   "cell_type": "code",
   "execution_count": 19,
   "metadata": {
    "vscode": {
     "languageId": "r"
    }
   },
   "outputs": [
    {
     "data": {
      "text/html": [
       "<table class=\"dataframe\">\n",
       "<caption>A matrix: 5 × 1</caption>\n",
       "<tbody>\n",
       "\t<tr><td>-10.0, 0.2</td></tr>\n",
       "\t<tr><td>-1.49720569, 0.03767488</td></tr>\n",
       "\t<tr><td>7.0055886, -0.1246502</td></tr>\n",
       "\t<tr><td>15.5083829, -0.2869754</td></tr>\n",
       "\t<tr><td>24.0111772, -0.4493005</td></tr>\n",
       "</tbody>\n",
       "</table>\n"
      ],
      "text/latex": [
       "A matrix: 5 × 1\n",
       "\\begin{tabular}{l}\n",
       "\t -10.0, 0.2\\\\\n",
       "\t -1.49720569, 0.03767488\\\\\n",
       "\t 7.0055886, -0.1246502\\\\\n",
       "\t 15.5083829, -0.2869754\\\\\n",
       "\t 24.0111772, -0.4493005\\\\\n",
       "\\end{tabular}\n"
      ],
      "text/markdown": [
       "\n",
       "A matrix: 5 × 1\n",
       "\n",
       "| -10.0, 0.2 |\n",
       "| -1.49720569, 0.03767488 |\n",
       "| 7.0055886, -0.1246502 |\n",
       "| 15.5083829, -0.2869754 |\n",
       "| 24.0111772, -0.4493005 |\n",
       "\n"
      ],
      "text/plain": [
       "     [,1]                   \n",
       "[1,] -10.0, 0.2             \n",
       "[2,] -1.49720569, 0.03767488\n",
       "[3,] 7.0055886, -0.1246502  \n",
       "[4,] 15.5083829, -0.2869754 \n",
       "[5,] 24.0111772, -0.4493005 "
      ]
     },
     "metadata": {},
     "output_type": "display_data"
    }
   ],
   "source": [
    "head(b, 5)"
   ]
  },
  {
   "cell_type": "markdown",
   "metadata": {},
   "source": [
    "excluimos el b0"
   ]
  },
  {
   "cell_type": "code",
   "execution_count": 20,
   "metadata": {
    "vscode": {
     "languageId": "r"
    }
   },
   "outputs": [
    {
     "data": {
      "text/html": [
       "<table class=\"dataframe\">\n",
       "<caption>A matrix: 5 × 1</caption>\n",
       "<tbody>\n",
       "\t<tr><td>-1.49720569, 0.03767488</td></tr>\n",
       "\t<tr><td>7.0055886, -0.1246502</td></tr>\n",
       "\t<tr><td>15.5083829, -0.2869754</td></tr>\n",
       "\t<tr><td>24.0111772, -0.4493005</td></tr>\n",
       "\t<tr><td>32.5139715, -0.6116256</td></tr>\n",
       "</tbody>\n",
       "</table>\n"
      ],
      "text/latex": [
       "A matrix: 5 × 1\n",
       "\\begin{tabular}{l}\n",
       "\t -1.49720569, 0.03767488\\\\\n",
       "\t 7.0055886, -0.1246502\\\\\n",
       "\t 15.5083829, -0.2869754\\\\\n",
       "\t 24.0111772, -0.4493005\\\\\n",
       "\t 32.5139715, -0.6116256\\\\\n",
       "\\end{tabular}\n"
      ],
      "text/markdown": [
       "\n",
       "A matrix: 5 × 1\n",
       "\n",
       "| -1.49720569, 0.03767488 |\n",
       "| 7.0055886, -0.1246502 |\n",
       "| 15.5083829, -0.2869754 |\n",
       "| 24.0111772, -0.4493005 |\n",
       "| 32.5139715, -0.6116256 |\n",
       "\n"
      ],
      "text/plain": [
       "     [,1]                   \n",
       "[1,] -1.49720569, 0.03767488\n",
       "[2,] 7.0055886, -0.1246502  \n",
       "[3,] 15.5083829, -0.2869754 \n",
       "[4,] 24.0111772, -0.4493005 \n",
       "[5,] 32.5139715, -0.6116256 "
      ]
     },
     "metadata": {},
     "output_type": "display_data"
    }
   ],
   "source": [
    "b <- as.matrix(b[2:dim(b)[1]])\n",
    "\n",
    "head(b, 5)"
   ]
  },
  {
   "cell_type": "code",
   "execution_count": null,
   "metadata": {
    "vscode": {
     "languageId": "r"
    }
   },
   "outputs": [],
   "source": []
  }
 ],
 "metadata": {
  "kernelspec": {
   "display_name": "R",
   "language": "R",
   "name": "ir"
  },
  "language_info": {
   "codemirror_mode": "r",
   "file_extension": ".r",
   "mimetype": "text/x-r-source",
   "name": "R",
   "pygments_lexer": "r",
   "version": "4.1.2"
  }
 },
 "nbformat": 4,
 "nbformat_minor": 2
}

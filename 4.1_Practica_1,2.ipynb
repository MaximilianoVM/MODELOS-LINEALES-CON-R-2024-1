{
 "cells": [
  {
   "cell_type": "markdown",
   "metadata": {},
   "source": [
    "<h1>Práctica 1: Regresión lineal con R (2da parte)</h1>\n",
    "\n",
    "<i>\n",
    "Maximiliano Vaca Montejano <br>\n",
    "364897 <br>\n",
    "maximiliano.vaca@uabc.edu.mx\n",
    "</i>"
   ]
  },
  {
   "cell_type": "markdown",
   "metadata": {},
   "source": [
    "<h2>Ejercicio 2 </h2>"
   ]
  },
  {
   "cell_type": "markdown",
   "metadata": {},
   "source": [
    "Deseamos investigar la relación entre la distancia de frenado de un auto y la\n",
    "velocidad al momento en que el conductor se encuentra con un señalamiento\n",
    "de alto. Se supone que el tiempo de reacción para que el conductor aplique\n",
    "los frenos es aproximadamente fijo, por lo que el auto viajará una distancia\n",
    "proporcional a su velocidad antes de comenzar a parar. Por otro lado, la energía cinética es proporcional al cuadrado de su velocidad, pero los frenos disipan esa energía y <b>bajan la velocidad a una razón aproximadamente constante por unidad de distancia recorrida.</b> Por lo que esperamos que una vez que se apliquen los frenos, el auto viaje una distancia proporcional al cuadrado de su velocidad inicial antes de parar completamente. <br>\n",
    "Dada la información anterior, un modelo inicial es \n",
    "\n",
    "$$ dist_i = \\beta_0 + \\beta_1 speed_i + \\beta_2 speed_i^2 + \\epsilon$$"
   ]
  },
  {
   "cell_type": "markdown",
   "metadata": {},
   "source": [
    "<b>(a)</b> Ajuste un modelo comenzando con esta propuesta inicial y seleccione el que considere más adecuado. <br>\n",
    "<b>(b)</b> Para su modelo óptimo estime el tiempo promedio que le toma al conductor aplicar los frenos (hay 5280 pies en una milla).<br>\n",
    "<b>(c)</b> Grafique los datos y la estimación de cada modelo en una sola figura<br>\n",
    "<b>(d)</b> Nota: los datos se pueden acceder a través del comando: <i>data(cars)</i>"
   ]
  },
  {
   "cell_type": "markdown",
   "metadata": {},
   "source": [
    "graficamos los datos para observar su forma y hacernos una idea del modelo adecuado "
   ]
  },
  {
   "cell_type": "code",
   "execution_count": 10,
   "metadata": {
    "vscode": {
     "languageId": "r"
    }
   },
   "outputs": [
    {
     "data": {
      "image/png": "[encoded data removed]",
      "text/plain": [
       "plot without title"
      ]
     },
     "metadata": {},
     "output_type": "display_data"
    }
   ],
   "source": [
    "data(cars)\n",
    "\n",
    "#cars\n",
    "\n",
    "x = cars$speed\n",
    "y = cars$dist\n",
    "\n",
    "plot(x, y)"
   ]
  },
  {
   "cell_type": "markdown",
   "metadata": {},
   "source": [
    "<b>(a)</b> Ajuste un modelo comenzando con esta propuesta inicial y seleccione el que considere más adecuado. <br>"
   ]
  },
  {
   "cell_type": "code",
   "execution_count": 15,
   "metadata": {
    "vscode": {
     "languageId": "r"
    }
   },
   "outputs": [],
   "source": [
    "library(gamair)"
   ]
  },
  {
   "cell_type": "code",
   "execution_count": 16,
   "metadata": {
    "vscode": {
     "languageId": "r"
    }
   },
   "outputs": [
    {
     "data": {
      "text/plain": [
       "\n",
       "Call:\n",
       "lm(formula = dist ~ speed + I(speed^2), data = cars)\n",
       "\n",
       "Residuals:\n",
       "    Min      1Q  Median      3Q     Max \n",
       "-28.720  -9.184  -3.188   4.628  45.152 \n",
       "\n",
       "Coefficients:\n",
       "            Estimate Std. Error t value Pr(>|t|)\n",
       "(Intercept)  2.47014   14.81716   0.167    0.868\n",
       "speed        0.91329    2.03422   0.449    0.656\n",
       "I(speed^2)   0.09996    0.06597   1.515    0.136\n",
       "\n",
       "Residual standard error: 15.18 on 47 degrees of freedom\n",
       "Multiple R-squared:  0.6673,\tAdjusted R-squared:  0.6532 \n",
       "F-statistic: 47.14 on 2 and 47 DF,  p-value: 5.852e-12\n"
      ]
     },
     "metadata": {},
     "output_type": "display_data"
    }
   ],
   "source": [
    "cars.mod_1 <- lm(dist ~ speed + I(speed^2), data=cars)\n",
    "\n",
    "summary(cars.mod_1)"
   ]
  },
  {
   "cell_type": "code",
   "execution_count": 17,
   "metadata": {
    "vscode": {
     "languageId": "r"
    }
   },
   "outputs": [
    {
     "data": {
      "text/plain": [
       "\n",
       "Call:\n",
       "lm(formula = dist ~ speed + I(speed^2) - 1, data = cars)\n",
       "\n",
       "Residuals:\n",
       "    Min      1Q  Median      3Q     Max \n",
       "-28.836  -9.071  -3.152   4.570  44.986 \n",
       "\n",
       "Coefficients:\n",
       "           Estimate Std. Error t value Pr(>|t|)   \n",
       "speed       1.23903    0.55997   2.213  0.03171 * \n",
       "I(speed^2)  0.09014    0.02939   3.067  0.00355 **\n",
       "---\n",
       "Signif. codes:  0 '***' 0.001 '**' 0.01 '*' 0.05 '.' 0.1 ' ' 1\n",
       "\n",
       "Residual standard error: 15.02 on 48 degrees of freedom\n",
       "Multiple R-squared:  0.9133,\tAdjusted R-squared:  0.9097 \n",
       "F-statistic: 252.8 on 2 and 48 DF,  p-value: < 2.2e-16\n"
      ]
     },
     "metadata": {},
     "output_type": "display_data"
    }
   ],
   "source": [
    "cars.mod_2 <- lm(dist ~ speed + I(speed^2) -1, data=cars)\n",
    "\n",
    "summary(cars.mod_2)"
   ]
  },
  {
   "cell_type": "code",
   "execution_count": 21,
   "metadata": {
    "vscode": {
     "languageId": "r"
    }
   },
   "outputs": [
    {
     "data": {
      "text/plain": [
       "\n",
       "Call:\n",
       "lm(formula = dist ~ speed - 1, data = cars)\n",
       "\n",
       "Residuals:\n",
       "    Min      1Q  Median      3Q     Max \n",
       "-26.183 -12.637  -5.455   4.590  50.181 \n",
       "\n",
       "Coefficients:\n",
       "      Estimate Std. Error t value Pr(>|t|)    \n",
       "speed   2.9091     0.1414   20.58   <2e-16 ***\n",
       "---\n",
       "Signif. codes:  0 '***' 0.001 '**' 0.01 '*' 0.05 '.' 0.1 ' ' 1\n",
       "\n",
       "Residual standard error: 16.26 on 49 degrees of freedom\n",
       "Multiple R-squared:  0.8963,\tAdjusted R-squared:  0.8942 \n",
       "F-statistic: 423.5 on 1 and 49 DF,  p-value: < 2.2e-16\n"
      ]
     },
     "metadata": {},
     "output_type": "display_data"
    }
   ],
   "source": [
    "cars.mod_3 <- lm(dist ~ speed -1, data=cars)\n",
    "\n",
    "summary(cars.mod_3)"
   ]
  },
  {
   "cell_type": "markdown",
   "metadata": {},
   "source": [
    "un modelo mas adecuado es el de <b>cars.mod_2</b>, con: <i>Multiple R-squared:  0.9133 y Adjusted R-squared:  0.9097</i>\n",
    "\n",
    "\n",
    "$$ dist_i = \\beta_0 speed_i + \\beta_1 speed_i^2 + \\epsilon$$"
   ]
  },
  {
   "cell_type": "markdown",
   "metadata": {},
   "source": [
    "Donde encontramos que <br>\n",
    "<b>β_0 =  1.23903</b> y <br>\n",
    "<b>β_1 =  0.09014</b>\n"
   ]
  },
  {
   "cell_type": "markdown",
   "metadata": {},
   "source": [
    "$$ tiempo_{frenado} = \\frac{a}{b} $$"
   ]
  },
  {
   "cell_type": "markdown",
   "metadata": {},
   "source": [
    "<b>(b)</b> Para su modelo óptimo estime el tiempo promedio que le toma al conductor aplicar los frenos (hay 5280 pies en una milla).<br>"
   ]
  },
  {
   "cell_type": "code",
   "execution_count": null,
   "metadata": {
    "vscode": {
     "languageId": "r"
    }
   },
   "outputs": [],
   "source": []
  }
 ],
 "metadata": {
  "kernelspec": {
   "display_name": "R",
   "language": "R",
   "name": "ir"
  },
  "language_info": {
   "codemirror_mode": "r",
   "file_extension": ".r",
   "mimetype": "text/x-r-source",
   "name": "R",
   "pygments_lexer": "r",
   "version": "3.6.1"
  }
 },
 "nbformat": 4,
 "nbformat_minor": 2
}

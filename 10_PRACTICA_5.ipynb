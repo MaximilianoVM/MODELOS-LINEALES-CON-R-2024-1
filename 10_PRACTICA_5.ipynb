{
 "cells": [
  {
   "cell_type": "markdown",
   "metadata": {},
   "source": [
    "<h1>Práctica 5</h1>\n",
    "\n",
    "<i>\n",
    "Maximiliano Vaca Montejano <br>\n",
    "364897 <br>\n",
    "maximiliano.vaca@uabc.edu.mx\n",
    "</i>"
   ]
  },
  {
   "cell_type": "markdown",
   "metadata": {},
   "source": [
    "<i>Profesor: Andrés García Medina <br>\n",
    "andres.garcia.medina@uabc.edu.mx <br>\n",
    "Fecha de entrega: jueves 25 de abril, 2024 (12pm).</i>"
   ]
  },
  {
   "cell_type": "markdown",
   "metadata": {},
   "source": [
    "<h2>Ejercicio 1 (50 pts)</h2>\n",
    "\n",
    "Los datos $Oxide$ de la biblioteca $nlme$ contiene datos de control de calidad en la\n",
    "industria de semiconductores. El objetivo del ejercicio es investigar las fuentes\n",
    "de variabilidad en el espesor de las capas de  ́oxido en obleas de silicio. El marco\n",
    "de datos contiene las siguientes columnas:\n",
    "\n",
    "* <b>Thickness:</b> es el espesor de la capa de  ́oxido (en nanómetros, hasta donde yo sé).\n",
    "* <b>Source:</b> es un factor de dos niveles que indica de cuál de los dos posibles proveedores provino la muestra.\n",
    "* <b>Site:</b> es un factor de 3 niveles, que indica en cuál de los tres sitios de la oblea de silicio se midió el espesor.\n",
    "* <b>Lot:</b> es una variable de factor cuyos niveles indican de qué lote particular de obleas de silicio proviene la medicion.\n",
    "* <b>Wafer:</b> es una variable factor con niveles que etiquetan las obleas individuales examinadas.\n",
    "\n",
    "Los investigadores están interesados en descubrir si existen diferencias sistemáticas entre las dos fuentes y esperan que el espesor pueda variar sistemáticamente\n",
    "en los tres sitios; sólo están interesados en los lotes y obleas en la medida en que\n",
    "sean representativos de una población más amplia de lotes y obleas.\n",
    "Se espera su colaboración en el proyecto realizando las siguientes actividades: <br>\n",
    "\n",
    "<ol type=\"a\">\n",
    "<li>Identifique qu ́e factores tratar ́ıa como aleatorios y cu ́ales como fijos, en un an ́alisis de modelo lineal mixto de estos datos.\n",
    "<li> Escriba un modelo que pueda constituir una base adecuada para comenzar a analizar los datos.\n",
    "<li> Realice un an ́alisis completo de los datos, incluida la verificaci ́on del mod- elo. Su objetivo debe ser identificar las fuentes de variabilidad del espesor en los datos y cualquier efecto fijo que cause la variabilidad del espesor. <br>Se sugiere analizar espec ́ıficamente lo siguiente:<br><br>\n",
    "\n",
    "<ol>\n",
    "<li> Graficar residuales estandarizados vs. valores ajustados.\n",
    "<li> Analizar la suposici ́on de normalidad de los residuales a trav ́es de sus\n",
    "cuantiles.\n",
    "<li> Analizar la suposici ́on de normalidad de los efectos aleatorios a trav ́es\n",
    "de sus cuantiles.\n",
    "<li> Ajustar un nuevo modelo mixto sobre los datos suponiendo que la\n",
    "variable Wafer representa un efecto aleatorio.\n",
    "<li> Comparar su propuesta original con el modelo anterior usando la\n",
    "funci ́on anova.\n",
    "<li> Determinar los intervalos de confianza de los par ́ametros al 99% us-\n",
    "ando la funci ́on intervals\n",
    "</ol>\n",
    "\n",
    "</ol>"
   ]
  },
  {
   "cell_type": "markdown",
   "metadata": {},
   "source": [
    "<b>(a)</b> Identifique que factores trataria como aleatorios y cuales como fijos, en un analisis de modelo lineal mixto de estos datos."
   ]
  },
  {
   "cell_type": "code",
   "execution_count": 2,
   "metadata": {
    "vscode": {
     "languageId": "r"
    }
   },
   "outputs": [
    {
     "data": {
      "text/html": [
       "<table class=\"dataframe\">\n",
       "<caption>A nmGroupedData: 20 × 5</caption>\n",
       "<thead>\n",
       "\t<tr><th></th><th scope=col>Source</th><th scope=col>Lot</th><th scope=col>Wafer</th><th scope=col>Site</th><th scope=col>Thickness</th></tr>\n",
       "\t<tr><th></th><th scope=col>&lt;fct&gt;</th><th scope=col>&lt;fct&gt;</th><th scope=col>&lt;fct&gt;</th><th scope=col>&lt;fct&gt;</th><th scope=col>&lt;dbl&gt;</th></tr>\n",
       "</thead>\n",
       "<tbody>\n",
       "\t<tr><th scope=row>1</th><td>1</td><td>1</td><td>1</td><td>1</td><td>2006</td></tr>\n",
       "\t<tr><th scope=row>2</th><td>1</td><td>1</td><td>1</td><td>2</td><td>1999</td></tr>\n",
       "\t<tr><th scope=row>3</th><td>1</td><td>1</td><td>1</td><td>3</td><td>2007</td></tr>\n",
       "\t<tr><th scope=row>4</th><td>1</td><td>1</td><td>2</td><td>1</td><td>1980</td></tr>\n",
       "\t<tr><th scope=row>5</th><td>1</td><td>1</td><td>2</td><td>2</td><td>1988</td></tr>\n",
       "\t<tr><th scope=row>6</th><td>1</td><td>1</td><td>2</td><td>3</td><td>1982</td></tr>\n",
       "\t<tr><th scope=row>7</th><td>1</td><td>1</td><td>3</td><td>1</td><td>2000</td></tr>\n",
       "\t<tr><th scope=row>8</th><td>1</td><td>1</td><td>3</td><td>2</td><td>1998</td></tr>\n",
       "\t<tr><th scope=row>9</th><td>1</td><td>1</td><td>3</td><td>3</td><td>2007</td></tr>\n",
       "\t<tr><th scope=row>10</th><td>1</td><td>2</td><td>1</td><td>1</td><td>1991</td></tr>\n",
       "\t<tr><th scope=row>11</th><td>1</td><td>2</td><td>1</td><td>2</td><td>1990</td></tr>\n",
       "\t<tr><th scope=row>12</th><td>1</td><td>2</td><td>1</td><td>3</td><td>1988</td></tr>\n",
       "\t<tr><th scope=row>13</th><td>1</td><td>2</td><td>2</td><td>1</td><td>1987</td></tr>\n",
       "\t<tr><th scope=row>14</th><td>1</td><td>2</td><td>2</td><td>2</td><td>1989</td></tr>\n",
       "\t<tr><th scope=row>15</th><td>1</td><td>2</td><td>2</td><td>3</td><td>1988</td></tr>\n",
       "\t<tr><th scope=row>16</th><td>1</td><td>2</td><td>3</td><td>1</td><td>1985</td></tr>\n",
       "\t<tr><th scope=row>17</th><td>1</td><td>2</td><td>3</td><td>2</td><td>1983</td></tr>\n",
       "\t<tr><th scope=row>18</th><td>1</td><td>2</td><td>3</td><td>3</td><td>1989</td></tr>\n",
       "\t<tr><th scope=row>19</th><td>1</td><td>3</td><td>1</td><td>1</td><td>2000</td></tr>\n",
       "\t<tr><th scope=row>20</th><td>1</td><td>3</td><td>1</td><td>2</td><td>2004</td></tr>\n",
       "</tbody>\n",
       "</table>\n"
      ],
      "text/latex": [
       "A nmGroupedData: 20 × 5\n",
       "\\begin{tabular}{r|lllll}\n",
       "  & Source & Lot & Wafer & Site & Thickness\\\\\n",
       "  & <fct> & <fct> & <fct> & <fct> & <dbl>\\\\\n",
       "\\hline\n",
       "\t1 & 1 & 1 & 1 & 1 & 2006\\\\\n",
       "\t2 & 1 & 1 & 1 & 2 & 1999\\\\\n",
       "\t3 & 1 & 1 & 1 & 3 & 2007\\\\\n",
       "\t4 & 1 & 1 & 2 & 1 & 1980\\\\\n",
       "\t5 & 1 & 1 & 2 & 2 & 1988\\\\\n",
       "\t6 & 1 & 1 & 2 & 3 & 1982\\\\\n",
       "\t7 & 1 & 1 & 3 & 1 & 2000\\\\\n",
       "\t8 & 1 & 1 & 3 & 2 & 1998\\\\\n",
       "\t9 & 1 & 1 & 3 & 3 & 2007\\\\\n",
       "\t10 & 1 & 2 & 1 & 1 & 1991\\\\\n",
       "\t11 & 1 & 2 & 1 & 2 & 1990\\\\\n",
       "\t12 & 1 & 2 & 1 & 3 & 1988\\\\\n",
       "\t13 & 1 & 2 & 2 & 1 & 1987\\\\\n",
       "\t14 & 1 & 2 & 2 & 2 & 1989\\\\\n",
       "\t15 & 1 & 2 & 2 & 3 & 1988\\\\\n",
       "\t16 & 1 & 2 & 3 & 1 & 1985\\\\\n",
       "\t17 & 1 & 2 & 3 & 2 & 1983\\\\\n",
       "\t18 & 1 & 2 & 3 & 3 & 1989\\\\\n",
       "\t19 & 1 & 3 & 1 & 1 & 2000\\\\\n",
       "\t20 & 1 & 3 & 1 & 2 & 2004\\\\\n",
       "\\end{tabular}\n"
      ],
      "text/markdown": [
       "\n",
       "A nmGroupedData: 20 × 5\n",
       "\n",
       "| <!--/--> | Source &lt;fct&gt; | Lot &lt;fct&gt; | Wafer &lt;fct&gt; | Site &lt;fct&gt; | Thickness &lt;dbl&gt; |\n",
       "|---|---|---|---|---|---|\n",
       "| 1 | 1 | 1 | 1 | 1 | 2006 |\n",
       "| 2 | 1 | 1 | 1 | 2 | 1999 |\n",
       "| 3 | 1 | 1 | 1 | 3 | 2007 |\n",
       "| 4 | 1 | 1 | 2 | 1 | 1980 |\n",
       "| 5 | 1 | 1 | 2 | 2 | 1988 |\n",
       "| 6 | 1 | 1 | 2 | 3 | 1982 |\n",
       "| 7 | 1 | 1 | 3 | 1 | 2000 |\n",
       "| 8 | 1 | 1 | 3 | 2 | 1998 |\n",
       "| 9 | 1 | 1 | 3 | 3 | 2007 |\n",
       "| 10 | 1 | 2 | 1 | 1 | 1991 |\n",
       "| 11 | 1 | 2 | 1 | 2 | 1990 |\n",
       "| 12 | 1 | 2 | 1 | 3 | 1988 |\n",
       "| 13 | 1 | 2 | 2 | 1 | 1987 |\n",
       "| 14 | 1 | 2 | 2 | 2 | 1989 |\n",
       "| 15 | 1 | 2 | 2 | 3 | 1988 |\n",
       "| 16 | 1 | 2 | 3 | 1 | 1985 |\n",
       "| 17 | 1 | 2 | 3 | 2 | 1983 |\n",
       "| 18 | 1 | 2 | 3 | 3 | 1989 |\n",
       "| 19 | 1 | 3 | 1 | 1 | 2000 |\n",
       "| 20 | 1 | 3 | 1 | 2 | 2004 |\n",
       "\n"
      ],
      "text/plain": [
       "   Source Lot Wafer Site Thickness\n",
       "1  1      1   1     1    2006     \n",
       "2  1      1   1     2    1999     \n",
       "3  1      1   1     3    2007     \n",
       "4  1      1   2     1    1980     \n",
       "5  1      1   2     2    1988     \n",
       "6  1      1   2     3    1982     \n",
       "7  1      1   3     1    2000     \n",
       "8  1      1   3     2    1998     \n",
       "9  1      1   3     3    2007     \n",
       "10 1      2   1     1    1991     \n",
       "11 1      2   1     2    1990     \n",
       "12 1      2   1     3    1988     \n",
       "13 1      2   2     1    1987     \n",
       "14 1      2   2     2    1989     \n",
       "15 1      2   2     3    1988     \n",
       "16 1      2   3     1    1985     \n",
       "17 1      2   3     2    1983     \n",
       "18 1      2   3     3    1989     \n",
       "19 1      3   1     1    2000     \n",
       "20 1      3   1     2    2004     "
      ]
     },
     "metadata": {},
     "output_type": "display_data"
    }
   ],
   "source": [
    "library(nlme)\n",
    "data(Oxide)\n",
    "\n",
    "head(Oxide, 20) # 72 × 5"
   ]
  },
  {
   "cell_type": "markdown",
   "metadata": {},
   "source": [
    "* trata como fijos aquellos factores que queremos comparar directamente: $Source$ y $Site$\n",
    "* y como aleatorios los que pueden afectar las mediciones pero no son de interes principal, como lo son $Lot$ y $Wafer$"
   ]
  },
  {
   "cell_type": "markdown",
   "metadata": {},
   "source": [
    "<b>(b)</b> Escriba un modelo que pueda constituir una base adecuada para comenzar a analizar los datos."
   ]
  },
  {
   "cell_type": "code",
   "execution_count": 3,
   "metadata": {
    "vscode": {
     "languageId": "r"
    }
   },
   "outputs": [],
   "source": [
    "model <- lme(Thickness ~ Source + Site, random = ~ 1 | Lot/Wafer, data = Oxide)"
   ]
  },
  {
   "cell_type": "markdown",
   "metadata": {},
   "source": [
    "<b>(c)</b> Realice un an ́alisis completo de los datos, incluida la verificaci ́on del mod- elo. Su objetivo debe ser identificar las fuentes de variabilidad del espesor en los datos y cualquier efecto fijo que cause la variabilidad del espesor. <br>Se sugiere analizar espec ́ıficamente lo siguiente:<br><br>\n",
    "\n",
    "<ol>\n",
    "<li> Graficar residuales estandarizados vs. valores ajustados.\n",
    "<li> Analizar la suposici ́on de normalidad de los residuales a trav ́es de sus\n",
    "cuantiles.\n",
    "<li> Analizar la suposici ́on de normalidad de los efectos aleatorios a trav ́es\n",
    "de sus cuantiles.\n",
    "<li> Ajustar un nuevo modelo mixto sobre los datos suponiendo que la\n",
    "variable Wafer representa un efecto aleatorio.\n",
    "<li> Comparar su propuesta original con el modelo anterior usando la\n",
    "funci ́on anova.\n",
    "<li> Determinar los intervalos de confianza de los par ́ametros al 99% us-\n",
    "ando la funci ́on intervals\n",
    "</ol>"
   ]
  },
  {
   "cell_type": "code",
   "execution_count": 6,
   "metadata": {
    "vscode": {
     "languageId": "r"
    }
   },
   "outputs": [
    {
     "data": {
      "image/png": "[encoded data removed]",
      "text/plain": [
       "plot without title"
      ]
     },
     "metadata": {
      "image/png": {
       "height": 420,
       "width": 420
      }
     },
     "output_type": "display_data"
    }
   ],
   "source": [
    "#residuales estandarizados vs. valores ajustados\n",
    "plot(resid(model), fitted(model))"
   ]
  },
  {
   "cell_type": "code",
   "execution_count": 8,
   "metadata": {
    "vscode": {
     "languageId": "r"
    }
   },
   "outputs": [
    {
     "data": {
      "image/png": "[encoded data removed]",
      "text/plain": [
       "Plot with title “Normal Q-Q Plot”"
      ]
     },
     "metadata": {
      "image/png": {
       "height": 420,
       "width": 420
      }
     },
     "output_type": "display_data"
    }
   ],
   "source": [
    "#analizar la suposición de normalidad de los residuales a través de sus cuantiles\n",
    "qqnorm(resid(model))"
   ]
  },
  {
   "cell_type": "code",
   "execution_count": 13,
   "metadata": {
    "vscode": {
     "languageId": "r"
    }
   },
   "outputs": [
    {
     "data": {
      "image/png": "[encoded data removed]",
      "text/plain": [
       "Plot with title “Efectos aleatorios para Lot : (Intercept)”"
      ]
     },
     "metadata": {
      "image/png": {
       "height": 420,
       "width": 420
      }
     },
     "output_type": "display_data"
    },
    {
     "data": {
      "image/png": "[encoded data removed]",
      "text/plain": [
       "Plot with title “Efectos aleatorios para Wafer : (Intercept)”"
      ]
     },
     "metadata": {
      "image/png": {
       "height": 420,
       "width": 420
      }
     },
     "output_type": "display_data"
    }
   ],
   "source": [
    "#efectos aleatorios del modelo\n",
    "random_effects <- ranef(model)\n",
    "\n",
    "for (term in names(random_effects)) {\n",
    "  #efectos aleatorios\n",
    "  effects <- random_effects[[term]]\n",
    "  \n",
    "  #gráfico QQ si es vector \n",
    "  if (is.vector(effects)) {\n",
    "    qqnorm(effects, main = paste(\"Efectos aleatorios para\", term))\n",
    "  } else {\n",
    "    #gráfico QQ para cada columna\n",
    "    for (col in colnames(effects)) {\n",
    "      qqnorm(effects[, col], main = paste(\"Efectos aleatorios para\", term, \":\", col))\n",
    "    }\n",
    "  }\n",
    "}"
   ]
  },
  {
   "cell_type": "code",
   "execution_count": 10,
   "metadata": {
    "vscode": {
     "languageId": "r"
    }
   },
   "outputs": [],
   "source": [
    "#suponiendo Wafer como efecto aleatorio\n",
    "model2 <- lme(Thickness ~ Source + Site, random = ~ 1 | Wafer, data = Oxide)"
   ]
  },
  {
   "cell_type": "code",
   "execution_count": 11,
   "metadata": {
    "vscode": {
     "languageId": "r"
    }
   },
   "outputs": [
    {
     "data": {
      "text/html": [
       "<table class=\"dataframe\">\n",
       "<caption>A anova.lme: 2 × 9</caption>\n",
       "<thead>\n",
       "\t<tr><th></th><th scope=col>call</th><th scope=col>Model</th><th scope=col>df</th><th scope=col>AIC</th><th scope=col>BIC</th><th scope=col>logLik</th><th scope=col>Test</th><th scope=col>L.Ratio</th><th scope=col>p-value</th></tr>\n",
       "\t<tr><th></th><th scope=col>&lt;chr&gt;</th><th scope=col>&lt;int&gt;</th><th scope=col>&lt;dbl&gt;</th><th scope=col>&lt;dbl&gt;</th><th scope=col>&lt;dbl&gt;</th><th scope=col>&lt;dbl&gt;</th><th scope=col>&lt;fct&gt;</th><th scope=col>&lt;dbl&gt;</th><th scope=col>&lt;dbl&gt;</th></tr>\n",
       "</thead>\n",
       "<tbody>\n",
       "\t<tr><th scope=row>model</th><td>lme.formula(fixed = Thickness ~ Source + Site, data = Oxide,     random = ~1 | Lot/Wafer)</td><td>1</td><td>7</td><td>455.7619</td><td>471.2985</td><td>-220.8810</td><td>      </td><td>      NA</td><td>          NA</td></tr>\n",
       "\t<tr><th scope=row>model2</th><td>lme.formula(fixed = Thickness ~ Source + Site, data = Oxide,     random = ~1 | Wafer)    </td><td>2</td><td>6</td><td>554.7459</td><td>568.0629</td><td>-271.3729</td><td>1 vs 2</td><td>100.9839</td><td>9.273318e-24</td></tr>\n",
       "</tbody>\n",
       "</table>\n"
      ],
      "text/latex": [
       "A anova.lme: 2 × 9\n",
       "\\begin{tabular}{r|lllllllll}\n",
       "  & call & Model & df & AIC & BIC & logLik & Test & L.Ratio & p-value\\\\\n",
       "  & <chr> & <int> & <dbl> & <dbl> & <dbl> & <dbl> & <fct> & <dbl> & <dbl>\\\\\n",
       "\\hline\n",
       "\tmodel & lme.formula(fixed = Thickness \\textasciitilde{} Source + Site, data = Oxide,     random = \\textasciitilde{}1 \\textbar{} Lot/Wafer) & 1 & 7 & 455.7619 & 471.2985 & -220.8810 &        &       NA &           NA\\\\\n",
       "\tmodel2 & lme.formula(fixed = Thickness \\textasciitilde{} Source + Site, data = Oxide,     random = \\textasciitilde{}1 \\textbar{} Wafer)     & 2 & 6 & 554.7459 & 568.0629 & -271.3729 & 1 vs 2 & 100.9839 & 9.273318e-24\\\\\n",
       "\\end{tabular}\n"
      ],
      "text/markdown": [
       "\n",
       "A anova.lme: 2 × 9\n",
       "\n",
       "| <!--/--> | call &lt;chr&gt; | Model &lt;int&gt; | df &lt;dbl&gt; | AIC &lt;dbl&gt; | BIC &lt;dbl&gt; | logLik &lt;dbl&gt; | Test &lt;fct&gt; | L.Ratio &lt;dbl&gt; | p-value &lt;dbl&gt; |\n",
       "|---|---|---|---|---|---|---|---|---|---|\n",
       "| model | lme.formula(fixed = Thickness ~ Source + Site, data = Oxide,     random = ~1 | Lot/Wafer) | 1 | 7 | 455.7619 | 471.2985 | -220.8810 | <!----> |       NA |           NA |\n",
       "| model2 | lme.formula(fixed = Thickness ~ Source + Site, data = Oxide,     random = ~1 | Wafer)     | 2 | 6 | 554.7459 | 568.0629 | -271.3729 | 1 vs 2 | 100.9839 | 9.273318e-24 |\n",
       "\n"
      ],
      "text/plain": [
       "       call                                                                                     \n",
       "model  lme.formula(fixed = Thickness ~ Source + Site, data = Oxide,     random = ~1 | Lot/Wafer)\n",
       "model2 lme.formula(fixed = Thickness ~ Source + Site, data = Oxide,     random = ~1 | Wafer)    \n",
       "       Model df AIC      BIC      logLik    Test   L.Ratio  p-value     \n",
       "model  1     7  455.7619 471.2985 -220.8810              NA           NA\n",
       "model2 2     6  554.7459 568.0629 -271.3729 1 vs 2 100.9839 9.273318e-24"
      ]
     },
     "metadata": {},
     "output_type": "display_data"
    }
   ],
   "source": [
    "#Comparar\n",
    "anova(model, model2)"
   ]
  },
  {
   "cell_type": "code",
   "execution_count": 12,
   "metadata": {
    "vscode": {
     "languageId": "r"
    }
   },
   "outputs": [
    {
     "data": {
      "text/plain": [
       "Approximate 99% confidence intervals\n",
       "\n",
       " Fixed effects:\n",
       "                  lower         est.       upper\n",
       "(Intercept) 1979.325947 1994.9166667 2010.507386\n",
       "Source2      -20.177583   10.0833333   40.344250\n",
       "Site2         -3.022988   -0.2500000    2.522988\n",
       "Site3         -1.939655    0.8333333    3.606321\n",
       "\n",
       " Random Effects:\n",
       "  Level: Lot \n",
       "                   lower     est.    upper\n",
       "sd((Intercept)) 4.784201 10.94954 25.06008\n",
       "  Level: Wafer \n",
       "                   lower     est.    upper\n",
       "sd((Intercept)) 3.590726 5.982932 9.968868\n",
       "\n",
       " Within-group standard error:\n",
       "   lower     est.    upper \n",
       "2.732989 3.574940 4.676271 "
      ]
     },
     "metadata": {},
     "output_type": "display_data"
    }
   ],
   "source": [
    "#intervalos de confianza de los parámetros al 99%\n",
    "intervals(model, level = 0.99)"
   ]
  },
  {
   "cell_type": "code",
   "execution_count": null,
   "metadata": {
    "vscode": {
     "languageId": "r"
    }
   },
   "outputs": [],
   "source": []
  }
 ],
 "metadata": {
  "kernelspec": {
   "display_name": "R",
   "language": "R",
   "name": "ir"
  },
  "language_info": {
   "codemirror_mode": "r",
   "file_extension": ".r",
   "mimetype": "text/x-r-source",
   "name": "R",
   "pygments_lexer": "r",
   "version": "4.1.2"
  }
 },
 "nbformat": 4,
 "nbformat_minor": 2
}

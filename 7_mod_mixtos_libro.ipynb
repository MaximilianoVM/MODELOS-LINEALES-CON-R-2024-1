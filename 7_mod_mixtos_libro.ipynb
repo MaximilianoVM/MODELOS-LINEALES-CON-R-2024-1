{
 "cells": [
  {
   "cell_type": "code",
   "execution_count": null,
   "metadata": {
    "vscode": {
     "languageId": "r"
    }
   },
   "outputs": [],
   "source": []
  },
  {
   "cell_type": "markdown",
   "metadata": {},
   "source": []
  },
  {
   "cell_type": "code",
   "execution_count": 2,
   "metadata": {
    "vscode": {
     "languageId": "r"
    }
   },
   "outputs": [
    {
     "data": {
      "text/html": [
       "<table class=\"dataframe\">\n",
       "<caption>A nffGroupedData: 18 × 2</caption>\n",
       "<thead>\n",
       "\t<tr><th></th><th scope=col>Rail</th><th scope=col>travel</th></tr>\n",
       "\t<tr><th></th><th scope=col>&lt;ord&gt;</th><th scope=col>&lt;dbl&gt;</th></tr>\n",
       "</thead>\n",
       "<tbody>\n",
       "\t<tr><th scope=row>1</th><td>1</td><td> 55</td></tr>\n",
       "\t<tr><th scope=row>2</th><td>1</td><td> 53</td></tr>\n",
       "\t<tr><th scope=row>3</th><td>1</td><td> 54</td></tr>\n",
       "\t<tr><th scope=row>4</th><td>2</td><td> 26</td></tr>\n",
       "\t<tr><th scope=row>5</th><td>2</td><td> 37</td></tr>\n",
       "\t<tr><th scope=row>6</th><td>2</td><td> 32</td></tr>\n",
       "\t<tr><th scope=row>7</th><td>3</td><td> 78</td></tr>\n",
       "\t<tr><th scope=row>8</th><td>3</td><td> 91</td></tr>\n",
       "\t<tr><th scope=row>9</th><td>3</td><td> 85</td></tr>\n",
       "\t<tr><th scope=row>10</th><td>4</td><td> 92</td></tr>\n",
       "\t<tr><th scope=row>11</th><td>4</td><td>100</td></tr>\n",
       "\t<tr><th scope=row>12</th><td>4</td><td> 96</td></tr>\n",
       "\t<tr><th scope=row>13</th><td>5</td><td> 49</td></tr>\n",
       "\t<tr><th scope=row>14</th><td>5</td><td> 51</td></tr>\n",
       "\t<tr><th scope=row>15</th><td>5</td><td> 50</td></tr>\n",
       "\t<tr><th scope=row>16</th><td>6</td><td> 80</td></tr>\n",
       "\t<tr><th scope=row>17</th><td>6</td><td> 85</td></tr>\n",
       "\t<tr><th scope=row>18</th><td>6</td><td> 83</td></tr>\n",
       "</tbody>\n",
       "</table>\n"
      ],
      "text/latex": [
       "A nffGroupedData: 18 × 2\n",
       "\\begin{tabular}{r|ll}\n",
       "  & Rail & travel\\\\\n",
       "  & <ord> & <dbl>\\\\\n",
       "\\hline\n",
       "\t1 & 1 &  55\\\\\n",
       "\t2 & 1 &  53\\\\\n",
       "\t3 & 1 &  54\\\\\n",
       "\t4 & 2 &  26\\\\\n",
       "\t5 & 2 &  37\\\\\n",
       "\t6 & 2 &  32\\\\\n",
       "\t7 & 3 &  78\\\\\n",
       "\t8 & 3 &  91\\\\\n",
       "\t9 & 3 &  85\\\\\n",
       "\t10 & 4 &  92\\\\\n",
       "\t11 & 4 & 100\\\\\n",
       "\t12 & 4 &  96\\\\\n",
       "\t13 & 5 &  49\\\\\n",
       "\t14 & 5 &  51\\\\\n",
       "\t15 & 5 &  50\\\\\n",
       "\t16 & 6 &  80\\\\\n",
       "\t17 & 6 &  85\\\\\n",
       "\t18 & 6 &  83\\\\\n",
       "\\end{tabular}\n"
      ],
      "text/markdown": [
       "\n",
       "A nffGroupedData: 18 × 2\n",
       "\n",
       "| <!--/--> | Rail &lt;ord&gt; | travel &lt;dbl&gt; |\n",
       "|---|---|---|\n",
       "| 1 | 1 |  55 |\n",
       "| 2 | 1 |  53 |\n",
       "| 3 | 1 |  54 |\n",
       "| 4 | 2 |  26 |\n",
       "| 5 | 2 |  37 |\n",
       "| 6 | 2 |  32 |\n",
       "| 7 | 3 |  78 |\n",
       "| 8 | 3 |  91 |\n",
       "| 9 | 3 |  85 |\n",
       "| 10 | 4 |  92 |\n",
       "| 11 | 4 | 100 |\n",
       "| 12 | 4 |  96 |\n",
       "| 13 | 5 |  49 |\n",
       "| 14 | 5 |  51 |\n",
       "| 15 | 5 |  50 |\n",
       "| 16 | 6 |  80 |\n",
       "| 17 | 6 |  85 |\n",
       "| 18 | 6 |  83 |\n",
       "\n"
      ],
      "text/plain": [
       "   Rail travel\n",
       "1  1     55   \n",
       "2  1     53   \n",
       "3  1     54   \n",
       "4  2     26   \n",
       "5  2     37   \n",
       "6  2     32   \n",
       "7  3     78   \n",
       "8  3     91   \n",
       "9  3     85   \n",
       "10 4     92   \n",
       "11 4    100   \n",
       "12 4     96   \n",
       "13 5     49   \n",
       "14 5     51   \n",
       "15 5     50   \n",
       "16 6     80   \n",
       "17 6     85   \n",
       "18 6     83   "
      ]
     },
     "metadata": {},
     "output_type": "display_data"
    }
   ],
   "source": [
    "library(nlme)\n",
    "data(Rail)\n",
    "\n",
    "head(Rail, 20)"
   ]
  },
  {
   "cell_type": "markdown",
   "metadata": {},
   "source": [
    "To illustrate the importance of accounting for the classification factor\n",
    "when modeling grouped data such as the rails example, we initially ignore\n",
    "the grouping structure of the data and assume the simple model <br>\n",
    "$$yij = β + eij$$ \n",
    "<b>(1.1)</b> <br>\n",
    "$i = 1, . . . , M$, $j = 1, . . . , ni$<br>\n",
    "where $yij$ is the observed travel time for observation $j$ on rail $i$, $β$ is the\n",
    "mean travel time across the population of rails being sampled, and the $eij$\n",
    "are independent $N(0, σ2)$ error terms. "
   ]
  },
  {
   "cell_type": "code",
   "execution_count": 3,
   "metadata": {
    "vscode": {
     "languageId": "r"
    }
   },
   "outputs": [
    {
     "data": {
      "text/plain": [
       "\n",
       "Call:\n",
       "lm(formula = travel ~ 1, data = Rail)\n",
       "\n",
       "Coefficients:\n",
       "(Intercept)  \n",
       "       66.5  \n"
      ]
     },
     "metadata": {},
     "output_type": "display_data"
    },
    {
     "name": "stdout",
     "output_type": "stream",
     "text": [
      "[1] \"---------\"\n"
     ]
    },
    {
     "data": {
      "text/plain": [
       "\n",
       "Call:\n",
       "lm(formula = travel ~ 1, data = Rail)\n",
       "\n",
       "Residuals:\n",
       "   Min     1Q Median     3Q    Max \n",
       "-40.50 -16.25   0.00  18.50  33.50 \n",
       "\n",
       "Coefficients:\n",
       "            Estimate Std. Error t value Pr(>|t|)    \n",
       "(Intercept)   66.500      5.573   11.93  1.1e-09 ***\n",
       "---\n",
       "Signif. codes:  0 ‘***’ 0.001 ‘**’ 0.01 ‘*’ 0.05 ‘.’ 0.1 ‘ ’ 1\n",
       "\n",
       "Residual standard error: 23.65 on 17 degrees of freedom\n"
      ]
     },
     "metadata": {},
     "output_type": "display_data"
    }
   ],
   "source": [
    "fm1Rail.lm <- lm( travel ~ 1, data = Rail )\n",
    "fm1Rail.lm\n",
    "print(\"---------\")\n",
    "summary(fm1Rail.lm)"
   ]
  },
  {
   "cell_type": "markdown",
   "metadata": {},
   "source": [
    "It contains the parameter estimates\n",
    "$\\hat{β} = 66.5$ and $\\hat{σ} = 23.645$"
   ]
  },
  {
   "cell_type": "markdown",
   "metadata": {},
   "source": [
    "The boxplots of the residuals from the fm1Rail.lm fit by rail number,\n",
    "displayed in Figure 1.2, illustrate the fundamental problem with ignoring\n",
    "the classification factor when modeling grouped data: the “group effects”\n",
    "are incorporated into the residuals (which, in this case, have identical signs\n",
    "for each rail), leading to an inflated estimate of the within-rail variability."
   ]
  },
  {
   "cell_type": "code",
   "execution_count": 8,
   "metadata": {
    "vscode": {
     "languageId": "r"
    }
   },
   "outputs": [
    {
     "data": {
      "image/png": "[encoded data removed]",
      "text/plain": [
       "plot without title"
      ]
     },
     "metadata": {
      "image/png": {
       "height": 420,
       "width": 420
      }
     },
     "output_type": "display_data"
    }
   ],
   "source": [
    "# boxplots of the residuals from the fm1Rail.lm fit by rail number,\n",
    "# to check for homogeneity of variance\n",
    "boxplot( residuals(fm1Rail.lm) ~ Rail$Rail, xlab = \"Rail number\",\n",
    "         ylab = \"Residuals from lm fit\" )"
   ]
  },
  {
   "cell_type": "markdown",
   "metadata": {},
   "source": [
    "The “rail effects” indicated in Figure 1.2 may be incorporated into the\n",
    "model for the travel times by allowing the mean of each rail to be represented by a separate parameter. This fixed-effects model for the one-way\n",
    "classification is written <br>\n",
    "$$yij = βi + eij$$\n",
    "<b>(1.2)</b> <br>\n",
    " $i = 1, . . . , M$, $j = 1, . . . , ni$ <br>\n",
    "where the βi represents the mean travel time of rail i and, as in (1.1), the\n",
    "errors eij are assumed to be independently distributed as N (0, σ2). We can\n",
    "again use lm to fit (1.2)"
   ]
  },
  {
   "cell_type": "code",
   "execution_count": 11,
   "metadata": {
    "vscode": {
     "languageId": "r"
    }
   },
   "outputs": [
    {
     "data": {
      "text/plain": [
       "\n",
       "Call:\n",
       "lm(formula = travel ~ Rail - 1, data = Rail)\n",
       "\n",
       "Coefficients:\n",
       "Rail2  Rail5  Rail1  Rail6  Rail3  Rail4  \n",
       "31.67  50.00  54.00  82.67  84.67  96.00  \n"
      ]
     },
     "metadata": {},
     "output_type": "display_data"
    }
   ],
   "source": [
    "fm2Rail.lm <- lm( travel ~ Rail - 1, data = Rail )\n",
    "fm2Rail.lm"
   ]
  },
  {
   "cell_type": "markdown",
   "metadata": {},
   "source": [
    "The residual standard error\n",
    "obtained for the fixed-effects model (1.2), $\\hat{σ} = 4.0208$, is about one-sixth\n",
    "of the corresponding estimate obtained for the single-mean model (1.1),\n",
    "indicating that the fm2Rail.lm model has successfully accounted for the rail\n",
    "effects."
   ]
  },
  {
   "cell_type": "code",
   "execution_count": 12,
   "metadata": {
    "vscode": {
     "languageId": "r"
    }
   },
   "outputs": [
    {
     "data": {
      "image/png": "[encoded data removed]",
      "text/plain": [
       "plot without title"
      ]
     },
     "metadata": {
      "image/png": {
       "height": 420,
       "width": 420
      }
     },
     "output_type": "display_data"
    }
   ],
   "source": [
    "boxplot( residuals(fm2Rail.lm) ~ Rail$Rail, xlab = \"Rail number\",\n",
    "         ylab = \"Residuals from lm fit\" )"
   ]
  },
  {
   "cell_type": "markdown",
   "metadata": {},
   "source": [
    "The residuals are now centered around\n",
    "zero and have considerably smaller magnitudes than those in Figure 1.2."
   ]
  },
  {
   "cell_type": "markdown",
   "metadata": {},
   "source": [
    "<h1>1.1.1 Fitting the Random-Effects Model With lme"
   ]
  },
  {
   "cell_type": "markdown",
   "metadata": {},
   "source": [
    "* the first two arguments to lme, fixed and data\n",
    "\n",
    "* The third argument, random, is a onesided formula describing the random effects and the grouping structure for the model."
   ]
  },
  {
   "cell_type": "markdown",
   "metadata": {},
   "source": [
    "$$y_{ij} = β + b_i + \\epsilon_{ij}$$ \n",
    "<b>(1.4)</b>\n",
    "\n",
    "$$b_i ∼ N(0, σ_b^2)$$ \n",
    "$$\\epsilon_{ij} ∼ N(0, σ^2)$$\n",
    "\n",
    "<b>(1.5)</b>"
   ]
  },
  {
   "cell_type": "markdown",
   "metadata": {},
   "source": [
    "We obtain the restricted maximum likelihood fit of the model given by\n",
    "(1.4) and (1.5) to the Rail data with"
   ]
  },
  {
   "cell_type": "code",
   "execution_count": 7,
   "metadata": {
    "vscode": {
     "languageId": "r"
    }
   },
   "outputs": [
    {
     "data": {
      "text/plain": [
       "Linear mixed-effects model fit by REML\n",
       "  Data: Rail \n",
       "      AIC      BIC   logLik\n",
       "  128.177 130.6766 -61.0885\n",
       "\n",
       "Random effects:\n",
       " Formula: ~1 | Rail\n",
       "        (Intercept) Residual\n",
       "StdDev:    24.80547 4.020779\n",
       "\n",
       "Fixed effects:  travel ~ 1 \n",
       "            Value Std.Error DF  t-value p-value\n",
       "(Intercept)  66.5  10.17104 12 6.538173       0\n",
       "\n",
       "Standardized Within-Group Residuals:\n",
       "        Min          Q1         Med          Q3         Max \n",
       "-1.61882658 -0.28217671  0.03569328  0.21955784  1.61437744 \n",
       "\n",
       "Number of Observations: 18\n",
       "Number of Groups: 6 "
      ]
     },
     "metadata": {},
     "output_type": "display_data"
    }
   ],
   "source": [
    "fm1Rail.lme <- lme(travel ~ 1, data = Rail, random = ~ 1 | Rail)\n",
    "\n",
    "summary( fm1Rail.lme )"
   ]
  },
  {
   "cell_type": "markdown",
   "metadata": {},
   "source": [
    "We see that the REML estimates for the parameters have been calculated\n",
    "as\n",
    "$\\hat{β} = 66.5$, $\\hat{σ_b} = 24.805$, $\\hat{σ} = 4.0208$"
   ]
  },
  {
   "cell_type": "markdown",
   "metadata": {},
   "source": [
    "* To examine the maximum likelihood \n",
    "* A convenient way of fitting such alternative models is to use the update function"
   ]
  },
  {
   "cell_type": "code",
   "execution_count": 8,
   "metadata": {
    "vscode": {
     "languageId": "r"
    }
   },
   "outputs": [
    {
     "data": {
      "text/plain": [
       "Linear mixed-effects model fit by maximum likelihood\n",
       "  Data: Rail \n",
       "     AIC      BIC    logLik\n",
       "  134.56 137.2312 -64.28002\n",
       "\n",
       "Random effects:\n",
       " Formula: ~1 | Rail\n",
       "        (Intercept) Residual\n",
       "StdDev:    22.62435 4.020779\n",
       "\n",
       "Fixed effects:  travel ~ 1 \n",
       "            Value Std.Error DF  t-value p-value\n",
       "(Intercept)  66.5  9.554026 12 6.960417       0\n",
       "\n",
       "Standardized Within-Group Residuals:\n",
       "        Min          Q1         Med          Q3         Max \n",
       "-1.61098123 -0.28887045  0.03454166  0.21372780  1.62222279 \n",
       "\n",
       "Number of Observations: 18\n",
       "Number of Groups: 6 "
      ]
     },
     "metadata": {},
     "output_type": "display_data"
    }
   ],
   "source": [
    "fm1Rail.lmeML <- update( fm1Rail.lme, method = \"ML\" )\n",
    "summary( fm1Rail.lmeML )"
   ]
  },
  {
   "cell_type": "markdown",
   "metadata": {},
   "source": [
    "<h2>1.1.2 Assessing the Fitted Model"
   ]
  },
  {
   "cell_type": "markdown",
   "metadata": {},
   "source": [
    "<h3>residuals versus the fitted responses"
   ]
  },
  {
   "cell_type": "markdown",
   "metadata": {},
   "source": [
    "* The fitted model can, and should, be examined using graphical and numerical summaries. \n",
    "One graphical summary that should be examined routinely\n",
    "is a plot of the <b>residuals versus the fitted responses</b> from the model. This\n",
    "plot is used to assess the assumption of constant variance of the $\\epsilon_{ij}$."
   ]
  },
  {
   "cell_type": "code",
   "execution_count": 9,
   "metadata": {
    "vscode": {
     "languageId": "r"
    }
   },
   "outputs": [
    {
     "data": {
      "image/png": "[encoded data removed]",
      "text/plain": [
       "plot without title"
      ]
     },
     "metadata": {
      "image/png": {
       "height": 420,
       "width": 420
      }
     },
     "output_type": "display_data"
    }
   ],
   "source": [
    "plot( fm1Rail.lme )"
   ]
  },
  {
   "cell_type": "markdown",
   "metadata": {},
   "source": [
    "* we are looking for a systematic increase\n",
    "* the residuals on the right-hand side of the plot will have a greater vertical spread than those on the left, forming a horizontal “wedge-shaped” pattern. \n",
    "* Such a pattern is not evident in Figure 1.4"
   ]
  },
  {
   "cell_type": "markdown",
   "metadata": {},
   "source": [
    "<img src=\"figuras/figure 1.4.png\" width=\"500\">"
   ]
  },
  {
   "cell_type": "markdown",
   "metadata": {},
   "source": [
    "<h3> confidence intervals"
   ]
  },
  {
   "cell_type": "markdown",
   "metadata": {},
   "source": [
    " confidence intervals on the parameters, $β$, $σ$ and $σ_b$, as\n",
    "produced by the intervals function."
   ]
  },
  {
   "cell_type": "code",
   "execution_count": 10,
   "metadata": {
    "vscode": {
     "languageId": "r"
    }
   },
   "outputs": [
    {
     "data": {
      "text/plain": [
       "Approximate 95% confidence intervals\n",
       "\n",
       " Fixed effects:\n",
       "               lower est.    upper\n",
       "(Intercept) 44.33921 66.5 88.66079\n",
       "\n",
       " Random Effects:\n",
       "  Level: Rail \n",
       "                   lower     est.    upper\n",
       "sd((Intercept)) 13.27436 24.80547 46.35335\n",
       "\n",
       " Within-group standard error:\n",
       "   lower     est.    upper \n",
       "2.695012 4.020779 5.998737 "
      ]
     },
     "metadata": {},
     "output_type": "display_data"
    }
   ],
   "source": [
    "intervals( fm1Rail.lme )"
   ]
  },
  {
   "cell_type": "markdown",
   "metadata": {},
   "source": [
    "* We can see that there is considerable imprecision in the estimates of all three of these parameters"
   ]
  },
  {
   "cell_type": "markdown",
   "metadata": {},
   "source": [
    "<h3>significance of terms"
   ]
  },
  {
   "cell_type": "markdown",
   "metadata": {},
   "source": [
    "Another numerical summary, used to assess the significance of terms in\n",
    "the fixed-effects part of the model, is produced by the anova function"
   ]
  },
  {
   "cell_type": "code",
   "execution_count": 11,
   "metadata": {
    "vscode": {
     "languageId": "r"
    }
   },
   "outputs": [
    {
     "data": {
      "text/html": [
       "<table class=\"dataframe\">\n",
       "<caption>A anova.lme: 1 × 4</caption>\n",
       "<thead>\n",
       "\t<tr><th></th><th scope=col>numDF</th><th scope=col>denDF</th><th scope=col>F-value</th><th scope=col>p-value</th></tr>\n",
       "\t<tr><th></th><th scope=col>&lt;int&gt;</th><th scope=col>&lt;dbl&gt;</th><th scope=col>&lt;dbl&gt;</th><th scope=col>&lt;dbl&gt;</th></tr>\n",
       "</thead>\n",
       "<tbody>\n",
       "\t<tr><th scope=row>(Intercept)</th><td>1</td><td>12</td><td>42.7477</td><td>2.776951e-05</td></tr>\n",
       "</tbody>\n",
       "</table>\n"
      ],
      "text/latex": [
       "A anova.lme: 1 × 4\n",
       "\\begin{tabular}{r|llll}\n",
       "  & numDF & denDF & F-value & p-value\\\\\n",
       "  & <int> & <dbl> & <dbl> & <dbl>\\\\\n",
       "\\hline\n",
       "\t(Intercept) & 1 & 12 & 42.7477 & 2.776951e-05\\\\\n",
       "\\end{tabular}\n"
      ],
      "text/markdown": [
       "\n",
       "A anova.lme: 1 × 4\n",
       "\n",
       "| <!--/--> | numDF &lt;int&gt; | denDF &lt;dbl&gt; | F-value &lt;dbl&gt; | p-value &lt;dbl&gt; |\n",
       "|---|---|---|---|---|\n",
       "| (Intercept) | 1 | 12 | 42.7477 | 2.776951e-05 |\n",
       "\n"
      ],
      "text/plain": [
       "            numDF denDF F-value p-value     \n",
       "(Intercept) 1     12    42.7477 2.776951e-05"
      ]
     },
     "metadata": {},
     "output_type": "display_data"
    }
   ],
   "source": [
    "anova( fm1Rail.lme )"
   ]
  },
  {
   "cell_type": "markdown",
   "metadata": {},
   "source": [
    "In this case, the fixed-effects model is so simple that the analysis of variance\n",
    "is trivial. The hypothesis being tested here is $β = 0$. The <b>p-value</b>, which\n",
    "is that probability of observing data as unusual as these or even more so\n",
    "when $β$ actually is $0$, is so small as to rule out this possibility. Regardless\n",
    "of the <b>p-value</b>, the hypothesis $β = 0$ is of no practical interest here because\n",
    "the data have been shifted by subtracting $36,100$ nanoseconds from each\n",
    "measurement."
   ]
  },
  {
   "cell_type": "markdown",
   "metadata": {},
   "source": [
    "<h1>1.3 Mixed-Effects Models for Replicated, Blocked\n",
    "Designs </h1>"
   ]
  },
  {
   "cell_type": "markdown",
   "metadata": {},
   "source": [
    "<h2> MACHINES"
   ]
  },
  {
   "cell_type": "code",
   "execution_count": 2,
   "metadata": {
    "vscode": {
     "languageId": "r"
    }
   },
   "outputs": [
    {
     "data": {
      "text/html": [
       "<table class=\"dataframe\">\n",
       "<caption>A nffGroupedData: 5 × 3</caption>\n",
       "<thead>\n",
       "\t<tr><th></th><th scope=col>Worker</th><th scope=col>Machine</th><th scope=col>score</th></tr>\n",
       "\t<tr><th></th><th scope=col>&lt;ord&gt;</th><th scope=col>&lt;fct&gt;</th><th scope=col>&lt;dbl&gt;</th></tr>\n",
       "</thead>\n",
       "<tbody>\n",
       "\t<tr><th scope=row>1</th><td>1</td><td>A</td><td>52.0</td></tr>\n",
       "\t<tr><th scope=row>2</th><td>1</td><td>A</td><td>52.8</td></tr>\n",
       "\t<tr><th scope=row>3</th><td>1</td><td>A</td><td>53.1</td></tr>\n",
       "\t<tr><th scope=row>4</th><td>2</td><td>A</td><td>51.8</td></tr>\n",
       "\t<tr><th scope=row>5</th><td>2</td><td>A</td><td>52.8</td></tr>\n",
       "</tbody>\n",
       "</table>\n"
      ],
      "text/latex": [
       "A nffGroupedData: 5 × 3\n",
       "\\begin{tabular}{r|lll}\n",
       "  & Worker & Machine & score\\\\\n",
       "  & <ord> & <fct> & <dbl>\\\\\n",
       "\\hline\n",
       "\t1 & 1 & A & 52.0\\\\\n",
       "\t2 & 1 & A & 52.8\\\\\n",
       "\t3 & 1 & A & 53.1\\\\\n",
       "\t4 & 2 & A & 51.8\\\\\n",
       "\t5 & 2 & A & 52.8\\\\\n",
       "\\end{tabular}\n"
      ],
      "text/markdown": [
       "\n",
       "A nffGroupedData: 5 × 3\n",
       "\n",
       "| <!--/--> | Worker &lt;ord&gt; | Machine &lt;fct&gt; | score &lt;dbl&gt; |\n",
       "|---|---|---|---|\n",
       "| 1 | 1 | A | 52.0 |\n",
       "| 2 | 1 | A | 52.8 |\n",
       "| 3 | 1 | A | 53.1 |\n",
       "| 4 | 2 | A | 51.8 |\n",
       "| 5 | 2 | A | 52.8 |\n",
       "\n"
      ],
      "text/plain": [
       "  Worker Machine score\n",
       "1 1      A       52.0 \n",
       "2 1      A       52.8 \n",
       "3 1      A       53.1 \n",
       "4 2      A       51.8 \n",
       "5 2      A       52.8 "
      ]
     },
     "metadata": {},
     "output_type": "display_data"
    }
   ],
   "source": [
    "library(nlme)\n",
    "data(Machines)\n",
    "\n",
    "head(Machines, 5)"
   ]
  },
  {
   "cell_type": "markdown",
   "metadata": {},
   "source": [
    "An interaction plot for the productivity scores for six different\n",
    "workers using three different machine types:"
   ]
  },
  {
   "cell_type": "code",
   "execution_count": 4,
   "metadata": {
    "vscode": {
     "languageId": "r"
    }
   },
   "outputs": [
    {
     "data": {
      "image/png": "[encoded data removed]",
      "text/plain": [
       "plot without title"
      ]
     },
     "metadata": {
      "image/png": {
       "height": 420,
       "width": 420
      }
     },
     "output_type": "display_data"
    }
   ],
   "source": [
    "attach( Machines ) # make variables in Machines available by name\n",
    "interaction.plot( Machine, Worker, score, las = 1) # Figure 1.10\n",
    "detach() # undo the effect of ‘attach( Machines )’"
   ]
  },
  {
   "cell_type": "markdown",
   "metadata": {},
   "source": [
    "If there were no interactions between machines and workers, the lines\n",
    "in the interaction plot would be approximately parallel."
   ]
  },
  {
   "cell_type": "markdown",
   "metadata": {},
   "source": [
    "<h3>1.3.1 Fitting Random Interaction Terms</h3> <br>\n",
    "A model without interactions has the same form as the model for the\n",
    "ergometric experiment.\n",
    "\n",
    "$$ y_{ijk} = β_j + b_i + \\epsilon_{ijk} $$ \n",
    "\n",
    "$i = 1, . . . , 6$, $j = 1, . . . , 3$, $k = 1, . . . , 3$, <br>\n",
    "$b_i ∼ N(0, σb2)$, $\\epsilon_{ijk} ∼ N(0, σ2)$.  <br> <b>(1.7)</b> <br>\n",
    "There is a fixed effect for each type of machine and a random effect for\n",
    "each worker. As before, the fixed effects for the machines will be re-coded\n",
    "as an intercept and a set of contrasts when we fit this model as"
   ]
  },
  {
   "cell_type": "code",
   "execution_count": 5,
   "metadata": {
    "vscode": {
     "languageId": "r"
    }
   },
   "outputs": [
    {
     "data": {
      "text/plain": [
       "Linear mixed-effects model fit by REML\n",
       "  Data: Machines \n",
       "  Log-restricted-likelihood: -143.4391\n",
       "  Fixed: score ~ Machine \n",
       "(Intercept)    MachineB    MachineC \n",
       "  52.355556    7.966667   13.916667 \n",
       "\n",
       "Random effects:\n",
       " Formula: ~1 | Worker\n",
       "        (Intercept) Residual\n",
       "StdDev:    5.146552 3.161647\n",
       "\n",
       "Number of Observations: 54\n",
       "Number of Groups: 6 "
      ]
     },
     "metadata": {},
     "output_type": "display_data"
    }
   ],
   "source": [
    "fm1Machine <- lme( score ~ Machine, data = Machines, random = ~ 1 | Worker )\n",
    "\n",
    "fm1Machine"
   ]
  },
  {
   "cell_type": "markdown",
   "metadata": {},
   "source": [
    "The model incorporating the random interaction terms, <br>\n",
    "$b_{ij}$, $i = 1, . . . , 6$, $j = 1, . . . , 3$, is\n",
    "\n",
    "$$y_{ijk} = β_j + b_i + b_{ij} + \\epsilon_{ijk}$$\n",
    "\n",
    "$i = 1, . . . , 6$, $j = 1, . . . , 3$, $k = 1, . . . , 3$ \n",
    "\n",
    "$b_i ∼ N(0, σ_1^2)$, $b_{ij} ∼ N(0, σ_2^2)$, $\\epsilon_{ijk} ∼ N(0, σ2)$"
   ]
  },
  {
   "cell_type": "markdown",
   "metadata": {},
   "source": [
    "* This model has random effects at two levels: the effects $b_i$ for the worker and the effects $b_{ij}$ for the type of machine within each worker. In a call to lme we can express this nesting as <b>Worker/Machine</b>\n",
    "* This expression is read as <b>“Worker and ‘Machine within Worker’ ”</b> "
   ]
  },
  {
   "cell_type": "code",
   "execution_count": 12,
   "metadata": {
    "vscode": {
     "languageId": "r"
    }
   },
   "outputs": [
    {
     "data": {
      "text/plain": [
       "Linear mixed-effects model fit by REML\n",
       "  Data: Machines \n",
       "  Log-restricted-likelihood: -107.8438\n",
       "  Fixed: score ~ Machine \n",
       "(Intercept)    MachineB    MachineC \n",
       "  52.355556    7.966667   13.916667 \n",
       "\n",
       "Random effects:\n",
       " Formula: ~1 | Worker\n",
       "        (Intercept)\n",
       "StdDev:     4.78105\n",
       "\n",
       " Formula: ~1 | Machine %in% Worker\n",
       "        (Intercept)  Residual\n",
       "StdDev:    3.729532 0.9615771\n",
       "\n",
       "Number of Observations: 54\n",
       "Number of Groups: \n",
       "             Worker Machine %in% Worker \n",
       "                  6                  18 "
      ]
     },
     "metadata": {},
     "output_type": "display_data"
    }
   ],
   "source": [
    "fm2Machine <- update( fm1Machine, random = ~ 1 | Worker/Machine )\n",
    "fm2Machine"
   ]
  },
  {
   "cell_type": "code",
   "execution_count": 13,
   "metadata": {
    "vscode": {
     "languageId": "r"
    }
   },
   "outputs": [
    {
     "data": {
      "text/html": [
       "<table class=\"dataframe\">\n",
       "<caption>A anova.lme: 2 × 9</caption>\n",
       "<thead>\n",
       "\t<tr><th></th><th scope=col>call</th><th scope=col>Model</th><th scope=col>df</th><th scope=col>AIC</th><th scope=col>BIC</th><th scope=col>logLik</th><th scope=col>Test</th><th scope=col>L.Ratio</th><th scope=col>p-value</th></tr>\n",
       "\t<tr><th></th><th scope=col>&lt;chr&gt;</th><th scope=col>&lt;int&gt;</th><th scope=col>&lt;dbl&gt;</th><th scope=col>&lt;dbl&gt;</th><th scope=col>&lt;dbl&gt;</th><th scope=col>&lt;dbl&gt;</th><th scope=col>&lt;fct&gt;</th><th scope=col>&lt;dbl&gt;</th><th scope=col>&lt;dbl&gt;</th></tr>\n",
       "</thead>\n",
       "<tbody>\n",
       "\t<tr><th scope=row>fm1Machine</th><td>lme.formula(fixed = score ~ Machine, data = Machines, random = ~1 |     Worker)        </td><td>1</td><td>5</td><td>296.8782</td><td>306.5373</td><td>-143.4391</td><td>      </td><td>      NA</td><td>         NA</td></tr>\n",
       "\t<tr><th scope=row>fm2Machine</th><td>lme.formula(fixed = score ~ Machine, data = Machines, random = ~1 |     Worker/Machine)</td><td>2</td><td>6</td><td>227.6876</td><td>239.2785</td><td>-107.8438</td><td>1 vs 2</td><td>71.19063</td><td>3.24324e-17</td></tr>\n",
       "</tbody>\n",
       "</table>\n"
      ],
      "text/latex": [
       "A anova.lme: 2 × 9\n",
       "\\begin{tabular}{r|lllllllll}\n",
       "  & call & Model & df & AIC & BIC & logLik & Test & L.Ratio & p-value\\\\\n",
       "  & <chr> & <int> & <dbl> & <dbl> & <dbl> & <dbl> & <fct> & <dbl> & <dbl>\\\\\n",
       "\\hline\n",
       "\tfm1Machine & lme.formula(fixed = score \\textasciitilde{} Machine, data = Machines, random = \\textasciitilde{}1 \\textbar{}     Worker)         & 1 & 5 & 296.8782 & 306.5373 & -143.4391 &        &       NA &          NA\\\\\n",
       "\tfm2Machine & lme.formula(fixed = score \\textasciitilde{} Machine, data = Machines, random = \\textasciitilde{}1 \\textbar{}     Worker/Machine) & 2 & 6 & 227.6876 & 239.2785 & -107.8438 & 1 vs 2 & 71.19063 & 3.24324e-17\\\\\n",
       "\\end{tabular}\n"
      ],
      "text/markdown": [
       "\n",
       "A anova.lme: 2 × 9\n",
       "\n",
       "| <!--/--> | call &lt;chr&gt; | Model &lt;int&gt; | df &lt;dbl&gt; | AIC &lt;dbl&gt; | BIC &lt;dbl&gt; | logLik &lt;dbl&gt; | Test &lt;fct&gt; | L.Ratio &lt;dbl&gt; | p-value &lt;dbl&gt; |\n",
       "|---|---|---|---|---|---|---|---|---|---|\n",
       "| fm1Machine | lme.formula(fixed = score ~ Machine, data = Machines, random = ~1 |     Worker)         | 1 | 5 | 296.8782 | 306.5373 | -143.4391 | <!----> |       NA |          NA |\n",
       "| fm2Machine | lme.formula(fixed = score ~ Machine, data = Machines, random = ~1 |     Worker/Machine) | 2 | 6 | 227.6876 | 239.2785 | -107.8438 | 1 vs 2 | 71.19063 | 3.24324e-17 |\n",
       "\n"
      ],
      "text/plain": [
       "           call                                                                                   \n",
       "fm1Machine lme.formula(fixed = score ~ Machine, data = Machines, random = ~1 |     Worker)        \n",
       "fm2Machine lme.formula(fixed = score ~ Machine, data = Machines, random = ~1 |     Worker/Machine)\n",
       "           Model df AIC      BIC      logLik    Test   L.Ratio  p-value    \n",
       "fm1Machine 1     5  296.8782 306.5373 -143.4391              NA          NA\n",
       "fm2Machine 2     6  227.6876 239.2785 -107.8438 1 vs 2 71.19063 3.24324e-17"
      ]
     },
     "metadata": {},
     "output_type": "display_data"
    }
   ],
   "source": [
    "anova( fm1Machine, fm2Machine )"
   ]
  }
 ],
 "metadata": {
  "kernelspec": {
   "display_name": "R",
   "language": "R",
   "name": "ir"
  },
  "language_info": {
   "codemirror_mode": "r",
   "file_extension": ".r",
   "mimetype": "text/x-r-source",
   "name": "R",
   "pygments_lexer": "r",
   "version": "4.1.2"
  }
 },
 "nbformat": 4,
 "nbformat_minor": 2
}

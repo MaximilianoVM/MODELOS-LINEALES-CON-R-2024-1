{
 "cells": [
  {
   "cell_type": "markdown",
   "metadata": {},
   "source": [
    "<h1>Entonces ¿Qué tan viejo es el universo? </h1>"
   ]
  },
  {
   "cell_type": "code",
   "execution_count": null,
   "metadata": {
    "vscode": {
     "languageId": "r"
    }
   },
   "outputs": [],
   "source": [
    "#install.packages(\"gamair\")"
   ]
  },
  {
   "cell_type": "markdown",
   "metadata": {},
   "source": [
    "* La fórmula <b>y ~ x - 1</b> le indica a R que ajuste un modelo lineal utilizando la variable <b>x</b> como predictor y la variable <b>y</b> como respuesta, pero sin incluir un término de intercepción. Esto significa que el modelo buscará la mejor línea de ajuste que pase a través del <b>origen (0,0)</b> en el espacio de las variables <b>x</b> e <b>y</b>."
   ]
  },
  {
   "cell_type": "code",
   "execution_count": 4,
   "metadata": {
    "vscode": {
     "languageId": "r"
    }
   },
   "outputs": [],
   "source": [
    "library(gamair)\n",
    "data(hubble)\n",
    "hub.mod <- lm(y~x-1, data=hubble)"
   ]
  },
  {
   "cell_type": "code",
   "execution_count": 5,
   "metadata": {
    "vscode": {
     "languageId": "r"
    }
   },
   "outputs": [
    {
     "data": {
      "text/html": [
       "<table class=\"dataframe\">\n",
       "<caption>A data.frame: 24 × 3</caption>\n",
       "<thead>\n",
       "\t<tr><th></th><th scope=col>Galaxy</th><th scope=col>y</th><th scope=col>x</th></tr>\n",
       "\t<tr><th></th><th scope=col>&lt;fct&gt;</th><th scope=col>&lt;int&gt;</th><th scope=col>&lt;dbl&gt;</th></tr>\n",
       "</thead>\n",
       "<tbody>\n",
       "\t<tr><th scope=row>1</th><td>NGC0300 </td><td> 133</td><td> 2.00</td></tr>\n",
       "\t<tr><th scope=row>2</th><td>NGC0925 </td><td> 664</td><td> 9.16</td></tr>\n",
       "\t<tr><th scope=row>3</th><td>NGC1326A</td><td>1794</td><td>16.14</td></tr>\n",
       "\t<tr><th scope=row>4</th><td>NGC1365 </td><td>1594</td><td>17.95</td></tr>\n",
       "\t<tr><th scope=row>5</th><td>NGC1425 </td><td>1473</td><td>21.88</td></tr>\n",
       "\t<tr><th scope=row>6</th><td>NGC2403 </td><td> 278</td><td> 3.22</td></tr>\n",
       "\t<tr><th scope=row>7</th><td>NGC2541 </td><td> 714</td><td>11.22</td></tr>\n",
       "\t<tr><th scope=row>8</th><td>NGC2090 </td><td> 882</td><td>11.75</td></tr>\n",
       "\t<tr><th scope=row>9</th><td>NGC3031 </td><td>  80</td><td> 3.63</td></tr>\n",
       "\t<tr><th scope=row>10</th><td>NGC3198 </td><td> 772</td><td>13.80</td></tr>\n",
       "\t<tr><th scope=row>11</th><td>NGC3351 </td><td> 642</td><td>10.00</td></tr>\n",
       "\t<tr><th scope=row>12</th><td>NGC3368 </td><td> 768</td><td>10.52</td></tr>\n",
       "\t<tr><th scope=row>13</th><td>NGC3621 </td><td> 609</td><td> 6.64</td></tr>\n",
       "\t<tr><th scope=row>14</th><td>NGC4321 </td><td>1433</td><td>15.21</td></tr>\n",
       "\t<tr><th scope=row>15</th><td>NGC4414 </td><td> 619</td><td>17.70</td></tr>\n",
       "\t<tr><th scope=row>16</th><td>NGC4496A</td><td>1424</td><td>14.86</td></tr>\n",
       "\t<tr><th scope=row>17</th><td>NGC4548 </td><td>1384</td><td>16.22</td></tr>\n",
       "\t<tr><th scope=row>18</th><td>NGC4535 </td><td>1444</td><td>15.78</td></tr>\n",
       "\t<tr><th scope=row>19</th><td>NGC4536 </td><td>1423</td><td>14.93</td></tr>\n",
       "\t<tr><th scope=row>20</th><td>NGC4639 </td><td>1403</td><td>21.98</td></tr>\n",
       "\t<tr><th scope=row>21</th><td>NGC4725 </td><td>1103</td><td>12.36</td></tr>\n",
       "\t<tr><th scope=row>22</th><td>IC4182  </td><td> 318</td><td> 4.49</td></tr>\n",
       "\t<tr><th scope=row>23</th><td>NGC5253 </td><td> 232</td><td> 3.15</td></tr>\n",
       "\t<tr><th scope=row>24</th><td>NGC7331 </td><td> 999</td><td>14.72</td></tr>\n",
       "</tbody>\n",
       "</table>\n"
      ],
      "text/latex": [
       "A data.frame: 24 × 3\n",
       "\\begin{tabular}{r|lll}\n",
       "  & Galaxy & y & x\\\\\n",
       "  & <fct> & <int> & <dbl>\\\\\n",
       "\\hline\n",
       "\t1 & NGC0300  &  133 &  2.00\\\\\n",
       "\t2 & NGC0925  &  664 &  9.16\\\\\n",
       "\t3 & NGC1326A & 1794 & 16.14\\\\\n",
       "\t4 & NGC1365  & 1594 & 17.95\\\\\n",
       "\t5 & NGC1425  & 1473 & 21.88\\\\\n",
       "\t6 & NGC2403  &  278 &  3.22\\\\\n",
       "\t7 & NGC2541  &  714 & 11.22\\\\\n",
       "\t8 & NGC2090  &  882 & 11.75\\\\\n",
       "\t9 & NGC3031  &   80 &  3.63\\\\\n",
       "\t10 & NGC3198  &  772 & 13.80\\\\\n",
       "\t11 & NGC3351  &  642 & 10.00\\\\\n",
       "\t12 & NGC3368  &  768 & 10.52\\\\\n",
       "\t13 & NGC3621  &  609 &  6.64\\\\\n",
       "\t14 & NGC4321  & 1433 & 15.21\\\\\n",
       "\t15 & NGC4414  &  619 & 17.70\\\\\n",
       "\t16 & NGC4496A & 1424 & 14.86\\\\\n",
       "\t17 & NGC4548  & 1384 & 16.22\\\\\n",
       "\t18 & NGC4535  & 1444 & 15.78\\\\\n",
       "\t19 & NGC4536  & 1423 & 14.93\\\\\n",
       "\t20 & NGC4639  & 1403 & 21.98\\\\\n",
       "\t21 & NGC4725  & 1103 & 12.36\\\\\n",
       "\t22 & IC4182   &  318 &  4.49\\\\\n",
       "\t23 & NGC5253  &  232 &  3.15\\\\\n",
       "\t24 & NGC7331  &  999 & 14.72\\\\\n",
       "\\end{tabular}\n"
      ],
      "text/markdown": [
       "\n",
       "A data.frame: 24 × 3\n",
       "\n",
       "| <!--/--> | Galaxy &lt;fct&gt; | y &lt;int&gt; | x &lt;dbl&gt; |\n",
       "|---|---|---|---|\n",
       "| 1 | NGC0300  |  133 |  2.00 |\n",
       "| 2 | NGC0925  |  664 |  9.16 |\n",
       "| 3 | NGC1326A | 1794 | 16.14 |\n",
       "| 4 | NGC1365  | 1594 | 17.95 |\n",
       "| 5 | NGC1425  | 1473 | 21.88 |\n",
       "| 6 | NGC2403  |  278 |  3.22 |\n",
       "| 7 | NGC2541  |  714 | 11.22 |\n",
       "| 8 | NGC2090  |  882 | 11.75 |\n",
       "| 9 | NGC3031  |   80 |  3.63 |\n",
       "| 10 | NGC3198  |  772 | 13.80 |\n",
       "| 11 | NGC3351  |  642 | 10.00 |\n",
       "| 12 | NGC3368  |  768 | 10.52 |\n",
       "| 13 | NGC3621  |  609 |  6.64 |\n",
       "| 14 | NGC4321  | 1433 | 15.21 |\n",
       "| 15 | NGC4414  |  619 | 17.70 |\n",
       "| 16 | NGC4496A | 1424 | 14.86 |\n",
       "| 17 | NGC4548  | 1384 | 16.22 |\n",
       "| 18 | NGC4535  | 1444 | 15.78 |\n",
       "| 19 | NGC4536  | 1423 | 14.93 |\n",
       "| 20 | NGC4639  | 1403 | 21.98 |\n",
       "| 21 | NGC4725  | 1103 | 12.36 |\n",
       "| 22 | IC4182   |  318 |  4.49 |\n",
       "| 23 | NGC5253  |  232 |  3.15 |\n",
       "| 24 | NGC7331  |  999 | 14.72 |\n",
       "\n"
      ],
      "text/plain": [
       "   Galaxy   y    x    \n",
       "1  NGC0300   133  2.00\n",
       "2  NGC0925   664  9.16\n",
       "3  NGC1326A 1794 16.14\n",
       "4  NGC1365  1594 17.95\n",
       "5  NGC1425  1473 21.88\n",
       "6  NGC2403   278  3.22\n",
       "7  NGC2541   714 11.22\n",
       "8  NGC2090   882 11.75\n",
       "9  NGC3031    80  3.63\n",
       "10 NGC3198   772 13.80\n",
       "11 NGC3351   642 10.00\n",
       "12 NGC3368   768 10.52\n",
       "13 NGC3621   609  6.64\n",
       "14 NGC4321  1433 15.21\n",
       "15 NGC4414   619 17.70\n",
       "16 NGC4496A 1424 14.86\n",
       "17 NGC4548  1384 16.22\n",
       "18 NGC4535  1444 15.78\n",
       "19 NGC4536  1423 14.93\n",
       "20 NGC4639  1403 21.98\n",
       "21 NGC4725  1103 12.36\n",
       "22 IC4182    318  4.49\n",
       "23 NGC5253   232  3.15\n",
       "24 NGC7331   999 14.72"
      ]
     },
     "metadata": {},
     "output_type": "display_data"
    }
   ],
   "source": [
    "hubble"
   ]
  },
  {
   "cell_type": "markdown",
   "metadata": {},
   "source": [
    "Se utiliza la función <b>summary()</b> para obtener un resumen del modelo lineal ajustado, que incluye coeficientes estimados, estadísticas de ajuste y significancia."
   ]
  },
  {
   "cell_type": "code",
   "execution_count": 6,
   "metadata": {
    "vscode": {
     "languageId": "r"
    }
   },
   "outputs": [
    {
     "data": {
      "text/plain": [
       "\n",
       "Call:\n",
       "lm(formula = y ~ x - 1, data = hubble)\n",
       "\n",
       "Residuals:\n",
       "   Min     1Q Median     3Q    Max \n",
       "-736.5 -132.5  -19.0  172.2  558.0 \n",
       "\n",
       "Coefficients:\n",
       "  Estimate Std. Error t value Pr(>|t|)    \n",
       "x   76.581      3.965   19.32 1.03e-15 ***\n",
       "---\n",
       "Signif. codes:  0 ‘***’ 0.001 ‘**’ 0.01 ‘*’ 0.05 ‘.’ 0.1 ‘ ’ 1\n",
       "\n",
       "Residual standard error: 258.9 on 23 degrees of freedom\n",
       "Multiple R-squared:  0.9419,\tAdjusted R-squared:  0.9394 \n",
       "F-statistic: 373.1 on 1 and 23 DF,  p-value: 1.032e-15\n"
      ]
     },
     "metadata": {},
     "output_type": "display_data"
    }
   ],
   "source": [
    "summary(hub.mod)"
   ]
  },
  {
   "cell_type": "markdown",
   "metadata": {},
   "source": [
    "* Encontramos que <b>β = 76.581</b> y <b>σ = 3.965</b>"
   ]
  },
  {
   "cell_type": "markdown",
   "metadata": {},
   "source": [
    "Es importante revisar que se cumplan las suposiciones del modelo"
   ]
  },
  {
   "cell_type": "markdown",
   "metadata": {},
   "source": [
    "* Examinar los residuales para verificar son independientes y tienen las misma varianza\n",
    "* Graficamos: $$\\hat{ϵ_i} = y_i − \\hat{μ_i} \\hspace{0.3cm} vs. \\hspace{0.3cm} \\hat{μ_i} = \\hat{β}x_i$$"
   ]
  },
  {
   "cell_type": "markdown",
   "metadata": {},
   "source": [
    "Se utiliza la función \n",
    "* <b>plot()</b> para graficar los valores ajustados contra los residuos del modelo lineal. \n",
    "* <b>fitted(hub.mod)</b> devuelve los valores ajustados por el modelo\n",
    "* <b>residuals(hub.mod)</b> devuelve los residuos del modelo."
   ]
  },
  {
   "cell_type": "code",
   "execution_count": 7,
   "metadata": {
    "vscode": {
     "languageId": "r"
    }
   },
   "outputs": [
    {
     "data": {
      "image/png": "[encoded data removed]",
      "text/plain": [
       "plot without title"
      ]
     },
     "metadata": {
      "image/png": {
       "height": 420,
       "width": 420
      }
     },
     "output_type": "display_data"
    }
   ],
   "source": [
    "plot(fitted(hub.mod), residuals(hub.mod), xlab=\"valores ajustados\", ylab=\"residuals\")"
   ]
  },
  {
   "cell_type": "markdown",
   "metadata": {},
   "source": [
    "* Observamos dos puntos con una magnitud de residuales muy grande\n",
    "* Es conveniente repetir el ajuste sin estos datos atípicos"
   ]
  },
  {
   "cell_type": "code",
   "execution_count": 8,
   "metadata": {
    "vscode": {
     "languageId": "r"
    }
   },
   "outputs": [
    {
     "name": "stdout",
     "output_type": "stream",
     "text": [
      "          1           2           3           4           5           6 \n",
      " -20.162344  -37.483536  557.979883  219.367962 -202.596044   31.408626 \n",
      "          7           8           9          10          11          12 \n",
      "-145.240750  -17.828771 -197.989654 -284.820174 -123.811720  -37.633930 \n",
      "         13          14          15          16          17          18 \n",
      " 100.501018  268.200373 -736.486745  286.003784  141.853390  235.549105 \n",
      "         19          20          21          22          23          24 \n",
      " 279.643102 -280.254161  156.456714  -25.849462   -9.230692 -128.274852 \n"
     ]
    }
   ],
   "source": [
    "print(residuals(hub.mod))"
   ]
  },
  {
   "cell_type": "code",
   "execution_count": 9,
   "metadata": {
    "vscode": {
     "languageId": "r"
    }
   },
   "outputs": [
    {
     "data": {
      "text/plain": [
       "\n",
       "Call:\n",
       "lm(formula = y ~ x - 1, data = hubble[-c(3, 15), ])\n",
       "\n",
       "Residuals:\n",
       "   Min     1Q Median     3Q    Max \n",
       "-304.3 -141.9  -26.5  138.3  269.8 \n",
       "\n",
       "Coefficients:\n",
       "  Estimate Std. Error t value Pr(>|t|)    \n",
       "x    77.67       2.97   26.15   <2e-16 ***\n",
       "---\n",
       "Signif. codes:  0 ‘***’ 0.001 ‘**’ 0.01 ‘*’ 0.05 ‘.’ 0.1 ‘ ’ 1\n",
       "\n",
       "Residual standard error: 180.5 on 21 degrees of freedom\n",
       "Multiple R-squared:  0.9702,\tAdjusted R-squared:  0.9688 \n",
       "F-statistic: 683.8 on 1 and 21 DF,  p-value: < 2.2e-16\n"
      ]
     },
     "metadata": {},
     "output_type": "display_data"
    }
   ],
   "source": [
    "hub.mod1 <- lm(y~x-1, data=hubble[-c(3,15),])\n",
    "\n",
    "summary(hub.mod1)"
   ]
  },
  {
   "cell_type": "markdown",
   "metadata": {},
   "source": [
    "* ¡El valor R^2 ajustado incremento!"
   ]
  },
  {
   "cell_type": "code",
   "execution_count": 10,
   "metadata": {
    "vscode": {
     "languageId": "r"
    }
   },
   "outputs": [
    {
     "data": {
      "image/png": "[encoded data removed]",
      "text/plain": [
       "plot without title"
      ]
     },
     "metadata": {
      "image/png": {
       "height": 420,
       "width": 420
      }
     },
     "output_type": "display_data"
    }
   ],
   "source": [
    "plot(fitted(hub.mod1), residuals(hub.mod1), xlab=\"valores ajustados\", ylab=\"residuals\")"
   ]
  },
  {
   "cell_type": "markdown",
   "metadata": {},
   "source": [
    "* La estimación de la constante de Hubble tiene unidades (km)s−1 (Mpc)−1\n",
    "* Un Mega-Parsec es igual a 3.09 × 1019km\n",
    "* Necesitamos dividir β por esta cantidad para tener un estimado de la edad del universo en años."
   ]
  },
  {
   "cell_type": "code",
   "execution_count": 11,
   "metadata": {
    "vscode": {
     "languageId": "r"
    }
   },
   "outputs": [
    {
     "name": "stdout",
     "output_type": "stream",
     "text": [
      "          x           x \n",
      "12794692825 12614854757 \n"
     ]
    }
   ],
   "source": [
    "hubble.const <- c(coef(hub.mod),coef(hub.mod1))/3.09e19\n",
    "age_seconds <- 1/hubble.const\n",
    "age_years <- age_seconds/(60^2*24*365)\n",
    "print(age_years)"
   ]
  },
  {
   "cell_type": "markdown",
   "metadata": {},
   "source": [
    "* La edad del universo es cercana a 13 mil millones de años"
   ]
  },
  {
   "cell_type": "markdown",
   "metadata": {},
   "source": [
    "<h3>Añadiendo suposiciones distribucionales</h3>"
   ]
  },
  {
   "cell_type": "markdown",
   "metadata": {},
   "source": [
    "La estimación encontrada está basada solamente en dos suposiciones:\n",
    "* (i) independencia\n",
    "* (ii) varianza constante"
   ]
  },
  {
   "cell_type": "markdown",
   "metadata": {},
   "source": [
    "Si queremos encontrar intervalos de confianza para β, o probar una hipótesis sobre el modelo, será necesario incluir suposiciones distribucionales\n",
    "\n",
    "* Asuma que ϵi ∼ N(0, σ2) para toda i\n",
    "* Esto es equivalente a asumir que Yi ∼ N(xiβ, σ2)\n",
    "* Hemos visto que β^ es una suma pesada de Yi\n",
    "* Una suma pesada de variables aleatorias gaussianas es a su vez una variable aleatoria gaussiana\n",
    "* Por lo que: β^ ∼ N(β, (∑ x2 i )−1σ2)"
   ]
  },
  {
   "cell_type": "markdown",
   "metadata": {},
   "source": [
    "<h3>Probando hipótesis acerca de β</h3>"
   ]
  },
  {
   "cell_type": "markdown",
   "metadata": {},
   "source": [
    "* Algunos científicos creacionistas estiman que la edad del universo es alrededor de 6000 años\n",
    "* Esto implicaría una β = 163 × 106\n",
    "* Podemos probar la hipótesis:<br>\n",
    "H0 : β = β0 <br>\n",
    "H1 : β ≠ β0 <br>\n",
    "Para algún valor de β0\n",
    "* Si conocieramos σ2 podriamos aplicar directamente la expresión: <br>\n",
    "β^ ∼ N(β, (∑ x2 i )−1σ2)\n",
    "* La idea es encontrar la probabilidad de encontrar β^ si el valor verdadero fuera β0\n",
    "\n",
    "\n",
    "\n",
    "\n",
    "\n"
   ]
  },
  {
   "cell_type": "markdown",
   "metadata": {},
   "source": [
    "La probabilidad que necesitamos se conoce como p-value: la probabilidad de obtener al\n",
    "menos tan favorable a , como la observada, si es realmente verdadera.\n",
    "En esta definición es importante distinguir entre la estimación , y el estimador\n",
    "De esta manera, el p-value esta dado por:\n",
    "donde , y\n",
    "Una vez construido , el p-valor se puede obtener a través de la función de distribución\n",
    "acumulada de la normal estándar, la cual está implementada en la mayoria de las\n",
    "paqueterias de estadística\n",
    "Un p-valor muy pequeño implicaría que los datos son inconsistentes con\n",
    "En la práctica no es conocido, pero se puede usar mismo procedimiento simplemente\n",
    "remplazando por\n",
    "De esta manera, si , entonces\n",
    "donde es el tamaño de muestra, , y es la ditribución con\n",
    "g.l.\n",
    "Por lo que podemos evaluar el p-valor a través de la expresión\n",
    "Evaluemos La constante de Hubble es 163,000,000.\n",
    "^ β\n",
    "H1 H0\n",
    "β^obs β^\n",
    "p = Pr[|β^ − β0| ≥ |β^obs − β0| ∣ H0]\n",
    "= Pr[ |β^−σβ^β0| ≥ |β^obσs−β^ β0| ∣ H0]\n",
    "= Pr[|Z| ≥ |z|]\n",
    "Z ∼ N(0, 1), z =\n",
    "β^obs−β0\n",
    "σ^\n",
    "β\n",
    "σβ^ = (∑ x2 i )−1σ2\n",
    "z\n",
    "H0\n",
    "σ2\n",
    "σ σ^\n",
    "H0 : β = β0\n",
    "T = ∼ t\n",
    "n−1\n",
    "β^−β\n",
    "σ^^\n",
    "β n\n",
    "σ^β^ = (∑ x2 i )−1σ^2 tn−1 t\n",
    "n − 1\n",
    "p = Pr[|T| ≥ |t|]\n",
    "H0 :"
   ]
  },
  {
   "cell_type": "code",
   "execution_count": 12,
   "metadata": {
    "vscode": {
     "languageId": "r"
    }
   },
   "outputs": [
    {
     "data": {
      "text/html": [
       "<strong>x:</strong> 1.95319381983258e-150"
      ],
      "text/latex": [
       "\\textbf{x:} 1.95319381983258e-150"
      ],
      "text/markdown": [
       "**x:** 1.95319381983258e-150"
      ],
      "text/plain": [
       "            x \n",
       "1.953194e-150 "
      ]
     },
     "metadata": {},
     "output_type": "display_data"
    }
   ],
   "source": [
    "cs.hubble <- 163000000\n",
    "sigma1 = summary(hub.mod1)$coefficients[2]\n",
    "\n",
    "t.stat1 <- (coef(hub.mod1)-cs.hubble)/sigma1\n",
    "pt(t.stat1,df=21)"
   ]
  },
  {
   "cell_type": "markdown",
   "metadata": {},
   "source": [
    "¿Y si añadimos los datos atípicos?"
   ]
  },
  {
   "cell_type": "code",
   "execution_count": 13,
   "metadata": {
    "vscode": {
     "languageId": "r"
    }
   },
   "outputs": [
    {
     "data": {
      "text/html": [
       "<strong>x:</strong> 8.40683493942144e-148"
      ],
      "text/latex": [
       "\\textbf{x:} 8.40683493942144e-148"
      ],
      "text/markdown": [
       "**x:** 8.40683493942144e-148"
      ],
      "text/plain": [
       "            x \n",
       "8.406835e-148 "
      ]
     },
     "metadata": {},
     "output_type": "display_data"
    }
   ],
   "source": [
    "sigma = summary(hub.mod)$coefficients[2]\n",
    "t.stat <- (coef(hub.mod)-cs.hubble)/sigma\n",
    "pt(t.stat,df=21)"
   ]
  },
  {
   "cell_type": "markdown",
   "metadata": {},
   "source": [
    "<h3>Intervalos de confianza</h3>"
   ]
  },
  {
   "cell_type": "markdown",
   "metadata": {},
   "source": [
    "* ¿Entonces que rango de valores de β son consistentes con los datos?\n",
    "\n",
    "* Una elección común de consistencia consiste en decir que cualquier valor del parámetro es consistente con los datos si p − value ≥ 0.05 cuando se utiliza como el valor nulo en la prueba de hipótesis.\n",
    "\n",
    "* La función qt de R nos puede ayudar a encontrar este rango de valores permitidos\n",
    "\n",
    "\n",
    " "
   ]
  },
  {
   "cell_type": "code",
   "execution_count": 14,
   "metadata": {
    "vscode": {
     "languageId": "r"
    }
   },
   "outputs": [
    {
     "data": {
      "text/html": [
       "<style>\n",
       ".list-inline {list-style: none; margin:0; padding: 0}\n",
       ".list-inline>li {display: inline-block}\n",
       ".list-inline>li:not(:last-child)::after {content: \"\\00b7\"; padding: 0 .5ex}\n",
       "</style>\n",
       "<ol class=list-inline><li>-2.07961384472768</li><li>2.07961384472768</li></ol>\n"
      ],
      "text/latex": [
       "\\begin{enumerate*}\n",
       "\\item -2.07961384472768\n",
       "\\item 2.07961384472768\n",
       "\\end{enumerate*}\n"
      ],
      "text/markdown": [
       "1. -2.07961384472768\n",
       "2. 2.07961384472768\n",
       "\n",
       "\n"
      ],
      "text/plain": [
       "[1] -2.079614  2.079614"
      ]
     },
     "metadata": {},
     "output_type": "display_data"
    }
   ],
   "source": [
    "qt(c(0.025,0.975),df=21)"
   ]
  },
  {
   "cell_type": "markdown",
   "metadata": {},
   "source": [
    "* Por lo que aceptamos cualquier que cumpla β0 <br>\n",
    "−2.08 ≤ β^−β0 / σ^β^ ≤ 2.08 <br>\n",
    "\n",
    "* reescribiendo, encontramos el intervalo de confianza del 95\\% de β0:<br>\n",
    "β^ − 2.08σ^β^ ≤ β0 ≤ β^ + 2.08σ^β^ <br>\n",
    "\n",
    "* En nuestro ejemplo este 95% CI para la constante de Hubble esta dada por:\n",
    "\n",
    "\n",
    "\n",
    "\n"
   ]
  },
  {
   "cell_type": "code",
   "execution_count": 15,
   "metadata": {
    "vscode": {
     "languageId": "r"
    }
   },
   "outputs": [
    {
     "data": {
      "text/html": [
       "<style>\n",
       ".list-inline {list-style: none; margin:0; padding: 0}\n",
       ".list-inline>li {display: inline-block}\n",
       ".list-inline>li:not(:last-child)::after {content: \"\\00b7\"; padding: 0 .5ex}\n",
       "</style>\n",
       "<ol class=list-inline><li>71.4958815838426</li><li>83.8499533373223</li></ol>\n"
      ],
      "text/latex": [
       "\\begin{enumerate*}\n",
       "\\item 71.4958815838426\n",
       "\\item 83.8499533373223\n",
       "\\end{enumerate*}\n"
      ],
      "text/markdown": [
       "1. 71.4958815838426\n",
       "2. 83.8499533373223\n",
       "\n",
       "\n"
      ],
      "text/plain": [
       "[1] 71.49588 83.84995"
      ]
     },
     "metadata": {},
     "output_type": "display_data"
    }
   ],
   "source": [
    "h.ci <- coef(hub.mod1) + qt(c(0.025,0.975),df=21)*sigma1\n",
    "h.ci"
   ]
  },
  {
   "cell_type": "markdown",
   "metadata": {},
   "source": [
    "* En años terrestres:"
   ]
  },
  {
   "cell_type": "code",
   "execution_count": 16,
   "metadata": {
    "vscode": {
     "languageId": "r"
    }
   },
   "outputs": [
    {
     "data": {
      "text/html": [
       "<style>\n",
       ".list-inline {list-style: none; margin:0; padding: 0}\n",
       ".list-inline>li {display: inline-block}\n",
       ".list-inline>li:not(:last-child)::after {content: \"\\00b7\"; padding: 0 .5ex}\n",
       "</style>\n",
       "<ol class=list-inline><li>11677548698.3803</li><li>13695361072.0254</li></ol>\n"
      ],
      "text/latex": [
       "\\begin{enumerate*}\n",
       "\\item 11677548698.3803\n",
       "\\item 13695361072.0254\n",
       "\\end{enumerate*}\n"
      ],
      "text/markdown": [
       "1. 11677548698.3803\n",
       "2. 13695361072.0254\n",
       "\n",
       "\n"
      ],
      "text/plain": [
       "[1] 11677548698 13695361072"
      ]
     },
     "metadata": {},
     "output_type": "display_data"
    }
   ],
   "source": [
    "h.ci <- h.ci*60^2*24*365.25/(3.09e19)\n",
    "sort(1/h.ci)"
   ]
  },
  {
   "cell_type": "code",
   "execution_count": null,
   "metadata": {
    "vscode": {
     "languageId": "r"
    }
   },
   "outputs": [],
   "source": []
  },
  {
   "cell_type": "code",
   "execution_count": null,
   "metadata": {
    "vscode": {
     "languageId": "r"
    }
   },
   "outputs": [],
   "source": []
  },
  {
   "cell_type": "code",
   "execution_count": null,
   "metadata": {
    "vscode": {
     "languageId": "r"
    }
   },
   "outputs": [],
   "source": []
  }
 ],
 "metadata": {
  "kernelspec": {
   "display_name": "R",
   "language": "R",
   "name": "ir"
  },
  "language_info": {
   "codemirror_mode": "r",
   "file_extension": ".r",
   "mimetype": "text/x-r-source",
   "name": "R",
   "pygments_lexer": "r",
   "version": "4.1.2"
  }
 },
 "nbformat": 4,
 "nbformat_minor": 2
}

{
 "cells": [
  {
   "cell_type": "markdown",
   "metadata": {},
   "source": [
    "<h1>Práctica 2</h1>\n",
    "\n",
    "<i>\n",
    "Maximiliano Vaca Montejano <br>\n",
    "364897 <br>\n",
    "maximiliano.vaca@uabc.edu.mx\n",
    "</i>"
   ]
  },
  {
   "cell_type": "markdown",
   "metadata": {},
   "source": [
    "<i>Profesor: Andrés García Medina <br>\n",
    "andres.garcia.medina@uabc.edu.mx <br>\n",
    "Fecha de entrega: jueves 29 de febrero, 2024 (12pm) </i>"
   ]
  },
  {
   "cell_type": "markdown",
   "metadata": {},
   "source": [
    "<h2>Ejercicio 1 </h2>\n",
    "Considere nuevamente el modelo del ejercicio 2 de la practica 1 dado por: \n",
    "\n",
    "$$ dist_i = \\beta_0 + \\beta_1 speed_i + \\beta_2 speed_i^2 + \\epsilon$$"
   ]
  },
  {
   "cell_type": "code",
   "execution_count": 12,
   "metadata": {
    "vscode": {
     "languageId": "r"
    }
   },
   "outputs": [
    {
     "data": {
      "text/html": [
       "<table class=\"dataframe\">\n",
       "<caption>A data.frame: 6 × 2</caption>\n",
       "<thead>\n",
       "\t<tr><th></th><th scope=col>speed</th><th scope=col>dist</th></tr>\n",
       "\t<tr><th></th><th scope=col>&lt;dbl&gt;</th><th scope=col>&lt;dbl&gt;</th></tr>\n",
       "</thead>\n",
       "<tbody>\n",
       "\t<tr><th scope=row>1</th><td>4</td><td> 2</td></tr>\n",
       "\t<tr><th scope=row>2</th><td>4</td><td>10</td></tr>\n",
       "\t<tr><th scope=row>3</th><td>7</td><td> 4</td></tr>\n",
       "\t<tr><th scope=row>4</th><td>7</td><td>22</td></tr>\n",
       "\t<tr><th scope=row>5</th><td>8</td><td>16</td></tr>\n",
       "\t<tr><th scope=row>6</th><td>9</td><td>10</td></tr>\n",
       "</tbody>\n",
       "</table>\n"
      ],
      "text/latex": [
       "A data.frame: 6 × 2\n",
       "\\begin{tabular}{r|ll}\n",
       "  & speed & dist\\\\\n",
       "  & <dbl> & <dbl>\\\\\n",
       "\\hline\n",
       "\t1 & 4 &  2\\\\\n",
       "\t2 & 4 & 10\\\\\n",
       "\t3 & 7 &  4\\\\\n",
       "\t4 & 7 & 22\\\\\n",
       "\t5 & 8 & 16\\\\\n",
       "\t6 & 9 & 10\\\\\n",
       "\\end{tabular}\n"
      ],
      "text/markdown": [
       "\n",
       "A data.frame: 6 × 2\n",
       "\n",
       "| <!--/--> | speed &lt;dbl&gt; | dist &lt;dbl&gt; |\n",
       "|---|---|---|\n",
       "| 1 | 4 |  2 |\n",
       "| 2 | 4 | 10 |\n",
       "| 3 | 7 |  4 |\n",
       "| 4 | 7 | 22 |\n",
       "| 5 | 8 | 16 |\n",
       "| 6 | 9 | 10 |\n",
       "\n"
      ],
      "text/plain": [
       "  speed dist\n",
       "1 4      2  \n",
       "2 4     10  \n",
       "3 7      4  \n",
       "4 7     22  \n",
       "5 8     16  \n",
       "6 9     10  "
      ]
     },
     "metadata": {},
     "output_type": "display_data"
    }
   ],
   "source": [
    "data(cars)\n",
    "head(cars)"
   ]
  },
  {
   "cell_type": "markdown",
   "metadata": {},
   "source": [
    "<b>(a) Usar el metodo pairs para graficar los datos e interpretar. </b>"
   ]
  },
  {
   "cell_type": "code",
   "execution_count": 13,
   "metadata": {
    "vscode": {
     "languageId": "r"
    }
   },
   "outputs": [
    {
     "data": {
      "image/png": "[encoded data removed]",
      "text/plain": [
       "plot without title"
      ]
     },
     "metadata": {
      "image/png": {
       "height": 420,
       "width": 420
      }
     },
     "output_type": "display_data"
    }
   ],
   "source": [
    "pairs(cars)"
   ]
  },
  {
   "cell_type": "markdown",
   "metadata": {},
   "source": [
    "<b>(b) Graficar la matriz de covarianza de la matriz de diseño asociada X como un mapa de calor con la función heatmap.\n"
   ]
  },
  {
   "cell_type": "code",
   "execution_count": null,
   "metadata": {
    "vscode": {
     "languageId": "r"
    }
   },
   "outputs": [],
   "source": [
    "#dividimos los datos: \n",
    "#x <- cars$speed\n",
    "#y <- cars$dist"
   ]
  },
  {
   "cell_type": "code",
   "execution_count": 41,
   "metadata": {
    "vscode": {
     "languageId": "r"
    }
   },
   "outputs": [
    {
     "data": {
      "text/html": [
       "<style>\n",
       ".list-inline {list-style: none; margin:0; padding: 0}\n",
       ".list-inline>li {display: inline-block}\n",
       ".list-inline>li:not(:last-child)::after {content: \"\\00b7\"; padding: 0 .5ex}\n",
       "</style>\n",
       "<ol class=list-inline><li>50</li><li>3</li></ol>\n"
      ],
      "text/latex": [
       "\\begin{enumerate*}\n",
       "\\item 50\n",
       "\\item 3\n",
       "\\end{enumerate*}\n"
      ],
      "text/markdown": [
       "1. 50\n",
       "2. 3\n",
       "\n",
       "\n"
      ],
      "text/plain": [
       "[1] 50  3"
      ]
     },
     "metadata": {},
     "output_type": "display_data"
    },
    {
     "data": {
      "text/html": [
       "<table class=\"dataframe\">\n",
       "<caption>A matrix: 6 × 3 of type dbl</caption>\n",
       "<thead>\n",
       "\t<tr><th></th><th scope=col>(Intercept)</th><th scope=col>speed</th><th scope=col>I(speed^2)</th></tr>\n",
       "</thead>\n",
       "<tbody>\n",
       "\t<tr><th scope=row>1</th><td>1</td><td>4</td><td>16</td></tr>\n",
       "\t<tr><th scope=row>2</th><td>1</td><td>4</td><td>16</td></tr>\n",
       "\t<tr><th scope=row>3</th><td>1</td><td>7</td><td>49</td></tr>\n",
       "\t<tr><th scope=row>4</th><td>1</td><td>7</td><td>49</td></tr>\n",
       "\t<tr><th scope=row>5</th><td>1</td><td>8</td><td>64</td></tr>\n",
       "\t<tr><th scope=row>6</th><td>1</td><td>9</td><td>81</td></tr>\n",
       "</tbody>\n",
       "</table>\n"
      ],
      "text/latex": [
       "A matrix: 6 × 3 of type dbl\n",
       "\\begin{tabular}{r|lll}\n",
       "  & (Intercept) & speed & I(speed\\textasciicircum{}2)\\\\\n",
       "\\hline\n",
       "\t1 & 1 & 4 & 16\\\\\n",
       "\t2 & 1 & 4 & 16\\\\\n",
       "\t3 & 1 & 7 & 49\\\\\n",
       "\t4 & 1 & 7 & 49\\\\\n",
       "\t5 & 1 & 8 & 64\\\\\n",
       "\t6 & 1 & 9 & 81\\\\\n",
       "\\end{tabular}\n"
      ],
      "text/markdown": [
       "\n",
       "A matrix: 6 × 3 of type dbl\n",
       "\n",
       "| <!--/--> | (Intercept) | speed | I(speed^2) |\n",
       "|---|---|---|---|\n",
       "| 1 | 1 | 4 | 16 |\n",
       "| 2 | 1 | 4 | 16 |\n",
       "| 3 | 1 | 7 | 49 |\n",
       "| 4 | 1 | 7 | 49 |\n",
       "| 5 | 1 | 8 | 64 |\n",
       "| 6 | 1 | 9 | 81 |\n",
       "\n"
      ],
      "text/plain": [
       "  (Intercept) speed I(speed^2)\n",
       "1 1           4     16        \n",
       "2 1           4     16        \n",
       "3 1           7     49        \n",
       "4 1           7     49        \n",
       "5 1           8     64        \n",
       "6 1           9     81        "
      ]
     },
     "metadata": {},
     "output_type": "display_data"
    },
    {
     "data": {
      "text/html": [
       "<table class=\"dataframe\">\n",
       "<caption>A matrix: 6 × 3 of type dbl</caption>\n",
       "<thead>\n",
       "\t<tr><th></th><th scope=col>(Intercept)</th><th scope=col>speed</th><th scope=col>I(speed^2)</th></tr>\n",
       "</thead>\n",
       "<tbody>\n",
       "\t<tr><th scope=row>45</th><td>1</td><td>23</td><td>529</td></tr>\n",
       "\t<tr><th scope=row>46</th><td>1</td><td>24</td><td>576</td></tr>\n",
       "\t<tr><th scope=row>47</th><td>1</td><td>24</td><td>576</td></tr>\n",
       "\t<tr><th scope=row>48</th><td>1</td><td>24</td><td>576</td></tr>\n",
       "\t<tr><th scope=row>49</th><td>1</td><td>24</td><td>576</td></tr>\n",
       "\t<tr><th scope=row>50</th><td>1</td><td>25</td><td>625</td></tr>\n",
       "</tbody>\n",
       "</table>\n"
      ],
      "text/latex": [
       "A matrix: 6 × 3 of type dbl\n",
       "\\begin{tabular}{r|lll}\n",
       "  & (Intercept) & speed & I(speed\\textasciicircum{}2)\\\\\n",
       "\\hline\n",
       "\t45 & 1 & 23 & 529\\\\\n",
       "\t46 & 1 & 24 & 576\\\\\n",
       "\t47 & 1 & 24 & 576\\\\\n",
       "\t48 & 1 & 24 & 576\\\\\n",
       "\t49 & 1 & 24 & 576\\\\\n",
       "\t50 & 1 & 25 & 625\\\\\n",
       "\\end{tabular}\n"
      ],
      "text/markdown": [
       "\n",
       "A matrix: 6 × 3 of type dbl\n",
       "\n",
       "| <!--/--> | (Intercept) | speed | I(speed^2) |\n",
       "|---|---|---|---|\n",
       "| 45 | 1 | 23 | 529 |\n",
       "| 46 | 1 | 24 | 576 |\n",
       "| 47 | 1 | 24 | 576 |\n",
       "| 48 | 1 | 24 | 576 |\n",
       "| 49 | 1 | 24 | 576 |\n",
       "| 50 | 1 | 25 | 625 |\n",
       "\n"
      ],
      "text/plain": [
       "   (Intercept) speed I(speed^2)\n",
       "45 1           23    529       \n",
       "46 1           24    576       \n",
       "47 1           24    576       \n",
       "48 1           24    576       \n",
       "49 1           24    576       \n",
       "50 1           25    625       "
      ]
     },
     "metadata": {},
     "output_type": "display_data"
    }
   ],
   "source": [
    "X <- model.matrix(dist ~ speed + I(speed^2), data=cars)\n",
    "y <- cars$dist\n",
    "dim(X)\n",
    "head(X)\n",
    "tail(X)"
   ]
  },
  {
   "cell_type": "code",
   "execution_count": 42,
   "metadata": {
    "vscode": {
     "languageId": "r"
    }
   },
   "outputs": [
    {
     "data": {
      "text/html": [
       "<table class=\"dataframe\">\n",
       "<caption>A matrix: 3 × 3 of type dbl</caption>\n",
       "<thead>\n",
       "\t<tr><th></th><th scope=col>(Intercept)</th><th scope=col>speed</th><th scope=col>I(speed^2)</th></tr>\n",
       "</thead>\n",
       "<tbody>\n",
       "\t<tr><th scope=row>(Intercept)</th><td>0</td><td>  0.00000</td><td>    0.0000</td></tr>\n",
       "\t<tr><th scope=row>speed</th><td>0</td><td> 27.95918</td><td>  844.4653</td></tr>\n",
       "\t<tr><th scope=row>I(speed^2)</th><td>0</td><td>844.46531</td><td>26585.8841</td></tr>\n",
       "</tbody>\n",
       "</table>\n"
      ],
      "text/latex": [
       "A matrix: 3 × 3 of type dbl\n",
       "\\begin{tabular}{r|lll}\n",
       "  & (Intercept) & speed & I(speed\\textasciicircum{}2)\\\\\n",
       "\\hline\n",
       "\t(Intercept) & 0 &   0.00000 &     0.0000\\\\\n",
       "\tspeed & 0 &  27.95918 &   844.4653\\\\\n",
       "\tI(speed\\textasciicircum{}2) & 0 & 844.46531 & 26585.8841\\\\\n",
       "\\end{tabular}\n"
      ],
      "text/markdown": [
       "\n",
       "A matrix: 3 × 3 of type dbl\n",
       "\n",
       "| <!--/--> | (Intercept) | speed | I(speed^2) |\n",
       "|---|---|---|---|\n",
       "| (Intercept) | 0 |   0.00000 |     0.0000 |\n",
       "| speed | 0 |  27.95918 |   844.4653 |\n",
       "| I(speed^2) | 0 | 844.46531 | 26585.8841 |\n",
       "\n"
      ],
      "text/plain": [
       "            (Intercept) speed     I(speed^2)\n",
       "(Intercept) 0             0.00000     0.0000\n",
       "speed       0            27.95918   844.4653\n",
       "I(speed^2)  0           844.46531 26585.8841"
      ]
     },
     "metadata": {},
     "output_type": "display_data"
    }
   ],
   "source": [
    "cov_X <- cov(X)\n",
    "cov_X"
   ]
  },
  {
   "cell_type": "code",
   "execution_count": 36,
   "metadata": {
    "vscode": {
     "languageId": "r"
    }
   },
   "outputs": [
    {
     "data": {
      "image/png": "[encoded data removed]",
      "text/plain": [
       "plot without title"
      ]
     },
     "metadata": {
      "image/png": {
       "height": 420,
       "width": 420
      }
     },
     "output_type": "display_data"
    }
   ],
   "source": [
    "heatmap(cov_X)"
   ]
  },
  {
   "cell_type": "markdown",
   "metadata": {},
   "source": [
    "<b>(c) Estimar el vector β del modelo via la factorización QR y comparar con resultado de la función lm. Se puede apoyar de la función qr.\n"
   ]
  },
  {
   "cell_type": "code",
   "execution_count": 43,
   "metadata": {
    "vscode": {
     "languageId": "r"
    }
   },
   "outputs": [
    {
     "data": {
      "text/html": [
       "<style>\n",
       ".dl-inline {width: auto; margin:0; padding: 0}\n",
       ".dl-inline>dt, .dl-inline>dd {float: none; width: auto; display: inline-block}\n",
       ".dl-inline>dt::after {content: \":\\0020\"; padding-right: .5ex}\n",
       ".dl-inline>dt:not(:first-of-type) {padding-left: .5ex}\n",
       "</style><dl class=dl-inline><dt>(Intercept)</dt><dd>2.4701377850663</dd><dt>speed</dt><dd>0.913287614242585</dd><dt>I(speed^2)</dt><dd>0.0999593020698439</dd></dl>\n"
      ],
      "text/latex": [
       "\\begin{description*}\n",
       "\\item[(Intercept)] 2.4701377850663\n",
       "\\item[speed] 0.913287614242585\n",
       "\\item[I(speed\\textbackslash{}textasciicircum\\{\\}2)] 0.0999593020698439\n",
       "\\end{description*}\n"
      ],
      "text/markdown": [
       "(Intercept)\n",
       ":   2.4701377850663speed\n",
       ":   0.913287614242585I(speed^2)\n",
       ":   0.0999593020698439\n",
       "\n"
      ],
      "text/plain": [
       "(Intercept)       speed  I(speed^2) \n",
       "  2.4701378   0.9132876   0.0999593 "
      ]
     },
     "metadata": {},
     "output_type": "display_data"
    }
   ],
   "source": [
    "beta_qr <- qr.solve(X, y)\n",
    "beta_qr"
   ]
  },
  {
   "cell_type": "code",
   "execution_count": 51,
   "metadata": {
    "vscode": {
     "languageId": "r"
    }
   },
   "outputs": [
    {
     "data": {
      "text/html": [
       "<style>\n",
       ".dl-inline {width: auto; margin:0; padding: 0}\n",
       ".dl-inline>dt, .dl-inline>dd {float: none; width: auto; display: inline-block}\n",
       ".dl-inline>dt::after {content: \":\\0020\"; padding-right: .5ex}\n",
       ".dl-inline>dt:not(:first-of-type) {padding-left: .5ex}\n",
       "</style><dl class=dl-inline><dt>(Intercept)</dt><dd>2.4701377850663</dd><dt>speed</dt><dd>0.913287614242585</dd><dt>I(speed^2)</dt><dd>0.0999593020698439</dd></dl>\n"
      ],
      "text/latex": [
       "\\begin{description*}\n",
       "\\item[(Intercept)] 2.4701377850663\n",
       "\\item[speed] 0.913287614242585\n",
       "\\item[I(speed\\textbackslash{}textasciicircum\\{\\}2)] 0.0999593020698439\n",
       "\\end{description*}\n"
      ],
      "text/markdown": [
       "(Intercept)\n",
       ":   2.4701377850663speed\n",
       ":   0.913287614242585I(speed^2)\n",
       ":   0.0999593020698439\n",
       "\n"
      ],
      "text/plain": [
       "(Intercept)       speed  I(speed^2) \n",
       "  2.4701378   0.9132876   0.0999593 "
      ]
     },
     "metadata": {},
     "output_type": "display_data"
    }
   ],
   "source": [
    "cars.mod <- lm(dist ~ speed + I(speed^2), data=cars)\n",
    "\n",
    "#summary(cars.mod_1)\n",
    "coef(cars.mod)"
   ]
  },
  {
   "cell_type": "markdown",
   "metadata": {},
   "source": [
    "<b>(d) Historicamente la solución  ́optima del vector β está dada por la expresión: \n",
    "$β = (X^T X)^{−1} X^T y$. \n",
    "Estimar el vector β via la expresion anterior (método clásico) y comparar con los resultados obtenidos via qr y la función lm.\n"
   ]
  },
  {
   "cell_type": "code",
   "execution_count": 50,
   "metadata": {
    "vscode": {
     "languageId": "r"
    }
   },
   "outputs": [
    {
     "name": "stdout",
     "output_type": "stream",
     "text": [
      "                 [,1]\n",
      "(Intercept) 2.4701378\n",
      "speed       0.9132876\n",
      "I(speed^2)  0.0999593\n"
     ]
    }
   ],
   "source": [
    "beta_clas = solve ( t(X) %*% X ) %*% t(X) %*% y\n",
    "\n",
    "print(beta_clas)"
   ]
  },
  {
   "cell_type": "markdown",
   "metadata": {},
   "source": [
    "<b>(e) Grafique los residuales del modelo ajustado ¿Cumplen con los supuestos\n",
    "distribucionales? ¿Con esta información como estimar ́ıa la desviación\n",
    "estándar de cada elemento de β?"
   ]
  },
  {
   "cell_type": "code",
   "execution_count": 52,
   "metadata": {
    "vscode": {
     "languageId": "r"
    }
   },
   "outputs": [
    {
     "data": {
      "image/png": "[encoded data removed]",
      "text/plain": [
       "plot without title"
      ]
     },
     "metadata": {
      "image/png": {
       "height": 420,
       "width": 420
      }
     },
     "output_type": "display_data"
    }
   ],
   "source": [
    "plot(fitted(cars.mod), residuals(cars.mod), xlab=\"valores ajustados\", ylab=\"residuals\")"
   ]
  },
  {
   "cell_type": "code",
   "execution_count": null,
   "metadata": {
    "vscode": {
     "languageId": "r"
    }
   },
   "outputs": [],
   "source": []
  }
 ],
 "metadata": {
  "kernelspec": {
   "display_name": "R",
   "language": "R",
   "name": "ir"
  },
  "language_info": {
   "codemirror_mode": "r",
   "file_extension": ".r",
   "mimetype": "text/x-r-source",
   "name": "R",
   "pygments_lexer": "r",
   "version": "4.1.2"
  }
 },
 "nbformat": 4,
 "nbformat_minor": 2
}

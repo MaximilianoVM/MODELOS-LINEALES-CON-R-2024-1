{
 "cells": [
  {
   "cell_type": "markdown",
   "metadata": {},
   "source": [
    "<h1>Práctica 3</h1>\n",
    "\n",
    "<i>\n",
    "Maximiliano Vaca Montejano <br>\n",
    "364897 <br>\n",
    "maximiliano.vaca@uabc.edu.mx\n",
    "</i>"
   ]
  },
  {
   "cell_type": "markdown",
   "metadata": {},
   "source": [
    "<i>Profesor: Andrés García Medina <br>\n",
    "andres.garcia.medina@uabc.edu.mx <br>\n",
    "Fecha de entrega: jueves 14 de marzo, 2024 (12pm).</i>"
   ]
  },
  {
   "cell_type": "markdown",
   "metadata": {},
   "source": [
    "<h2>Ejercicio 1 </h2>\n",
    "Resuelva los siguientes problemas conceptuales:"
   ]
  },
  {
   "cell_type": "markdown",
   "metadata": {},
   "source": [
    ":D"
   ]
  },
  {
   "cell_type": "markdown",
   "metadata": {},
   "source": [
    "<h2>Ejercicio 2 </h2>"
   ]
  },
  {
   "cell_type": "markdown",
   "metadata": {},
   "source": [
    "Considere los datos en R denominados <i>InsectSprays</i>, los cuales contienen recuentos\n",
    "de insectos en cada una de varias parcelas. Cada una de las parcelas\n",
    "ha sido rociada con un insecticida distinto. Un modelo para estos datos podría ser:\n",
    "$$ y_i = μ + β_j $$\n",
    "$$μ = NOmedia$$\n",
    "$$μ \\sim β_0$$\n",
    "*falta el epsilon* <br>\n",
    "$$ y_i = μ + β_j + \\epsilon_i$$\n",
    "mejor: \n",
    "$$ y_i = \\alpha + β_j + \\epsilon_i$$\n",
    "si la parcela $i$ ha sido rociada con el spray $j$"
   ]
  },
  {
   "cell_type": "code",
   "execution_count": 2,
   "metadata": {
    "vscode": {
     "languageId": "r"
    }
   },
   "outputs": [
    {
     "data": {
      "text/html": [
       "<table class=\"dataframe\">\n",
       "<caption>A data.frame: 6 × 2</caption>\n",
       "<thead>\n",
       "\t<tr><th></th><th scope=col>count</th><th scope=col>spray</th></tr>\n",
       "\t<tr><th></th><th scope=col>&lt;dbl&gt;</th><th scope=col>&lt;fct&gt;</th></tr>\n",
       "</thead>\n",
       "<tbody>\n",
       "\t<tr><th scope=row>1</th><td>10</td><td>A</td></tr>\n",
       "\t<tr><th scope=row>2</th><td> 7</td><td>A</td></tr>\n",
       "\t<tr><th scope=row>3</th><td>20</td><td>A</td></tr>\n",
       "\t<tr><th scope=row>4</th><td>14</td><td>A</td></tr>\n",
       "\t<tr><th scope=row>5</th><td>14</td><td>A</td></tr>\n",
       "\t<tr><th scope=row>6</th><td>12</td><td>A</td></tr>\n",
       "</tbody>\n",
       "</table>\n"
      ],
      "text/latex": [
       "A data.frame: 6 × 2\n",
       "\\begin{tabular}{r|ll}\n",
       "  & count & spray\\\\\n",
       "  & <dbl> & <fct>\\\\\n",
       "\\hline\n",
       "\t1 & 10 & A\\\\\n",
       "\t2 &  7 & A\\\\\n",
       "\t3 & 20 & A\\\\\n",
       "\t4 & 14 & A\\\\\n",
       "\t5 & 14 & A\\\\\n",
       "\t6 & 12 & A\\\\\n",
       "\\end{tabular}\n"
      ],
      "text/markdown": [
       "\n",
       "A data.frame: 6 × 2\n",
       "\n",
       "| <!--/--> | count &lt;dbl&gt; | spray &lt;fct&gt; |\n",
       "|---|---|---|\n",
       "| 1 | 10 | A |\n",
       "| 2 |  7 | A |\n",
       "| 3 | 20 | A |\n",
       "| 4 | 14 | A |\n",
       "| 5 | 14 | A |\n",
       "| 6 | 12 | A |\n",
       "\n"
      ],
      "text/plain": [
       "  count spray\n",
       "1 10    A    \n",
       "2  7    A    \n",
       "3 20    A    \n",
       "4 14    A    \n",
       "5 14    A    \n",
       "6 12    A    "
      ]
     },
     "metadata": {},
     "output_type": "display_data"
    },
    {
     "name": "stdout",
     "output_type": "stream",
     "text": [
      "'data.frame':\t72 obs. of  2 variables:\n",
      " $ count: num  10 7 20 14 14 12 10 23 17 20 ...\n",
      " $ spray: Factor w/ 6 levels \"A\",\"B\",\"C\",\"D\",..: 1 1 1 1 1 1 1 1 1 1 ...\n"
     ]
    }
   ],
   "source": [
    "data(InsectSprays)\n",
    "head(InsectSprays)\n",
    "\n",
    "#descripcion de los datos\n",
    "str(InsectSprays)"
   ]
  },
  {
   "cell_type": "markdown",
   "metadata": {},
   "source": [
    "<b>(a)</b> ¿Cuantos factores y niveles tiene el conjunto de datos? Se puede apoyar en el comando $as.factor$"
   ]
  },
  {
   "cell_type": "code",
   "execution_count": 3,
   "metadata": {
    "vscode": {
     "languageId": "r"
    }
   },
   "outputs": [
    {
     "data": {
      "text/html": [
       "<style>\n",
       ".list-inline {list-style: none; margin:0; padding: 0}\n",
       ".list-inline>li {display: inline-block}\n",
       ".list-inline>li:not(:last-child)::after {content: \"\\00b7\"; padding: 0 .5ex}\n",
       "</style>\n",
       "<ol class=list-inline><li>A</li><li>A</li><li>A</li><li>A</li><li>A</li><li>A</li><li>A</li><li>A</li><li>A</li><li>A</li><li>A</li><li>A</li><li>B</li><li>B</li><li>B</li><li>B</li><li>B</li><li>B</li><li>B</li><li>B</li><li>B</li><li>B</li><li>B</li><li>B</li><li>C</li><li>C</li><li>C</li><li>C</li><li>C</li><li>C</li><li>C</li><li>C</li><li>C</li><li>C</li><li>C</li><li>C</li><li>D</li><li>D</li><li>D</li><li>D</li><li>D</li><li>D</li><li>D</li><li>D</li><li>D</li><li>D</li><li>D</li><li>D</li><li>E</li><li>E</li><li>E</li><li>E</li><li>E</li><li>E</li><li>E</li><li>E</li><li>E</li><li>E</li><li>E</li><li>E</li><li>F</li><li>F</li><li>F</li><li>F</li><li>F</li><li>F</li><li>F</li><li>F</li><li>F</li><li>F</li><li>F</li><li>F</li></ol>\n",
       "\n",
       "<details>\n",
       "\t<summary style=display:list-item;cursor:pointer>\n",
       "\t\t<strong>Levels</strong>:\n",
       "\t</summary>\n",
       "\t<style>\n",
       "\t.list-inline {list-style: none; margin:0; padding: 0}\n",
       "\t.list-inline>li {display: inline-block}\n",
       "\t.list-inline>li:not(:last-child)::after {content: \"\\00b7\"; padding: 0 .5ex}\n",
       "\t</style>\n",
       "\t<ol class=list-inline><li>'A'</li><li>'B'</li><li>'C'</li><li>'D'</li><li>'E'</li><li>'F'</li></ol>\n",
       "</details>"
      ],
      "text/latex": [
       "\\begin{enumerate*}\n",
       "\\item A\n",
       "\\item A\n",
       "\\item A\n",
       "\\item A\n",
       "\\item A\n",
       "\\item A\n",
       "\\item A\n",
       "\\item A\n",
       "\\item A\n",
       "\\item A\n",
       "\\item A\n",
       "\\item A\n",
       "\\item B\n",
       "\\item B\n",
       "\\item B\n",
       "\\item B\n",
       "\\item B\n",
       "\\item B\n",
       "\\item B\n",
       "\\item B\n",
       "\\item B\n",
       "\\item B\n",
       "\\item B\n",
       "\\item B\n",
       "\\item C\n",
       "\\item C\n",
       "\\item C\n",
       "\\item C\n",
       "\\item C\n",
       "\\item C\n",
       "\\item C\n",
       "\\item C\n",
       "\\item C\n",
       "\\item C\n",
       "\\item C\n",
       "\\item C\n",
       "\\item D\n",
       "\\item D\n",
       "\\item D\n",
       "\\item D\n",
       "\\item D\n",
       "\\item D\n",
       "\\item D\n",
       "\\item D\n",
       "\\item D\n",
       "\\item D\n",
       "\\item D\n",
       "\\item D\n",
       "\\item E\n",
       "\\item E\n",
       "\\item E\n",
       "\\item E\n",
       "\\item E\n",
       "\\item E\n",
       "\\item E\n",
       "\\item E\n",
       "\\item E\n",
       "\\item E\n",
       "\\item E\n",
       "\\item E\n",
       "\\item F\n",
       "\\item F\n",
       "\\item F\n",
       "\\item F\n",
       "\\item F\n",
       "\\item F\n",
       "\\item F\n",
       "\\item F\n",
       "\\item F\n",
       "\\item F\n",
       "\\item F\n",
       "\\item F\n",
       "\\end{enumerate*}\n",
       "\n",
       "\\emph{Levels}: \\begin{enumerate*}\n",
       "\\item 'A'\n",
       "\\item 'B'\n",
       "\\item 'C'\n",
       "\\item 'D'\n",
       "\\item 'E'\n",
       "\\item 'F'\n",
       "\\end{enumerate*}\n"
      ],
      "text/markdown": [
       "1. A\n",
       "2. A\n",
       "3. A\n",
       "4. A\n",
       "5. A\n",
       "6. A\n",
       "7. A\n",
       "8. A\n",
       "9. A\n",
       "10. A\n",
       "11. A\n",
       "12. A\n",
       "13. B\n",
       "14. B\n",
       "15. B\n",
       "16. B\n",
       "17. B\n",
       "18. B\n",
       "19. B\n",
       "20. B\n",
       "21. B\n",
       "22. B\n",
       "23. B\n",
       "24. B\n",
       "25. C\n",
       "26. C\n",
       "27. C\n",
       "28. C\n",
       "29. C\n",
       "30. C\n",
       "31. C\n",
       "32. C\n",
       "33. C\n",
       "34. C\n",
       "35. C\n",
       "36. C\n",
       "37. D\n",
       "38. D\n",
       "39. D\n",
       "40. D\n",
       "41. D\n",
       "42. D\n",
       "43. D\n",
       "44. D\n",
       "45. D\n",
       "46. D\n",
       "47. D\n",
       "48. D\n",
       "49. E\n",
       "50. E\n",
       "51. E\n",
       "52. E\n",
       "53. E\n",
       "54. E\n",
       "55. E\n",
       "56. E\n",
       "57. E\n",
       "58. E\n",
       "59. E\n",
       "60. E\n",
       "61. F\n",
       "62. F\n",
       "63. F\n",
       "64. F\n",
       "65. F\n",
       "66. F\n",
       "67. F\n",
       "68. F\n",
       "69. F\n",
       "70. F\n",
       "71. F\n",
       "72. F\n",
       "\n",
       "\n",
       "\n",
       "**Levels**: 1. 'A'\n",
       "2. 'B'\n",
       "3. 'C'\n",
       "4. 'D'\n",
       "5. 'E'\n",
       "6. 'F'\n",
       "\n",
       "\n"
      ],
      "text/plain": [
       " [1] A A A A A A A A A A A A B B B B B B B B B B B B C C C C C C C C C C C C D D\n",
       "[39] D D D D D D D D D D E E E E E E E E E E E E F F F F F F F F F F F F\n",
       "Levels: A B C D E F"
      ]
     },
     "metadata": {},
     "output_type": "display_data"
    }
   ],
   "source": [
    "as.factor(InsectSprays$spray)"
   ]
  },
  {
   "cell_type": "markdown",
   "metadata": {},
   "source": [
    "* la variable $spray$ es $1$ factor en $6$ niveles"
   ]
  },
  {
   "cell_type": "code",
   "execution_count": 4,
   "metadata": {
    "vscode": {
     "languageId": "r"
    }
   },
   "outputs": [
    {
     "data": {
      "image/png": "[encoded data removed]",
      "text/plain": [
       "plot without title"
      ]
     },
     "metadata": {
      "image/png": {
       "height": 420,
       "width": 420
      }
     },
     "output_type": "display_data"
    }
   ],
   "source": [
    "pairs(InsectSprays)"
   ]
  },
  {
   "cell_type": "markdown",
   "metadata": {},
   "source": [
    "<b>(b)</b> Ajuste un modelo lineal propuesto para determinar si el tipo de insecticida\n",
    "determina el conteo de insectos, y en dado caso en que medida.\n",
    "¿Cual insecticida tiene mayor impacto en la disminución del numero de\n",
    "mosquitos?"
   ]
  },
  {
   "cell_type": "markdown",
   "metadata": {},
   "source": [
    "$$ y_i = \\alpha + β_j + \\epsilon_i$$\n",
    "si la parcela $i$ ha sido rociada con el spray $j$"
   ]
  },
  {
   "cell_type": "code",
   "execution_count": 5,
   "metadata": {
    "vscode": {
     "languageId": "r"
    }
   },
   "outputs": [
    {
     "data": {
      "text/plain": [
       "\n",
       "Call:\n",
       "lm(formula = count ~ spray, data = InsectSprays)\n",
       "\n",
       "Residuals:\n",
       "   Min     1Q Median     3Q    Max \n",
       "-8.333 -1.958 -0.500  1.667  9.333 \n",
       "\n",
       "Coefficients:\n",
       "            Estimate Std. Error t value Pr(>|t|)    \n",
       "(Intercept)  14.5000     1.1322  12.807  < 2e-16 ***\n",
       "sprayB        0.8333     1.6011   0.520    0.604    \n",
       "sprayC      -12.4167     1.6011  -7.755 7.27e-11 ***\n",
       "sprayD       -9.5833     1.6011  -5.985 9.82e-08 ***\n",
       "sprayE      -11.0000     1.6011  -6.870 2.75e-09 ***\n",
       "sprayF        2.1667     1.6011   1.353    0.181    \n",
       "---\n",
       "Signif. codes:  0 ‘***’ 0.001 ‘**’ 0.01 ‘*’ 0.05 ‘.’ 0.1 ‘ ’ 1\n",
       "\n",
       "Residual standard error: 3.922 on 66 degrees of freedom\n",
       "Multiple R-squared:  0.7244,\tAdjusted R-squared:  0.7036 \n",
       "F-statistic:  34.7 on 5 and 66 DF,  p-value: < 2.2e-16\n"
      ]
     },
     "metadata": {},
     "output_type": "display_data"
    },
    {
     "data": {
      "text/html": [
       "<style>\n",
       ".dl-inline {width: auto; margin:0; padding: 0}\n",
       ".dl-inline>dt, .dl-inline>dd {float: none; width: auto; display: inline-block}\n",
       ".dl-inline>dt::after {content: \":\\0020\"; padding-right: .5ex}\n",
       ".dl-inline>dt:not(:first-of-type) {padding-left: .5ex}\n",
       "</style><dl class=dl-inline><dt>(Intercept)</dt><dd>14.5</dd><dt>sprayB</dt><dd>0.83333333333332</dd><dt>sprayC</dt><dd>-12.4166666666667</dd><dt>sprayD</dt><dd>-9.58333333333333</dd><dt>sprayE</dt><dd>-11</dd><dt>sprayF</dt><dd>2.16666666666666</dd></dl>\n"
      ],
      "text/latex": [
       "\\begin{description*}\n",
       "\\item[(Intercept)] 14.5\n",
       "\\item[sprayB] 0.83333333333332\n",
       "\\item[sprayC] -12.4166666666667\n",
       "\\item[sprayD] -9.58333333333333\n",
       "\\item[sprayE] -11\n",
       "\\item[sprayF] 2.16666666666666\n",
       "\\end{description*}\n"
      ],
      "text/markdown": [
       "(Intercept)\n",
       ":   14.5sprayB\n",
       ":   0.83333333333332sprayC\n",
       ":   -12.4166666666667sprayD\n",
       ":   -9.58333333333333sprayE\n",
       ":   -11sprayF\n",
       ":   2.16666666666666\n",
       "\n"
      ],
      "text/plain": [
       "(Intercept)      sprayB      sprayC      sprayD      sprayE      sprayF \n",
       " 14.5000000   0.8333333 -12.4166667  -9.5833333 -11.0000000   2.1666667 "
      ]
     },
     "metadata": {},
     "output_type": "display_data"
    }
   ],
   "source": [
    "#ajuste del modelo\n",
    "model_1 <- lm(count ~ spray, data = InsectSprays)\n",
    "summary(model_1)\n",
    "coef(model_1)"
   ]
  },
  {
   "cell_type": "code",
   "execution_count": 6,
   "metadata": {
    "vscode": {
     "languageId": "r"
    }
   },
   "outputs": [
    {
     "data": {
      "text/html": [
       "<style>\n",
       ".dl-inline {width: auto; margin:0; padding: 0}\n",
       ".dl-inline>dt, .dl-inline>dd {float: none; width: auto; display: inline-block}\n",
       ".dl-inline>dt::after {content: \":\\0020\"; padding-right: .5ex}\n",
       ".dl-inline>dt:not(:first-of-type) {padding-left: .5ex}\n",
       "</style><dl class=dl-inline><dt>(Intercept)</dt><dd>14.5</dd><dt>sprayC</dt><dd>-12.4166666666667</dd><dt>sprayE</dt><dd>-11</dd><dt>sprayD</dt><dd>-9.58333333333333</dd><dt>sprayF</dt><dd>2.16666666666666</dd><dt>sprayB</dt><dd>0.83333333333332</dd></dl>\n"
      ],
      "text/latex": [
       "\\begin{description*}\n",
       "\\item[(Intercept)] 14.5\n",
       "\\item[sprayC] -12.4166666666667\n",
       "\\item[sprayE] -11\n",
       "\\item[sprayD] -9.58333333333333\n",
       "\\item[sprayF] 2.16666666666666\n",
       "\\item[sprayB] 0.83333333333332\n",
       "\\end{description*}\n"
      ],
      "text/markdown": [
       "(Intercept)\n",
       ":   14.5sprayC\n",
       ":   -12.4166666666667sprayE\n",
       ":   -11sprayD\n",
       ":   -9.58333333333333sprayF\n",
       ":   2.16666666666666sprayB\n",
       ":   0.83333333333332\n",
       "\n"
      ],
      "text/plain": [
       "(Intercept)      sprayC      sprayE      sprayD      sprayF      sprayB \n",
       " 14.5000000 -12.4166667 -11.0000000  -9.5833333   2.1666667   0.8333333 "
      ]
     },
     "metadata": {},
     "output_type": "display_data"
    }
   ],
   "source": [
    "#ordenar los coeficientes de mayor a menor \n",
    "coef(model_1)[order(abs(coef(model_1)),decreasing = T)]"
   ]
  },
  {
   "cell_type": "markdown",
   "metadata": {},
   "source": [
    "* El modelo propuesto es:\n",
    "$$ count = 14.5 + 0.83 * sprayB - 12.42 * sprayC - 9.58 * sprayD - 11.0 * sprayE + 2.17 * sprayF $$\n",
    "* el cual es significativo debido al valor pequeño del $p-value$ <br>\n",
    "* donde el $incecticida \\hspace{1mm} E$ tiene el mayor impacto en la disminución del numero de mosquitos, ademas de con un nivel de significancia de $***$, aunque no muy por detrás queda el $incecticida \\hspace{1mm} C$ "
   ]
  },
  {
   "cell_type": "code",
   "execution_count": 7,
   "metadata": {
    "vscode": {
     "languageId": "r"
    }
   },
   "outputs": [
    {
     "data": {
      "text/html": [
       "<style>\n",
       ".list-inline {list-style: none; margin:0; padding: 0}\n",
       ".list-inline>li {display: inline-block}\n",
       ".list-inline>li:not(:last-child)::after {content: \"\\00b7\"; padding: 0 .5ex}\n",
       "</style>\n",
       "<ol class=list-inline><li>72</li><li>6</li></ol>\n"
      ],
      "text/latex": [
       "\\begin{enumerate*}\n",
       "\\item 72\n",
       "\\item 6\n",
       "\\end{enumerate*}\n"
      ],
      "text/markdown": [
       "1. 72\n",
       "2. 6\n",
       "\n",
       "\n"
      ],
      "text/plain": [
       "[1] 72  6"
      ]
     },
     "metadata": {},
     "output_type": "display_data"
    },
    {
     "data": {
      "text/html": [
       "<table class=\"dataframe\">\n",
       "<caption>A matrix: 6 × 6 of type dbl</caption>\n",
       "<thead>\n",
       "\t<tr><th></th><th scope=col>(Intercept)</th><th scope=col>sprayB</th><th scope=col>sprayC</th><th scope=col>sprayD</th><th scope=col>sprayE</th><th scope=col>sprayF</th></tr>\n",
       "</thead>\n",
       "<tbody>\n",
       "\t<tr><th scope=row>1</th><td>1</td><td>0</td><td>0</td><td>0</td><td>0</td><td>0</td></tr>\n",
       "\t<tr><th scope=row>2</th><td>1</td><td>0</td><td>0</td><td>0</td><td>0</td><td>0</td></tr>\n",
       "\t<tr><th scope=row>3</th><td>1</td><td>0</td><td>0</td><td>0</td><td>0</td><td>0</td></tr>\n",
       "\t<tr><th scope=row>4</th><td>1</td><td>0</td><td>0</td><td>0</td><td>0</td><td>0</td></tr>\n",
       "\t<tr><th scope=row>5</th><td>1</td><td>0</td><td>0</td><td>0</td><td>0</td><td>0</td></tr>\n",
       "\t<tr><th scope=row>6</th><td>1</td><td>0</td><td>0</td><td>0</td><td>0</td><td>0</td></tr>\n",
       "</tbody>\n",
       "</table>\n"
      ],
      "text/latex": [
       "A matrix: 6 × 6 of type dbl\n",
       "\\begin{tabular}{r|llllll}\n",
       "  & (Intercept) & sprayB & sprayC & sprayD & sprayE & sprayF\\\\\n",
       "\\hline\n",
       "\t1 & 1 & 0 & 0 & 0 & 0 & 0\\\\\n",
       "\t2 & 1 & 0 & 0 & 0 & 0 & 0\\\\\n",
       "\t3 & 1 & 0 & 0 & 0 & 0 & 0\\\\\n",
       "\t4 & 1 & 0 & 0 & 0 & 0 & 0\\\\\n",
       "\t5 & 1 & 0 & 0 & 0 & 0 & 0\\\\\n",
       "\t6 & 1 & 0 & 0 & 0 & 0 & 0\\\\\n",
       "\\end{tabular}\n"
      ],
      "text/markdown": [
       "\n",
       "A matrix: 6 × 6 of type dbl\n",
       "\n",
       "| <!--/--> | (Intercept) | sprayB | sprayC | sprayD | sprayE | sprayF |\n",
       "|---|---|---|---|---|---|---|\n",
       "| 1 | 1 | 0 | 0 | 0 | 0 | 0 |\n",
       "| 2 | 1 | 0 | 0 | 0 | 0 | 0 |\n",
       "| 3 | 1 | 0 | 0 | 0 | 0 | 0 |\n",
       "| 4 | 1 | 0 | 0 | 0 | 0 | 0 |\n",
       "| 5 | 1 | 0 | 0 | 0 | 0 | 0 |\n",
       "| 6 | 1 | 0 | 0 | 0 | 0 | 0 |\n",
       "\n"
      ],
      "text/plain": [
       "  (Intercept) sprayB sprayC sprayD sprayE sprayF\n",
       "1 1           0      0      0      0      0     \n",
       "2 1           0      0      0      0      0     \n",
       "3 1           0      0      0      0      0     \n",
       "4 1           0      0      0      0      0     \n",
       "5 1           0      0      0      0      0     \n",
       "6 1           0      0      0      0      0     "
      ]
     },
     "metadata": {},
     "output_type": "display_data"
    }
   ],
   "source": [
    "X <- model.matrix(count ~ spray, data=InsectSprays)\n",
    "y <- InsectSprays$count\n",
    "\n",
    "dim(X)\n",
    "head(X)\n",
    "#tail(X)"
   ]
  },
  {
   "cell_type": "markdown",
   "metadata": {},
   "source": [
    "<b>(c)</b> Determine el tipo impacto que tiene el spray A sobre el conteo de mosquitos\n",
    "usando como base el nivel F. <br>Hint: Use la función relevel"
   ]
  },
  {
   "cell_type": "code",
   "execution_count": 8,
   "metadata": {
    "vscode": {
     "languageId": "r"
    }
   },
   "outputs": [
    {
     "data": {
      "text/plain": [
       "\n",
       "Call:\n",
       "lm(formula = count ~ spray, data = InsectSprays)\n",
       "\n",
       "Residuals:\n",
       "   Min     1Q Median     3Q    Max \n",
       "-8.333 -1.958 -0.500  1.667  9.333 \n",
       "\n",
       "Coefficients:\n",
       "            Estimate Std. Error t value Pr(>|t|)    \n",
       "(Intercept)   16.667      1.132  14.721  < 2e-16 ***\n",
       "sprayA        -2.167      1.601  -1.353    0.181    \n",
       "sprayB        -1.333      1.601  -0.833    0.408    \n",
       "sprayC       -14.583      1.601  -9.108 2.79e-13 ***\n",
       "sprayD       -11.750      1.601  -7.339 4.04e-10 ***\n",
       "sprayE       -13.167      1.601  -8.223 1.05e-11 ***\n",
       "---\n",
       "Signif. codes:  0 ‘***’ 0.001 ‘**’ 0.01 ‘*’ 0.05 ‘.’ 0.1 ‘ ’ 1\n",
       "\n",
       "Residual standard error: 3.922 on 66 degrees of freedom\n",
       "Multiple R-squared:  0.7244,\tAdjusted R-squared:  0.7036 \n",
       "F-statistic:  34.7 on 5 and 66 DF,  p-value: < 2.2e-16\n"
      ]
     },
     "metadata": {},
     "output_type": "display_data"
    }
   ],
   "source": [
    "#cambiamos el nivel de referencia a F\n",
    "InsectSprays$spray <- relevel(InsectSprays$spray, ref = \"F\")\n",
    "\n",
    "#modelo\n",
    "model_2 <- lm(count ~ spray, data = InsectSprays)\n",
    "summary(model_2)"
   ]
  },
  {
   "cell_type": "markdown",
   "metadata": {},
   "source": [
    "* cambiando el nivel de referencia a $F$, el $spray A$ tiene un impacto de $-2.167$, aunque con un $p-value$ de $0.181$, no creo que sea una estimacion significativa\n",
    "* otra observacion es que, en este caso, el $incecticida \\hspace{1mm} C$ tiene el mayor impacto en la disminución del numero de mosquitos, aunque no por mucho por delante del $incecticida \\hspace{1mm} E$, el cual habiamos obtenido anteriormente."
   ]
  },
  {
   "cell_type": "markdown",
   "metadata": {},
   "source": [
    "<b>(d)</b> Analice el ajuste del modelo a través de los cuantiles de los residuales\n",
    "con apoyo de la función qnorm. Compare su gráfico con los que se obtienen\n",
    "por defecto mediante la función lm."
   ]
  },
  {
   "cell_type": "markdown",
   "metadata": {},
   "source": [
    "<i>\"Este gráfico compara los cuantiles de los residuales del modelo con los cuantiles de una distribución normal estándar. Si los residuales están normalmente distribuidos, los puntos en el gráfico Q-Q deberían aproximarse a una línea recta.\""
   ]
  },
  {
   "cell_type": "code",
   "execution_count": 9,
   "metadata": {
    "vscode": {
     "languageId": "r"
    }
   },
   "outputs": [
    {
     "data": {
      "image/png": "[encoded data removed]",
      "text/plain": [
       "Plot with title “Normal Q-Q Plot”"
      ]
     },
     "metadata": {
      "image/png": {
       "height": 420,
       "width": 420
      }
     },
     "output_type": "display_data"
    }
   ],
   "source": [
    "#guardamos residuales\n",
    "residuals <- resid(model_1)\n",
    "\n",
    "#grafico Q-Q de los residuales\n",
    "qqnorm(residuals)\n",
    "qqline(residuals) #linea de referencia"
   ]
  },
  {
   "cell_type": "markdown",
   "metadata": {},
   "source": [
    "$plot(model)$ muestra:  \n",
    "1. Residuales contra ajustes\n",
    "2. Gráfico Q-Q de los residuales\n",
    "3. Escala-ubicación (que es la raíz cuadrada de los residuales estandarizados contra ajustes)\n",
    "4. Residuales contra orden de influencia"
   ]
  },
  {
   "cell_type": "code",
   "execution_count": 11,
   "metadata": {
    "vscode": {
     "languageId": "r"
    }
   },
   "outputs": [
    {
     "data": {
      "image/png": "[encoded data removed]",
      "text/plain": [
       "Plot with title “”"
      ]
     },
     "metadata": {
      "image/png": {
       "height": 420,
       "width": 420
      }
     },
     "output_type": "display_data"
    }
   ],
   "source": [
    "#plot(model)\n",
    "plot(model_1, which = 2)"
   ]
  },
  {
   "cell_type": "markdown",
   "metadata": {},
   "source": [
    "* ambos graficos son iguales"
   ]
  },
  {
   "cell_type": "markdown",
   "metadata": {},
   "source": [
    "<b>(e)</b> Omita los posibles datos atipicos y vuelva a ajustar el modelo. \n",
    "Considere como datos atipicos a las observaciones sugeridas por los graficos\n",
    "de diagnostico de la funcion lm."
   ]
  },
  {
   "cell_type": "code",
   "execution_count": 14,
   "metadata": {
    "vscode": {
     "languageId": "r"
    }
   },
   "outputs": [
    {
     "data": {
      "text/html": [
       "<style>\n",
       ".list-inline {list-style: none; margin:0; padding: 0}\n",
       ".list-inline>li {display: inline-block}\n",
       ".list-inline>li:not(:last-child)::after {content: \"\\00b7\"; padding: 0 .5ex}\n",
       "</style>\n",
       "<ol class=list-inline><li>-2.21930160690107</li><li>2.4856177997292</li></ol>\n"
      ],
      "text/latex": [
       "\\begin{enumerate*}\n",
       "\\item -2.21930160690107\n",
       "\\item 2.4856177997292\n",
       "\\end{enumerate*}\n"
      ],
      "text/markdown": [
       "1. -2.21930160690107\n",
       "2. 2.4856177997292\n",
       "\n",
       "\n"
      ],
      "text/plain": [
       "[1] -2.219302  2.485618"
      ]
     },
     "metadata": {},
     "output_type": "display_data"
    },
    {
     "data": {
      "text/html": [
       "<style>\n",
       ".dl-inline {width: auto; margin:0; padding: 0}\n",
       ".dl-inline>dt, .dl-inline>dd {float: none; width: auto; display: inline-block}\n",
       ".dl-inline>dt::after {content: \":\\0020\"; padding-right: .5ex}\n",
       ".dl-inline>dt:not(:first-of-type) {padding-left: .5ex}\n",
       "</style><dl class=dl-inline><dt>1</dt><dd>TRUE</dd><dt>2</dt><dd>TRUE</dd><dt>3</dt><dd>TRUE</dd><dt>4</dt><dd>FALSE</dd><dt>5</dt><dd>FALSE</dd><dt>6</dt><dd>FALSE</dd><dt>7</dt><dd>TRUE</dd><dt>8</dt><dd>TRUE</dd><dt>9</dt><dd>FALSE</dd><dt>10</dt><dd>TRUE</dd><dt>11</dt><dd>FALSE</dd><dt>12</dt><dd>FALSE</dd><dt>13</dt><dd>TRUE</dd><dt>14</dt><dd>FALSE</dd><dt>15</dt><dd>TRUE</dd><dt>16</dt><dd>TRUE</dd><dt>17</dt><dd>FALSE</dd><dt>18</dt><dd>FALSE</dd><dt>19</dt><dd>FALSE</dd><dt>20</dt><dd>FALSE</dd><dt>21</dt><dd>FALSE</dd><dt>22</dt><dd>TRUE</dd><dt>23</dt><dd>TRUE</dd><dt>24</dt><dd>FALSE</dd><dt>25</dt><dd>FALSE</dd><dt>26</dt><dd>FALSE</dd><dt>27</dt><dd>TRUE</dd><dt>28</dt><dd>FALSE</dd><dt>29</dt><dd>FALSE</dd><dt>30</dt><dd>FALSE</dd><dt>31</dt><dd>FALSE</dd><dt>32</dt><dd>FALSE</dd><dt>33</dt><dd>FALSE</dd><dt>34</dt><dd>FALSE</dd><dt>35</dt><dd>FALSE</dd><dt>36</dt><dd>FALSE</dd><dt>37</dt><dd>FALSE</dd><dt>38</dt><dd>FALSE</dd><dt>39</dt><dd>TRUE</dd><dt>40</dt><dd>FALSE</dd><dt>41</dt><dd>FALSE</dd><dt>42</dt><dd>FALSE</dd><dt>43</dt><dd>FALSE</dd><dt>44</dt><dd>FALSE</dd><dt>45</dt><dd>FALSE</dd><dt>46</dt><dd>FALSE</dd><dt>47</dt><dd>FALSE</dd><dt>48</dt><dd>FALSE</dd><dt>49</dt><dd>FALSE</dd><dt>50</dt><dd>FALSE</dd><dt>51</dt><dd>FALSE</dd><dt>52</dt><dd>FALSE</dd><dt>53</dt><dd>FALSE</dd><dt>54</dt><dd>FALSE</dd><dt>55</dt><dd>FALSE</dd><dt>56</dt><dd>FALSE</dd><dt>57</dt><dd>FALSE</dd><dt>58</dt><dd>FALSE</dd><dt>59</dt><dd>FALSE</dd><dt>60</dt><dd>FALSE</dd><dt>61</dt><dd>TRUE</dd><dt>62</dt><dd>TRUE</dd><dt>63</dt><dd>FALSE</dd><dt>64</dt><dd>TRUE</dd><dt>65</dt><dd>FALSE</dd><dt>66</dt><dd>FALSE</dd><dt>67</dt><dd>FALSE</dd><dt>68</dt><dd>TRUE</dd><dt>69</dt><dd>TRUE</dd><dt>70</dt><dd>TRUE</dd><dt>71</dt><dd>TRUE</dd><dt>72</dt><dd>FALSE</dd></dl>\n"
      ],
      "text/latex": [
       "\\begin{description*}\n",
       "\\item[1] TRUE\n",
       "\\item[2] TRUE\n",
       "\\item[3] TRUE\n",
       "\\item[4] FALSE\n",
       "\\item[5] FALSE\n",
       "\\item[6] FALSE\n",
       "\\item[7] TRUE\n",
       "\\item[8] TRUE\n",
       "\\item[9] FALSE\n",
       "\\item[10] TRUE\n",
       "\\item[11] FALSE\n",
       "\\item[12] FALSE\n",
       "\\item[13] TRUE\n",
       "\\item[14] FALSE\n",
       "\\item[15] TRUE\n",
       "\\item[16] TRUE\n",
       "\\item[17] FALSE\n",
       "\\item[18] FALSE\n",
       "\\item[19] FALSE\n",
       "\\item[20] FALSE\n",
       "\\item[21] FALSE\n",
       "\\item[22] TRUE\n",
       "\\item[23] TRUE\n",
       "\\item[24] FALSE\n",
       "\\item[25] FALSE\n",
       "\\item[26] FALSE\n",
       "\\item[27] TRUE\n",
       "\\item[28] FALSE\n",
       "\\item[29] FALSE\n",
       "\\item[30] FALSE\n",
       "\\item[31] FALSE\n",
       "\\item[32] FALSE\n",
       "\\item[33] FALSE\n",
       "\\item[34] FALSE\n",
       "\\item[35] FALSE\n",
       "\\item[36] FALSE\n",
       "\\item[37] FALSE\n",
       "\\item[38] FALSE\n",
       "\\item[39] TRUE\n",
       "\\item[40] FALSE\n",
       "\\item[41] FALSE\n",
       "\\item[42] FALSE\n",
       "\\item[43] FALSE\n",
       "\\item[44] FALSE\n",
       "\\item[45] FALSE\n",
       "\\item[46] FALSE\n",
       "\\item[47] FALSE\n",
       "\\item[48] FALSE\n",
       "\\item[49] FALSE\n",
       "\\item[50] FALSE\n",
       "\\item[51] FALSE\n",
       "\\item[52] FALSE\n",
       "\\item[53] FALSE\n",
       "\\item[54] FALSE\n",
       "\\item[55] FALSE\n",
       "\\item[56] FALSE\n",
       "\\item[57] FALSE\n",
       "\\item[58] FALSE\n",
       "\\item[59] FALSE\n",
       "\\item[60] FALSE\n",
       "\\item[61] TRUE\n",
       "\\item[62] TRUE\n",
       "\\item[63] FALSE\n",
       "\\item[64] TRUE\n",
       "\\item[65] FALSE\n",
       "\\item[66] FALSE\n",
       "\\item[67] FALSE\n",
       "\\item[68] TRUE\n",
       "\\item[69] TRUE\n",
       "\\item[70] TRUE\n",
       "\\item[71] TRUE\n",
       "\\item[72] FALSE\n",
       "\\end{description*}\n"
      ],
      "text/markdown": [
       "1\n",
       ":   TRUE2\n",
       ":   TRUE3\n",
       ":   TRUE4\n",
       ":   FALSE5\n",
       ":   FALSE6\n",
       ":   FALSE7\n",
       ":   TRUE8\n",
       ":   TRUE9\n",
       ":   FALSE10\n",
       ":   TRUE11\n",
       ":   FALSE12\n",
       ":   FALSE13\n",
       ":   TRUE14\n",
       ":   FALSE15\n",
       ":   TRUE16\n",
       ":   TRUE17\n",
       ":   FALSE18\n",
       ":   FALSE19\n",
       ":   FALSE20\n",
       ":   FALSE21\n",
       ":   FALSE22\n",
       ":   TRUE23\n",
       ":   TRUE24\n",
       ":   FALSE25\n",
       ":   FALSE26\n",
       ":   FALSE27\n",
       ":   TRUE28\n",
       ":   FALSE29\n",
       ":   FALSE30\n",
       ":   FALSE31\n",
       ":   FALSE32\n",
       ":   FALSE33\n",
       ":   FALSE34\n",
       ":   FALSE35\n",
       ":   FALSE36\n",
       ":   FALSE37\n",
       ":   FALSE38\n",
       ":   FALSE39\n",
       ":   TRUE40\n",
       ":   FALSE41\n",
       ":   FALSE42\n",
       ":   FALSE43\n",
       ":   FALSE44\n",
       ":   FALSE45\n",
       ":   FALSE46\n",
       ":   FALSE47\n",
       ":   FALSE48\n",
       ":   FALSE49\n",
       ":   FALSE50\n",
       ":   FALSE51\n",
       ":   FALSE52\n",
       ":   FALSE53\n",
       ":   FALSE54\n",
       ":   FALSE55\n",
       ":   FALSE56\n",
       ":   FALSE57\n",
       ":   FALSE58\n",
       ":   FALSE59\n",
       ":   FALSE60\n",
       ":   FALSE61\n",
       ":   TRUE62\n",
       ":   TRUE63\n",
       ":   FALSE64\n",
       ":   TRUE65\n",
       ":   FALSE66\n",
       ":   FALSE67\n",
       ":   FALSE68\n",
       ":   TRUE69\n",
       ":   TRUE70\n",
       ":   TRUE71\n",
       ":   TRUE72\n",
       ":   FALSE\n",
       "\n"
      ],
      "text/plain": [
       "    1     2     3     4     5     6     7     8     9    10    11    12    13 \n",
       " TRUE  TRUE  TRUE FALSE FALSE FALSE  TRUE  TRUE FALSE  TRUE FALSE FALSE  TRUE \n",
       "   14    15    16    17    18    19    20    21    22    23    24    25    26 \n",
       "FALSE  TRUE  TRUE FALSE FALSE FALSE FALSE FALSE  TRUE  TRUE FALSE FALSE FALSE \n",
       "   27    28    29    30    31    32    33    34    35    36    37    38    39 \n",
       " TRUE FALSE FALSE FALSE FALSE FALSE FALSE FALSE FALSE FALSE FALSE FALSE  TRUE \n",
       "   40    41    42    43    44    45    46    47    48    49    50    51    52 \n",
       "FALSE FALSE FALSE FALSE FALSE FALSE FALSE FALSE FALSE FALSE FALSE FALSE FALSE \n",
       "   53    54    55    56    57    58    59    60    61    62    63    64    65 \n",
       "FALSE FALSE FALSE FALSE FALSE FALSE FALSE FALSE  TRUE  TRUE FALSE  TRUE FALSE \n",
       "   66    67    68    69    70    71    72 \n",
       "FALSE FALSE  TRUE  TRUE  TRUE  TRUE FALSE "
      ]
     },
     "metadata": {},
     "output_type": "display_data"
    }
   ],
   "source": [
    "# Calcular los residuales estandarizados\n",
    "standardized_residuals <- rstandard(model_1)\n",
    "\n",
    "#analizamos \n",
    "range(standardized_residuals)\n",
    "\n",
    "#omitimos residuales atipicos\n",
    "outliers <- abs(standardized_residuals) > 1 # mayor a 2 no sirvió mucho, tomando como referencia los graficos \n",
    "outliers\n",
    "\n",
    "#dataframe sin los datos atípicos\n",
    "InsectSprays_no_outliers <- InsectSprays[!outliers, ]"
   ]
  },
  {
   "cell_type": "code",
   "execution_count": 15,
   "metadata": {
    "vscode": {
     "languageId": "r"
    }
   },
   "outputs": [
    {
     "data": {
      "text/plain": [
       "\n",
       "Call:\n",
       "lm(formula = count ~ spray, data = InsectSprays_no_outliers)\n",
       "\n",
       "Residuals:\n",
       "    Min      1Q  Median      3Q     Max \n",
       "-3.1429 -1.0682  0.0000  0.8571  3.0000 \n",
       "\n",
       "Coefficients:\n",
       "            Estimate Std. Error t value Pr(>|t|)    \n",
       "(Intercept)  14.4000     0.6909  20.843  < 2e-16 ***\n",
       "sprayA       -0.4000     0.9355  -0.428   0.6709    \n",
       "sprayB        1.7429     0.9046   1.927   0.0602 .  \n",
       "sprayC      -12.7636     0.8332 -15.318  < 2e-16 ***\n",
       "sprayD      -10.1273     0.8332 -12.154 5.79e-16 ***\n",
       "sprayE      -10.9000     0.8223 -13.255  < 2e-16 ***\n",
       "---\n",
       "Signif. codes:  0 ‘***’ 0.001 ‘**’ 0.01 ‘*’ 0.05 ‘.’ 0.1 ‘ ’ 1\n",
       "\n",
       "Residual standard error: 1.545 on 46 degrees of freedom\n",
       "Multiple R-squared:  0.9392,\tAdjusted R-squared:  0.9326 \n",
       "F-statistic: 142.1 on 5 and 46 DF,  p-value: < 2.2e-16\n"
      ]
     },
     "metadata": {},
     "output_type": "display_data"
    }
   ],
   "source": [
    "#modelo sin datos atipicos\n",
    "model_no_outliers <- lm(count ~ spray, data = InsectSprays_no_outliers)\n",
    "summary(model_no_outliers)"
   ]
  },
  {
   "cell_type": "markdown",
   "metadata": {},
   "source": [
    "* comparamos graficas antes y despues de quitar outliers (esto se estuvo haciendo repetidamente para determinar el valor maximo permitido de std residuals)"
   ]
  },
  {
   "cell_type": "code",
   "execution_count": 19,
   "metadata": {
    "vscode": {
     "languageId": "r"
    }
   },
   "outputs": [
    {
     "data": {
      "image/png": "[encoded data removed]",
      "text/plain": [
       "Plot with title “”"
      ]
     },
     "metadata": {
      "image/png": {
       "height": 420,
       "width": 420
      }
     },
     "output_type": "display_data"
    },
    {
     "data": {
      "image/png": "[encoded data removed]",
      "text/plain": [
       "Plot with title “”"
      ]
     },
     "metadata": {
      "image/png": {
       "height": 420,
       "width": 420
      }
     },
     "output_type": "display_data"
    }
   ],
   "source": [
    "plot(model_no_outliers, which = 2)\n",
    "plot(model_1, which = 2)"
   ]
  },
  {
   "cell_type": "markdown",
   "metadata": {},
   "source": [
    "<b>(f)</b> ¿Cual de los dos modelos es mejor en terminos de R2 ajustada y el estadistico F?"
   ]
  },
  {
   "cell_type": "code",
   "execution_count": 20,
   "metadata": {
    "vscode": {
     "languageId": "r"
    }
   },
   "outputs": [
    {
     "data": {
      "text/plain": [
       "\n",
       "Call:\n",
       "lm(formula = count ~ spray, data = InsectSprays_no_outliers)\n",
       "\n",
       "Residuals:\n",
       "    Min      1Q  Median      3Q     Max \n",
       "-3.1429 -1.0682  0.0000  0.8571  3.0000 \n",
       "\n",
       "Coefficients:\n",
       "            Estimate Std. Error t value Pr(>|t|)    \n",
       "(Intercept)  14.4000     0.6909  20.843  < 2e-16 ***\n",
       "sprayA       -0.4000     0.9355  -0.428   0.6709    \n",
       "sprayB        1.7429     0.9046   1.927   0.0602 .  \n",
       "sprayC      -12.7636     0.8332 -15.318  < 2e-16 ***\n",
       "sprayD      -10.1273     0.8332 -12.154 5.79e-16 ***\n",
       "sprayE      -10.9000     0.8223 -13.255  < 2e-16 ***\n",
       "---\n",
       "Signif. codes:  0 ‘***’ 0.001 ‘**’ 0.01 ‘*’ 0.05 ‘.’ 0.1 ‘ ’ 1\n",
       "\n",
       "Residual standard error: 1.545 on 46 degrees of freedom\n",
       "Multiple R-squared:  0.9392,\tAdjusted R-squared:  0.9326 \n",
       "F-statistic: 142.1 on 5 and 46 DF,  p-value: < 2.2e-16\n"
      ]
     },
     "metadata": {},
     "output_type": "display_data"
    }
   ],
   "source": [
    "summary(model_no_outliers)"
   ]
  },
  {
   "cell_type": "markdown",
   "metadata": {},
   "source": [
    "<b>Modelo_1:</b> <br>\n",
    "Multiple R-squared:  $0.7244$,\tAdjusted R-squared:  $0.7036$ <br>\n",
    "F-statistic:  $34.7$ on 5 and 66 DF,  p-value: < $2.2e-16$<br>\n",
    "<br>\n",
    "<b>No Outliers:</b> <br>\n",
    "Multiple R-squared:  $0.9392$,\tAdjusted R-squared:  $0.9326$ <br>\n",
    "F-statistic: $142.1$ on 5 and 46 DF,  p-value: < $2.2e-16$ <br>"
   ]
  },
  {
   "cell_type": "markdown",
   "metadata": {},
   "source": [
    "* El modelo sin los datos atipicos resulta ser mejor, como indica el R2 ajustado. El p-value para el estadistico F es pequeño para ambos modelos.\n"
   ]
  },
  {
   "cell_type": "markdown",
   "metadata": {},
   "source": [
    "<b> Describimos el mejor modelo obtenido: </b>"
   ]
  },
  {
   "cell_type": "markdown",
   "metadata": {},
   "source": [
    "* En este, el modelo propuesto es:\n",
    "$$ count = 14.4 - 0.4 * sprayA + 1.7429 * sprayB - 12.7636 * sprayC - 10.1273 * sprayD - 10.9000 * sprayE $$\n",
    "* el cual es significativo debido al valor pequeño del $p-value$ <br>\n",
    "* donde el $incecticida \\hspace{1mm} C$ tiene el mayor impacto en la disminución del numero de mosquitos, ademas de con un nivel de significancia de $***$, aunque no muy por detrás queda el $incecticida \\hspace{1mm} E$ "
   ]
  },
  {
   "cell_type": "markdown",
   "metadata": {},
   "source": [
    "<b>(g)</b> Después de analizar los resultados desarrolle sus conclusiones y sugerencias para un hipotético agricultor"
   ]
  },
  {
   "cell_type": "markdown",
   "metadata": {},
   "source": [
    "* Mi sugerencia sería irse primero por utilizar el insecticida C, y como segunda opcion tener el E, ya que en todos los modelos estos demuestran ser los que tienen mas infuencia, ninguno muy por delante del otro, por lo que la segunda opcion tambien es viable."
   ]
  },
  {
   "cell_type": "markdown",
   "metadata": {},
   "source": [
    "<h2>Ejercicio 3 </h2>"
   ]
  },
  {
   "cell_type": "markdown",
   "metadata": {},
   "source": [
    "En relación al ejercicio 2, comparar ambos modelos a través del criterio de\n",
    "<b>Akaike</b>. Utilice la función $AIC$ y una implementación propia. ¿Es justa su comparación?"
   ]
  },
  {
   "cell_type": "markdown",
   "metadata": {},
   "source": [
    "$$ AIC = -2l + 2p $$"
   ]
  },
  {
   "cell_type": "code",
   "execution_count": 28,
   "metadata": {
    "vscode": {
     "languageId": "r"
    }
   },
   "outputs": [
    {
     "name": "stdout",
     "output_type": "stream",
     "text": [
      "[1] \"AIC model_1:  408.849370088124\"\n",
      "[1] \"AIC model_n_o:  200.427900477599\"\n"
     ]
    }
   ],
   "source": [
    "aic_1 <- AIC(model_1)\n",
    "aic_2 <- AIC(model_no_outliers)\n",
    "\n",
    "print(paste(\"AIC model_1: \", aic_1))\n",
    "print(paste(\"AIC model_n_o: \", aic_2))"
   ]
  },
  {
   "cell_type": "code",
   "execution_count": 29,
   "metadata": {
    "vscode": {
     "languageId": "r"
    }
   },
   "outputs": [
    {
     "name": "stdout",
     "output_type": "stream",
     "text": [
      "[1] \"AIC Modelo 1:  408.849370088124\"\n",
      "[1] \"AIC Modelo 2:  200.427900477599\"\n"
     ]
    }
   ],
   "source": [
    "#para calcular el AIC\n",
    "aic_max <- function(model) {\n",
    "  p <- length(coef(model))\n",
    "  l <- sum(logLik(model))\n",
    "  aic <- -2*l + 2*(p+1)\n",
    "\n",
    "  return(aic)\n",
    "}\n",
    "\n",
    "\n",
    "aic_model_1 <- aic_max(model_1)\n",
    "aic_model_2 <- aic_max(model_no_outliers)\n",
    "\n",
    "print(paste(\"AIC modelo 1: \", aic_model_1))\n",
    "print(paste(\"AIC model_n_o: \", aic_model_2))"
   ]
  },
  {
   "cell_type": "markdown",
   "metadata": {},
   "source": [
    "* al ser el que tiene un AIC mas bajo, concluímos que el modelo sin los posibles datos atipicos $model\\_no\\_outliers$ es el mas adecuado\n",
    "* obtuvimos los mismos valores, parece justa la comparacion"
   ]
  },
  {
   "cell_type": "markdown",
   "metadata": {},
   "source": []
  }
 ],
 "metadata": {
  "kernelspec": {
   "display_name": "R",
   "language": "R",
   "name": "ir"
  },
  "language_info": {
   "codemirror_mode": "r",
   "file_extension": ".r",
   "mimetype": "text/x-r-source",
   "name": "R",
   "pygments_lexer": "r",
   "version": "4.1.2"
  }
 },
 "nbformat": 4,
 "nbformat_minor": 2
}

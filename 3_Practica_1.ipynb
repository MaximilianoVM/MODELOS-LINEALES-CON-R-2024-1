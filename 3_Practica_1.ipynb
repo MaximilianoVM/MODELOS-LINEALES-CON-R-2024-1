{
 "cells": [
  {
   "cell_type": "markdown",
   "metadata": {},
   "source": [
    "<h1>Práctica 1: Regresión lineal con R (1ra parte)</h1>\n",
    "\n",
    "<i>\n",
    "Maximiliano Vaca Montejano <br>\n",
    "364897 <br>\n",
    "maximiliano.vaca@uabc.edu.mx\n",
    "</i>"
   ]
  },
  {
   "cell_type": "markdown",
   "metadata": {},
   "source": [
    "<h2>Ejercicio 1 </h2>"
   ]
  },
  {
   "cell_type": "markdown",
   "metadata": {},
   "source": [
    "<b>(a)</b> Genera un data frame compuesto de la informaci´on de un examen para 10 alumnos (hipotéticos):\n",
    "* Nombre.\n",
    "* Calificación.\n",
    "* Número de veces que ha presentado el examen (Intentos).\n",
    "* Aprobado o no."
   ]
  },
  {
   "cell_type": "markdown",
   "metadata": {},
   "source": [
    "* definimos un vector para cada columna de lo que será el dataframe"
   ]
  },
  {
   "cell_type": "code",
   "execution_count": 155,
   "metadata": {
    "vscode": {
     "languageId": "r"
    }
   },
   "outputs": [],
   "source": [
    "Nombre <- c(\"Max\", \"Samuel\", \"Michel\", \"Alondra\", \"Asael\", \n",
    "            \"Valeria\", \"Raul\", \"Paola\", \"Carlos\", \"Sergio\")"
   ]
  },
  {
   "cell_type": "code",
   "execution_count": 156,
   "metadata": {
    "vscode": {
     "languageId": "r"
    }
   },
   "outputs": [],
   "source": [
    "Calificacion <- c(47, 92, 85, 75, 52,\n",
    "                  85, 55, 95, 97, 65)"
   ]
  },
  {
   "cell_type": "code",
   "execution_count": 157,
   "metadata": {
    "vscode": {
     "languageId": "r"
    }
   },
   "outputs": [],
   "source": [
    "Intentos <- c(1, 2, 2, 3, 1, \n",
    "              1, 2, 3, 1, 1)"
   ]
  },
  {
   "cell_type": "markdown",
   "metadata": {},
   "source": [
    "* hacemos uso de un condicional para simplificar el arreglo de aprobados"
   ]
  },
  {
   "cell_type": "code",
   "execution_count": 158,
   "metadata": {
    "vscode": {
     "languageId": "r"
    }
   },
   "outputs": [
    {
     "name": "stdout",
     "output_type": "stream",
     "text": [
      " [1] FALSE  TRUE  TRUE  TRUE FALSE  TRUE FALSE  TRUE  TRUE  TRUE\n"
     ]
    }
   ],
   "source": [
    "Aprobado <- c(Calificacion>60)\n",
    "\n",
    "print(Aprobado)"
   ]
  },
  {
   "cell_type": "markdown",
   "metadata": {},
   "source": [
    "* definimos el dataframe, instertando como parametros los vectores columna anteriormente definidos, especificando que no convierta automaticamente los strings a factores, por los nombres"
   ]
  },
  {
   "cell_type": "code",
   "execution_count": 159,
   "metadata": {
    "vscode": {
     "languageId": "r"
    }
   },
   "outputs": [
    {
     "data": {
      "text/html": [
       "<table>\n",
       "<thead><tr><th scope=col>Nombre</th><th scope=col>Calificacion</th><th scope=col>Intentos</th><th scope=col>Aprobado</th></tr></thead>\n",
       "<tbody>\n",
       "\t<tr><td>Max    </td><td>47     </td><td>1      </td><td>FALSE  </td></tr>\n",
       "\t<tr><td>Samuel </td><td>92     </td><td>2      </td><td> TRUE  </td></tr>\n",
       "\t<tr><td>Michel </td><td>85     </td><td>2      </td><td> TRUE  </td></tr>\n",
       "\t<tr><td>Alondra</td><td>75     </td><td>3      </td><td> TRUE  </td></tr>\n",
       "\t<tr><td>Asael  </td><td>52     </td><td>1      </td><td>FALSE  </td></tr>\n",
       "\t<tr><td>Valeria</td><td>85     </td><td>1      </td><td> TRUE  </td></tr>\n",
       "\t<tr><td>Raul   </td><td>55     </td><td>2      </td><td>FALSE  </td></tr>\n",
       "\t<tr><td>Paola  </td><td>95     </td><td>3      </td><td> TRUE  </td></tr>\n",
       "\t<tr><td>Carlos </td><td>97     </td><td>1      </td><td> TRUE  </td></tr>\n",
       "\t<tr><td>Sergio </td><td>65     </td><td>1      </td><td> TRUE  </td></tr>\n",
       "</tbody>\n",
       "</table>\n"
      ],
      "text/latex": [
       "\\begin{tabular}{r|llll}\n",
       " Nombre & Calificacion & Intentos & Aprobado\\\\\n",
       "\\hline\n",
       "\t Max     & 47      & 1       & FALSE  \\\\\n",
       "\t Samuel  & 92      & 2       &  TRUE  \\\\\n",
       "\t Michel  & 85      & 2       &  TRUE  \\\\\n",
       "\t Alondra & 75      & 3       &  TRUE  \\\\\n",
       "\t Asael   & 52      & 1       & FALSE  \\\\\n",
       "\t Valeria & 85      & 1       &  TRUE  \\\\\n",
       "\t Raul    & 55      & 2       & FALSE  \\\\\n",
       "\t Paola   & 95      & 3       &  TRUE  \\\\\n",
       "\t Carlos  & 97      & 1       &  TRUE  \\\\\n",
       "\t Sergio  & 65      & 1       &  TRUE  \\\\\n",
       "\\end{tabular}\n"
      ],
      "text/markdown": [
       "\n",
       "| Nombre | Calificacion | Intentos | Aprobado |\n",
       "|---|---|---|---|\n",
       "| Max     | 47      | 1       | FALSE   |\n",
       "| Samuel  | 92      | 2       |  TRUE   |\n",
       "| Michel  | 85      | 2       |  TRUE   |\n",
       "| Alondra | 75      | 3       |  TRUE   |\n",
       "| Asael   | 52      | 1       | FALSE   |\n",
       "| Valeria | 85      | 1       |  TRUE   |\n",
       "| Raul    | 55      | 2       | FALSE   |\n",
       "| Paola   | 95      | 3       |  TRUE   |\n",
       "| Carlos  | 97      | 1       |  TRUE   |\n",
       "| Sergio  | 65      | 1       |  TRUE   |\n",
       "\n"
      ],
      "text/plain": [
       "   Nombre  Calificacion Intentos Aprobado\n",
       "1  Max     47           1        FALSE   \n",
       "2  Samuel  92           2         TRUE   \n",
       "3  Michel  85           2         TRUE   \n",
       "4  Alondra 75           3         TRUE   \n",
       "5  Asael   52           1        FALSE   \n",
       "6  Valeria 85           1         TRUE   \n",
       "7  Raul    55           2        FALSE   \n",
       "8  Paola   95           3         TRUE   \n",
       "9  Carlos  97           1         TRUE   \n",
       "10 Sergio  65           1         TRUE   "
      ]
     },
     "metadata": {},
     "output_type": "display_data"
    }
   ],
   "source": [
    "df <- data.frame(Nombre, Calificacion, Intentos, Aprobado \n",
    "                ,stringsAsFactors=FALSE)\n",
    "                #,stringsAsFactors=FALSE\n",
    "\n",
    "df"
   ]
  },
  {
   "cell_type": "code",
   "execution_count": 160,
   "metadata": {
    "vscode": {
     "languageId": "r"
    }
   },
   "outputs": [
    {
     "name": "stdout",
     "output_type": "stream",
     "text": [
      "'data.frame':\t10 obs. of  4 variables:\n",
      " $ Nombre      : chr  \"Max\" \"Samuel\" \"Michel\" \"Alondra\" ...\n",
      " $ Calificacion: num  47 92 85 75 52 85 55 95 97 65\n",
      " $ Intentos    : num  1 2 2 3 1 1 2 3 1 1\n",
      " $ Aprobado    : logi  FALSE TRUE TRUE TRUE FALSE TRUE ...\n"
     ]
    }
   ],
   "source": [
    "str(df)"
   ]
  },
  {
   "cell_type": "code",
   "execution_count": 161,
   "metadata": {
    "vscode": {
     "languageId": "r"
    }
   },
   "outputs": [],
   "source": [
    "# Convertir la columna 'Aprobado' a factores\n",
    "df$Aprobado <- as.factor(df$Aprobado)"
   ]
  },
  {
   "cell_type": "code",
   "execution_count": 162,
   "metadata": {
    "vscode": {
     "languageId": "r"
    }
   },
   "outputs": [
    {
     "name": "stdout",
     "output_type": "stream",
     "text": [
      "'data.frame':\t10 obs. of  4 variables:\n",
      " $ Nombre      : chr  \"Max\" \"Samuel\" \"Michel\" \"Alondra\" ...\n",
      " $ Calificacion: num  47 92 85 75 52 85 55 95 97 65\n",
      " $ Intentos    : num  1 2 2 3 1 1 2 3 1 1\n",
      " $ Aprobado    : Factor w/ 2 levels \"FALSE\",\"TRUE\": 1 2 2 2 1 2 1 2 2 2\n"
     ]
    }
   ],
   "source": [
    "str(df)"
   ]
  },
  {
   "cell_type": "markdown",
   "metadata": {},
   "source": [
    "<b>(b)</b>  Imprima el renglón 3 y 5 con la información de la primera y tercer columna."
   ]
  },
  {
   "cell_type": "code",
   "execution_count": 163,
   "metadata": {
    "vscode": {
     "languageId": "r"
    }
   },
   "outputs": [
    {
     "data": {
      "text/html": [
       "<table>\n",
       "<thead><tr><th></th><th scope=col>Nombre</th><th scope=col>Intentos</th></tr></thead>\n",
       "<tbody>\n",
       "\t<tr><th scope=row>3</th><td>Michel</td><td>2     </td></tr>\n",
       "\t<tr><th scope=row>5</th><td>Asael </td><td>1     </td></tr>\n",
       "</tbody>\n",
       "</table>\n"
      ],
      "text/latex": [
       "\\begin{tabular}{r|ll}\n",
       "  & Nombre & Intentos\\\\\n",
       "\\hline\n",
       "\t3 & Michel & 2     \\\\\n",
       "\t5 & Asael  & 1     \\\\\n",
       "\\end{tabular}\n"
      ],
      "text/markdown": [
       "\n",
       "| <!--/--> | Nombre | Intentos |\n",
       "|---|---|---|\n",
       "| 3 | Michel | 2      |\n",
       "| 5 | Asael  | 1      |\n",
       "\n"
      ],
      "text/plain": [
       "  Nombre Intentos\n",
       "3 Michel 2       \n",
       "5 Asael  1       "
      ]
     },
     "metadata": {},
     "output_type": "display_data"
    }
   ],
   "source": [
    "df[c(3,5), c(1,3)]"
   ]
  },
  {
   "cell_type": "markdown",
   "metadata": {},
   "source": [
    "<b>(c)</b> Añada dos nuevos renglones con la información de dos alumnos."
   ]
  },
  {
   "cell_type": "markdown",
   "metadata": {},
   "source": [
    "definimos un dataframe provisional, para despues añadirlo al original"
   ]
  },
  {
   "cell_type": "code",
   "execution_count": 164,
   "metadata": {
    "vscode": {
     "languageId": "r"
    }
   },
   "outputs": [
    {
     "data": {
      "text/html": [
       "<table>\n",
       "<thead><tr><th scope=col>Nombre</th><th scope=col>Calificacion</th><th scope=col>Intentos</th><th scope=col>Aprobado</th></tr></thead>\n",
       "<tbody>\n",
       "\t<tr><td>Max     </td><td>47      </td><td>1       </td><td>FALSE   </td></tr>\n",
       "\t<tr><td>Samuel  </td><td>92      </td><td>2       </td><td>TRUE    </td></tr>\n",
       "\t<tr><td>Michel  </td><td>85      </td><td>2       </td><td>TRUE    </td></tr>\n",
       "\t<tr><td>Alondra </td><td>75      </td><td>3       </td><td>TRUE    </td></tr>\n",
       "\t<tr><td>Asael   </td><td>52      </td><td>1       </td><td>FALSE   </td></tr>\n",
       "\t<tr><td>Valeria </td><td>85      </td><td>1       </td><td>TRUE    </td></tr>\n",
       "\t<tr><td>Raul    </td><td>55      </td><td>2       </td><td>FALSE   </td></tr>\n",
       "\t<tr><td>Paola   </td><td>95      </td><td>3       </td><td>TRUE    </td></tr>\n",
       "\t<tr><td>Carlos  </td><td>97      </td><td>1       </td><td>TRUE    </td></tr>\n",
       "\t<tr><td>Sergio  </td><td>65      </td><td>1       </td><td>TRUE    </td></tr>\n",
       "\t<tr><td>Fernando</td><td>65      </td><td>2       </td><td>TRUE    </td></tr>\n",
       "\t<tr><td>Isaac   </td><td>78      </td><td>1       </td><td>TRUE    </td></tr>\n",
       "</tbody>\n",
       "</table>\n"
      ],
      "text/latex": [
       "\\begin{tabular}{r|llll}\n",
       " Nombre & Calificacion & Intentos & Aprobado\\\\\n",
       "\\hline\n",
       "\t Max      & 47       & 1        & FALSE   \\\\\n",
       "\t Samuel   & 92       & 2        & TRUE    \\\\\n",
       "\t Michel   & 85       & 2        & TRUE    \\\\\n",
       "\t Alondra  & 75       & 3        & TRUE    \\\\\n",
       "\t Asael    & 52       & 1        & FALSE   \\\\\n",
       "\t Valeria  & 85       & 1        & TRUE    \\\\\n",
       "\t Raul     & 55       & 2        & FALSE   \\\\\n",
       "\t Paola    & 95       & 3        & TRUE    \\\\\n",
       "\t Carlos   & 97       & 1        & TRUE    \\\\\n",
       "\t Sergio   & 65       & 1        & TRUE    \\\\\n",
       "\t Fernando & 65       & 2        & TRUE    \\\\\n",
       "\t Isaac    & 78       & 1        & TRUE    \\\\\n",
       "\\end{tabular}\n"
      ],
      "text/markdown": [
       "\n",
       "| Nombre | Calificacion | Intentos | Aprobado |\n",
       "|---|---|---|---|\n",
       "| Max      | 47       | 1        | FALSE    |\n",
       "| Samuel   | 92       | 2        | TRUE     |\n",
       "| Michel   | 85       | 2        | TRUE     |\n",
       "| Alondra  | 75       | 3        | TRUE     |\n",
       "| Asael    | 52       | 1        | FALSE    |\n",
       "| Valeria  | 85       | 1        | TRUE     |\n",
       "| Raul     | 55       | 2        | FALSE    |\n",
       "| Paola    | 95       | 3        | TRUE     |\n",
       "| Carlos   | 97       | 1        | TRUE     |\n",
       "| Sergio   | 65       | 1        | TRUE     |\n",
       "| Fernando | 65       | 2        | TRUE     |\n",
       "| Isaac    | 78       | 1        | TRUE     |\n",
       "\n"
      ],
      "text/plain": [
       "   Nombre   Calificacion Intentos Aprobado\n",
       "1  Max      47           1        FALSE   \n",
       "2  Samuel   92           2        TRUE    \n",
       "3  Michel   85           2        TRUE    \n",
       "4  Alondra  75           3        TRUE    \n",
       "5  Asael    52           1        FALSE   \n",
       "6  Valeria  85           1        TRUE    \n",
       "7  Raul     55           2        FALSE   \n",
       "8  Paola    95           3        TRUE    \n",
       "9  Carlos   97           1        TRUE    \n",
       "10 Sergio   65           1        TRUE    \n",
       "11 Fernando 65           2        TRUE    \n",
       "12 Isaac    78           1        TRUE    "
      ]
     },
     "metadata": {},
     "output_type": "display_data"
    }
   ],
   "source": [
    "nuevos_renglones <- data.frame(\n",
    "    Nombre= c(\"Fernando\", \"Isaac\"), \n",
    "    Calificacion= c(65, 78), \n",
    "    Intentos= c(2, 1), \n",
    "    Aprobado= c(TRUE, TRUE)\n",
    ")\n",
    "\n",
    "df <- rbind(df, nuevos_renglones)\n",
    "\n",
    "df"
   ]
  },
  {
   "cell_type": "markdown",
   "metadata": {},
   "source": [
    "<b>(d)</b> Guarde la información de la hoja de datos en un archivo de datos con extensión .csv"
   ]
  },
  {
   "cell_type": "markdown",
   "metadata": {},
   "source": [
    "el parametro row.names=FALSE es importante porque si no toma la primer columna como los nombres de las filas "
   ]
  },
  {
   "cell_type": "code",
   "execution_count": 165,
   "metadata": {
    "vscode": {
     "languageId": "r"
    }
   },
   "outputs": [],
   "source": [
    "write.csv(df, file = \"practica1.csv\", row.names=FALSE)"
   ]
  },
  {
   "cell_type": "markdown",
   "metadata": {},
   "source": [
    "<b>(e)</b> Abra el archivo y asigne la información a una nueva variable."
   ]
  },
  {
   "cell_type": "code",
   "execution_count": 166,
   "metadata": {
    "vscode": {
     "languageId": "r"
    }
   },
   "outputs": [
    {
     "data": {
      "text/html": [
       "<table>\n",
       "<thead><tr><th scope=col>Nombre</th><th scope=col>Calificacion</th><th scope=col>Intentos</th><th scope=col>Aprobado</th></tr></thead>\n",
       "<tbody>\n",
       "\t<tr><td>Max     </td><td>47      </td><td>1       </td><td>FALSE   </td></tr>\n",
       "\t<tr><td>Samuel  </td><td>92      </td><td>2       </td><td> TRUE   </td></tr>\n",
       "\t<tr><td>Michel  </td><td>85      </td><td>2       </td><td> TRUE   </td></tr>\n",
       "\t<tr><td>Alondra </td><td>75      </td><td>3       </td><td> TRUE   </td></tr>\n",
       "\t<tr><td>Asael   </td><td>52      </td><td>1       </td><td>FALSE   </td></tr>\n",
       "\t<tr><td>Valeria </td><td>85      </td><td>1       </td><td> TRUE   </td></tr>\n",
       "\t<tr><td>Raul    </td><td>55      </td><td>2       </td><td>FALSE   </td></tr>\n",
       "\t<tr><td>Paola   </td><td>95      </td><td>3       </td><td> TRUE   </td></tr>\n",
       "\t<tr><td>Carlos  </td><td>97      </td><td>1       </td><td> TRUE   </td></tr>\n",
       "\t<tr><td>Sergio  </td><td>65      </td><td>1       </td><td> TRUE   </td></tr>\n",
       "\t<tr><td>Fernando</td><td>65      </td><td>2       </td><td> TRUE   </td></tr>\n",
       "\t<tr><td>Isaac   </td><td>78      </td><td>1       </td><td> TRUE   </td></tr>\n",
       "</tbody>\n",
       "</table>\n"
      ],
      "text/latex": [
       "\\begin{tabular}{r|llll}\n",
       " Nombre & Calificacion & Intentos & Aprobado\\\\\n",
       "\\hline\n",
       "\t Max      & 47       & 1        & FALSE   \\\\\n",
       "\t Samuel   & 92       & 2        &  TRUE   \\\\\n",
       "\t Michel   & 85       & 2        &  TRUE   \\\\\n",
       "\t Alondra  & 75       & 3        &  TRUE   \\\\\n",
       "\t Asael    & 52       & 1        & FALSE   \\\\\n",
       "\t Valeria  & 85       & 1        &  TRUE   \\\\\n",
       "\t Raul     & 55       & 2        & FALSE   \\\\\n",
       "\t Paola    & 95       & 3        &  TRUE   \\\\\n",
       "\t Carlos   & 97       & 1        &  TRUE   \\\\\n",
       "\t Sergio   & 65       & 1        &  TRUE   \\\\\n",
       "\t Fernando & 65       & 2        &  TRUE   \\\\\n",
       "\t Isaac    & 78       & 1        &  TRUE   \\\\\n",
       "\\end{tabular}\n"
      ],
      "text/markdown": [
       "\n",
       "| Nombre | Calificacion | Intentos | Aprobado |\n",
       "|---|---|---|---|\n",
       "| Max      | 47       | 1        | FALSE    |\n",
       "| Samuel   | 92       | 2        |  TRUE    |\n",
       "| Michel   | 85       | 2        |  TRUE    |\n",
       "| Alondra  | 75       | 3        |  TRUE    |\n",
       "| Asael    | 52       | 1        | FALSE    |\n",
       "| Valeria  | 85       | 1        |  TRUE    |\n",
       "| Raul     | 55       | 2        | FALSE    |\n",
       "| Paola    | 95       | 3        |  TRUE    |\n",
       "| Carlos   | 97       | 1        |  TRUE    |\n",
       "| Sergio   | 65       | 1        |  TRUE    |\n",
       "| Fernando | 65       | 2        |  TRUE    |\n",
       "| Isaac    | 78       | 1        |  TRUE    |\n",
       "\n"
      ],
      "text/plain": [
       "   Nombre   Calificacion Intentos Aprobado\n",
       "1  Max      47           1        FALSE   \n",
       "2  Samuel   92           2         TRUE   \n",
       "3  Michel   85           2         TRUE   \n",
       "4  Alondra  75           3         TRUE   \n",
       "5  Asael    52           1        FALSE   \n",
       "6  Valeria  85           1         TRUE   \n",
       "7  Raul     55           2        FALSE   \n",
       "8  Paola    95           3         TRUE   \n",
       "9  Carlos   97           1         TRUE   \n",
       "10 Sergio   65           1         TRUE   \n",
       "11 Fernando 65           2         TRUE   \n",
       "12 Isaac    78           1         TRUE   "
      ]
     },
     "metadata": {},
     "output_type": "display_data"
    }
   ],
   "source": [
    "df_2 <- read.csv(file = \"practica1.csv\", header = TRUE,  sep = \",\", row.names = NULL,  stringsAsFactors = FALSE)\n",
    "\n",
    "df_2"
   ]
  },
  {
   "cell_type": "code",
   "execution_count": 167,
   "metadata": {
    "vscode": {
     "languageId": "r"
    }
   },
   "outputs": [
    {
     "data": {
      "text/html": [
       "<ol class=list-inline>\n",
       "\t<li>47</li>\n",
       "\t<li>92</li>\n",
       "\t<li>85</li>\n",
       "\t<li>75</li>\n",
       "\t<li>52</li>\n",
       "\t<li>85</li>\n",
       "\t<li>55</li>\n",
       "\t<li>95</li>\n",
       "\t<li>97</li>\n",
       "\t<li>65</li>\n",
       "\t<li>65</li>\n",
       "\t<li>78</li>\n",
       "</ol>\n"
      ],
      "text/latex": [
       "\\begin{enumerate*}\n",
       "\\item 47\n",
       "\\item 92\n",
       "\\item 85\n",
       "\\item 75\n",
       "\\item 52\n",
       "\\item 85\n",
       "\\item 55\n",
       "\\item 95\n",
       "\\item 97\n",
       "\\item 65\n",
       "\\item 65\n",
       "\\item 78\n",
       "\\end{enumerate*}\n"
      ],
      "text/markdown": [
       "1. 47\n",
       "2. 92\n",
       "3. 85\n",
       "4. 75\n",
       "5. 52\n",
       "6. 85\n",
       "7. 55\n",
       "8. 95\n",
       "9. 97\n",
       "10. 65\n",
       "11. 65\n",
       "12. 78\n",
       "\n",
       "\n"
      ],
      "text/plain": [
       " [1] 47 92 85 75 52 85 55 95 97 65 65 78"
      ]
     },
     "metadata": {},
     "output_type": "display_data"
    }
   ],
   "source": [
    "df_2$Calificacion"
   ]
  },
  {
   "cell_type": "markdown",
   "metadata": {},
   "source": [
    "<b>(f)</b> Grafique Calificación vs. Intentos."
   ]
  },
  {
   "cell_type": "code",
   "execution_count": 222,
   "metadata": {
    "vscode": {
     "languageId": "r"
    }
   },
   "outputs": [
    {
     "data": {
      "image/png": "[encoded data removed]",
      "text/plain": [
       "Plot with title \"Calificación vs. Intentos\""
      ]
     },
     "metadata": {},
     "output_type": "display_data"
    }
   ],
   "source": [
    "plot(df_2$Calificacion, df_2$Intentos, main=\"Calificación vs. Intentos\", \n",
    "    xlab=\"Calificación\", ylab=\"Intentos\", pch=16, col='purple')\n",
    "\n",
    "#plot(df_2$Intentos, df_2$Calificacion, main=\"Calificación vs. Intentos\", \n",
    "#    xlab=\"Intentos\", ylab=\"Calificación\", pch=16, col='purple')"
   ]
  },
  {
   "cell_type": "markdown",
   "metadata": {},
   "source": [
    "<b>(g)</b> Grafique el histograma de Calificación e Intentos en un lienzo con dos subfiguras."
   ]
  },
  {
   "cell_type": "code",
   "execution_count": 216,
   "metadata": {
    "vscode": {
     "languageId": "r"
    }
   },
   "outputs": [
    {
     "data": {
      "image/png": "[encoded data removed]",
      "text/plain": [
       "Plot with title \"Histograma\""
      ]
     },
     "metadata": {},
     "output_type": "display_data"
    }
   ],
   "source": [
    "# Configurar el diseño del lienzo\n",
    "par(mfrow = c(1, 2))\n",
    "\n",
    "hist(df_2$Calificacion, main = \"Histograma\", xlab = \"Calificación\", ylab = \"Frecuencia\", col = \"purple\", border = \"green\")\n",
    "hist(df_2$Intentos, main = \"Histograma\", xlab = \"Intentos\", ylab = \"Frecuencia\", col = \"red\", border = \"black\")\n",
    "\n",
    "par(mfrow = c(1, 1))"
   ]
  },
  {
   "cell_type": "markdown",
   "metadata": {},
   "source": [
    "<b>(h)</b> Modifique los valores por defecto de los gráficos (colores, tipo de línea, dimensiones, etc.)"
   ]
  },
  {
   "cell_type": "code",
   "execution_count": null,
   "metadata": {
    "vscode": {
     "languageId": "r"
    }
   },
   "outputs": [],
   "source": []
  }
 ],
 "metadata": {
  "kernelspec": {
   "display_name": "R",
   "language": "R",
   "name": "ir"
  },
  "language_info": {
   "codemirror_mode": "r",
   "file_extension": ".r",
   "mimetype": "text/x-r-source",
   "name": "R",
   "pygments_lexer": "r",
   "version": "4.1.2"
  }
 },
 "nbformat": 4,
 "nbformat_minor": 4
}

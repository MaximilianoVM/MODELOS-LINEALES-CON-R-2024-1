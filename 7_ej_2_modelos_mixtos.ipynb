{
 "cells": [
  {
   "cell_type": "markdown",
   "metadata": {},
   "source": [
    "<h1>Modelos Lineales Mixtos</h1>\n",
    "<h2> Ejemplo guía #2: Modelo con un factor </h2>"
   ]
  },
  {
   "cell_type": "markdown",
   "metadata": {},
   "source": [
    "*  los ingenieros necesitan conocer el tiempo de viaje promedio de los rieles y la variabilidad esperada entre rieles, así como la variabilidaden el proceso de medición\n",
    "* El marco de datos Rail disponible con el paquete Rnlme   proporciona 3 medicionesdel tiempo de viaje para cada uno de los 6 rieles elegidos al azar\n",
    "$$\\overline{y_k} = \\alpha_j + e_k$$"
   ]
  },
  {
   "cell_type": "markdown",
   "metadata": {},
   "source": [
    "primero examinamos los datos"
   ]
  },
  {
   "cell_type": "code",
   "execution_count": 8,
   "metadata": {
    "vscode": {
     "languageId": "r"
    }
   },
   "outputs": [
    {
     "data": {
      "text/html": [
       "<table class=\"dataframe\">\n",
       "<caption>A nffGroupedData: 18 × 2</caption>\n",
       "<thead>\n",
       "\t<tr><th></th><th scope=col>Rail</th><th scope=col>travel</th></tr>\n",
       "\t<tr><th></th><th scope=col>&lt;ord&gt;</th><th scope=col>&lt;dbl&gt;</th></tr>\n",
       "</thead>\n",
       "<tbody>\n",
       "\t<tr><th scope=row>1</th><td>1</td><td> 55</td></tr>\n",
       "\t<tr><th scope=row>2</th><td>1</td><td> 53</td></tr>\n",
       "\t<tr><th scope=row>3</th><td>1</td><td> 54</td></tr>\n",
       "\t<tr><th scope=row>4</th><td>2</td><td> 26</td></tr>\n",
       "\t<tr><th scope=row>5</th><td>2</td><td> 37</td></tr>\n",
       "\t<tr><th scope=row>6</th><td>2</td><td> 32</td></tr>\n",
       "\t<tr><th scope=row>7</th><td>3</td><td> 78</td></tr>\n",
       "\t<tr><th scope=row>8</th><td>3</td><td> 91</td></tr>\n",
       "\t<tr><th scope=row>9</th><td>3</td><td> 85</td></tr>\n",
       "\t<tr><th scope=row>10</th><td>4</td><td> 92</td></tr>\n",
       "\t<tr><th scope=row>11</th><td>4</td><td>100</td></tr>\n",
       "\t<tr><th scope=row>12</th><td>4</td><td> 96</td></tr>\n",
       "\t<tr><th scope=row>13</th><td>5</td><td> 49</td></tr>\n",
       "\t<tr><th scope=row>14</th><td>5</td><td> 51</td></tr>\n",
       "\t<tr><th scope=row>15</th><td>5</td><td> 50</td></tr>\n",
       "\t<tr><th scope=row>16</th><td>6</td><td> 80</td></tr>\n",
       "\t<tr><th scope=row>17</th><td>6</td><td> 85</td></tr>\n",
       "\t<tr><th scope=row>18</th><td>6</td><td> 83</td></tr>\n",
       "</tbody>\n",
       "</table>\n"
      ],
      "text/latex": [
       "A nffGroupedData: 18 × 2\n",
       "\\begin{tabular}{r|ll}\n",
       "  & Rail & travel\\\\\n",
       "  & <ord> & <dbl>\\\\\n",
       "\\hline\n",
       "\t1 & 1 &  55\\\\\n",
       "\t2 & 1 &  53\\\\\n",
       "\t3 & 1 &  54\\\\\n",
       "\t4 & 2 &  26\\\\\n",
       "\t5 & 2 &  37\\\\\n",
       "\t6 & 2 &  32\\\\\n",
       "\t7 & 3 &  78\\\\\n",
       "\t8 & 3 &  91\\\\\n",
       "\t9 & 3 &  85\\\\\n",
       "\t10 & 4 &  92\\\\\n",
       "\t11 & 4 & 100\\\\\n",
       "\t12 & 4 &  96\\\\\n",
       "\t13 & 5 &  49\\\\\n",
       "\t14 & 5 &  51\\\\\n",
       "\t15 & 5 &  50\\\\\n",
       "\t16 & 6 &  80\\\\\n",
       "\t17 & 6 &  85\\\\\n",
       "\t18 & 6 &  83\\\\\n",
       "\\end{tabular}\n"
      ],
      "text/markdown": [
       "\n",
       "A nffGroupedData: 18 × 2\n",
       "\n",
       "| <!--/--> | Rail &lt;ord&gt; | travel &lt;dbl&gt; |\n",
       "|---|---|---|\n",
       "| 1 | 1 |  55 |\n",
       "| 2 | 1 |  53 |\n",
       "| 3 | 1 |  54 |\n",
       "| 4 | 2 |  26 |\n",
       "| 5 | 2 |  37 |\n",
       "| 6 | 2 |  32 |\n",
       "| 7 | 3 |  78 |\n",
       "| 8 | 3 |  91 |\n",
       "| 9 | 3 |  85 |\n",
       "| 10 | 4 |  92 |\n",
       "| 11 | 4 | 100 |\n",
       "| 12 | 4 |  96 |\n",
       "| 13 | 5 |  49 |\n",
       "| 14 | 5 |  51 |\n",
       "| 15 | 5 |  50 |\n",
       "| 16 | 6 |  80 |\n",
       "| 17 | 6 |  85 |\n",
       "| 18 | 6 |  83 |\n",
       "\n"
      ],
      "text/plain": [
       "   Rail travel\n",
       "1  1     55   \n",
       "2  1     53   \n",
       "3  1     54   \n",
       "4  2     26   \n",
       "5  2     37   \n",
       "6  2     32   \n",
       "7  3     78   \n",
       "8  3     91   \n",
       "9  3     85   \n",
       "10 4     92   \n",
       "11 4    100   \n",
       "12 4     96   \n",
       "13 5     49   \n",
       "14 5     51   \n",
       "15 5     50   \n",
       "16 6     80   \n",
       "17 6     85   \n",
       "18 6     83   "
      ]
     },
     "metadata": {},
     "output_type": "display_data"
    }
   ],
   "source": [
    "library(nlme)\n",
    "data(Rail)\n",
    "Rail"
   ]
  },
  {
   "cell_type": "markdown",
   "metadata": {},
   "source": [
    "Ahora ajuste el modelo $\\overline{y_k} = \\alpha_j + e_k$ como un modelo de efectos fijos y utilice este modelo para probar\n",
    "$$H_0: \\sigma_b^2 = 0$$\n",
    "es decir, para probar la evidencia de diferencias entre rieles."
   ]
  },
  {
   "cell_type": "code",
   "execution_count": 9,
   "metadata": {
    "vscode": {
     "languageId": "r"
    }
   },
   "outputs": [
    {
     "data": {
      "text/plain": [
       "\n",
       "Call:\n",
       "lm(formula = travel ~ Rail, data = Rail)\n",
       "\n",
       "Residuals:\n",
       "    Min      1Q  Median      3Q     Max \n",
       "-6.6667 -1.0000  0.1667  1.0000  6.3333 \n",
       "\n",
       "Coefficients:\n",
       "            Estimate Std. Error t value Pr(>|t|)    \n",
       "(Intercept)  66.5000     0.9477  70.169  < 2e-16 ***\n",
       "Rail.L       54.3032     2.3214  23.392 2.22e-11 ***\n",
       "Rail.Q       -4.6917     2.3214  -2.021 0.066161 .  \n",
       "Rail.C       -2.6584     2.3214  -1.145 0.274458    \n",
       "Rail^4       -0.5669     2.3214  -0.244 0.811181    \n",
       "Rail^5       11.1919     2.3214   4.821 0.000418 ***\n",
       "---\n",
       "Signif. codes:  0 ‘***’ 0.001 ‘**’ 0.01 ‘*’ 0.05 ‘.’ 0.1 ‘ ’ 1\n",
       "\n",
       "Residual standard error: 4.021 on 12 degrees of freedom\n",
       "Multiple R-squared:  0.9796,\tAdjusted R-squared:  0.9711 \n",
       "F-statistic: 115.2 on 5 and 12 DF,  p-value: 1.033e-09\n"
      ]
     },
     "metadata": {},
     "output_type": "display_data"
    }
   ],
   "source": [
    "m1 <- lm(travel ~ Rail, data = Rail)\n",
    "summary(ml)"
   ]
  },
  {
   "cell_type": "code",
   "execution_count": 10,
   "metadata": {
    "vscode": {
     "languageId": "r"
    }
   },
   "outputs": [
    {
     "data": {
      "text/html": [
       "<table class=\"dataframe\">\n",
       "<caption>A anova: 2 × 5</caption>\n",
       "<thead>\n",
       "\t<tr><th></th><th scope=col>Df</th><th scope=col>Sum Sq</th><th scope=col>Mean Sq</th><th scope=col>F value</th><th scope=col>Pr(&gt;F)</th></tr>\n",
       "\t<tr><th></th><th scope=col>&lt;int&gt;</th><th scope=col>&lt;dbl&gt;</th><th scope=col>&lt;dbl&gt;</th><th scope=col>&lt;dbl&gt;</th><th scope=col>&lt;dbl&gt;</th></tr>\n",
       "</thead>\n",
       "<tbody>\n",
       "\t<tr><th scope=row>Rail</th><td> 5</td><td>9310.5</td><td>1862.10000</td><td>115.1814</td><td>1.032673e-09</td></tr>\n",
       "\t<tr><th scope=row>Residuals</th><td>12</td><td> 194.0</td><td>  16.16667</td><td>      NA</td><td>          NA</td></tr>\n",
       "</tbody>\n",
       "</table>\n"
      ],
      "text/latex": [
       "A anova: 2 × 5\n",
       "\\begin{tabular}{r|lllll}\n",
       "  & Df & Sum Sq & Mean Sq & F value & Pr(>F)\\\\\n",
       "  & <int> & <dbl> & <dbl> & <dbl> & <dbl>\\\\\n",
       "\\hline\n",
       "\tRail &  5 & 9310.5 & 1862.10000 & 115.1814 & 1.032673e-09\\\\\n",
       "\tResiduals & 12 &  194.0 &   16.16667 &       NA &           NA\\\\\n",
       "\\end{tabular}\n"
      ],
      "text/markdown": [
       "\n",
       "A anova: 2 × 5\n",
       "\n",
       "| <!--/--> | Df &lt;int&gt; | Sum Sq &lt;dbl&gt; | Mean Sq &lt;dbl&gt; | F value &lt;dbl&gt; | Pr(&gt;F) &lt;dbl&gt; |\n",
       "|---|---|---|---|---|---|\n",
       "| Rail |  5 | 9310.5 | 1862.10000 | 115.1814 | 1.032673e-09 |\n",
       "| Residuals | 12 |  194.0 |   16.16667 |       NA |           NA |\n",
       "\n"
      ],
      "text/plain": [
       "          Df Sum Sq Mean Sq    F value  Pr(>F)      \n",
       "Rail       5 9310.5 1862.10000 115.1814 1.032673e-09\n",
       "Residuals 12  194.0   16.16667       NA           NA"
      ]
     },
     "metadata": {},
     "output_type": "display_data"
    }
   ],
   "source": [
    "anova(m1)"
   ]
  },
  {
   "cell_type": "markdown",
   "metadata": {},
   "source": [
    "Por lo tanto, hay pruebas sólidas para rechazar la hipótesis nula $H_0$ y aceptar como reales las diferencias entre ferrocarriles"
   ]
  },
  {
   "cell_type": "markdown",
   "metadata": {},
   "source": [
    "Como vimos teóricamente, hasta ahora el análisis no difiere del de un modelo de efectos fijos, pero estimar $\\sigma_b^2$ implica promediar en cada nivel del efecto aleatorio y ajustar e lmodelo (3): $$\\overline{y_k} = \\alpha_j + e_k$$ a los promedios resultantes"
   ]
  },
  {
   "cell_type": "markdown",
   "metadata": {},
   "source": [
    "Procedamos de manera similar al ejemplo guia 1"
   ]
  },
  {
   "cell_type": "code",
   "execution_count": 11,
   "metadata": {
    "vscode": {
     "languageId": "r"
    }
   },
   "outputs": [
    {
     "data": {
      "text/html": [
       "<table class=\"dataframe\">\n",
       "<caption>A data.frame: 6 × 3</caption>\n",
       "<thead>\n",
       "\t<tr><th scope=col>Group.1</th><th scope=col>Rail</th><th scope=col>travel</th></tr>\n",
       "\t<tr><th scope=col>&lt;ord&gt;</th><th scope=col>&lt;dbl&gt;</th><th scope=col>&lt;dbl&gt;</th></tr>\n",
       "</thead>\n",
       "<tbody>\n",
       "\t<tr><td>2</td><td>1</td><td>31.66667</td></tr>\n",
       "\t<tr><td>5</td><td>2</td><td>50.00000</td></tr>\n",
       "\t<tr><td>1</td><td>3</td><td>54.00000</td></tr>\n",
       "\t<tr><td>6</td><td>4</td><td>82.66667</td></tr>\n",
       "\t<tr><td>3</td><td>5</td><td>84.66667</td></tr>\n",
       "\t<tr><td>4</td><td>6</td><td>96.00000</td></tr>\n",
       "</tbody>\n",
       "</table>\n"
      ],
      "text/latex": [
       "A data.frame: 6 × 3\n",
       "\\begin{tabular}{lll}\n",
       " Group.1 & Rail & travel\\\\\n",
       " <ord> & <dbl> & <dbl>\\\\\n",
       "\\hline\n",
       "\t 2 & 1 & 31.66667\\\\\n",
       "\t 5 & 2 & 50.00000\\\\\n",
       "\t 1 & 3 & 54.00000\\\\\n",
       "\t 6 & 4 & 82.66667\\\\\n",
       "\t 3 & 5 & 84.66667\\\\\n",
       "\t 4 & 6 & 96.00000\\\\\n",
       "\\end{tabular}\n"
      ],
      "text/markdown": [
       "\n",
       "A data.frame: 6 × 3\n",
       "\n",
       "| Group.1 &lt;ord&gt; | Rail &lt;dbl&gt; | travel &lt;dbl&gt; |\n",
       "|---|---|---|\n",
       "| 2 | 1 | 31.66667 |\n",
       "| 5 | 2 | 50.00000 |\n",
       "| 1 | 3 | 54.00000 |\n",
       "| 6 | 4 | 82.66667 |\n",
       "| 3 | 5 | 84.66667 |\n",
       "| 4 | 6 | 96.00000 |\n",
       "\n"
      ],
      "text/plain": [
       "  Group.1 Rail travel  \n",
       "1 2       1    31.66667\n",
       "2 5       2    50.00000\n",
       "3 1       3    54.00000\n",
       "4 6       4    82.66667\n",
       "5 3       5    84.66667\n",
       "6 4       6    96.00000"
      ]
     },
     "metadata": {},
     "output_type": "display_data"
    }
   ],
   "source": [
    "rt <- aggregate(data.matrix(Rail), by=list(Rail$Rail), mean)\n",
    "rt"
   ]
  },
  {
   "cell_type": "markdown",
   "metadata": {},
   "source": [
    "Ahora es posible ajustar el modelo (3) y calcular $\\hat{\\sigma_b}$, $\\hat{\\sigma}$: "
   ]
  },
  {
   "cell_type": "code",
   "execution_count": 12,
   "metadata": {
    "vscode": {
     "languageId": "r"
    }
   },
   "outputs": [],
   "source": [
    "m0 <- lm(travel ~ 1, data = rt)"
   ]
  },
  {
   "cell_type": "code",
   "execution_count": 13,
   "metadata": {
    "vscode": {
     "languageId": "r"
    }
   },
   "outputs": [
    {
     "data": {
      "text/html": [
       "<table class=\"dataframe\">\n",
       "<caption>A matrix: 6 × 1 of type dbl</caption>\n",
       "<thead>\n",
       "\t<tr><th></th><th scope=col>(Intercept)</th></tr>\n",
       "</thead>\n",
       "<tbody>\n",
       "\t<tr><th scope=row>1</th><td>1</td></tr>\n",
       "\t<tr><th scope=row>2</th><td>1</td></tr>\n",
       "\t<tr><th scope=row>3</th><td>1</td></tr>\n",
       "\t<tr><th scope=row>4</th><td>1</td></tr>\n",
       "\t<tr><th scope=row>5</th><td>1</td></tr>\n",
       "\t<tr><th scope=row>6</th><td>1</td></tr>\n",
       "</tbody>\n",
       "</table>\n"
      ],
      "text/latex": [
       "A matrix: 6 × 1 of type dbl\n",
       "\\begin{tabular}{r|l}\n",
       "  & (Intercept)\\\\\n",
       "\\hline\n",
       "\t1 & 1\\\\\n",
       "\t2 & 1\\\\\n",
       "\t3 & 1\\\\\n",
       "\t4 & 1\\\\\n",
       "\t5 & 1\\\\\n",
       "\t6 & 1\\\\\n",
       "\\end{tabular}\n"
      ],
      "text/markdown": [
       "\n",
       "A matrix: 6 × 1 of type dbl\n",
       "\n",
       "| <!--/--> | (Intercept) |\n",
       "|---|---|\n",
       "| 1 | 1 |\n",
       "| 2 | 1 |\n",
       "| 3 | 1 |\n",
       "| 4 | 1 |\n",
       "| 5 | 1 |\n",
       "| 6 | 1 |\n",
       "\n"
      ],
      "text/plain": [
       "  (Intercept)\n",
       "1 1          \n",
       "2 1          \n",
       "3 1          \n",
       "4 1          \n",
       "5 1          \n",
       "6 1          "
      ]
     },
     "metadata": {},
     "output_type": "display_data"
    }
   ],
   "source": [
    "model.matrix(m0)"
   ]
  },
  {
   "cell_type": "code",
   "execution_count": 14,
   "metadata": {
    "vscode": {
     "languageId": "r"
    }
   },
   "outputs": [
    {
     "data": {
      "text/html": [
       "24.8054653476025"
      ],
      "text/latex": [
       "24.8054653476025"
      ],
      "text/markdown": [
       "24.8054653476025"
      ],
      "text/plain": [
       "[1] 24.80547"
      ]
     },
     "metadata": {},
     "output_type": "display_data"
    },
    {
     "data": {
      "text/html": [
       "4.02077936060494"
      ],
      "text/latex": [
       "4.02077936060494"
      ],
      "text/markdown": [
       "4.02077936060494"
      ],
      "text/plain": [
       "[1] 4.020779"
      ]
     },
     "metadata": {},
     "output_type": "display_data"
    }
   ],
   "source": [
    "sig <- summary(m1)$sigma\n",
    "sigb <- (summary(m0)$sigma^2 - sig^2/3)^0.5\n",
    "\n",
    "sigb\n",
    "sig"
   ]
  }
 ],
 "metadata": {
  "kernelspec": {
   "display_name": "R",
   "language": "R",
   "name": "ir"
  },
  "language_info": {
   "codemirror_mode": "r",
   "file_extension": ".r",
   "mimetype": "text/x-r-source",
   "name": "R",
   "pygments_lexer": "r",
   "version": "4.1.2"
  }
 },
 "nbformat": 4,
 "nbformat_minor": 2
}

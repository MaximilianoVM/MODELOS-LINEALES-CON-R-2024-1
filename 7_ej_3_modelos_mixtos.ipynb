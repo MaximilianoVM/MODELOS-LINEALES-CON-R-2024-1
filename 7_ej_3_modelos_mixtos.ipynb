{
 "cells": [
  {
   "cell_type": "markdown",
   "metadata": {},
   "source": [
    "<h1>Modelos Lineales Mixtos</h1>\n",
    "<h2> Ejemplo guía #3: Un modelo con dos factores</h2>"
   ]
  },
  {
   "cell_type": "markdown",
   "metadata": {},
   "source": [
    "Consideremos ahora un experimento en el que cada observación se agrupa según dos factores.En la figura se muestra un diagrama esquemático de dicho diseño.\n",
    "\n",
    "<img src=\"figuras/7_fig_factores.png\" width=\"500\">\n",
    "\n",
    "Supongamos que un factor se va a modelar como un efecto fijo y el otro como un efecto aleatorio.\n",
    "Entonces, un modelo para la k-ésima observación en el nivel $i$ de efecto fijo $A$ y el nivel $j$ de efecto aleatorio $B$ es\n",
    "\n",
    "$$y_{ijk} = \\mu + \\alpha_i + b_j + (ab)_{ij} + e_{ijk}$$\n",
    "\n",
    "donde\n",
    "* $b_j \\sim N(0,\\alpha_b^2)$\n",
    "* $(\\alpha b)_{ij} \\sim N(0,\\sigma_{\\alpha \\theta}^2)$\n",
    "* $\\epsilon_{ijk} \\sim N(0,\\sigma^2)$ <br>\n",
    "y todas las v.a. son mutuamente independientes.<br> <br>\n",
    "Ademas, $\\mu$ es la media poblacional global, $\\alpha_i$ son los $I$ efectos fijos para el factor $A$ , y $b_j$ representan los $J$ efectos aleatorios para el factor $B$.<br><br>\n",
    "Por otro lado, $(\\alpha*b)_{ij}$ son las   interacciones."
   ]
  },
  {
   "cell_type": "markdown",
   "metadata": {},
   "source": [
    "<h2>Datos</h2>\n",
    "\n",
    "* El marco de datos Machines, del paquete $nlme$, contiene datos de un experimento industrial que compara 3 tipos de máquinas diferentes\n",
    "\n",
    "* El objetivo del experimento es determinar qué tipo de máquina daba como resultado la mayor productividad de los trabajadores\n",
    "\n",
    "* Se seleccionaron al azar 6 trabajadores para participar en la prueba, y cada trabajador operó cada máquina 3 veces (presumiblemente después de un período apropiado de capacitación diseñado para eliminar cualquier \"efecto de aprendizaje\").\n",
    "\n",
    "* A continuación se produce el gráfico de resultados: "
   ]
  },
  {
   "cell_type": "code",
   "execution_count": 8,
   "metadata": {
    "vscode": {
     "languageId": "r"
    }
   },
   "outputs": [
    {
     "data": {
      "text/html": [
       "<table class=\"dataframe\">\n",
       "<caption>A nffGroupedData: 20 × 3</caption>\n",
       "<thead>\n",
       "\t<tr><th></th><th scope=col>Worker</th><th scope=col>Machine</th><th scope=col>score</th></tr>\n",
       "\t<tr><th></th><th scope=col>&lt;ord&gt;</th><th scope=col>&lt;fct&gt;</th><th scope=col>&lt;dbl&gt;</th></tr>\n",
       "</thead>\n",
       "<tbody>\n",
       "\t<tr><th scope=row>1</th><td>1</td><td>A</td><td>52.0</td></tr>\n",
       "\t<tr><th scope=row>2</th><td>1</td><td>A</td><td>52.8</td></tr>\n",
       "\t<tr><th scope=row>3</th><td>1</td><td>A</td><td>53.1</td></tr>\n",
       "\t<tr><th scope=row>4</th><td>2</td><td>A</td><td>51.8</td></tr>\n",
       "\t<tr><th scope=row>5</th><td>2</td><td>A</td><td>52.8</td></tr>\n",
       "\t<tr><th scope=row>6</th><td>2</td><td>A</td><td>53.1</td></tr>\n",
       "\t<tr><th scope=row>7</th><td>3</td><td>A</td><td>60.0</td></tr>\n",
       "\t<tr><th scope=row>8</th><td>3</td><td>A</td><td>60.2</td></tr>\n",
       "\t<tr><th scope=row>9</th><td>3</td><td>A</td><td>58.4</td></tr>\n",
       "\t<tr><th scope=row>10</th><td>4</td><td>A</td><td>51.1</td></tr>\n",
       "\t<tr><th scope=row>11</th><td>4</td><td>A</td><td>52.3</td></tr>\n",
       "\t<tr><th scope=row>12</th><td>4</td><td>A</td><td>50.3</td></tr>\n",
       "\t<tr><th scope=row>13</th><td>5</td><td>A</td><td>50.9</td></tr>\n",
       "\t<tr><th scope=row>14</th><td>5</td><td>A</td><td>51.8</td></tr>\n",
       "\t<tr><th scope=row>15</th><td>5</td><td>A</td><td>51.4</td></tr>\n",
       "\t<tr><th scope=row>16</th><td>6</td><td>A</td><td>46.4</td></tr>\n",
       "\t<tr><th scope=row>17</th><td>6</td><td>A</td><td>44.8</td></tr>\n",
       "\t<tr><th scope=row>18</th><td>6</td><td>A</td><td>49.2</td></tr>\n",
       "\t<tr><th scope=row>19</th><td>1</td><td>B</td><td>62.1</td></tr>\n",
       "\t<tr><th scope=row>20</th><td>1</td><td>B</td><td>62.6</td></tr>\n",
       "</tbody>\n",
       "</table>\n"
      ],
      "text/latex": [
       "A nffGroupedData: 20 × 3\n",
       "\\begin{tabular}{r|lll}\n",
       "  & Worker & Machine & score\\\\\n",
       "  & <ord> & <fct> & <dbl>\\\\\n",
       "\\hline\n",
       "\t1 & 1 & A & 52.0\\\\\n",
       "\t2 & 1 & A & 52.8\\\\\n",
       "\t3 & 1 & A & 53.1\\\\\n",
       "\t4 & 2 & A & 51.8\\\\\n",
       "\t5 & 2 & A & 52.8\\\\\n",
       "\t6 & 2 & A & 53.1\\\\\n",
       "\t7 & 3 & A & 60.0\\\\\n",
       "\t8 & 3 & A & 60.2\\\\\n",
       "\t9 & 3 & A & 58.4\\\\\n",
       "\t10 & 4 & A & 51.1\\\\\n",
       "\t11 & 4 & A & 52.3\\\\\n",
       "\t12 & 4 & A & 50.3\\\\\n",
       "\t13 & 5 & A & 50.9\\\\\n",
       "\t14 & 5 & A & 51.8\\\\\n",
       "\t15 & 5 & A & 51.4\\\\\n",
       "\t16 & 6 & A & 46.4\\\\\n",
       "\t17 & 6 & A & 44.8\\\\\n",
       "\t18 & 6 & A & 49.2\\\\\n",
       "\t19 & 1 & B & 62.1\\\\\n",
       "\t20 & 1 & B & 62.6\\\\\n",
       "\\end{tabular}\n"
      ],
      "text/markdown": [
       "\n",
       "A nffGroupedData: 20 × 3\n",
       "\n",
       "| <!--/--> | Worker &lt;ord&gt; | Machine &lt;fct&gt; | score &lt;dbl&gt; |\n",
       "|---|---|---|---|\n",
       "| 1 | 1 | A | 52.0 |\n",
       "| 2 | 1 | A | 52.8 |\n",
       "| 3 | 1 | A | 53.1 |\n",
       "| 4 | 2 | A | 51.8 |\n",
       "| 5 | 2 | A | 52.8 |\n",
       "| 6 | 2 | A | 53.1 |\n",
       "| 7 | 3 | A | 60.0 |\n",
       "| 8 | 3 | A | 60.2 |\n",
       "| 9 | 3 | A | 58.4 |\n",
       "| 10 | 4 | A | 51.1 |\n",
       "| 11 | 4 | A | 52.3 |\n",
       "| 12 | 4 | A | 50.3 |\n",
       "| 13 | 5 | A | 50.9 |\n",
       "| 14 | 5 | A | 51.8 |\n",
       "| 15 | 5 | A | 51.4 |\n",
       "| 16 | 6 | A | 46.4 |\n",
       "| 17 | 6 | A | 44.8 |\n",
       "| 18 | 6 | A | 49.2 |\n",
       "| 19 | 1 | B | 62.1 |\n",
       "| 20 | 1 | B | 62.6 |\n",
       "\n"
      ],
      "text/plain": [
       "   Worker Machine score\n",
       "1  1      A       52.0 \n",
       "2  1      A       52.8 \n",
       "3  1      A       53.1 \n",
       "4  2      A       51.8 \n",
       "5  2      A       52.8 \n",
       "6  2      A       53.1 \n",
       "7  3      A       60.0 \n",
       "8  3      A       60.2 \n",
       "9  3      A       58.4 \n",
       "10 4      A       51.1 \n",
       "11 4      A       52.3 \n",
       "12 4      A       50.3 \n",
       "13 5      A       50.9 \n",
       "14 5      A       51.8 \n",
       "15 5      A       51.4 \n",
       "16 6      A       46.4 \n",
       "17 6      A       44.8 \n",
       "18 6      A       49.2 \n",
       "19 1      B       62.1 \n",
       "20 1      B       62.6 "
      ]
     },
     "metadata": {},
     "output_type": "display_data"
    }
   ],
   "source": [
    "library(nlme)\n",
    "data(Machines)\n",
    "\n",
    "head(Machines, 20)"
   ]
  },
  {
   "cell_type": "code",
   "execution_count": 13,
   "metadata": {
    "vscode": {
     "languageId": "r"
    }
   },
   "outputs": [
    {
     "data": {
      "text/html": [
       "<style>\n",
       ".list-inline {list-style: none; margin:0; padding: 0}\n",
       ".list-inline>li {display: inline-block}\n",
       ".list-inline>li:not(:last-child)::after {content: \"\\00b7\"; padding: 0 .5ex}\n",
       "</style>\n",
       "<ol class=list-inline><li>'Worker'</li><li>'Machine'</li><li>'score'</li></ol>\n"
      ],
      "text/latex": [
       "\\begin{enumerate*}\n",
       "\\item 'Worker'\n",
       "\\item 'Machine'\n",
       "\\item 'score'\n",
       "\\end{enumerate*}\n"
      ],
      "text/markdown": [
       "1. 'Worker'\n",
       "2. 'Machine'\n",
       "3. 'score'\n",
       "\n",
       "\n"
      ],
      "text/plain": [
       "[1] \"Worker\"  \"Machine\" \"score\"  "
      ]
     },
     "metadata": {},
     "output_type": "display_data"
    }
   ],
   "source": [
    "names(Machines)"
   ]
  },
  {
   "cell_type": "code",
   "execution_count": 16,
   "metadata": {
    "vscode": {
     "languageId": "r"
    }
   },
   "outputs": [
    {
     "data": {
      "image/png": "[encoded data removed]",
      "text/plain": [
       "plot without title"
      ]
     },
     "metadata": {
      "image/png": {
       "height": 420,
       "width": 420
      }
     },
     "output_type": "display_data"
    }
   ],
   "source": [
    "interaction.plot(Machines$Machine,Machines$Worker,Machines$score)"
   ]
  },
  {
   "cell_type": "markdown",
   "metadata": {},
   "source": [
    "* Si el experimento se repitiera en otro lugar (con diferentes trabajadores), esperaríamos que las estimaciones de los efectos de la máquina fueran bastante cercanas a los resultados obtenidos en el experimento actual, mientras que los efectos de los trabajadores individuales serían bastante diferentes (aunque esperamos que tenga una variabilidad similar)\n",
    "\n",
    "* Por lo tanto, el modelo (4): $y_{ijk} = \\mu + \\alpha_i + b_j + (ab)_{ij} + e_{ijk}$ es apropiado, donde  $\\alpha_i$ representa los efectos fijos de la máquina, $b_j$  representa los efectos aleatorios del trabajador y  $(\\alpha b)_{ij}$ representa la interacción trabajador-máquina (es decir, el hecho de que diferentes trabajadores pueden trabajar mejor en diferentes máquinas).\n",
    "\n",
    "* Ajustando el modelo completo, podemos probar inmediatamente\n",
    "* $H_0: \\sigma_{\\alpha \\beta}^2 = 0$"
   ]
  },
  {
   "cell_type": "markdown",
   "metadata": {},
   "source": [
    "* <i><b>m0 <- lm(score ~ Worker + Machine, Machines)</b>: Este código está ajustando un modelo lineal donde la variable de respuesta es <b>score</b> y las variables predictoras son <b>Worker</b> y <b>Machine</b>. El operador <b>+</b> en la fórmula indica que estás incluyendo ambos <b>Worker</b> y <b>Machine</b> como efectos principales en el modelo. El modelo intentará predecir <b>score</b> en función de <b>Worker</b> y <b>Machine</b> individualmente.</i>\n",
    "\n",
    "\n",
    "* <i><b>m1 <- lm(score ~ Worker*Machine, Machines)</b>: Este código está ajustando un modelo lineal donde la variable de respuesta es score y las variables predictoras son <b>Worker, Machine, y la interacción entre Worker y Machine.</b> El operador <b>*</b> en la fórmula indica que estás incluyendo Worker y Machine como efectos principales y también su interacción. El modelo intentará predecir score en función de Worker y Machine individualmente, así como la combinación de Worker y Machine.</i>"
   ]
  },
  {
   "cell_type": "code",
   "execution_count": 17,
   "metadata": {
    "vscode": {
     "languageId": "r"
    }
   },
   "outputs": [],
   "source": [
    "m0 <- lm(score ~ Worker + Machine, Machines) #worker y machine\n",
    "m1 <- lm(score ~ Worker*Machine, Machines) #worker y machine e interaccion"
   ]
  },
  {
   "cell_type": "code",
   "execution_count": 18,
   "metadata": {
    "vscode": {
     "languageId": "r"
    }
   },
   "outputs": [
    {
     "data": {
      "text/html": [
       "<table class=\"dataframe\">\n",
       "<caption>A anova: 2 × 6</caption>\n",
       "<thead>\n",
       "\t<tr><th></th><th scope=col>Res.Df</th><th scope=col>RSS</th><th scope=col>Df</th><th scope=col>Sum of Sq</th><th scope=col>F</th><th scope=col>Pr(&gt;F)</th></tr>\n",
       "\t<tr><th></th><th scope=col>&lt;dbl&gt;</th><th scope=col>&lt;dbl&gt;</th><th scope=col>&lt;dbl&gt;</th><th scope=col>&lt;dbl&gt;</th><th scope=col>&lt;dbl&gt;</th><th scope=col>&lt;dbl&gt;</th></tr>\n",
       "</thead>\n",
       "<tbody>\n",
       "\t<tr><th scope=row>1</th><td>46</td><td>459.81667</td><td>NA</td><td>    NA</td><td>      NA</td><td>         NA</td></tr>\n",
       "\t<tr><th scope=row>2</th><td>36</td><td> 33.28667</td><td>10</td><td>426.53</td><td>46.12982</td><td>1.64125e-17</td></tr>\n",
       "</tbody>\n",
       "</table>\n"
      ],
      "text/latex": [
       "A anova: 2 × 6\n",
       "\\begin{tabular}{r|llllll}\n",
       "  & Res.Df & RSS & Df & Sum of Sq & F & Pr(>F)\\\\\n",
       "  & <dbl> & <dbl> & <dbl> & <dbl> & <dbl> & <dbl>\\\\\n",
       "\\hline\n",
       "\t1 & 46 & 459.81667 & NA &     NA &       NA &          NA\\\\\n",
       "\t2 & 36 &  33.28667 & 10 & 426.53 & 46.12982 & 1.64125e-17\\\\\n",
       "\\end{tabular}\n"
      ],
      "text/markdown": [
       "\n",
       "A anova: 2 × 6\n",
       "\n",
       "| <!--/--> | Res.Df &lt;dbl&gt; | RSS &lt;dbl&gt; | Df &lt;dbl&gt; | Sum of Sq &lt;dbl&gt; | F &lt;dbl&gt; | Pr(&gt;F) &lt;dbl&gt; |\n",
       "|---|---|---|---|---|---|---|\n",
       "| 1 | 46 | 459.81667 | NA |     NA |       NA |          NA |\n",
       "| 2 | 36 |  33.28667 | 10 | 426.53 | 46.12982 | 1.64125e-17 |\n",
       "\n"
      ],
      "text/plain": [
       "  Res.Df RSS       Df Sum of Sq F        Pr(>F)     \n",
       "1 46     459.81667 NA     NA          NA          NA\n",
       "2 36      33.28667 10 426.53    46.12982 1.64125e-17"
      ]
     },
     "metadata": {},
     "output_type": "display_data"
    }
   ],
   "source": [
    "anova(m0, m1)"
   ]
  },
  {
   "cell_type": "markdown",
   "metadata": {},
   "source": [
    "Debemos aceptar $H_1: \\sigma_{\\alpha \\beta}^2 \\neq 0$ <br>\n",
    "Existe evidencia muy sólida de una interacción entre la máquina y el trabajador"
   ]
  },
  {
   "cell_type": "markdown",
   "metadata": {},
   "source": [
    "Ahora se puede estimar $\\sigma^2$: "
   ]
  },
  {
   "cell_type": "code",
   "execution_count": 19,
   "metadata": {
    "vscode": {
     "languageId": "r"
    }
   },
   "outputs": [
    {
     "data": {
      "text/html": [
       "0.924629629629635"
      ],
      "text/latex": [
       "0.924629629629635"
      ],
      "text/markdown": [
       "0.924629629629635"
      ],
      "text/plain": [
       "[1] 0.9246296"
      ]
     },
     "metadata": {},
     "output_type": "display_data"
    }
   ],
   "source": [
    "summary(m1)$sigma^2"
   ]
  },
  {
   "cell_type": "markdown",
   "metadata": {},
   "source": [
    "Para examinar los principales efectos podemos agregar en cada nivel de la interacción"
   ]
  },
  {
   "cell_type": "code",
   "execution_count": 25,
   "metadata": {
    "vscode": {
     "languageId": "r"
    }
   },
   "outputs": [],
   "source": [
    "Mach <- aggregate(data.matrix(Machines), by=list(Machines$Worker, Machines$Machine), mean)\n",
    "\n",
    "#Mach"
   ]
  },
  {
   "cell_type": "code",
   "execution_count": 26,
   "metadata": {
    "vscode": {
     "languageId": "r"
    }
   },
   "outputs": [
    {
     "data": {
      "text/html": [
       "<table class=\"dataframe\">\n",
       "<caption>A data.frame: 18 × 5</caption>\n",
       "<thead>\n",
       "\t<tr><th scope=col>Group.1</th><th scope=col>Group.2</th><th scope=col>Worker</th><th scope=col>Machine</th><th scope=col>score</th></tr>\n",
       "\t<tr><th scope=col>&lt;ord&gt;</th><th scope=col>&lt;fct&gt;</th><th scope=col>&lt;fct&gt;</th><th scope=col>&lt;fct&gt;</th><th scope=col>&lt;dbl&gt;</th></tr>\n",
       "</thead>\n",
       "<tbody>\n",
       "\t<tr><td>6</td><td>A</td><td>1</td><td>1</td><td>46.80000</td></tr>\n",
       "\t<tr><td>2</td><td>A</td><td>2</td><td>1</td><td>52.56667</td></tr>\n",
       "\t<tr><td>4</td><td>A</td><td>3</td><td>1</td><td>51.23333</td></tr>\n",
       "\t<tr><td>1</td><td>A</td><td>4</td><td>1</td><td>52.63333</td></tr>\n",
       "\t<tr><td>3</td><td>A</td><td>5</td><td>1</td><td>59.53333</td></tr>\n",
       "\t<tr><td>5</td><td>A</td><td>6</td><td>1</td><td>51.36667</td></tr>\n",
       "\t<tr><td>6</td><td>B</td><td>1</td><td>2</td><td>43.63333</td></tr>\n",
       "\t<tr><td>2</td><td>B</td><td>2</td><td>2</td><td>59.56667</td></tr>\n",
       "\t<tr><td>4</td><td>B</td><td>3</td><td>2</td><td>62.73333</td></tr>\n",
       "\t<tr><td>1</td><td>B</td><td>4</td><td>2</td><td>62.90000</td></tr>\n",
       "\t<tr><td>3</td><td>B</td><td>5</td><td>2</td><td>68.03333</td></tr>\n",
       "\t<tr><td>5</td><td>B</td><td>6</td><td>2</td><td>65.06667</td></tr>\n",
       "\t<tr><td>6</td><td>C</td><td>1</td><td>3</td><td>61.30000</td></tr>\n",
       "\t<tr><td>2</td><td>C</td><td>2</td><td>3</td><td>61.83333</td></tr>\n",
       "\t<tr><td>4</td><td>C</td><td>3</td><td>3</td><td>64.76667</td></tr>\n",
       "\t<tr><td>1</td><td>C</td><td>4</td><td>3</td><td>67.20000</td></tr>\n",
       "\t<tr><td>3</td><td>C</td><td>5</td><td>3</td><td>70.80000</td></tr>\n",
       "\t<tr><td>5</td><td>C</td><td>6</td><td>3</td><td>71.73333</td></tr>\n",
       "</tbody>\n",
       "</table>\n"
      ],
      "text/latex": [
       "A data.frame: 18 × 5\n",
       "\\begin{tabular}{lllll}\n",
       " Group.1 & Group.2 & Worker & Machine & score\\\\\n",
       " <ord> & <fct> & <fct> & <fct> & <dbl>\\\\\n",
       "\\hline\n",
       "\t 6 & A & 1 & 1 & 46.80000\\\\\n",
       "\t 2 & A & 2 & 1 & 52.56667\\\\\n",
       "\t 4 & A & 3 & 1 & 51.23333\\\\\n",
       "\t 1 & A & 4 & 1 & 52.63333\\\\\n",
       "\t 3 & A & 5 & 1 & 59.53333\\\\\n",
       "\t 5 & A & 6 & 1 & 51.36667\\\\\n",
       "\t 6 & B & 1 & 2 & 43.63333\\\\\n",
       "\t 2 & B & 2 & 2 & 59.56667\\\\\n",
       "\t 4 & B & 3 & 2 & 62.73333\\\\\n",
       "\t 1 & B & 4 & 2 & 62.90000\\\\\n",
       "\t 3 & B & 5 & 2 & 68.03333\\\\\n",
       "\t 5 & B & 6 & 2 & 65.06667\\\\\n",
       "\t 6 & C & 1 & 3 & 61.30000\\\\\n",
       "\t 2 & C & 2 & 3 & 61.83333\\\\\n",
       "\t 4 & C & 3 & 3 & 64.76667\\\\\n",
       "\t 1 & C & 4 & 3 & 67.20000\\\\\n",
       "\t 3 & C & 5 & 3 & 70.80000\\\\\n",
       "\t 5 & C & 6 & 3 & 71.73333\\\\\n",
       "\\end{tabular}\n"
      ],
      "text/markdown": [
       "\n",
       "A data.frame: 18 × 5\n",
       "\n",
       "| Group.1 &lt;ord&gt; | Group.2 &lt;fct&gt; | Worker &lt;fct&gt; | Machine &lt;fct&gt; | score &lt;dbl&gt; |\n",
       "|---|---|---|---|---|\n",
       "| 6 | A | 1 | 1 | 46.80000 |\n",
       "| 2 | A | 2 | 1 | 52.56667 |\n",
       "| 4 | A | 3 | 1 | 51.23333 |\n",
       "| 1 | A | 4 | 1 | 52.63333 |\n",
       "| 3 | A | 5 | 1 | 59.53333 |\n",
       "| 5 | A | 6 | 1 | 51.36667 |\n",
       "| 6 | B | 1 | 2 | 43.63333 |\n",
       "| 2 | B | 2 | 2 | 59.56667 |\n",
       "| 4 | B | 3 | 2 | 62.73333 |\n",
       "| 1 | B | 4 | 2 | 62.90000 |\n",
       "| 3 | B | 5 | 2 | 68.03333 |\n",
       "| 5 | B | 6 | 2 | 65.06667 |\n",
       "| 6 | C | 1 | 3 | 61.30000 |\n",
       "| 2 | C | 2 | 3 | 61.83333 |\n",
       "| 4 | C | 3 | 3 | 64.76667 |\n",
       "| 1 | C | 4 | 3 | 67.20000 |\n",
       "| 3 | C | 5 | 3 | 70.80000 |\n",
       "| 5 | C | 6 | 3 | 71.73333 |\n",
       "\n"
      ],
      "text/plain": [
       "   Group.1 Group.2 Worker Machine score   \n",
       "1  6       A       1      1       46.80000\n",
       "2  2       A       2      1       52.56667\n",
       "3  4       A       3      1       51.23333\n",
       "4  1       A       4      1       52.63333\n",
       "5  3       A       5      1       59.53333\n",
       "6  5       A       6      1       51.36667\n",
       "7  6       B       1      2       43.63333\n",
       "8  2       B       2      2       59.56667\n",
       "9  4       B       3      2       62.73333\n",
       "10 1       B       4      2       62.90000\n",
       "11 3       B       5      2       68.03333\n",
       "12 5       B       6      2       65.06667\n",
       "13 6       C       1      3       61.30000\n",
       "14 2       C       2      3       61.83333\n",
       "15 4       C       3      3       64.76667\n",
       "16 1       C       4      3       67.20000\n",
       "17 3       C       5      3       70.80000\n",
       "18 5       C       6      3       71.73333"
      ]
     },
     "metadata": {},
     "output_type": "display_data"
    }
   ],
   "source": [
    "Mach$Worker <- as.factor(Mach$Worker)\n",
    "Mach$Machine <- as.factor(Mach$Machine)\n",
    "\n",
    "Mach"
   ]
  },
  {
   "cell_type": "markdown",
   "metadata": {},
   "source": [
    "y ajustar el modelo <br>\n",
    "\n",
    "$\\overline{y}_{ij} = \\mu + \\alpha_i + b_j + \\epsilon_{ij}$ <br>\n",
    "\n",
    "a los datos resultantes."
   ]
  },
  {
   "cell_type": "markdown",
   "metadata": {},
   "source": [
    "* <i>El operador + en la fórmula indica que estás incluyendo ambos Worker y Machine como efectos principales en el modelo. El modelo intentará predecir score en función de Worker y Machine individualmente. </i>"
   ]
  },
  {
   "cell_type": "code",
   "execution_count": 28,
   "metadata": {
    "vscode": {
     "languageId": "r"
    }
   },
   "outputs": [
    {
     "data": {
      "text/html": [
       "<table class=\"dataframe\">\n",
       "<caption>A anova: 3 × 5</caption>\n",
       "<thead>\n",
       "\t<tr><th></th><th scope=col>Df</th><th scope=col>Sum Sq</th><th scope=col>Mean Sq</th><th scope=col>F value</th><th scope=col>Pr(&gt;F)</th></tr>\n",
       "\t<tr><th></th><th scope=col>&lt;int&gt;</th><th scope=col>&lt;dbl&gt;</th><th scope=col>&lt;dbl&gt;</th><th scope=col>&lt;dbl&gt;</th><th scope=col>&lt;dbl&gt;</th></tr>\n",
       "</thead>\n",
       "<tbody>\n",
       "\t<tr><th scope=row>Worker</th><td> 5</td><td>413.9650</td><td> 82.79300</td><td> 5.823248</td><td>0.0089494552</td></tr>\n",
       "\t<tr><th scope=row>Machine</th><td> 2</td><td>585.0878</td><td>292.54389</td><td>20.576083</td><td>0.0002855485</td></tr>\n",
       "\t<tr><th scope=row>Residuals</th><td>10</td><td>142.1767</td><td> 14.21767</td><td>       NA</td><td>          NA</td></tr>\n",
       "</tbody>\n",
       "</table>\n"
      ],
      "text/latex": [
       "A anova: 3 × 5\n",
       "\\begin{tabular}{r|lllll}\n",
       "  & Df & Sum Sq & Mean Sq & F value & Pr(>F)\\\\\n",
       "  & <int> & <dbl> & <dbl> & <dbl> & <dbl>\\\\\n",
       "\\hline\n",
       "\tWorker &  5 & 413.9650 &  82.79300 &  5.823248 & 0.0089494552\\\\\n",
       "\tMachine &  2 & 585.0878 & 292.54389 & 20.576083 & 0.0002855485\\\\\n",
       "\tResiduals & 10 & 142.1767 &  14.21767 &        NA &           NA\\\\\n",
       "\\end{tabular}\n"
      ],
      "text/markdown": [
       "\n",
       "A anova: 3 × 5\n",
       "\n",
       "| <!--/--> | Df &lt;int&gt; | Sum Sq &lt;dbl&gt; | Mean Sq &lt;dbl&gt; | F value &lt;dbl&gt; | Pr(&gt;F) &lt;dbl&gt; |\n",
       "|---|---|---|---|---|---|\n",
       "| Worker |  5 | 413.9650 |  82.79300 |  5.823248 | 0.0089494552 |\n",
       "| Machine |  2 | 585.0878 | 292.54389 | 20.576083 | 0.0002855485 |\n",
       "| Residuals | 10 | 142.1767 |  14.21767 |        NA |           NA |\n",
       "\n"
      ],
      "text/plain": [
       "          Df Sum Sq   Mean Sq   F value   Pr(>F)      \n",
       "Worker     5 413.9650  82.79300  5.823248 0.0089494552\n",
       "Machine    2 585.0878 292.54389 20.576083 0.0002855485\n",
       "Residuals 10 142.1767  14.21767        NA           NA"
      ]
     },
     "metadata": {},
     "output_type": "display_data"
    }
   ],
   "source": [
    "m0 <- lm(score ~ Worker + Machine, Mach)\n",
    "\n",
    "anova(m0)"
   ]
  },
  {
   "cell_type": "markdown",
   "metadata": {},
   "source": [
    "Los valores p muy bajos indican nuevamente que <br>\n",
    "$H_0: \\sigma_b^2 = 0$ y $H_0: \\alpha_1 = \\alpha_2 = \\alpha_3 = 0$ <br>\n",
    "deben rechazarse en favor de las alternativas obvias"
   ]
  },
  {
   "cell_type": "markdown",
   "metadata": {},
   "source": [
    "Hay pruebas sólidas de diferencias entre tipos de máquinas y de variabilidad entre trabajadores. <br> <br>\n",
    "Al examinar las estimaciones de efectos fijos, utilizando métodos estándar de efectos fijos, se indica que la máquina C conduce a un aumento sustancial de la productividad."
   ]
  },
  {
   "cell_type": "code",
   "execution_count": 29,
   "metadata": {
    "vscode": {
     "languageId": "r"
    }
   },
   "outputs": [
    {
     "data": {
      "text/plain": [
       "\n",
       "Call:\n",
       "lm(formula = score ~ Worker + Machine, data = Mach)\n",
       "\n",
       "Residuals:\n",
       "    Min      1Q  Median      3Q     Max \n",
       "-7.6167 -1.3375  0.8056  1.8222  4.1000 \n",
       "\n",
       "Coefficients:\n",
       "            Estimate Std. Error t value Pr(>|t|)    \n",
       "(Intercept)   43.283      2.514  17.219 9.23e-09 ***\n",
       "Worker2        7.411      3.079   2.407  0.03686 *  \n",
       "Worker3        9.000      3.079   2.923  0.01521 *  \n",
       "Worker4       10.333      3.079   3.356  0.00729 ** \n",
       "Worker5       15.544      3.079   5.049  0.00050 ***\n",
       "Worker6       12.144      3.079   3.945  0.00275 ** \n",
       "Machine2       7.967      2.177   3.660  0.00439 ** \n",
       "Machine3      13.917      2.177   6.393 7.91e-05 ***\n",
       "---\n",
       "Signif. codes:  0 ‘***’ 0.001 ‘**’ 0.01 ‘*’ 0.05 ‘.’ 0.1 ‘ ’ 1\n",
       "\n",
       "Residual standard error: 3.771 on 10 degrees of freedom\n",
       "Multiple R-squared:  0.8754,\tAdjusted R-squared:  0.7882 \n",
       "F-statistic: 10.04 on 7 and 10 DF,  p-value: 0.0008036\n"
      ]
     },
     "metadata": {},
     "output_type": "display_data"
    }
   ],
   "source": [
    "summary(m0)"
   ]
  },
  {
   "cell_type": "markdown",
   "metadata": {},
   "source": [
    "La estimacion de $\\sigma_{\\alpha b}^2$, la varianza de la interaccion, es sencilla: "
   ]
  },
  {
   "cell_type": "code",
   "execution_count": 30,
   "metadata": {
    "vscode": {
     "languageId": "r"
    }
   },
   "outputs": [
    {
     "data": {
      "text/html": [
       "13.9094567901235"
      ],
      "text/latex": [
       "13.9094567901235"
      ],
      "text/markdown": [
       "13.9094567901235"
      ],
      "text/plain": [
       "[1] 13.90946"
      ]
     },
     "metadata": {},
     "output_type": "display_data"
    }
   ],
   "source": [
    "summary(m0)$sigma^2 - (summary(m1)$sigma^2)/3"
   ]
  },
  {
   "cell_type": "markdown",
   "metadata": {},
   "source": [
    "Agregando una vez más, podemos estimar el componente de la varianza de los trabajadores, $\\sigma_{b}^2$:"
   ]
  },
  {
   "cell_type": "code",
   "execution_count": 31,
   "metadata": {
    "vscode": {
     "languageId": "r"
    }
   },
   "outputs": [],
   "source": [
    "M <- aggregate(data.matrix(Mach), by=list(Mach$Worker), mean)"
   ]
  },
  {
   "cell_type": "code",
   "execution_count": 32,
   "metadata": {
    "vscode": {
     "languageId": "r"
    }
   },
   "outputs": [],
   "source": [
    "m00 <- lm(score ~ 1, M)"
   ]
  },
  {
   "cell_type": "code",
   "execution_count": 33,
   "metadata": {
    "vscode": {
     "languageId": "r"
    }
   },
   "outputs": [
    {
     "data": {
      "text/html": [
       "22.8584444444443"
      ],
      "text/latex": [
       "22.8584444444443"
      ],
      "text/markdown": [
       "22.8584444444443"
      ],
      "text/plain": [
       "[1] 22.85844"
      ]
     },
     "metadata": {},
     "output_type": "display_data"
    }
   ],
   "source": [
    "summary(m00)$sigma^2 - (summary(m0)$sigma^2)/3"
   ]
  },
  {
   "cell_type": "markdown",
   "metadata": {},
   "source": []
  },
  {
   "cell_type": "code",
   "execution_count": null,
   "metadata": {
    "vscode": {
     "languageId": "r"
    }
   },
   "outputs": [],
   "source": []
  }
 ],
 "metadata": {
  "kernelspec": {
   "display_name": "R",
   "language": "R",
   "name": "ir"
  },
  "language_info": {
   "codemirror_mode": "r",
   "file_extension": ".r",
   "mimetype": "text/x-r-source",
   "name": "R",
   "pygments_lexer": "r",
   "version": "4.1.2"
  }
 },
 "nbformat": 4,
 "nbformat_minor": 2
}

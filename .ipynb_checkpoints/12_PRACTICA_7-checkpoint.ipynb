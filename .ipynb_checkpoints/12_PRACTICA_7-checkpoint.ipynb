{
 "cells": [
  {
   "cell_type": "markdown",
   "metadata": {},
   "source": [
    "<h1>Práctica 7</h1>\n",
    "\n",
    "<i>\n",
    "Maximiliano Vaca Montejano <br>\n",
    "364897 <br>\n",
    "maximiliano.vaca@uabc.edu.mx\n",
    "</i>"
   ]
  },
  {
   "cell_type": "markdown",
   "metadata": {},
   "source": [
    "<i>Profesor: Andrés García Medina <br>\n",
    "andres.garcia.medina@uabc.edu.mx <br>\n",
    "Fecha de entrega: viernes 17 de mayo, 2024 (23:59).</i>"
   ]
  },
  {
   "cell_type": "markdown",
   "metadata": {},
   "source": [
    "<br>-----------------------------------------------------------------------------------------------<br><br>\n",
    "<b>Nota técnica:</b> Los datos se adjuntan en el archivo $AIDS.csv$. Considere los\n",
    "valores iniciales $β = [2,1,0]$. Una tolerancia de $tol=1 ×10−6$ (norma minima del\n",
    "paso $∆$). Un número máximo de iteraciones $m = 100$. Recuerde convertir a la\n",
    "variable independiente (year) a incrementos\n",
    "<br><br>-----------------------------------------------------------------------------------------------<br>\n"
   ]
  },
  {
   "cell_type": "code",
   "execution_count": 31,
   "metadata": {
    "vscode": {
     "languageId": "r"
    }
   },
   "outputs": [],
   "source": [
    "data <- read.csv('datos/AIDS.csv')\n",
    "#colnames(data) <- c(\"edad\", \"CHD\")\n",
    "\n",
    "#head(data, 10)\n",
    "#data"
   ]
  },
  {
   "cell_type": "code",
   "execution_count": 32,
   "metadata": {
    "vscode": {
     "languageId": "r"
    }
   },
   "outputs": [
    {
     "data": {
      "text/html": [
       "<table class=\"dataframe\">\n",
       "<caption>A data.frame: 13 × 2</caption>\n",
       "<thead>\n",
       "\t<tr><th scope=col>year</th><th scope=col>cases</th></tr>\n",
       "\t<tr><th scope=col>&lt;dbl&gt;</th><th scope=col>&lt;int&gt;</th></tr>\n",
       "</thead>\n",
       "<tbody>\n",
       "\t<tr><td> 1</td><td> 12</td></tr>\n",
       "\t<tr><td> 2</td><td> 14</td></tr>\n",
       "\t<tr><td> 3</td><td> 33</td></tr>\n",
       "\t<tr><td> 4</td><td> 50</td></tr>\n",
       "\t<tr><td> 5</td><td> 67</td></tr>\n",
       "\t<tr><td> 6</td><td> 74</td></tr>\n",
       "\t<tr><td> 7</td><td>123</td></tr>\n",
       "\t<tr><td> 8</td><td>141</td></tr>\n",
       "\t<tr><td> 9</td><td>165</td></tr>\n",
       "\t<tr><td>10</td><td>204</td></tr>\n",
       "\t<tr><td>11</td><td>253</td></tr>\n",
       "\t<tr><td>12</td><td>246</td></tr>\n",
       "\t<tr><td>13</td><td>240</td></tr>\n",
       "</tbody>\n",
       "</table>\n"
      ],
      "text/latex": [
       "A data.frame: 13 × 2\n",
       "\\begin{tabular}{ll}\n",
       " year & cases\\\\\n",
       " <dbl> & <int>\\\\\n",
       "\\hline\n",
       "\t  1 &  12\\\\\n",
       "\t  2 &  14\\\\\n",
       "\t  3 &  33\\\\\n",
       "\t  4 &  50\\\\\n",
       "\t  5 &  67\\\\\n",
       "\t  6 &  74\\\\\n",
       "\t  7 & 123\\\\\n",
       "\t  8 & 141\\\\\n",
       "\t  9 & 165\\\\\n",
       "\t 10 & 204\\\\\n",
       "\t 11 & 253\\\\\n",
       "\t 12 & 246\\\\\n",
       "\t 13 & 240\\\\\n",
       "\\end{tabular}\n"
      ],
      "text/markdown": [
       "\n",
       "A data.frame: 13 × 2\n",
       "\n",
       "| year &lt;dbl&gt; | cases &lt;int&gt; |\n",
       "|---|---|\n",
       "|  1 |  12 |\n",
       "|  2 |  14 |\n",
       "|  3 |  33 |\n",
       "|  4 |  50 |\n",
       "|  5 |  67 |\n",
       "|  6 |  74 |\n",
       "|  7 | 123 |\n",
       "|  8 | 141 |\n",
       "|  9 | 165 |\n",
       "| 10 | 204 |\n",
       "| 11 | 253 |\n",
       "| 12 | 246 |\n",
       "| 13 | 240 |\n",
       "\n"
      ],
      "text/plain": [
       "   year cases\n",
       "1   1    12  \n",
       "2   2    14  \n",
       "3   3    33  \n",
       "4   4    50  \n",
       "5   5    67  \n",
       "6   6    74  \n",
       "7   7   123  \n",
       "8   8   141  \n",
       "9   9   165  \n",
       "10 10   204  \n",
       "11 11   253  \n",
       "12 12   246  \n",
       "13 13   240  "
      ]
     },
     "metadata": {},
     "output_type": "display_data"
    }
   ],
   "source": [
    "#convertir a la variable independiente (year) a incrementos\n",
    "data$year <- data$year - 1980\n",
    "\n",
    "data"
   ]
  },
  {
   "cell_type": "markdown",
   "metadata": {},
   "source": [
    "<h2>Ejercicio 1</h2>\n",
    "El siguiente conjunto de datos muestra el número de casos nuevos de SIDA en\n",
    "Bélgica (en los 80’s)1. La pregunta cientificamente interesante es si los datos\n",
    "proporcionan alguna evidencia de que el aumento en la tasa subyacente de \n",
    "generación de nuevos casos se está desacelerando. <br> <br>\n",
    "\n",
    "<img src=\"figuras/12_fig1.png\" width=\"400\">\n",
    "\n",
    "<br><br>\n",
    "* Ajuste un modelo de regresión Poisson con ayuda de la función glm asumiendo \n",
    "que las observaciones $(y_1,x_1),...,(y_n,x_n)$, son independientes, y\n",
    "considerando términos cuadráticos para los regresores $x_i = (1,t_i,t^2_i )^T$ .\n",
    "(30 pts)"
   ]
  },
  {
   "cell_type": "code",
   "execution_count": 33,
   "metadata": {
    "vscode": {
     "languageId": "r"
    }
   },
   "outputs": [
    {
     "data": {
      "text/plain": [
       "\n",
       "Call:\n",
       "glm(formula = cases ~ year + I(year^2), family = poisson, data = data)\n",
       "\n",
       "Deviance Residuals: \n",
       "     Min        1Q    Median        3Q       Max  \n",
       "-1.45903  -0.64491   0.08927   0.67117   1.54596  \n",
       "\n",
       "Coefficients:\n",
       "             Estimate Std. Error z value Pr(>|z|)    \n",
       "(Intercept)  1.901459   0.186877  10.175  < 2e-16 ***\n",
       "year         0.556003   0.045780  12.145  < 2e-16 ***\n",
       "I(year^2)   -0.021346   0.002659  -8.029 9.82e-16 ***\n",
       "---\n",
       "Signif. codes:  0 ‘***’ 0.001 ‘**’ 0.01 ‘*’ 0.05 ‘.’ 0.1 ‘ ’ 1\n",
       "\n",
       "(Dispersion parameter for poisson family taken to be 1)\n",
       "\n",
       "    Null deviance: 872.2058  on 12  degrees of freedom\n",
       "Residual deviance:   9.2402  on 10  degrees of freedom\n",
       "AIC: 96.924\n",
       "\n",
       "Number of Fisher Scoring iterations: 4\n"
      ]
     },
     "metadata": {},
     "output_type": "display_data"
    }
   ],
   "source": [
    "#regresión Poisson con glm\n",
    "model <- glm(cases ~ year + I(year^2), data = data, family = poisson)\n",
    "\n",
    "summary(model)"
   ]
  },
  {
   "cell_type": "code",
   "execution_count": 34,
   "metadata": {
    "vscode": {
     "languageId": "r"
    }
   },
   "outputs": [
    {
     "data": {
      "text/html": [
       "<table class=\"dataframe\">\n",
       "<caption>A matrix: 3 × 4 of type dbl</caption>\n",
       "<thead>\n",
       "\t<tr><th></th><th scope=col>Estimate</th><th scope=col>Std. Error</th><th scope=col>z value</th><th scope=col>Pr(&gt;|z|)</th></tr>\n",
       "</thead>\n",
       "<tbody>\n",
       "\t<tr><th scope=row>(Intercept)</th><td> 1.90145858</td><td>0.186877465</td><td>10.174895</td><td>2.566767e-24</td></tr>\n",
       "\t<tr><th scope=row>year</th><td> 0.55600327</td><td>0.045779750</td><td>12.145179</td><td>6.084915e-34</td></tr>\n",
       "\t<tr><th scope=row>I(year^2)</th><td>-0.02134627</td><td>0.002658609</td><td>-8.029112</td><td>9.818083e-16</td></tr>\n",
       "</tbody>\n",
       "</table>\n"
      ],
      "text/latex": [
       "A matrix: 3 × 4 of type dbl\n",
       "\\begin{tabular}{r|llll}\n",
       "  & Estimate & Std. Error & z value & Pr(>\\textbar{}z\\textbar{})\\\\\n",
       "\\hline\n",
       "\t(Intercept) &  1.90145858 & 0.186877465 & 10.174895 & 2.566767e-24\\\\\n",
       "\tyear &  0.55600327 & 0.045779750 & 12.145179 & 6.084915e-34\\\\\n",
       "\tI(year\\textasciicircum{}2) & -0.02134627 & 0.002658609 & -8.029112 & 9.818083e-16\\\\\n",
       "\\end{tabular}\n"
      ],
      "text/markdown": [
       "\n",
       "A matrix: 3 × 4 of type dbl\n",
       "\n",
       "| <!--/--> | Estimate | Std. Error | z value | Pr(&gt;|z|) |\n",
       "|---|---|---|---|---|\n",
       "| (Intercept) |  1.90145858 | 0.186877465 | 10.174895 | 2.566767e-24 |\n",
       "| year |  0.55600327 | 0.045779750 | 12.145179 | 6.084915e-34 |\n",
       "| I(year^2) | -0.02134627 | 0.002658609 | -8.029112 | 9.818083e-16 |\n",
       "\n"
      ],
      "text/plain": [
       "            Estimate    Std. Error  z value   Pr(>|z|)    \n",
       "(Intercept)  1.90145858 0.186877465 10.174895 2.566767e-24\n",
       "year         0.55600327 0.045779750 12.145179 6.084915e-34\n",
       "I(year^2)   -0.02134627 0.002658609 -8.029112 9.818083e-16"
      ]
     },
     "metadata": {},
     "output_type": "display_data"
    }
   ],
   "source": [
    "summary(model)$coefficients"
   ]
  },
  {
   "cell_type": "markdown",
   "metadata": {},
   "source": [
    "todos los estimadores son significativos y con un error estandar no muy grande"
   ]
  },
  {
   "cell_type": "markdown",
   "metadata": {},
   "source": [
    "* Encuentre el valor esperado de las betas y su desviación estándar por\n",
    "medio de optimización directa (IRLWLS) y compare sus resultados con\n",
    "los que arroja la función $glm$. (40 pts)"
   ]
  },
  {
   "cell_type": "markdown",
   "metadata": {},
   "source": [
    "* re: Considere los\n",
    "valores iniciales $β = [2,1,0]$. Una tolerancia de $tol=1 ×10−6$ (norma minima del\n",
    "paso $∆$). Un número máximo de iteraciones $m = 100$."
   ]
  },
  {
   "cell_type": "code",
   "execution_count": 35,
   "metadata": {
    "vscode": {
     "languageId": "r"
    }
   },
   "outputs": [
    {
     "name": "stdout",
     "output_type": "stream",
     "text": [
      "[1] \"X:\"\n"
     ]
    },
    {
     "data": {
      "text/html": [
       "<table class=\"dataframe\">\n",
       "<caption>A matrix: 5 × 3 of type dbl</caption>\n",
       "<thead>\n",
       "\t<tr><th></th><th scope=col>(Intercept)</th><th scope=col>year</th><th scope=col>I(year^2)</th></tr>\n",
       "</thead>\n",
       "<tbody>\n",
       "\t<tr><th scope=row>1</th><td>1</td><td>1</td><td> 1</td></tr>\n",
       "\t<tr><th scope=row>2</th><td>1</td><td>2</td><td> 4</td></tr>\n",
       "\t<tr><th scope=row>3</th><td>1</td><td>3</td><td> 9</td></tr>\n",
       "\t<tr><th scope=row>4</th><td>1</td><td>4</td><td>16</td></tr>\n",
       "\t<tr><th scope=row>5</th><td>1</td><td>5</td><td>25</td></tr>\n",
       "</tbody>\n",
       "</table>\n"
      ],
      "text/latex": [
       "A matrix: 5 × 3 of type dbl\n",
       "\\begin{tabular}{r|lll}\n",
       "  & (Intercept) & year & I(year\\textasciicircum{}2)\\\\\n",
       "\\hline\n",
       "\t1 & 1 & 1 &  1\\\\\n",
       "\t2 & 1 & 2 &  4\\\\\n",
       "\t3 & 1 & 3 &  9\\\\\n",
       "\t4 & 1 & 4 & 16\\\\\n",
       "\t5 & 1 & 5 & 25\\\\\n",
       "\\end{tabular}\n"
      ],
      "text/markdown": [
       "\n",
       "A matrix: 5 × 3 of type dbl\n",
       "\n",
       "| <!--/--> | (Intercept) | year | I(year^2) |\n",
       "|---|---|---|---|\n",
       "| 1 | 1 | 1 |  1 |\n",
       "| 2 | 1 | 2 |  4 |\n",
       "| 3 | 1 | 3 |  9 |\n",
       "| 4 | 1 | 4 | 16 |\n",
       "| 5 | 1 | 5 | 25 |\n",
       "\n"
      ],
      "text/plain": [
       "  (Intercept) year I(year^2)\n",
       "1 1           1     1       \n",
       "2 1           2     4       \n",
       "3 1           3     9       \n",
       "4 1           4    16       \n",
       "5 1           5    25       "
      ]
     },
     "metadata": {},
     "output_type": "display_data"
    },
    {
     "name": "stdout",
     "output_type": "stream",
     "text": [
      "[1] \"dim X:\"\n"
     ]
    },
    {
     "data": {
      "text/html": [
       "<style>\n",
       ".list-inline {list-style: none; margin:0; padding: 0}\n",
       ".list-inline>li {display: inline-block}\n",
       ".list-inline>li:not(:last-child)::after {content: \"\\00b7\"; padding: 0 .5ex}\n",
       "</style>\n",
       "<ol class=list-inline><li>13</li><li>3</li></ol>\n"
      ],
      "text/latex": [
       "\\begin{enumerate*}\n",
       "\\item 13\n",
       "\\item 3\n",
       "\\end{enumerate*}\n"
      ],
      "text/markdown": [
       "1. 13\n",
       "2. 3\n",
       "\n",
       "\n"
      ],
      "text/plain": [
       "[1] 13  3"
      ]
     },
     "metadata": {},
     "output_type": "display_data"
    },
    {
     "name": "stdout",
     "output_type": "stream",
     "text": [
      "[1] \"dim b0:\"\n"
     ]
    },
    {
     "data": {
      "text/html": [
       "<style>\n",
       ".list-inline {list-style: none; margin:0; padding: 0}\n",
       ".list-inline>li {display: inline-block}\n",
       ".list-inline>li:not(:last-child)::after {content: \"\\00b7\"; padding: 0 .5ex}\n",
       "</style>\n",
       "<ol class=list-inline><li>3</li><li>1</li></ol>\n"
      ],
      "text/latex": [
       "\\begin{enumerate*}\n",
       "\\item 3\n",
       "\\item 1\n",
       "\\end{enumerate*}\n"
      ],
      "text/markdown": [
       "1. 3\n",
       "2. 1\n",
       "\n",
       "\n"
      ],
      "text/plain": [
       "[1] 3 1"
      ]
     },
     "metadata": {},
     "output_type": "display_data"
    },
    {
     "name": "stdout",
     "output_type": "stream",
     "text": [
      "[1] \"a:\"\n"
     ]
    },
    {
     "data": {
      "text/html": [
       "<style>\n",
       ".list-inline {list-style: none; margin:0; padding: 0}\n",
       ".list-inline>li {display: inline-block}\n",
       ".list-inline>li:not(:last-child)::after {content: \"\\00b7\"; padding: 0 .5ex}\n",
       "</style>\n",
       "<ol class=list-inline><li>13</li><li>1</li></ol>\n"
      ],
      "text/latex": [
       "\\begin{enumerate*}\n",
       "\\item 13\n",
       "\\item 1\n",
       "\\end{enumerate*}\n"
      ],
      "text/markdown": [
       "1. 13\n",
       "2. 1\n",
       "\n",
       "\n"
      ],
      "text/plain": [
       "[1] 13  1"
      ]
     },
     "metadata": {},
     "output_type": "display_data"
    },
    {
     "data": {
      "text/html": [
       "<table class=\"dataframe\">\n",
       "<caption>A matrix: 13 × 1 of type dbl</caption>\n",
       "<tbody>\n",
       "\t<tr><th scope=row>1</th><td>2.008554e+01</td></tr>\n",
       "\t<tr><th scope=row>2</th><td>5.459815e+01</td></tr>\n",
       "\t<tr><th scope=row>3</th><td>1.484132e+02</td></tr>\n",
       "\t<tr><th scope=row>4</th><td>4.034288e+02</td></tr>\n",
       "\t<tr><th scope=row>5</th><td>1.096633e+03</td></tr>\n",
       "\t<tr><th scope=row>6</th><td>2.980958e+03</td></tr>\n",
       "\t<tr><th scope=row>7</th><td>8.103084e+03</td></tr>\n",
       "\t<tr><th scope=row>8</th><td>2.202647e+04</td></tr>\n",
       "\t<tr><th scope=row>9</th><td>5.987414e+04</td></tr>\n",
       "\t<tr><th scope=row>10</th><td>1.627548e+05</td></tr>\n",
       "\t<tr><th scope=row>11</th><td>4.424134e+05</td></tr>\n",
       "\t<tr><th scope=row>12</th><td>1.202604e+06</td></tr>\n",
       "\t<tr><th scope=row>13</th><td>3.269017e+06</td></tr>\n",
       "</tbody>\n",
       "</table>\n"
      ],
      "text/latex": [
       "A matrix: 13 × 1 of type dbl\n",
       "\\begin{tabular}{r|l}\n",
       "\t1 & 2.008554e+01\\\\\n",
       "\t2 & 5.459815e+01\\\\\n",
       "\t3 & 1.484132e+02\\\\\n",
       "\t4 & 4.034288e+02\\\\\n",
       "\t5 & 1.096633e+03\\\\\n",
       "\t6 & 2.980958e+03\\\\\n",
       "\t7 & 8.103084e+03\\\\\n",
       "\t8 & 2.202647e+04\\\\\n",
       "\t9 & 5.987414e+04\\\\\n",
       "\t10 & 1.627548e+05\\\\\n",
       "\t11 & 4.424134e+05\\\\\n",
       "\t12 & 1.202604e+06\\\\\n",
       "\t13 & 3.269017e+06\\\\\n",
       "\\end{tabular}\n"
      ],
      "text/markdown": [
       "\n",
       "A matrix: 13 × 1 of type dbl\n",
       "\n",
       "| 1 | 2.008554e+01 |\n",
       "| 2 | 5.459815e+01 |\n",
       "| 3 | 1.484132e+02 |\n",
       "| 4 | 4.034288e+02 |\n",
       "| 5 | 1.096633e+03 |\n",
       "| 6 | 2.980958e+03 |\n",
       "| 7 | 8.103084e+03 |\n",
       "| 8 | 2.202647e+04 |\n",
       "| 9 | 5.987414e+04 |\n",
       "| 10 | 1.627548e+05 |\n",
       "| 11 | 4.424134e+05 |\n",
       "| 12 | 1.202604e+06 |\n",
       "| 13 | 3.269017e+06 |\n",
       "\n"
      ],
      "text/plain": [
       "   [,1]        \n",
       "1  2.008554e+01\n",
       "2  5.459815e+01\n",
       "3  1.484132e+02\n",
       "4  4.034288e+02\n",
       "5  1.096633e+03\n",
       "6  2.980958e+03\n",
       "7  8.103084e+03\n",
       "8  2.202647e+04\n",
       "9  5.987414e+04\n",
       "10 1.627548e+05\n",
       "11 4.424134e+05\n",
       "12 1.202604e+06\n",
       "13 3.269017e+06"
      ]
     },
     "metadata": {},
     "output_type": "display_data"
    },
    {
     "data": {
      "text/html": [
       "<table class=\"dataframe\">\n",
       "<caption>A matrix: 13 × 3 of type dbl</caption>\n",
       "<thead>\n",
       "\t<tr><th></th><th scope=col>(Intercept)</th><th scope=col>year</th><th scope=col>I(year^2)</th></tr>\n",
       "</thead>\n",
       "<tbody>\n",
       "\t<tr><th scope=row>1</th><td>1</td><td> 1</td><td>  1</td></tr>\n",
       "\t<tr><th scope=row>2</th><td>1</td><td> 2</td><td>  4</td></tr>\n",
       "\t<tr><th scope=row>3</th><td>1</td><td> 3</td><td>  9</td></tr>\n",
       "\t<tr><th scope=row>4</th><td>1</td><td> 4</td><td> 16</td></tr>\n",
       "\t<tr><th scope=row>5</th><td>1</td><td> 5</td><td> 25</td></tr>\n",
       "\t<tr><th scope=row>6</th><td>1</td><td> 6</td><td> 36</td></tr>\n",
       "\t<tr><th scope=row>7</th><td>1</td><td> 7</td><td> 49</td></tr>\n",
       "\t<tr><th scope=row>8</th><td>1</td><td> 8</td><td> 64</td></tr>\n",
       "\t<tr><th scope=row>9</th><td>1</td><td> 9</td><td> 81</td></tr>\n",
       "\t<tr><th scope=row>10</th><td>1</td><td>10</td><td>100</td></tr>\n",
       "\t<tr><th scope=row>11</th><td>1</td><td>11</td><td>121</td></tr>\n",
       "\t<tr><th scope=row>12</th><td>1</td><td>12</td><td>144</td></tr>\n",
       "\t<tr><th scope=row>13</th><td>1</td><td>13</td><td>169</td></tr>\n",
       "</tbody>\n",
       "</table>\n"
      ],
      "text/latex": [
       "A matrix: 13 × 3 of type dbl\n",
       "\\begin{tabular}{r|lll}\n",
       "  & (Intercept) & year & I(year\\textasciicircum{}2)\\\\\n",
       "\\hline\n",
       "\t1 & 1 &  1 &   1\\\\\n",
       "\t2 & 1 &  2 &   4\\\\\n",
       "\t3 & 1 &  3 &   9\\\\\n",
       "\t4 & 1 &  4 &  16\\\\\n",
       "\t5 & 1 &  5 &  25\\\\\n",
       "\t6 & 1 &  6 &  36\\\\\n",
       "\t7 & 1 &  7 &  49\\\\\n",
       "\t8 & 1 &  8 &  64\\\\\n",
       "\t9 & 1 &  9 &  81\\\\\n",
       "\t10 & 1 & 10 & 100\\\\\n",
       "\t11 & 1 & 11 & 121\\\\\n",
       "\t12 & 1 & 12 & 144\\\\\n",
       "\t13 & 1 & 13 & 169\\\\\n",
       "\\end{tabular}\n"
      ],
      "text/markdown": [
       "\n",
       "A matrix: 13 × 3 of type dbl\n",
       "\n",
       "| <!--/--> | (Intercept) | year | I(year^2) |\n",
       "|---|---|---|---|\n",
       "| 1 | 1 |  1 |   1 |\n",
       "| 2 | 1 |  2 |   4 |\n",
       "| 3 | 1 |  3 |   9 |\n",
       "| 4 | 1 |  4 |  16 |\n",
       "| 5 | 1 |  5 |  25 |\n",
       "| 6 | 1 |  6 |  36 |\n",
       "| 7 | 1 |  7 |  49 |\n",
       "| 8 | 1 |  8 |  64 |\n",
       "| 9 | 1 |  9 |  81 |\n",
       "| 10 | 1 | 10 | 100 |\n",
       "| 11 | 1 | 11 | 121 |\n",
       "| 12 | 1 | 12 | 144 |\n",
       "| 13 | 1 | 13 | 169 |\n",
       "\n"
      ],
      "text/plain": [
       "   (Intercept) year I(year^2)\n",
       "1  1            1     1      \n",
       "2  1            2     4      \n",
       "3  1            3     9      \n",
       "4  1            4    16      \n",
       "5  1            5    25      \n",
       "6  1            6    36      \n",
       "7  1            7    49      \n",
       "8  1            8    64      \n",
       "9  1            9    81      \n",
       "10 1           10   100      \n",
       "11 1           11   121      \n",
       "12 1           12   144      \n",
       "13 1           13   169      "
      ]
     },
     "metadata": {},
     "output_type": "display_data"
    }
   ],
   "source": [
    "#condiciones\n",
    "b0 = c(2, 1, 0); b0 = t(t(b0))\n",
    "tol = 1e-6\n",
    "m = 100 \n",
    "\n",
    "#definimos X y Y \n",
    "Y = data$cases\n",
    "#X = cbind(1, data$year, data$year^2) # matriz de diseño\n",
    "#matriz de diseño \n",
    "X = model.matrix(model)\n",
    "\n",
    "print(\"X:\"); head(X, 5)\n",
    "\n",
    "#X transpuesta \n",
    "#Xt = t(X)\n",
    "\n",
    "print(\"dim X:\"); dim(X)\n",
    "print(\"dim b0:\"); dim(b0)\n",
    "\n",
    "# u --> a = lambda en poisson \n",
    "a = exp(X%*%b0)\n",
    "\n",
    "print(\"a:\"); dim(a); a#head(a, 5)\n",
    "\n",
    "X"
   ]
  },
  {
   "cell_type": "markdown",
   "metadata": {},
   "source": [
    "definimos $\\Lambda$"
   ]
  },
  {
   "cell_type": "code",
   "execution_count": 36,
   "metadata": {
    "vscode": {
     "languageId": "r"
    }
   },
   "outputs": [
    {
     "data": {
      "text/html": [
       "<style>\n",
       ".list-inline {list-style: none; margin:0; padding: 0}\n",
       ".list-inline>li {display: inline-block}\n",
       ".list-inline>li:not(:last-child)::after {content: \"\\00b7\"; padding: 0 .5ex}\n",
       "</style>\n",
       "<ol class=list-inline><li>13</li><li>13</li></ol>\n"
      ],
      "text/latex": [
       "\\begin{enumerate*}\n",
       "\\item 13\n",
       "\\item 13\n",
       "\\end{enumerate*}\n"
      ],
      "text/markdown": [
       "1. 13\n",
       "2. 13\n",
       "\n",
       "\n"
      ],
      "text/plain": [
       "[1] 13 13"
      ]
     },
     "metadata": {},
     "output_type": "display_data"
    },
    {
     "data": {
      "text/html": [
       "<table class=\"dataframe\">\n",
       "<caption>A matrix: 13 × 13 of type dbl</caption>\n",
       "<tbody>\n",
       "\t<tr><td>20.08554</td><td> 0.00000</td><td>  0.0000</td><td>  0.0000</td><td>   0.000</td><td>   0.000</td><td>   0.000</td><td>    0.00</td><td>    0.00</td><td>     0.0</td><td>     0.0</td><td>      0</td><td>      0</td></tr>\n",
       "\t<tr><td> 0.00000</td><td>54.59815</td><td>  0.0000</td><td>  0.0000</td><td>   0.000</td><td>   0.000</td><td>   0.000</td><td>    0.00</td><td>    0.00</td><td>     0.0</td><td>     0.0</td><td>      0</td><td>      0</td></tr>\n",
       "\t<tr><td> 0.00000</td><td> 0.00000</td><td>148.4132</td><td>  0.0000</td><td>   0.000</td><td>   0.000</td><td>   0.000</td><td>    0.00</td><td>    0.00</td><td>     0.0</td><td>     0.0</td><td>      0</td><td>      0</td></tr>\n",
       "\t<tr><td> 0.00000</td><td> 0.00000</td><td>  0.0000</td><td>403.4288</td><td>   0.000</td><td>   0.000</td><td>   0.000</td><td>    0.00</td><td>    0.00</td><td>     0.0</td><td>     0.0</td><td>      0</td><td>      0</td></tr>\n",
       "\t<tr><td> 0.00000</td><td> 0.00000</td><td>  0.0000</td><td>  0.0000</td><td>1096.633</td><td>   0.000</td><td>   0.000</td><td>    0.00</td><td>    0.00</td><td>     0.0</td><td>     0.0</td><td>      0</td><td>      0</td></tr>\n",
       "\t<tr><td> 0.00000</td><td> 0.00000</td><td>  0.0000</td><td>  0.0000</td><td>   0.000</td><td>2980.958</td><td>   0.000</td><td>    0.00</td><td>    0.00</td><td>     0.0</td><td>     0.0</td><td>      0</td><td>      0</td></tr>\n",
       "\t<tr><td> 0.00000</td><td> 0.00000</td><td>  0.0000</td><td>  0.0000</td><td>   0.000</td><td>   0.000</td><td>8103.084</td><td>    0.00</td><td>    0.00</td><td>     0.0</td><td>     0.0</td><td>      0</td><td>      0</td></tr>\n",
       "\t<tr><td> 0.00000</td><td> 0.00000</td><td>  0.0000</td><td>  0.0000</td><td>   0.000</td><td>   0.000</td><td>   0.000</td><td>22026.47</td><td>    0.00</td><td>     0.0</td><td>     0.0</td><td>      0</td><td>      0</td></tr>\n",
       "\t<tr><td> 0.00000</td><td> 0.00000</td><td>  0.0000</td><td>  0.0000</td><td>   0.000</td><td>   0.000</td><td>   0.000</td><td>    0.00</td><td>59874.14</td><td>     0.0</td><td>     0.0</td><td>      0</td><td>      0</td></tr>\n",
       "\t<tr><td> 0.00000</td><td> 0.00000</td><td>  0.0000</td><td>  0.0000</td><td>   0.000</td><td>   0.000</td><td>   0.000</td><td>    0.00</td><td>    0.00</td><td>162754.8</td><td>     0.0</td><td>      0</td><td>      0</td></tr>\n",
       "\t<tr><td> 0.00000</td><td> 0.00000</td><td>  0.0000</td><td>  0.0000</td><td>   0.000</td><td>   0.000</td><td>   0.000</td><td>    0.00</td><td>    0.00</td><td>     0.0</td><td>442413.4</td><td>      0</td><td>      0</td></tr>\n",
       "\t<tr><td> 0.00000</td><td> 0.00000</td><td>  0.0000</td><td>  0.0000</td><td>   0.000</td><td>   0.000</td><td>   0.000</td><td>    0.00</td><td>    0.00</td><td>     0.0</td><td>     0.0</td><td>1202604</td><td>      0</td></tr>\n",
       "\t<tr><td> 0.00000</td><td> 0.00000</td><td>  0.0000</td><td>  0.0000</td><td>   0.000</td><td>   0.000</td><td>   0.000</td><td>    0.00</td><td>    0.00</td><td>     0.0</td><td>     0.0</td><td>      0</td><td>3269017</td></tr>\n",
       "</tbody>\n",
       "</table>\n"
      ],
      "text/latex": [
       "A matrix: 13 × 13 of type dbl\n",
       "\\begin{tabular}{lllllllllllll}\n",
       "\t 20.08554 &  0.00000 &   0.0000 &   0.0000 &    0.000 &    0.000 &    0.000 &     0.00 &     0.00 &      0.0 &      0.0 &       0 &       0\\\\\n",
       "\t  0.00000 & 54.59815 &   0.0000 &   0.0000 &    0.000 &    0.000 &    0.000 &     0.00 &     0.00 &      0.0 &      0.0 &       0 &       0\\\\\n",
       "\t  0.00000 &  0.00000 & 148.4132 &   0.0000 &    0.000 &    0.000 &    0.000 &     0.00 &     0.00 &      0.0 &      0.0 &       0 &       0\\\\\n",
       "\t  0.00000 &  0.00000 &   0.0000 & 403.4288 &    0.000 &    0.000 &    0.000 &     0.00 &     0.00 &      0.0 &      0.0 &       0 &       0\\\\\n",
       "\t  0.00000 &  0.00000 &   0.0000 &   0.0000 & 1096.633 &    0.000 &    0.000 &     0.00 &     0.00 &      0.0 &      0.0 &       0 &       0\\\\\n",
       "\t  0.00000 &  0.00000 &   0.0000 &   0.0000 &    0.000 & 2980.958 &    0.000 &     0.00 &     0.00 &      0.0 &      0.0 &       0 &       0\\\\\n",
       "\t  0.00000 &  0.00000 &   0.0000 &   0.0000 &    0.000 &    0.000 & 8103.084 &     0.00 &     0.00 &      0.0 &      0.0 &       0 &       0\\\\\n",
       "\t  0.00000 &  0.00000 &   0.0000 &   0.0000 &    0.000 &    0.000 &    0.000 & 22026.47 &     0.00 &      0.0 &      0.0 &       0 &       0\\\\\n",
       "\t  0.00000 &  0.00000 &   0.0000 &   0.0000 &    0.000 &    0.000 &    0.000 &     0.00 & 59874.14 &      0.0 &      0.0 &       0 &       0\\\\\n",
       "\t  0.00000 &  0.00000 &   0.0000 &   0.0000 &    0.000 &    0.000 &    0.000 &     0.00 &     0.00 & 162754.8 &      0.0 &       0 &       0\\\\\n",
       "\t  0.00000 &  0.00000 &   0.0000 &   0.0000 &    0.000 &    0.000 &    0.000 &     0.00 &     0.00 &      0.0 & 442413.4 &       0 &       0\\\\\n",
       "\t  0.00000 &  0.00000 &   0.0000 &   0.0000 &    0.000 &    0.000 &    0.000 &     0.00 &     0.00 &      0.0 &      0.0 & 1202604 &       0\\\\\n",
       "\t  0.00000 &  0.00000 &   0.0000 &   0.0000 &    0.000 &    0.000 &    0.000 &     0.00 &     0.00 &      0.0 &      0.0 &       0 & 3269017\\\\\n",
       "\\end{tabular}\n"
      ],
      "text/markdown": [
       "\n",
       "A matrix: 13 × 13 of type dbl\n",
       "\n",
       "| 20.08554 |  0.00000 |   0.0000 |   0.0000 |    0.000 |    0.000 |    0.000 |     0.00 |     0.00 |      0.0 |      0.0 |       0 |       0 |\n",
       "|  0.00000 | 54.59815 |   0.0000 |   0.0000 |    0.000 |    0.000 |    0.000 |     0.00 |     0.00 |      0.0 |      0.0 |       0 |       0 |\n",
       "|  0.00000 |  0.00000 | 148.4132 |   0.0000 |    0.000 |    0.000 |    0.000 |     0.00 |     0.00 |      0.0 |      0.0 |       0 |       0 |\n",
       "|  0.00000 |  0.00000 |   0.0000 | 403.4288 |    0.000 |    0.000 |    0.000 |     0.00 |     0.00 |      0.0 |      0.0 |       0 |       0 |\n",
       "|  0.00000 |  0.00000 |   0.0000 |   0.0000 | 1096.633 |    0.000 |    0.000 |     0.00 |     0.00 |      0.0 |      0.0 |       0 |       0 |\n",
       "|  0.00000 |  0.00000 |   0.0000 |   0.0000 |    0.000 | 2980.958 |    0.000 |     0.00 |     0.00 |      0.0 |      0.0 |       0 |       0 |\n",
       "|  0.00000 |  0.00000 |   0.0000 |   0.0000 |    0.000 |    0.000 | 8103.084 |     0.00 |     0.00 |      0.0 |      0.0 |       0 |       0 |\n",
       "|  0.00000 |  0.00000 |   0.0000 |   0.0000 |    0.000 |    0.000 |    0.000 | 22026.47 |     0.00 |      0.0 |      0.0 |       0 |       0 |\n",
       "|  0.00000 |  0.00000 |   0.0000 |   0.0000 |    0.000 |    0.000 |    0.000 |     0.00 | 59874.14 |      0.0 |      0.0 |       0 |       0 |\n",
       "|  0.00000 |  0.00000 |   0.0000 |   0.0000 |    0.000 |    0.000 |    0.000 |     0.00 |     0.00 | 162754.8 |      0.0 |       0 |       0 |\n",
       "|  0.00000 |  0.00000 |   0.0000 |   0.0000 |    0.000 |    0.000 |    0.000 |     0.00 |     0.00 |      0.0 | 442413.4 |       0 |       0 |\n",
       "|  0.00000 |  0.00000 |   0.0000 |   0.0000 |    0.000 |    0.000 |    0.000 |     0.00 |     0.00 |      0.0 |      0.0 | 1202604 |       0 |\n",
       "|  0.00000 |  0.00000 |   0.0000 |   0.0000 |    0.000 |    0.000 |    0.000 |     0.00 |     0.00 |      0.0 |      0.0 |       0 | 3269017 |\n",
       "\n"
      ],
      "text/plain": [
       "      [,1]     [,2]     [,3]     [,4]     [,5]     [,6]     [,7]     [,8]    \n",
       " [1,] 20.08554  0.00000   0.0000   0.0000    0.000    0.000    0.000     0.00\n",
       " [2,]  0.00000 54.59815   0.0000   0.0000    0.000    0.000    0.000     0.00\n",
       " [3,]  0.00000  0.00000 148.4132   0.0000    0.000    0.000    0.000     0.00\n",
       " [4,]  0.00000  0.00000   0.0000 403.4288    0.000    0.000    0.000     0.00\n",
       " [5,]  0.00000  0.00000   0.0000   0.0000 1096.633    0.000    0.000     0.00\n",
       " [6,]  0.00000  0.00000   0.0000   0.0000    0.000 2980.958    0.000     0.00\n",
       " [7,]  0.00000  0.00000   0.0000   0.0000    0.000    0.000 8103.084     0.00\n",
       " [8,]  0.00000  0.00000   0.0000   0.0000    0.000    0.000    0.000 22026.47\n",
       " [9,]  0.00000  0.00000   0.0000   0.0000    0.000    0.000    0.000     0.00\n",
       "[10,]  0.00000  0.00000   0.0000   0.0000    0.000    0.000    0.000     0.00\n",
       "[11,]  0.00000  0.00000   0.0000   0.0000    0.000    0.000    0.000     0.00\n",
       "[12,]  0.00000  0.00000   0.0000   0.0000    0.000    0.000    0.000     0.00\n",
       "[13,]  0.00000  0.00000   0.0000   0.0000    0.000    0.000    0.000     0.00\n",
       "      [,9]     [,10]    [,11]    [,12]   [,13]  \n",
       " [1,]     0.00      0.0      0.0       0       0\n",
       " [2,]     0.00      0.0      0.0       0       0\n",
       " [3,]     0.00      0.0      0.0       0       0\n",
       " [4,]     0.00      0.0      0.0       0       0\n",
       " [5,]     0.00      0.0      0.0       0       0\n",
       " [6,]     0.00      0.0      0.0       0       0\n",
       " [7,]     0.00      0.0      0.0       0       0\n",
       " [8,]     0.00      0.0      0.0       0       0\n",
       " [9,] 59874.14      0.0      0.0       0       0\n",
       "[10,]     0.00 162754.8      0.0       0       0\n",
       "[11,]     0.00      0.0 442413.4       0       0\n",
       "[12,]     0.00      0.0      0.0 1202604       0\n",
       "[13,]     0.00      0.0      0.0       0 3269017"
      ]
     },
     "metadata": {},
     "output_type": "display_data"
    }
   ],
   "source": [
    "#v = u*(1-u)\n",
    "\n",
    "#lambda mayuscula en poisson\n",
    "A = diag(as.vector(a))\n",
    "\n",
    "dim(A)\n",
    "\n",
    "#a\n",
    "A"
   ]
  },
  {
   "cell_type": "markdown",
   "metadata": {},
   "source": [
    "para cada b"
   ]
  },
  {
   "cell_type": "code",
   "execution_count": 37,
   "metadata": {
    "vscode": {
     "languageId": "r"
    }
   },
   "outputs": [],
   "source": [
    "i = 0\n",
    "\n",
    "#b <- c(b0) # no \n",
    "\n",
    "b <- list(b0)\n",
    "#as.vector(b)\n",
    "\n",
    "while ((m > tol) & (i < 100)) {\n",
    "    #print(i)\n",
    "    i <- i + 1\n",
    "\n",
    "    b1 <- b0 + solve(t(X)%*%A%*%X) %*% t(X) %*%(Y-a)\n",
    "\n",
    "    m <- sqrt(sum((b1 - b0)^2))\n",
    "    b0 <- b1\n",
    "    \n",
    "    #nueva μ\n",
    "    #u = 1 / (1 + exp(- X%*%b0))\n",
    "    #nueva W\n",
    "    #v = u*(1-u)\n",
    "    #W = diag(as.vector(v))\n",
    "    \n",
    "    #nueva a\n",
    "    a = exp(X%*%b0)\n",
    "\n",
    "    #nueva A\n",
    "    A = diag(as.vector(a))\n",
    "\n",
    "\n",
    "    b <- c(b, list(b0))\n",
    "}\n",
    "\n",
    "#b\n",
    "b <- as.matrix(b)"
   ]
  },
  {
   "cell_type": "code",
   "execution_count": 38,
   "metadata": {
    "vscode": {
     "languageId": "r"
    }
   },
   "outputs": [
    {
     "data": {
      "text/html": [
       "<table class=\"dataframe\">\n",
       "<caption>A matrix: 6 × 1</caption>\n",
       "<tbody>\n",
       "\t<tr><td>2, 1, 0</td></tr>\n",
       "\t<tr><td>1.1211292668, 0.9795371949, 0.0008592407</td></tr>\n",
       "\t<tr><td>0.44204553, 0.92534211, 0.00313429</td></tr>\n",
       "\t<tr><td>0.254882683, 0.788217778, 0.008885712</td></tr>\n",
       "\t<tr><td>1.06761280, 0.48361586, 0.02162036</td></tr>\n",
       "\t<tr><td>2.86100041, 0.02436385, 0.04046591</td></tr>\n",
       "</tbody>\n",
       "</table>\n"
      ],
      "text/latex": [
       "A matrix: 6 × 1\n",
       "\\begin{tabular}{l}\n",
       "\t 2, 1, 0\\\\\n",
       "\t 1.1211292668, 0.9795371949, 0.0008592407\\\\\n",
       "\t 0.44204553, 0.92534211, 0.00313429\\\\\n",
       "\t 0.254882683, 0.788217778, 0.008885712\\\\\n",
       "\t 1.06761280, 0.48361586, 0.02162036\\\\\n",
       "\t 2.86100041, 0.02436385, 0.04046591\\\\\n",
       "\\end{tabular}\n"
      ],
      "text/markdown": [
       "\n",
       "A matrix: 6 × 1\n",
       "\n",
       "| 2, 1, 0 |\n",
       "| 1.1211292668, 0.9795371949, 0.0008592407 |\n",
       "| 0.44204553, 0.92534211, 0.00313429 |\n",
       "| 0.254882683, 0.788217778, 0.008885712 |\n",
       "| 1.06761280, 0.48361586, 0.02162036 |\n",
       "| 2.86100041, 0.02436385, 0.04046591 |\n",
       "\n"
      ],
      "text/plain": [
       "     [,1]                                    \n",
       "[1,] 2, 1, 0                                 \n",
       "[2,] 1.1211292668, 0.9795371949, 0.0008592407\n",
       "[3,] 0.44204553, 0.92534211, 0.00313429      \n",
       "[4,] 0.254882683, 0.788217778, 0.008885712   \n",
       "[5,] 1.06761280, 0.48361586, 0.02162036      \n",
       "[6,] 2.86100041, 0.02436385, 0.04046591      "
      ]
     },
     "metadata": {},
     "output_type": "display_data"
    }
   ],
   "source": [
    "head(b)"
   ]
  },
  {
   "cell_type": "code",
   "execution_count": 39,
   "metadata": {
    "vscode": {
     "languageId": "r"
    }
   },
   "outputs": [
    {
     "data": {
      "text/html": [
       "<table class=\"dataframe\">\n",
       "<caption>A matrix: 3 × 1 of type dbl</caption>\n",
       "<tbody>\n",
       "\t<tr><th scope=row>(Intercept)</th><td> 1.90145858</td></tr>\n",
       "\t<tr><th scope=row>year</th><td> 0.55600327</td></tr>\n",
       "\t<tr><th scope=row>I(year^2)</th><td>-0.02134627</td></tr>\n",
       "</tbody>\n",
       "</table>\n"
      ],
      "text/latex": [
       "A matrix: 3 × 1 of type dbl\n",
       "\\begin{tabular}{r|l}\n",
       "\t(Intercept) &  1.90145858\\\\\n",
       "\tyear &  0.55600327\\\\\n",
       "\tI(year\\textasciicircum{}2) & -0.02134627\\\\\n",
       "\\end{tabular}\n"
      ],
      "text/markdown": [
       "\n",
       "A matrix: 3 × 1 of type dbl\n",
       "\n",
       "| (Intercept) |  1.90145858 |\n",
       "| year |  0.55600327 |\n",
       "| I(year^2) | -0.02134627 |\n",
       "\n"
      ],
      "text/plain": [
       "            [,1]       \n",
       "(Intercept)  1.90145858\n",
       "year         0.55600327\n",
       "I(year^2)   -0.02134627"
      ]
     },
     "metadata": {},
     "output_type": "display_data"
    }
   ],
   "source": [
    "b0"
   ]
  },
  {
   "cell_type": "markdown",
   "metadata": {},
   "source": [
    "### Desviacion estandar"
   ]
  },
  {
   "cell_type": "code",
   "execution_count": 40,
   "metadata": {
    "vscode": {
     "languageId": "r"
    }
   },
   "outputs": [
    {
     "data": {
      "text/html": [
       "<style>\n",
       ".list-inline {list-style: none; margin:0; padding: 0}\n",
       ".list-inline>li {display: inline-block}\n",
       ".list-inline>li:not(:last-child)::after {content: \"\\00b7\"; padding: 0 .5ex}\n",
       "</style>\n",
       "<ol class=list-inline><li>3</li><li>13</li></ol>\n"
      ],
      "text/latex": [
       "\\begin{enumerate*}\n",
       "\\item 3\n",
       "\\item 13\n",
       "\\end{enumerate*}\n"
      ],
      "text/markdown": [
       "1. 3\n",
       "2. 13\n",
       "\n",
       "\n"
      ],
      "text/plain": [
       "[1]  3 13"
      ]
     },
     "metadata": {},
     "output_type": "display_data"
    },
    {
     "data": {
      "text/html": [
       "<style>\n",
       ".list-inline {list-style: none; margin:0; padding: 0}\n",
       ".list-inline>li {display: inline-block}\n",
       ".list-inline>li:not(:last-child)::after {content: \"\\00b7\"; padding: 0 .5ex}\n",
       "</style>\n",
       "<ol class=list-inline><li>13</li><li>13</li></ol>\n"
      ],
      "text/latex": [
       "\\begin{enumerate*}\n",
       "\\item 13\n",
       "\\item 13\n",
       "\\end{enumerate*}\n"
      ],
      "text/markdown": [
       "1. 13\n",
       "2. 13\n",
       "\n",
       "\n"
      ],
      "text/plain": [
       "[1] 13 13"
      ]
     },
     "metadata": {},
     "output_type": "display_data"
    },
    {
     "data": {
      "text/html": [
       "<style>\n",
       ".list-inline {list-style: none; margin:0; padding: 0}\n",
       ".list-inline>li {display: inline-block}\n",
       ".list-inline>li:not(:last-child)::after {content: \"\\00b7\"; padding: 0 .5ex}\n",
       "</style>\n",
       "<ol class=list-inline><li>13</li><li>3</li></ol>\n"
      ],
      "text/latex": [
       "\\begin{enumerate*}\n",
       "\\item 13\n",
       "\\item 3\n",
       "\\end{enumerate*}\n"
      ],
      "text/markdown": [
       "1. 13\n",
       "2. 3\n",
       "\n",
       "\n"
      ],
      "text/plain": [
       "[1] 13  3"
      ]
     },
     "metadata": {},
     "output_type": "display_data"
    }
   ],
   "source": [
    "dim(t(X)); dim(A); dim(X)"
   ]
  },
  {
   "cell_type": "code",
   "execution_count": 41,
   "metadata": {
    "vscode": {
     "languageId": "r"
    }
   },
   "outputs": [
    {
     "name": "stdout",
     "output_type": "stream",
     "text": [
      "[1] \"V: \"\n"
     ]
    },
    {
     "data": {
      "text/html": [
       "<table class=\"dataframe\">\n",
       "<caption>A matrix: 3 × 3 of type dbl</caption>\n",
       "<thead>\n",
       "\t<tr><th></th><th scope=col>(Intercept)</th><th scope=col>year</th><th scope=col>I(year^2)</th></tr>\n",
       "</thead>\n",
       "<tbody>\n",
       "\t<tr><th scope=row>(Intercept)</th><td> 0.0349231870</td><td>-0.008158846</td><td> 4.394231e-04</td></tr>\n",
       "\t<tr><th scope=row>year</th><td>-0.0081588462</td><td> 0.002095786</td><td>-1.194640e-04</td></tr>\n",
       "\t<tr><th scope=row>I(year^2)</th><td> 0.0004394231</td><td>-0.000119464</td><td> 7.068204e-06</td></tr>\n",
       "</tbody>\n",
       "</table>\n"
      ],
      "text/latex": [
       "A matrix: 3 × 3 of type dbl\n",
       "\\begin{tabular}{r|lll}\n",
       "  & (Intercept) & year & I(year\\textasciicircum{}2)\\\\\n",
       "\\hline\n",
       "\t(Intercept) &  0.0349231870 & -0.008158846 &  4.394231e-04\\\\\n",
       "\tyear & -0.0081588462 &  0.002095786 & -1.194640e-04\\\\\n",
       "\tI(year\\textasciicircum{}2) &  0.0004394231 & -0.000119464 &  7.068204e-06\\\\\n",
       "\\end{tabular}\n"
      ],
      "text/markdown": [
       "\n",
       "A matrix: 3 × 3 of type dbl\n",
       "\n",
       "| <!--/--> | (Intercept) | year | I(year^2) |\n",
       "|---|---|---|---|\n",
       "| (Intercept) |  0.0349231870 | -0.008158846 |  4.394231e-04 |\n",
       "| year | -0.0081588462 |  0.002095786 | -1.194640e-04 |\n",
       "| I(year^2) |  0.0004394231 | -0.000119464 |  7.068204e-06 |\n",
       "\n"
      ],
      "text/plain": [
       "            (Intercept)   year         I(year^2)    \n",
       "(Intercept)  0.0349231870 -0.008158846  4.394231e-04\n",
       "year        -0.0081588462  0.002095786 -1.194640e-04\n",
       "I(year^2)    0.0004394231 -0.000119464  7.068204e-06"
      ]
     },
     "metadata": {},
     "output_type": "display_data"
    },
    {
     "name": "stdout",
     "output_type": "stream",
     "text": [
      "[1] \"diag(V)\"\n"
     ]
    },
    {
     "data": {
      "text/html": [
       "<style>\n",
       ".dl-inline {width: auto; margin:0; padding: 0}\n",
       ".dl-inline>dt, .dl-inline>dd {float: none; width: auto; display: inline-block}\n",
       ".dl-inline>dt::after {content: \":\\0020\"; padding-right: .5ex}\n",
       ".dl-inline>dt:not(:first-of-type) {padding-left: .5ex}\n",
       "</style><dl class=dl-inline><dt>(Intercept)</dt><dd>0.0349231869815749</dd><dt>year</dt><dd>0.00209578551918789</dd><dt>I(year^2)</dt><dd>7.06820357237233e-06</dd></dl>\n"
      ],
      "text/latex": [
       "\\begin{description*}\n",
       "\\item[(Intercept)] 0.0349231869815749\n",
       "\\item[year] 0.00209578551918789\n",
       "\\item[I(year\\textbackslash{}textasciicircum\\{\\}2)] 7.06820357237233e-06\n",
       "\\end{description*}\n"
      ],
      "text/markdown": [
       "(Intercept)\n",
       ":   0.0349231869815749year\n",
       ":   0.00209578551918789I(year^2)\n",
       ":   7.06820357237233e-06\n",
       "\n"
      ],
      "text/plain": [
       " (Intercept)         year    I(year^2) \n",
       "3.492319e-02 2.095786e-03 7.068204e-06 "
      ]
     },
     "metadata": {},
     "output_type": "display_data"
    },
    {
     "name": "stdout",
     "output_type": "stream",
     "text": [
      "[1] \"sqrt(diag(V))\"\n"
     ]
    },
    {
     "data": {
      "text/html": [
       "<style>\n",
       ".dl-inline {width: auto; margin:0; padding: 0}\n",
       ".dl-inline>dt, .dl-inline>dd {float: none; width: auto; display: inline-block}\n",
       ".dl-inline>dt::after {content: \":\\0020\"; padding-right: .5ex}\n",
       ".dl-inline>dt:not(:first-of-type) {padding-left: .5ex}\n",
       "</style><dl class=dl-inline><dt>(Intercept)</dt><dd>0.186877465151834</dd><dt>year</dt><dd>0.0457797500996662</dd><dt>I(year^2)</dt><dd>0.00265860933052834</dd></dl>\n"
      ],
      "text/latex": [
       "\\begin{description*}\n",
       "\\item[(Intercept)] 0.186877465151834\n",
       "\\item[year] 0.0457797500996662\n",
       "\\item[I(year\\textbackslash{}textasciicircum\\{\\}2)] 0.00265860933052834\n",
       "\\end{description*}\n"
      ],
      "text/markdown": [
       "(Intercept)\n",
       ":   0.186877465151834year\n",
       ":   0.0457797500996662I(year^2)\n",
       ":   0.00265860933052834\n",
       "\n"
      ],
      "text/plain": [
       "(Intercept)        year   I(year^2) \n",
       "0.186877465 0.045779750 0.002658609 "
      ]
     },
     "metadata": {},
     "output_type": "display_data"
    },
    {
     "name": "stdout",
     "output_type": "stream",
     "text": [
      "[1] \"glm model:\"\n"
     ]
    },
    {
     "data": {
      "text/html": [
       "<table class=\"dataframe\">\n",
       "<caption>A matrix: 3 × 4 of type dbl</caption>\n",
       "<thead>\n",
       "\t<tr><th></th><th scope=col>Estimate</th><th scope=col>Std. Error</th><th scope=col>z value</th><th scope=col>Pr(&gt;|z|)</th></tr>\n",
       "</thead>\n",
       "<tbody>\n",
       "\t<tr><th scope=row>(Intercept)</th><td> 1.90145858</td><td>0.186877465</td><td>10.174895</td><td>2.566767e-24</td></tr>\n",
       "\t<tr><th scope=row>year</th><td> 0.55600327</td><td>0.045779750</td><td>12.145179</td><td>6.084915e-34</td></tr>\n",
       "\t<tr><th scope=row>I(year^2)</th><td>-0.02134627</td><td>0.002658609</td><td>-8.029112</td><td>9.818083e-16</td></tr>\n",
       "</tbody>\n",
       "</table>\n"
      ],
      "text/latex": [
       "A matrix: 3 × 4 of type dbl\n",
       "\\begin{tabular}{r|llll}\n",
       "  & Estimate & Std. Error & z value & Pr(>\\textbar{}z\\textbar{})\\\\\n",
       "\\hline\n",
       "\t(Intercept) &  1.90145858 & 0.186877465 & 10.174895 & 2.566767e-24\\\\\n",
       "\tyear &  0.55600327 & 0.045779750 & 12.145179 & 6.084915e-34\\\\\n",
       "\tI(year\\textasciicircum{}2) & -0.02134627 & 0.002658609 & -8.029112 & 9.818083e-16\\\\\n",
       "\\end{tabular}\n"
      ],
      "text/markdown": [
       "\n",
       "A matrix: 3 × 4 of type dbl\n",
       "\n",
       "| <!--/--> | Estimate | Std. Error | z value | Pr(&gt;|z|) |\n",
       "|---|---|---|---|---|\n",
       "| (Intercept) |  1.90145858 | 0.186877465 | 10.174895 | 2.566767e-24 |\n",
       "| year |  0.55600327 | 0.045779750 | 12.145179 | 6.084915e-34 |\n",
       "| I(year^2) | -0.02134627 | 0.002658609 | -8.029112 | 9.818083e-16 |\n",
       "\n"
      ],
      "text/plain": [
       "            Estimate    Std. Error  z value   Pr(>|z|)    \n",
       "(Intercept)  1.90145858 0.186877465 10.174895 2.566767e-24\n",
       "year         0.55600327 0.045779750 12.145179 6.084915e-34\n",
       "I(year^2)   -0.02134627 0.002658609 -8.029112 9.818083e-16"
      ]
     },
     "metadata": {},
     "output_type": "display_data"
    }
   ],
   "source": [
    "V = solve(t(X)%*%A%*%X)\n",
    "print(\"V: \"); V\n",
    "print(\"diag(V)\"); diag(V)\n",
    "print(\"sqrt(diag(V))\"); sqrt( diag( V ) )\n",
    "\n",
    "print(\"glm model:\")\n",
    "summary(model)$coefficients"
   ]
  },
  {
   "cell_type": "markdown",
   "metadata": {},
   "source": [
    "son muy similares"
   ]
  },
  {
   "cell_type": "markdown",
   "metadata": {},
   "source": [
    "* También es posible encontrar un intervalo de confianza para las estimaciones\n",
    " (e incluso para las predicciones si tuviéramos nuevos datos).\n",
    "Grafique los valores originales junto con la estimación (solución) considerando\n",
    " dos desviaciones estándar como intervalo de confianza. La idea\n",
    "es que reproduzca la figura . (20 pts)\n",
    "\n",
    "<img src=\"figuras/12_fig2.png\" width=\"400\">\n"
   ]
  },
  {
   "cell_type": "code",
   "execution_count": 42,
   "metadata": {
    "vscode": {
     "languageId": "r"
    }
   },
   "outputs": [
    {
     "data": {
      "text/html": [
       "<style>\n",
       ".list-inline {list-style: none; margin:0; padding: 0}\n",
       ".list-inline>li {display: inline-block}\n",
       ".list-inline>li:not(:last-child)::after {content: \"\\00b7\"; padding: 0 .5ex}\n",
       "</style>\n",
       "<ol class=list-inline><li>3</li><li>1</li></ol>\n"
      ],
      "text/latex": [
       "\\begin{enumerate*}\n",
       "\\item 3\n",
       "\\item 1\n",
       "\\end{enumerate*}\n"
      ],
      "text/markdown": [
       "1. 3\n",
       "2. 1\n",
       "\n",
       "\n"
      ],
      "text/plain": [
       "[1] 3 1"
      ]
     },
     "metadata": {},
     "output_type": "display_data"
    },
    {
     "data": {
      "text/html": [
       "<table class=\"dataframe\">\n",
       "<caption>A matrix: 3 × 1 of type dbl</caption>\n",
       "<tbody>\n",
       "\t<tr><th scope=row>(Intercept)</th><td>0.186877465</td></tr>\n",
       "\t<tr><th scope=row>year</th><td>0.045779750</td></tr>\n",
       "\t<tr><th scope=row>I(year^2)</th><td>0.002658609</td></tr>\n",
       "</tbody>\n",
       "</table>\n"
      ],
      "text/latex": [
       "A matrix: 3 × 1 of type dbl\n",
       "\\begin{tabular}{r|l}\n",
       "\t(Intercept) & 0.186877465\\\\\n",
       "\tyear & 0.045779750\\\\\n",
       "\tI(year\\textasciicircum{}2) & 0.002658609\\\\\n",
       "\\end{tabular}\n"
      ],
      "text/markdown": [
       "\n",
       "A matrix: 3 × 1 of type dbl\n",
       "\n",
       "| (Intercept) | 0.186877465 |\n",
       "| year | 0.045779750 |\n",
       "| I(year^2) | 0.002658609 |\n",
       "\n"
      ],
      "text/plain": [
       "            [,1]       \n",
       "(Intercept) 0.186877465\n",
       "year        0.045779750\n",
       "I(year^2)   0.002658609"
      ]
     },
     "metadata": {},
     "output_type": "display_data"
    }
   ],
   "source": [
    "desv = sqrt( diag( V ) )\n",
    "desv = as.matrix(desv)\n",
    "dim(desv)\n",
    "desv"
   ]
  },
  {
   "cell_type": "code",
   "execution_count": 43,
   "metadata": {
    "vscode": {
     "languageId": "r"
    }
   },
   "outputs": [
    {
     "data": {
      "text/html": [
       "<table class=\"dataframe\">\n",
       "<caption>A matrix: 3 × 1 of type dbl</caption>\n",
       "<tbody>\n",
       "\t<tr><th scope=row>(Intercept)</th><td> 1.90145858</td></tr>\n",
       "\t<tr><th scope=row>year</th><td> 0.55600327</td></tr>\n",
       "\t<tr><th scope=row>I(year^2)</th><td>-0.02134627</td></tr>\n",
       "</tbody>\n",
       "</table>\n"
      ],
      "text/latex": [
       "A matrix: 3 × 1 of type dbl\n",
       "\\begin{tabular}{r|l}\n",
       "\t(Intercept) &  1.90145858\\\\\n",
       "\tyear &  0.55600327\\\\\n",
       "\tI(year\\textasciicircum{}2) & -0.02134627\\\\\n",
       "\\end{tabular}\n"
      ],
      "text/markdown": [
       "\n",
       "A matrix: 3 × 1 of type dbl\n",
       "\n",
       "| (Intercept) |  1.90145858 |\n",
       "| year |  0.55600327 |\n",
       "| I(year^2) | -0.02134627 |\n",
       "\n"
      ],
      "text/plain": [
       "            [,1]       \n",
       "(Intercept)  1.90145858\n",
       "year         0.55600327\n",
       "I(year^2)   -0.02134627"
      ]
     },
     "metadata": {},
     "output_type": "display_data"
    },
    {
     "data": {
      "text/html": [
       "<style>\n",
       ".list-inline {list-style: none; margin:0; padding: 0}\n",
       ".list-inline>li {display: inline-block}\n",
       ".list-inline>li:not(:last-child)::after {content: \"\\00b7\"; padding: 0 .5ex}\n",
       "</style>\n",
       "<ol class=list-inline><li>3</li><li>1</li></ol>\n"
      ],
      "text/latex": [
       "\\begin{enumerate*}\n",
       "\\item 3\n",
       "\\item 1\n",
       "\\end{enumerate*}\n"
      ],
      "text/markdown": [
       "1. 3\n",
       "2. 1\n",
       "\n",
       "\n"
      ],
      "text/plain": [
       "[1] 3 1"
      ]
     },
     "metadata": {},
     "output_type": "display_data"
    }
   ],
   "source": [
    "b0 \n",
    "dim(b0)"
   ]
  },
  {
   "cell_type": "code",
   "execution_count": 44,
   "metadata": {
    "vscode": {
     "languageId": "r"
    }
   },
   "outputs": [
    {
     "data": {
      "text/html": [
       "<table class=\"dataframe\">\n",
       "<caption>A matrix: 3 × 1 of type dbl</caption>\n",
       "<tbody>\n",
       "\t<tr><th scope=row>(Intercept)</th><td> 2.27521351</td></tr>\n",
       "\t<tr><th scope=row>year</th><td> 0.64756277</td></tr>\n",
       "\t<tr><th scope=row>I(year^2)</th><td>-0.01602905</td></tr>\n",
       "</tbody>\n",
       "</table>\n"
      ],
      "text/latex": [
       "A matrix: 3 × 1 of type dbl\n",
       "\\begin{tabular}{r|l}\n",
       "\t(Intercept) &  2.27521351\\\\\n",
       "\tyear &  0.64756277\\\\\n",
       "\tI(year\\textasciicircum{}2) & -0.01602905\\\\\n",
       "\\end{tabular}\n"
      ],
      "text/markdown": [
       "\n",
       "A matrix: 3 × 1 of type dbl\n",
       "\n",
       "| (Intercept) |  2.27521351 |\n",
       "| year |  0.64756277 |\n",
       "| I(year^2) | -0.01602905 |\n",
       "\n"
      ],
      "text/plain": [
       "            [,1]       \n",
       "(Intercept)  2.27521351\n",
       "year         0.64756277\n",
       "I(year^2)   -0.01602905"
      ]
     },
     "metadata": {},
     "output_type": "display_data"
    }
   ],
   "source": [
    "b0 + 2*desv"
   ]
  },
  {
   "cell_type": "code",
   "execution_count": 45,
   "metadata": {
    "vscode": {
     "languageId": "r"
    }
   },
   "outputs": [
    {
     "data": {
      "image/png": "[encoded data removed]",
      "text/plain": [
       "Plot with title “Fitted Values”"
      ]
     },
     "metadata": {
      "image/png": {
       "height": 420,
       "width": 420
      }
     },
     "output_type": "display_data"
    }
   ],
   "source": [
    "#valores originales\n",
    "plot(data$year, data$cases, col = \"blue\",  xlab = \"year\", ylab = \"cases\", main=\"Fitted Values\")\n",
    "#valores estimados\n",
    "lines(data$year, exp(X%*%b0), col = \"red\", lwd = 2)\n",
    "\n",
    "lines(data$year, exp(X%*%(b0 + 2*desv)), col = \"green\", lwd = 2)\n",
    "lines(data$year, exp(X%*%(b0 - 2*desv)), col = \"green\", lwd = 2)"
   ]
  },
  {
   "cell_type": "markdown",
   "metadata": {},
   "source": [
    "* Discuta las implicaciones de los resultados del caso de estudio particular\n",
    "¿Como interpretaría el valor de β1? (10 pts)"
   ]
  },
  {
   "cell_type": "markdown",
   "metadata": {},
   "source": [
    "* como la aceleracion o la taza de cambio para los casos de sida en funcion del incremento del pasar de los años"
   ]
  }
 ],
 "metadata": {
  "kernelspec": {
   "display_name": "R",
   "language": "R",
   "name": "ir"
  },
  "language_info": {
   "codemirror_mode": "r",
   "file_extension": ".r",
   "mimetype": "text/x-r-source",
   "name": "R",
   "pygments_lexer": "r",
   "version": "4.1.2"
  }
 },
 "nbformat": 4,
 "nbformat_minor": 2
}

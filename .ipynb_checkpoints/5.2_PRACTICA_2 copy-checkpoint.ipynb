{
 "cells": [
  {
   "cell_type": "markdown",
   "metadata": {},
   "source": [
    "<h1>Práctica 2</h1>\n",
    "\n",
    "<i>\n",
    "Maximiliano Vaca Montejano <br>\n",
    "364897 <br>\n",
    "maximiliano.vaca@uabc.edu.mx\n",
    "</i>"
   ]
  },
  {
   "cell_type": "markdown",
   "metadata": {},
   "source": [
    "<i>Profesor: Andrés García Medina <br>\n",
    "andres.garcia.medina@uabc.edu.mx <br>\n",
    "Fecha de entrega: jueves 29 de febrero, 2024 (12pm) </i>"
   ]
  },
  {
   "cell_type": "markdown",
   "metadata": {},
   "source": [
    "<h2>Ejercicio 1 </h2>\n",
    "Considere nuevamente el modelo del ejercicio 2 de la practica 1 dado por: \n",
    "\n",
    "$$ dist_i = \\beta_0 + \\beta_1 speed_i + \\beta_2 speed_i^2 + \\epsilon$$"
   ]
  },
  {
   "cell_type": "code",
   "execution_count": 128,
   "metadata": {
    "vscode": {
     "languageId": "r"
    }
   },
   "outputs": [
    {
     "data": {
      "text/html": [
       "<table class=\"dataframe\">\n",
       "<caption>A data.frame: 6 × 2</caption>\n",
       "<thead>\n",
       "\t<tr><th></th><th scope=col>speed</th><th scope=col>dist</th></tr>\n",
       "\t<tr><th></th><th scope=col>&lt;dbl&gt;</th><th scope=col>&lt;dbl&gt;</th></tr>\n",
       "</thead>\n",
       "<tbody>\n",
       "\t<tr><th scope=row>1</th><td>4</td><td> 2</td></tr>\n",
       "\t<tr><th scope=row>2</th><td>4</td><td>10</td></tr>\n",
       "\t<tr><th scope=row>3</th><td>7</td><td> 4</td></tr>\n",
       "\t<tr><th scope=row>4</th><td>7</td><td>22</td></tr>\n",
       "\t<tr><th scope=row>5</th><td>8</td><td>16</td></tr>\n",
       "\t<tr><th scope=row>6</th><td>9</td><td>10</td></tr>\n",
       "</tbody>\n",
       "</table>\n"
      ],
      "text/latex": [
       "A data.frame: 6 × 2\n",
       "\\begin{tabular}{r|ll}\n",
       "  & speed & dist\\\\\n",
       "  & <dbl> & <dbl>\\\\\n",
       "\\hline\n",
       "\t1 & 4 &  2\\\\\n",
       "\t2 & 4 & 10\\\\\n",
       "\t3 & 7 &  4\\\\\n",
       "\t4 & 7 & 22\\\\\n",
       "\t5 & 8 & 16\\\\\n",
       "\t6 & 9 & 10\\\\\n",
       "\\end{tabular}\n"
      ],
      "text/markdown": [
       "\n",
       "A data.frame: 6 × 2\n",
       "\n",
       "| <!--/--> | speed &lt;dbl&gt; | dist &lt;dbl&gt; |\n",
       "|---|---|---|\n",
       "| 1 | 4 |  2 |\n",
       "| 2 | 4 | 10 |\n",
       "| 3 | 7 |  4 |\n",
       "| 4 | 7 | 22 |\n",
       "| 5 | 8 | 16 |\n",
       "| 6 | 9 | 10 |\n",
       "\n"
      ],
      "text/plain": [
       "  speed dist\n",
       "1 4      2  \n",
       "2 4     10  \n",
       "3 7      4  \n",
       "4 7     22  \n",
       "5 8     16  \n",
       "6 9     10  "
      ]
     },
     "metadata": {},
     "output_type": "display_data"
    }
   ],
   "source": [
    "data(cars)\n",
    "head(cars)"
   ]
  },
  {
   "cell_type": "markdown",
   "metadata": {},
   "source": [
    "<b>(a) Usar el metodo pairs para graficar los datos e interpretar. </b>"
   ]
  },
  {
   "cell_type": "code",
   "execution_count": 129,
   "metadata": {
    "vscode": {
     "languageId": "r"
    }
   },
   "outputs": [
    {
     "data": {
      "image/png": "[encoded data removed]",
      "text/plain": [
       "plot without title"
      ]
     },
     "metadata": {
      "image/png": {
       "height": 420,
       "width": 420
      }
     },
     "output_type": "display_data"
    }
   ],
   "source": [
    "pairs(cars)"
   ]
  },
  {
   "cell_type": "markdown",
   "metadata": {},
   "source": [
    "<b>(b) Graficar la matriz de covarianza de la matriz de diseño asociada X como un mapa de calor con la función heatmap.\n"
   ]
  },
  {
   "cell_type": "code",
   "execution_count": 130,
   "metadata": {
    "vscode": {
     "languageId": "r"
    }
   },
   "outputs": [
    {
     "data": {
      "text/html": [
       "<style>\n",
       ".list-inline {list-style: none; margin:0; padding: 0}\n",
       ".list-inline>li {display: inline-block}\n",
       ".list-inline>li:not(:last-child)::after {content: \"\\00b7\"; padding: 0 .5ex}\n",
       "</style>\n",
       "<ol class=list-inline><li>50</li><li>3</li></ol>\n"
      ],
      "text/latex": [
       "\\begin{enumerate*}\n",
       "\\item 50\n",
       "\\item 3\n",
       "\\end{enumerate*}\n"
      ],
      "text/markdown": [
       "1. 50\n",
       "2. 3\n",
       "\n",
       "\n"
      ],
      "text/plain": [
       "[1] 50  3"
      ]
     },
     "metadata": {},
     "output_type": "display_data"
    },
    {
     "data": {
      "text/html": [
       "<table class=\"dataframe\">\n",
       "<caption>A matrix: 6 × 3 of type dbl</caption>\n",
       "<thead>\n",
       "\t<tr><th></th><th scope=col>(Intercept)</th><th scope=col>speed</th><th scope=col>I(speed^2)</th></tr>\n",
       "</thead>\n",
       "<tbody>\n",
       "\t<tr><th scope=row>1</th><td>1</td><td>4</td><td>16</td></tr>\n",
       "\t<tr><th scope=row>2</th><td>1</td><td>4</td><td>16</td></tr>\n",
       "\t<tr><th scope=row>3</th><td>1</td><td>7</td><td>49</td></tr>\n",
       "\t<tr><th scope=row>4</th><td>1</td><td>7</td><td>49</td></tr>\n",
       "\t<tr><th scope=row>5</th><td>1</td><td>8</td><td>64</td></tr>\n",
       "\t<tr><th scope=row>6</th><td>1</td><td>9</td><td>81</td></tr>\n",
       "</tbody>\n",
       "</table>\n"
      ],
      "text/latex": [
       "A matrix: 6 × 3 of type dbl\n",
       "\\begin{tabular}{r|lll}\n",
       "  & (Intercept) & speed & I(speed\\textasciicircum{}2)\\\\\n",
       "\\hline\n",
       "\t1 & 1 & 4 & 16\\\\\n",
       "\t2 & 1 & 4 & 16\\\\\n",
       "\t3 & 1 & 7 & 49\\\\\n",
       "\t4 & 1 & 7 & 49\\\\\n",
       "\t5 & 1 & 8 & 64\\\\\n",
       "\t6 & 1 & 9 & 81\\\\\n",
       "\\end{tabular}\n"
      ],
      "text/markdown": [
       "\n",
       "A matrix: 6 × 3 of type dbl\n",
       "\n",
       "| <!--/--> | (Intercept) | speed | I(speed^2) |\n",
       "|---|---|---|---|\n",
       "| 1 | 1 | 4 | 16 |\n",
       "| 2 | 1 | 4 | 16 |\n",
       "| 3 | 1 | 7 | 49 |\n",
       "| 4 | 1 | 7 | 49 |\n",
       "| 5 | 1 | 8 | 64 |\n",
       "| 6 | 1 | 9 | 81 |\n",
       "\n"
      ],
      "text/plain": [
       "  (Intercept) speed I(speed^2)\n",
       "1 1           4     16        \n",
       "2 1           4     16        \n",
       "3 1           7     49        \n",
       "4 1           7     49        \n",
       "5 1           8     64        \n",
       "6 1           9     81        "
      ]
     },
     "metadata": {},
     "output_type": "display_data"
    },
    {
     "data": {
      "text/html": [
       "<table class=\"dataframe\">\n",
       "<caption>A matrix: 6 × 3 of type dbl</caption>\n",
       "<thead>\n",
       "\t<tr><th></th><th scope=col>(Intercept)</th><th scope=col>speed</th><th scope=col>I(speed^2)</th></tr>\n",
       "</thead>\n",
       "<tbody>\n",
       "\t<tr><th scope=row>45</th><td>1</td><td>23</td><td>529</td></tr>\n",
       "\t<tr><th scope=row>46</th><td>1</td><td>24</td><td>576</td></tr>\n",
       "\t<tr><th scope=row>47</th><td>1</td><td>24</td><td>576</td></tr>\n",
       "\t<tr><th scope=row>48</th><td>1</td><td>24</td><td>576</td></tr>\n",
       "\t<tr><th scope=row>49</th><td>1</td><td>24</td><td>576</td></tr>\n",
       "\t<tr><th scope=row>50</th><td>1</td><td>25</td><td>625</td></tr>\n",
       "</tbody>\n",
       "</table>\n"
      ],
      "text/latex": [
       "A matrix: 6 × 3 of type dbl\n",
       "\\begin{tabular}{r|lll}\n",
       "  & (Intercept) & speed & I(speed\\textasciicircum{}2)\\\\\n",
       "\\hline\n",
       "\t45 & 1 & 23 & 529\\\\\n",
       "\t46 & 1 & 24 & 576\\\\\n",
       "\t47 & 1 & 24 & 576\\\\\n",
       "\t48 & 1 & 24 & 576\\\\\n",
       "\t49 & 1 & 24 & 576\\\\\n",
       "\t50 & 1 & 25 & 625\\\\\n",
       "\\end{tabular}\n"
      ],
      "text/markdown": [
       "\n",
       "A matrix: 6 × 3 of type dbl\n",
       "\n",
       "| <!--/--> | (Intercept) | speed | I(speed^2) |\n",
       "|---|---|---|---|\n",
       "| 45 | 1 | 23 | 529 |\n",
       "| 46 | 1 | 24 | 576 |\n",
       "| 47 | 1 | 24 | 576 |\n",
       "| 48 | 1 | 24 | 576 |\n",
       "| 49 | 1 | 24 | 576 |\n",
       "| 50 | 1 | 25 | 625 |\n",
       "\n"
      ],
      "text/plain": [
       "   (Intercept) speed I(speed^2)\n",
       "45 1           23    529       \n",
       "46 1           24    576       \n",
       "47 1           24    576       \n",
       "48 1           24    576       \n",
       "49 1           24    576       \n",
       "50 1           25    625       "
      ]
     },
     "metadata": {},
     "output_type": "display_data"
    }
   ],
   "source": [
    "X <- model.matrix(dist ~ speed + I(speed^2), data=cars)\n",
    "y <- cars$dist\n",
    "\n",
    "dim(X)\n",
    "head(X)\n",
    "tail(X)"
   ]
  },
  {
   "cell_type": "code",
   "execution_count": 131,
   "metadata": {
    "vscode": {
     "languageId": "r"
    }
   },
   "outputs": [
    {
     "data": {
      "text/html": [
       "<table class=\"dataframe\">\n",
       "<caption>A matrix: 3 × 3 of type dbl</caption>\n",
       "<thead>\n",
       "\t<tr><th></th><th scope=col>(Intercept)</th><th scope=col>speed</th><th scope=col>I(speed^2)</th></tr>\n",
       "</thead>\n",
       "<tbody>\n",
       "\t<tr><th scope=row>(Intercept)</th><td>0</td><td>  0.00000</td><td>    0.0000</td></tr>\n",
       "\t<tr><th scope=row>speed</th><td>0</td><td> 27.95918</td><td>  844.4653</td></tr>\n",
       "\t<tr><th scope=row>I(speed^2)</th><td>0</td><td>844.46531</td><td>26585.8841</td></tr>\n",
       "</tbody>\n",
       "</table>\n"
      ],
      "text/latex": [
       "A matrix: 3 × 3 of type dbl\n",
       "\\begin{tabular}{r|lll}\n",
       "  & (Intercept) & speed & I(speed\\textasciicircum{}2)\\\\\n",
       "\\hline\n",
       "\t(Intercept) & 0 &   0.00000 &     0.0000\\\\\n",
       "\tspeed & 0 &  27.95918 &   844.4653\\\\\n",
       "\tI(speed\\textasciicircum{}2) & 0 & 844.46531 & 26585.8841\\\\\n",
       "\\end{tabular}\n"
      ],
      "text/markdown": [
       "\n",
       "A matrix: 3 × 3 of type dbl\n",
       "\n",
       "| <!--/--> | (Intercept) | speed | I(speed^2) |\n",
       "|---|---|---|---|\n",
       "| (Intercept) | 0 |   0.00000 |     0.0000 |\n",
       "| speed | 0 |  27.95918 |   844.4653 |\n",
       "| I(speed^2) | 0 | 844.46531 | 26585.8841 |\n",
       "\n"
      ],
      "text/plain": [
       "            (Intercept) speed     I(speed^2)\n",
       "(Intercept) 0             0.00000     0.0000\n",
       "speed       0            27.95918   844.4653\n",
       "I(speed^2)  0           844.46531 26585.8841"
      ]
     },
     "metadata": {},
     "output_type": "display_data"
    }
   ],
   "source": [
    "cov_X <- cov(X)\n",
    "cov_X"
   ]
  },
  {
   "cell_type": "code",
   "execution_count": 132,
   "metadata": {
    "vscode": {
     "languageId": "r"
    }
   },
   "outputs": [
    {
     "data": {
      "image/png": "[encoded data removed]",
      "text/plain": [
       "plot without title"
      ]
     },
     "metadata": {
      "image/png": {
       "height": 420,
       "width": 420
      }
     },
     "output_type": "display_data"
    }
   ],
   "source": [
    "heatmap(cov_X)"
   ]
  },
  {
   "cell_type": "markdown",
   "metadata": {},
   "source": [
    "<b>(c) Estimar el vector β del modelo via la factorización QR y comparar con resultado de la función lm. Se puede apoyar de la función qr.\n"
   ]
  },
  {
   "cell_type": "code",
   "execution_count": 133,
   "metadata": {
    "vscode": {
     "languageId": "r"
    }
   },
   "outputs": [
    {
     "data": {
      "text/html": [
       "<style>\n",
       ".dl-inline {width: auto; margin:0; padding: 0}\n",
       ".dl-inline>dt, .dl-inline>dd {float: none; width: auto; display: inline-block}\n",
       ".dl-inline>dt::after {content: \":\\0020\"; padding-right: .5ex}\n",
       ".dl-inline>dt:not(:first-of-type) {padding-left: .5ex}\n",
       "</style><dl class=dl-inline><dt>(Intercept)</dt><dd>2.4701377850663</dd><dt>speed</dt><dd>0.913287614242585</dd><dt>I(speed^2)</dt><dd>0.0999593020698439</dd></dl>\n"
      ],
      "text/latex": [
       "\\begin{description*}\n",
       "\\item[(Intercept)] 2.4701377850663\n",
       "\\item[speed] 0.913287614242585\n",
       "\\item[I(speed\\textbackslash{}textasciicircum\\{\\}2)] 0.0999593020698439\n",
       "\\end{description*}\n"
      ],
      "text/markdown": [
       "(Intercept)\n",
       ":   2.4701377850663speed\n",
       ":   0.913287614242585I(speed^2)\n",
       ":   0.0999593020698439\n",
       "\n"
      ],
      "text/plain": [
       "(Intercept)       speed  I(speed^2) \n",
       "  2.4701378   0.9132876   0.0999593 "
      ]
     },
     "metadata": {},
     "output_type": "display_data"
    }
   ],
   "source": [
    "beta_qr <- qr.solve(X, y)\n",
    "beta_qr"
   ]
  },
  {
   "cell_type": "code",
   "execution_count": 134,
   "metadata": {
    "vscode": {
     "languageId": "r"
    }
   },
   "outputs": [
    {
     "data": {
      "text/html": [
       "<style>\n",
       ".dl-inline {width: auto; margin:0; padding: 0}\n",
       ".dl-inline>dt, .dl-inline>dd {float: none; width: auto; display: inline-block}\n",
       ".dl-inline>dt::after {content: \":\\0020\"; padding-right: .5ex}\n",
       ".dl-inline>dt:not(:first-of-type) {padding-left: .5ex}\n",
       "</style><dl class=dl-inline><dt>(Intercept)</dt><dd>2.4701377850663</dd><dt>speed</dt><dd>0.913287614242585</dd><dt>I(speed^2)</dt><dd>0.0999593020698439</dd></dl>\n"
      ],
      "text/latex": [
       "\\begin{description*}\n",
       "\\item[(Intercept)] 2.4701377850663\n",
       "\\item[speed] 0.913287614242585\n",
       "\\item[I(speed\\textbackslash{}textasciicircum\\{\\}2)] 0.0999593020698439\n",
       "\\end{description*}\n"
      ],
      "text/markdown": [
       "(Intercept)\n",
       ":   2.4701377850663speed\n",
       ":   0.913287614242585I(speed^2)\n",
       ":   0.0999593020698439\n",
       "\n"
      ],
      "text/plain": [
       "(Intercept)       speed  I(speed^2) \n",
       "  2.4701378   0.9132876   0.0999593 "
      ]
     },
     "metadata": {},
     "output_type": "display_data"
    }
   ],
   "source": [
    "cars.mod <- lm(dist ~ speed + I(speed^2), data=cars)\n",
    "\n",
    "#summary(cars.mod_1)\n",
    "coef(cars.mod)"
   ]
  },
  {
   "cell_type": "markdown",
   "metadata": {},
   "source": [
    "<b>(d) Historicamente la solución  ́optima del vector β está dada por la expresión: \n",
    "$β = (X^T X)^{−1} X^T y$. \n",
    "Estimar el vector β via la expresion anterior (método clásico) y comparar con los resultados obtenidos via qr y la función lm.\n"
   ]
  },
  {
   "cell_type": "code",
   "execution_count": 135,
   "metadata": {
    "vscode": {
     "languageId": "r"
    }
   },
   "outputs": [
    {
     "name": "stdout",
     "output_type": "stream",
     "text": [
      "                 [,1]\n",
      "(Intercept) 2.4701378\n",
      "speed       0.9132876\n",
      "I(speed^2)  0.0999593\n"
     ]
    }
   ],
   "source": [
    "beta_clas = solve ( t(X) %*% X ) %*% t(X) %*% y\n",
    "\n",
    "print(beta_clas)"
   ]
  },
  {
   "cell_type": "code",
   "execution_count": 136,
   "metadata": {
    "vscode": {
     "languageId": "r"
    }
   },
   "outputs": [
    {
     "data": {
      "text/html": [
       "<style>\n",
       ".dl-inline {width: auto; margin:0; padding: 0}\n",
       ".dl-inline>dt, .dl-inline>dd {float: none; width: auto; display: inline-block}\n",
       ".dl-inline>dt::after {content: \":\\0020\"; padding-right: .5ex}\n",
       ".dl-inline>dt:not(:first-of-type) {padding-left: .5ex}\n",
       "</style><dl class=dl-inline><dt>(Intercept)</dt><dd>2.4701377850663</dd><dt>speed</dt><dd>0.913287614242585</dd><dt>I(speed^2)</dt><dd>0.0999593020698439</dd></dl>\n"
      ],
      "text/latex": [
       "\\begin{description*}\n",
       "\\item[(Intercept)] 2.4701377850663\n",
       "\\item[speed] 0.913287614242585\n",
       "\\item[I(speed\\textbackslash{}textasciicircum\\{\\}2)] 0.0999593020698439\n",
       "\\end{description*}\n"
      ],
      "text/markdown": [
       "(Intercept)\n",
       ":   2.4701377850663speed\n",
       ":   0.913287614242585I(speed^2)\n",
       ":   0.0999593020698439\n",
       "\n"
      ],
      "text/plain": [
       "(Intercept)       speed  I(speed^2) \n",
       "  2.4701378   0.9132876   0.0999593 "
      ]
     },
     "metadata": {},
     "output_type": "display_data"
    }
   ],
   "source": [
    "cars.mod$coefficients"
   ]
  },
  {
   "cell_type": "markdown",
   "metadata": {},
   "source": [
    "<b>(e) Grafique los residuales del modelo ajustado ¿Cumplen con los supuestos\n",
    "distribucionales? ¿Con esta información como estimaría la desviación\n",
    "estándar de cada elemento de β?"
   ]
  },
  {
   "cell_type": "code",
   "execution_count": 137,
   "metadata": {
    "vscode": {
     "languageId": "r"
    }
   },
   "outputs": [
    {
     "data": {
      "image/png": "[encoded data removed]",
      "text/plain": [
       "plot without title"
      ]
     },
     "metadata": {
      "image/png": {
       "height": 420,
       "width": 420
      }
     },
     "output_type": "display_data"
    }
   ],
   "source": [
    "plot(fitted(cars.mod), residuals(cars.mod), xlab=\"valores ajustados\", ylab=\"residuals\")"
   ]
  },
  {
   "cell_type": "markdown",
   "metadata": {},
   "source": [
    "observamos que se dispersan alrededor de 0 con cierta varianza no muy extrema <br>\n",
    "calcularía la desviacion estandar usando la distancia respecto al 0 en y "
   ]
  },
  {
   "cell_type": "markdown",
   "metadata": {},
   "source": [
    "<h2>Ejercicio 2 </h2>\n",
    "Las 10 corporaciones industriales más grandes de Estados Unidos arrojan los\n",
    "datos mostrados en la figura 1 Resuelva los incisos (a),(b), (c), y (d) del ejercicio\n",
    "anterior con estos nuevos datos. En este caso considere <b>profits</b> como la variable\n",
    "dependiente y <b>sales</b> y <b>assets</b> como la variable independiente. Los datos se anexan\n",
    "a la practica con el nombre de datos.txt\n",
    "\n",
    "$$ profits_i = \\beta_0 + \\beta_1 sales_i + \\beta_2 assets_i + \\epsilon$$"
   ]
  },
  {
   "cell_type": "code",
   "execution_count": 138,
   "metadata": {
    "vscode": {
     "languageId": "r"
    }
   },
   "outputs": [],
   "source": [
    "#corps_data <- read.table(file = 'datos/practica_2.txt')\n",
    "#crosp_data"
   ]
  },
  {
   "cell_type": "code",
   "execution_count": 139,
   "metadata": {
    "vscode": {
     "languageId": "r"
    }
   },
   "outputs": [
    {
     "data": {
      "text/html": [
       "<table class=\"dataframe\">\n",
       "<caption>A data.frame: 10 × 3</caption>\n",
       "<thead>\n",
       "\t<tr><th scope=col>sales</th><th scope=col>profits</th><th scope=col>assets</th></tr>\n",
       "\t<tr><th scope=col>&lt;dbl&gt;</th><th scope=col>&lt;dbl&gt;</th><th scope=col>&lt;dbl&gt;</th></tr>\n",
       "</thead>\n",
       "<tbody>\n",
       "\t<tr><td>108.28</td><td>17.05</td><td>1484.10</td></tr>\n",
       "\t<tr><td>152.36</td><td>16.59</td><td> 750.33</td></tr>\n",
       "\t<tr><td> 95.04</td><td>10.91</td><td> 766.42</td></tr>\n",
       "\t<tr><td> 65.45</td><td>14.14</td><td>1110.46</td></tr>\n",
       "\t<tr><td> 62.97</td><td> 9.52</td><td>1031.29</td></tr>\n",
       "\t<tr><td>263.99</td><td>25.33</td><td> 195.26</td></tr>\n",
       "\t<tr><td>265.19</td><td>18.54</td><td> 193.83</td></tr>\n",
       "\t<tr><td>285.06</td><td>15.73</td><td> 191.11</td></tr>\n",
       "\t<tr><td> 92.01</td><td> 8.10</td><td>1175.16</td></tr>\n",
       "\t<tr><td>165.68</td><td>11.13</td><td> 211.15</td></tr>\n",
       "</tbody>\n",
       "</table>\n"
      ],
      "text/latex": [
       "A data.frame: 10 × 3\n",
       "\\begin{tabular}{lll}\n",
       " sales & profits & assets\\\\\n",
       " <dbl> & <dbl> & <dbl>\\\\\n",
       "\\hline\n",
       "\t 108.28 & 17.05 & 1484.10\\\\\n",
       "\t 152.36 & 16.59 &  750.33\\\\\n",
       "\t  95.04 & 10.91 &  766.42\\\\\n",
       "\t  65.45 & 14.14 & 1110.46\\\\\n",
       "\t  62.97 &  9.52 & 1031.29\\\\\n",
       "\t 263.99 & 25.33 &  195.26\\\\\n",
       "\t 265.19 & 18.54 &  193.83\\\\\n",
       "\t 285.06 & 15.73 &  191.11\\\\\n",
       "\t  92.01 &  8.10 & 1175.16\\\\\n",
       "\t 165.68 & 11.13 &  211.15\\\\\n",
       "\\end{tabular}\n"
      ],
      "text/markdown": [
       "\n",
       "A data.frame: 10 × 3\n",
       "\n",
       "| sales &lt;dbl&gt; | profits &lt;dbl&gt; | assets &lt;dbl&gt; |\n",
       "|---|---|---|\n",
       "| 108.28 | 17.05 | 1484.10 |\n",
       "| 152.36 | 16.59 |  750.33 |\n",
       "|  95.04 | 10.91 |  766.42 |\n",
       "|  65.45 | 14.14 | 1110.46 |\n",
       "|  62.97 |  9.52 | 1031.29 |\n",
       "| 263.99 | 25.33 |  195.26 |\n",
       "| 265.19 | 18.54 |  193.83 |\n",
       "| 285.06 | 15.73 |  191.11 |\n",
       "|  92.01 |  8.10 | 1175.16 |\n",
       "| 165.68 | 11.13 |  211.15 |\n",
       "\n"
      ],
      "text/plain": [
       "   sales  profits assets \n",
       "1  108.28 17.05   1484.10\n",
       "2  152.36 16.59    750.33\n",
       "3   95.04 10.91    766.42\n",
       "4   65.45 14.14   1110.46\n",
       "5   62.97  9.52   1031.29\n",
       "6  263.99 25.33    195.26\n",
       "7  265.19 18.54    193.83\n",
       "8  285.06 15.73    191.11\n",
       "9   92.01  8.10   1175.16\n",
       "10 165.68 11.13    211.15"
      ]
     },
     "metadata": {},
     "output_type": "display_data"
    }
   ],
   "source": [
    "corps_data <- data.frame(\n",
    "  sales = c(108.28, 152.36, 95.04, 65.45, 62.97, 263.99, 265.19, 285.06, 92.01, 165.68),\n",
    "  profits = c(17.05, 16.59, 10.91, 14.14, 9.52, 25.33, 18.54, 15.73, 8.10, 11.13),\n",
    "  assets = c(1484.10, 750.33, 766.42, 1110.46, 1031.29, 195.26, 193.83, 191.11, 1175.16, 211.15)\n",
    ")\n",
    "corps_data"
   ]
  },
  {
   "cell_type": "markdown",
   "metadata": {},
   "source": [
    "<b>(a) Usar el metodo pairs para graficar los datos e interpretar. </b>"
   ]
  },
  {
   "cell_type": "code",
   "execution_count": 140,
   "metadata": {
    "vscode": {
     "languageId": "r"
    }
   },
   "outputs": [
    {
     "data": {
      "image/png": "[encoded data removed]",
      "text/plain": [
       "plot without title"
      ]
     },
     "metadata": {
      "image/png": {
       "height": 420,
       "width": 420
      }
     },
     "output_type": "display_data"
    }
   ],
   "source": [
    "pairs(corps_data)"
   ]
  },
  {
   "cell_type": "markdown",
   "metadata": {},
   "source": [
    "<b>(b) Graficar la matriz de covarianza de la matriz de diseño asociada X como un mapa de calor con la función heatmap."
   ]
  },
  {
   "cell_type": "code",
   "execution_count": 141,
   "metadata": {
    "vscode": {
     "languageId": "r"
    }
   },
   "outputs": [
    {
     "data": {
      "text/html": [
       "<style>\n",
       ".list-inline {list-style: none; margin:0; padding: 0}\n",
       ".list-inline>li {display: inline-block}\n",
       ".list-inline>li:not(:last-child)::after {content: \"\\00b7\"; padding: 0 .5ex}\n",
       "</style>\n",
       "<ol class=list-inline><li>10</li><li>3</li></ol>\n"
      ],
      "text/latex": [
       "\\begin{enumerate*}\n",
       "\\item 10\n",
       "\\item 3\n",
       "\\end{enumerate*}\n"
      ],
      "text/markdown": [
       "1. 10\n",
       "2. 3\n",
       "\n",
       "\n"
      ],
      "text/plain": [
       "[1] 10  3"
      ]
     },
     "metadata": {},
     "output_type": "display_data"
    },
    {
     "data": {
      "text/html": [
       "<table class=\"dataframe\">\n",
       "<caption>A matrix: 6 × 3 of type dbl</caption>\n",
       "<thead>\n",
       "\t<tr><th></th><th scope=col>(Intercept)</th><th scope=col>sales</th><th scope=col>assets</th></tr>\n",
       "</thead>\n",
       "<tbody>\n",
       "\t<tr><th scope=row>1</th><td>1</td><td>108.28</td><td>1484.10</td></tr>\n",
       "\t<tr><th scope=row>2</th><td>1</td><td>152.36</td><td> 750.33</td></tr>\n",
       "\t<tr><th scope=row>3</th><td>1</td><td> 95.04</td><td> 766.42</td></tr>\n",
       "\t<tr><th scope=row>4</th><td>1</td><td> 65.45</td><td>1110.46</td></tr>\n",
       "\t<tr><th scope=row>5</th><td>1</td><td> 62.97</td><td>1031.29</td></tr>\n",
       "\t<tr><th scope=row>6</th><td>1</td><td>263.99</td><td> 195.26</td></tr>\n",
       "</tbody>\n",
       "</table>\n"
      ],
      "text/latex": [
       "A matrix: 6 × 3 of type dbl\n",
       "\\begin{tabular}{r|lll}\n",
       "  & (Intercept) & sales & assets\\\\\n",
       "\\hline\n",
       "\t1 & 1 & 108.28 & 1484.10\\\\\n",
       "\t2 & 1 & 152.36 &  750.33\\\\\n",
       "\t3 & 1 &  95.04 &  766.42\\\\\n",
       "\t4 & 1 &  65.45 & 1110.46\\\\\n",
       "\t5 & 1 &  62.97 & 1031.29\\\\\n",
       "\t6 & 1 & 263.99 &  195.26\\\\\n",
       "\\end{tabular}\n"
      ],
      "text/markdown": [
       "\n",
       "A matrix: 6 × 3 of type dbl\n",
       "\n",
       "| <!--/--> | (Intercept) | sales | assets |\n",
       "|---|---|---|---|\n",
       "| 1 | 1 | 108.28 | 1484.10 |\n",
       "| 2 | 1 | 152.36 |  750.33 |\n",
       "| 3 | 1 |  95.04 |  766.42 |\n",
       "| 4 | 1 |  65.45 | 1110.46 |\n",
       "| 5 | 1 |  62.97 | 1031.29 |\n",
       "| 6 | 1 | 263.99 |  195.26 |\n",
       "\n"
      ],
      "text/plain": [
       "  (Intercept) sales  assets \n",
       "1 1           108.28 1484.10\n",
       "2 1           152.36  750.33\n",
       "3 1            95.04  766.42\n",
       "4 1            65.45 1110.46\n",
       "5 1            62.97 1031.29\n",
       "6 1           263.99  195.26"
      ]
     },
     "metadata": {},
     "output_type": "display_data"
    },
    {
     "data": {
      "text/html": [
       "<table class=\"dataframe\">\n",
       "<caption>A matrix: 6 × 3 of type dbl</caption>\n",
       "<thead>\n",
       "\t<tr><th></th><th scope=col>(Intercept)</th><th scope=col>sales</th><th scope=col>assets</th></tr>\n",
       "</thead>\n",
       "<tbody>\n",
       "\t<tr><th scope=row>5</th><td>1</td><td> 62.97</td><td>1031.29</td></tr>\n",
       "\t<tr><th scope=row>6</th><td>1</td><td>263.99</td><td> 195.26</td></tr>\n",
       "\t<tr><th scope=row>7</th><td>1</td><td>265.19</td><td> 193.83</td></tr>\n",
       "\t<tr><th scope=row>8</th><td>1</td><td>285.06</td><td> 191.11</td></tr>\n",
       "\t<tr><th scope=row>9</th><td>1</td><td> 92.01</td><td>1175.16</td></tr>\n",
       "\t<tr><th scope=row>10</th><td>1</td><td>165.68</td><td> 211.15</td></tr>\n",
       "</tbody>\n",
       "</table>\n"
      ],
      "text/latex": [
       "A matrix: 6 × 3 of type dbl\n",
       "\\begin{tabular}{r|lll}\n",
       "  & (Intercept) & sales & assets\\\\\n",
       "\\hline\n",
       "\t5 & 1 &  62.97 & 1031.29\\\\\n",
       "\t6 & 1 & 263.99 &  195.26\\\\\n",
       "\t7 & 1 & 265.19 &  193.83\\\\\n",
       "\t8 & 1 & 285.06 &  191.11\\\\\n",
       "\t9 & 1 &  92.01 & 1175.16\\\\\n",
       "\t10 & 1 & 165.68 &  211.15\\\\\n",
       "\\end{tabular}\n"
      ],
      "text/markdown": [
       "\n",
       "A matrix: 6 × 3 of type dbl\n",
       "\n",
       "| <!--/--> | (Intercept) | sales | assets |\n",
       "|---|---|---|---|\n",
       "| 5 | 1 |  62.97 | 1031.29 |\n",
       "| 6 | 1 | 263.99 |  195.26 |\n",
       "| 7 | 1 | 265.19 |  193.83 |\n",
       "| 8 | 1 | 285.06 |  191.11 |\n",
       "| 9 | 1 |  92.01 | 1175.16 |\n",
       "| 10 | 1 | 165.68 |  211.15 |\n",
       "\n"
      ],
      "text/plain": [
       "   (Intercept) sales  assets \n",
       "5  1            62.97 1031.29\n",
       "6  1           263.99  195.26\n",
       "7  1           265.19  193.83\n",
       "8  1           285.06  191.11\n",
       "9  1            92.01 1175.16\n",
       "10 1           165.68  211.15"
      ]
     },
     "metadata": {},
     "output_type": "display_data"
    }
   ],
   "source": [
    "X_2 <- model.matrix(profits ~ sales + assets, data=corps_data)\n",
    "y_2 <- corps_data$profits\n",
    "\n",
    "dim(X_2)\n",
    "head(X_2)\n",
    "tail(X_2)"
   ]
  },
  {
   "cell_type": "code",
   "execution_count": 142,
   "metadata": {
    "vscode": {
     "languageId": "r"
    }
   },
   "outputs": [
    {
     "data": {
      "text/html": [
       "<table class=\"dataframe\">\n",
       "<caption>A matrix: 3 × 3 of type dbl</caption>\n",
       "<thead>\n",
       "\t<tr><th></th><th scope=col>(Intercept)</th><th scope=col>sales</th><th scope=col>assets</th></tr>\n",
       "</thead>\n",
       "<tbody>\n",
       "\t<tr><th scope=row>(Intercept)</th><td>0</td><td>     0.000</td><td>     0.00</td></tr>\n",
       "\t<tr><th scope=row>sales</th><td>0</td><td>  7476.453</td><td>-35575.96</td></tr>\n",
       "\t<tr><th scope=row>assets</th><td>0</td><td>-35575.960</td><td>237054.27</td></tr>\n",
       "</tbody>\n",
       "</table>\n"
      ],
      "text/latex": [
       "A matrix: 3 × 3 of type dbl\n",
       "\\begin{tabular}{r|lll}\n",
       "  & (Intercept) & sales & assets\\\\\n",
       "\\hline\n",
       "\t(Intercept) & 0 &      0.000 &      0.00\\\\\n",
       "\tsales & 0 &   7476.453 & -35575.96\\\\\n",
       "\tassets & 0 & -35575.960 & 237054.27\\\\\n",
       "\\end{tabular}\n"
      ],
      "text/markdown": [
       "\n",
       "A matrix: 3 × 3 of type dbl\n",
       "\n",
       "| <!--/--> | (Intercept) | sales | assets |\n",
       "|---|---|---|---|\n",
       "| (Intercept) | 0 |      0.000 |      0.00 |\n",
       "| sales | 0 |   7476.453 | -35575.96 |\n",
       "| assets | 0 | -35575.960 | 237054.27 |\n",
       "\n"
      ],
      "text/plain": [
       "            (Intercept) sales      assets   \n",
       "(Intercept) 0                0.000      0.00\n",
       "sales       0             7476.453 -35575.96\n",
       "assets      0           -35575.960 237054.27"
      ]
     },
     "metadata": {},
     "output_type": "display_data"
    }
   ],
   "source": [
    "cov_X_2 <- cov(X_2)\n",
    "cov_X_2"
   ]
  },
  {
   "cell_type": "code",
   "execution_count": 143,
   "metadata": {
    "vscode": {
     "languageId": "r"
    }
   },
   "outputs": [
    {
     "data": {
      "image/png": "[encoded data removed]",
      "text/plain": [
       "plot without title"
      ]
     },
     "metadata": {
      "image/png": {
       "height": 420,
       "width": 420
      }
     },
     "output_type": "display_data"
    }
   ],
   "source": [
    "heatmap(cov_X_2)"
   ]
  },
  {
   "cell_type": "markdown",
   "metadata": {},
   "source": [
    "<b>(c) Estimar el vector β del modelo via la factorización QR y comparar con resultado de la función lm. Se puede apoyar de la función qr."
   ]
  },
  {
   "cell_type": "code",
   "execution_count": 144,
   "metadata": {
    "vscode": {
     "languageId": "r"
    }
   },
   "outputs": [
    {
     "data": {
      "text/html": [
       "<style>\n",
       ".dl-inline {width: auto; margin:0; padding: 0}\n",
       ".dl-inline>dt, .dl-inline>dd {float: none; width: auto; display: inline-block}\n",
       ".dl-inline>dt::after {content: \":\\0020\"; padding-right: .5ex}\n",
       ".dl-inline>dt:not(:first-of-type) {padding-left: .5ex}\n",
       "</style><dl class=dl-inline><dt>(Intercept)</dt><dd>0.013325232272318</dd><dt>sales</dt><dd>0.0680575978483058</dd><dt>assets</dt><dd>0.00576824436495954</dd></dl>\n"
      ],
      "text/latex": [
       "\\begin{description*}\n",
       "\\item[(Intercept)] 0.013325232272318\n",
       "\\item[sales] 0.0680575978483058\n",
       "\\item[assets] 0.00576824436495954\n",
       "\\end{description*}\n"
      ],
      "text/markdown": [
       "(Intercept)\n",
       ":   0.013325232272318sales\n",
       ":   0.0680575978483058assets\n",
       ":   0.00576824436495954\n",
       "\n"
      ],
      "text/plain": [
       "(Intercept)       sales      assets \n",
       "0.013325232 0.068057598 0.005768244 "
      ]
     },
     "metadata": {},
     "output_type": "display_data"
    }
   ],
   "source": [
    "beta_qr_2 <- qr.solve(X_2, y_2)\n",
    "beta_qr_2"
   ]
  },
  {
   "cell_type": "code",
   "execution_count": 145,
   "metadata": {
    "vscode": {
     "languageId": "r"
    }
   },
   "outputs": [
    {
     "data": {
      "text/html": [
       "<style>\n",
       ".dl-inline {width: auto; margin:0; padding: 0}\n",
       ".dl-inline>dt, .dl-inline>dd {float: none; width: auto; display: inline-block}\n",
       ".dl-inline>dt::after {content: \":\\0020\"; padding-right: .5ex}\n",
       ".dl-inline>dt:not(:first-of-type) {padding-left: .5ex}\n",
       "</style><dl class=dl-inline><dt>(Intercept)</dt><dd>0.013325232272318</dd><dt>sales</dt><dd>0.0680575978483058</dd><dt>assets</dt><dd>0.00576824436495954</dd></dl>\n"
      ],
      "text/latex": [
       "\\begin{description*}\n",
       "\\item[(Intercept)] 0.013325232272318\n",
       "\\item[sales] 0.0680575978483058\n",
       "\\item[assets] 0.00576824436495954\n",
       "\\end{description*}\n"
      ],
      "text/markdown": [
       "(Intercept)\n",
       ":   0.013325232272318sales\n",
       ":   0.0680575978483058assets\n",
       ":   0.00576824436495954\n",
       "\n"
      ],
      "text/plain": [
       "(Intercept)       sales      assets \n",
       "0.013325232 0.068057598 0.005768244 "
      ]
     },
     "metadata": {},
     "output_type": "display_data"
    }
   ],
   "source": [
    "corps.mod <- lm(profits ~ sales + assets, data=corps_data)\n",
    "\n",
    "#summary(cars.mod_1)\n",
    "coef(corps.mod)"
   ]
  },
  {
   "cell_type": "markdown",
   "metadata": {},
   "source": [
    "<b>(d) Historicamente la solución  ́optima del vector β está dada por la expresión: \n",
    "$β = (X^T X)^{−1} X^T y$. \n",
    "Estimar el vector β via la expresion anterior (método clásico) y comparar con los resultados obtenidos via qr y la función lm.\n"
   ]
  },
  {
   "cell_type": "code",
   "execution_count": 146,
   "metadata": {
    "vscode": {
     "languageId": "r"
    }
   },
   "outputs": [
    {
     "name": "stdout",
     "output_type": "stream",
     "text": [
      "                   [,1]\n",
      "(Intercept) 0.013325232\n",
      "sales       0.068057598\n",
      "assets      0.005768244\n"
     ]
    }
   ],
   "source": [
    "beta_clas_2 = solve ( t(X_2) %*% X_2 ) %*% t(X_2) %*% y_2\n",
    "\n",
    "print(beta_clas_2)"
   ]
  },
  {
   "cell_type": "markdown",
   "metadata": {},
   "source": [
    "<h2>Ejercicio 3 </h2>\n",
    "Regresando al ejercicio 1, calcule lo siguiente:"
   ]
  },
  {
   "cell_type": "code",
   "execution_count": 147,
   "metadata": {
    "vscode": {
     "languageId": "r"
    }
   },
   "outputs": [
    {
     "data": {
      "text/plain": [
       "\n",
       "Call:\n",
       "lm(formula = dist ~ speed + I(speed^2), data = cars)\n",
       "\n",
       "Residuals:\n",
       "    Min      1Q  Median      3Q     Max \n",
       "-28.720  -9.184  -3.188   4.628  45.152 \n",
       "\n",
       "Coefficients:\n",
       "            Estimate Std. Error t value Pr(>|t|)\n",
       "(Intercept)  2.47014   14.81716   0.167    0.868\n",
       "speed        0.91329    2.03422   0.449    0.656\n",
       "I(speed^2)   0.09996    0.06597   1.515    0.136\n",
       "\n",
       "Residual standard error: 15.18 on 47 degrees of freedom\n",
       "Multiple R-squared:  0.6673,\tAdjusted R-squared:  0.6532 \n",
       "F-statistic: 47.14 on 2 and 47 DF,  p-value: 5.852e-12\n"
      ]
     },
     "metadata": {},
     "output_type": "display_data"
    }
   ],
   "source": [
    "summary(cars.mod)"
   ]
  },
  {
   "cell_type": "code",
   "execution_count": 148,
   "metadata": {
    "vscode": {
     "languageId": "r"
    }
   },
   "outputs": [
    {
     "data": {
      "text/html": [
       "<style>\n",
       ".list-inline {list-style: none; margin:0; padding: 0}\n",
       ".list-inline>li {display: inline-block}\n",
       ".list-inline>li:not(:last-child)::after {content: \"\\00b7\"; padding: 0 .5ex}\n",
       "</style>\n",
       "<ol class=list-inline><li>50</li><li>3</li></ol>\n"
      ],
      "text/latex": [
       "\\begin{enumerate*}\n",
       "\\item 50\n",
       "\\item 3\n",
       "\\end{enumerate*}\n"
      ],
      "text/markdown": [
       "1. 50\n",
       "2. 3\n",
       "\n",
       "\n"
      ],
      "text/plain": [
       "[1] 50  3"
      ]
     },
     "metadata": {},
     "output_type": "display_data"
    },
    {
     "data": {
      "text/html": [
       "<table class=\"dataframe\">\n",
       "<caption>A matrix: 6 × 3 of type dbl</caption>\n",
       "<thead>\n",
       "\t<tr><th></th><th scope=col>(Intercept)</th><th scope=col>speed</th><th scope=col>I(speed^2)</th></tr>\n",
       "</thead>\n",
       "<tbody>\n",
       "\t<tr><th scope=row>1</th><td>1</td><td>4</td><td>16</td></tr>\n",
       "\t<tr><th scope=row>2</th><td>1</td><td>4</td><td>16</td></tr>\n",
       "\t<tr><th scope=row>3</th><td>1</td><td>7</td><td>49</td></tr>\n",
       "\t<tr><th scope=row>4</th><td>1</td><td>7</td><td>49</td></tr>\n",
       "\t<tr><th scope=row>5</th><td>1</td><td>8</td><td>64</td></tr>\n",
       "\t<tr><th scope=row>6</th><td>1</td><td>9</td><td>81</td></tr>\n",
       "</tbody>\n",
       "</table>\n"
      ],
      "text/latex": [
       "A matrix: 6 × 3 of type dbl\n",
       "\\begin{tabular}{r|lll}\n",
       "  & (Intercept) & speed & I(speed\\textasciicircum{}2)\\\\\n",
       "\\hline\n",
       "\t1 & 1 & 4 & 16\\\\\n",
       "\t2 & 1 & 4 & 16\\\\\n",
       "\t3 & 1 & 7 & 49\\\\\n",
       "\t4 & 1 & 7 & 49\\\\\n",
       "\t5 & 1 & 8 & 64\\\\\n",
       "\t6 & 1 & 9 & 81\\\\\n",
       "\\end{tabular}\n"
      ],
      "text/markdown": [
       "\n",
       "A matrix: 6 × 3 of type dbl\n",
       "\n",
       "| <!--/--> | (Intercept) | speed | I(speed^2) |\n",
       "|---|---|---|---|\n",
       "| 1 | 1 | 4 | 16 |\n",
       "| 2 | 1 | 4 | 16 |\n",
       "| 3 | 1 | 7 | 49 |\n",
       "| 4 | 1 | 7 | 49 |\n",
       "| 5 | 1 | 8 | 64 |\n",
       "| 6 | 1 | 9 | 81 |\n",
       "\n"
      ],
      "text/plain": [
       "  (Intercept) speed I(speed^2)\n",
       "1 1           4     16        \n",
       "2 1           4     16        \n",
       "3 1           7     49        \n",
       "4 1           7     49        \n",
       "5 1           8     64        \n",
       "6 1           9     81        "
      ]
     },
     "metadata": {},
     "output_type": "display_data"
    }
   ],
   "source": [
    "dim(X)\n",
    "head(X)\n",
    "#tail(X)"
   ]
  },
  {
   "cell_type": "markdown",
   "metadata": {},
   "source": [
    "<b>(a) Para cada $\\hat{β}$ estime $\\hat{σ}_{\\hat{β}}$ . Compare su resultado que el que arroja la función lm\n"
   ]
  },
  {
   "cell_type": "markdown",
   "metadata": {},
   "source": [
    "$$ \\hat{\\Sigma_{\\hat{\\beta}}} = R^{-1}R^{-T} \\hat{\\sigma^2}$$\n",
    "$$ \\hat{\\sigma^2} = \\frac{||r||}{n-p} = \\frac{||Y-X\\beta||^2}{n-p} $$\n",
    "$$ diag(\\sqrt{\\hat{ \\Sigma_{\\hat{\\beta}}}}) $$"
   ]
  },
  {
   "cell_type": "markdown",
   "metadata": {},
   "source": [
    "habíamos estimado: <br>\n",
    "$\\hat{β_0}$ = 2.4701378 (Intercept) <br>\n",
    "$\\hat{β_1}$ = 0.9132876 speed<br>\n",
    "$\\hat{β_2}$ = 0.0999593 I(speed^2)<br>"
   ]
  },
  {
   "cell_type": "markdown",
   "metadata": {},
   "source": [
    "calculamos $\\hat{\\sigma^2}$ "
   ]
  },
  {
   "cell_type": "code",
   "execution_count": 149,
   "metadata": {
    "vscode": {
     "languageId": "r"
    }
   },
   "outputs": [
    {
     "data": {
      "text/html": [
       "<style>\n",
       ".list-inline {list-style: none; margin:0; padding: 0}\n",
       ".list-inline>li {display: inline-block}\n",
       ".list-inline>li:not(:last-child)::after {content: \"\\00b7\"; padding: 0 .5ex}\n",
       "</style>\n",
       "<ol class=list-inline><li>50</li><li>1</li></ol>\n"
      ],
      "text/latex": [
       "\\begin{enumerate*}\n",
       "\\item 50\n",
       "\\item 1\n",
       "\\end{enumerate*}\n"
      ],
      "text/markdown": [
       "1. 50\n",
       "2. 1\n",
       "\n",
       "\n"
      ],
      "text/plain": [
       "[1] 50  1"
      ]
     },
     "metadata": {},
     "output_type": "display_data"
    },
    {
     "data": {
      "text/html": [
       "<style>\n",
       ".list-inline {list-style: none; margin:0; padding: 0}\n",
       ".list-inline>li {display: inline-block}\n",
       ".list-inline>li:not(:last-child)::after {content: \"\\00b7\"; padding: 0 .5ex}\n",
       "</style>\n",
       "<ol class=list-inline><li>50</li><li>3</li></ol>\n"
      ],
      "text/latex": [
       "\\begin{enumerate*}\n",
       "\\item 50\n",
       "\\item 3\n",
       "\\end{enumerate*}\n"
      ],
      "text/markdown": [
       "1. 50\n",
       "2. 3\n",
       "\n",
       "\n"
      ],
      "text/plain": [
       "[1] 50  3"
      ]
     },
     "metadata": {},
     "output_type": "display_data"
    },
    {
     "data": {
      "text/html": [
       "<style>\n",
       ".list-inline {list-style: none; margin:0; padding: 0}\n",
       ".list-inline>li {display: inline-block}\n",
       ".list-inline>li:not(:last-child)::after {content: \"\\00b7\"; padding: 0 .5ex}\n",
       "</style>\n",
       "<ol class=list-inline><li>3</li><li>1</li></ol>\n"
      ],
      "text/latex": [
       "\\begin{enumerate*}\n",
       "\\item 3\n",
       "\\item 1\n",
       "\\end{enumerate*}\n"
      ],
      "text/markdown": [
       "1. 3\n",
       "2. 1\n",
       "\n",
       "\n"
      ],
      "text/plain": [
       "[1] 3 1"
      ]
     },
     "metadata": {},
     "output_type": "display_data"
    }
   ],
   "source": [
    "y = as.matrix(y)\n",
    "betas_qr = as.matrix(beta_qr) #los beta que sacamos con fact. QR\n",
    "\n",
    "dim(y)\n",
    "dim(X)\n",
    "dim(b)"
   ]
  },
  {
   "cell_type": "code",
   "execution_count": 150,
   "metadata": {
    "vscode": {
     "languageId": "r"
    }
   },
   "outputs": [
    {
     "data": {
      "text/html": [
       "230.313104418511"
      ],
      "text/latex": [
       "230.313104418511"
      ],
      "text/markdown": [
       "230.313104418511"
      ],
      "text/plain": [
       "[1] 230.3131"
      ]
     },
     "metadata": {},
     "output_type": "display_data"
    }
   ],
   "source": [
    "sigma_2_est = sum((y - X %*% betas_qr)^2)/(length(y) - length(betas_qr))\n",
    "sigma_2_est "
   ]
  },
  {
   "cell_type": "markdown",
   "metadata": {},
   "source": [
    "comparamos con el $\\hat{\\sigma^2}$ del modelo"
   ]
  },
  {
   "cell_type": "code",
   "execution_count": 151,
   "metadata": {
    "vscode": {
     "languageId": "r"
    }
   },
   "outputs": [
    {
     "data": {
      "text/html": [
       "230.313104418511"
      ],
      "text/latex": [
       "230.313104418511"
      ],
      "text/markdown": [
       "230.313104418511"
      ],
      "text/plain": [
       "[1] 230.3131"
      ]
     },
     "metadata": {},
     "output_type": "display_data"
    }
   ],
   "source": [
    "#ESTE NO \n",
    "sigma_2_mod <- sum(resid(cars.mod)^2) / cars.mod$df.residual\n",
    "sigma_2_mod"
   ]
  },
  {
   "cell_type": "markdown",
   "metadata": {},
   "source": [
    "obtenemos Q y R"
   ]
  },
  {
   "cell_type": "code",
   "execution_count": 152,
   "metadata": {
    "vscode": {
     "languageId": "r"
    }
   },
   "outputs": [
    {
     "data": {
      "text/html": [
       "<table class=\"dataframe\">\n",
       "<caption>A matrix: 3 × 3 of type dbl</caption>\n",
       "<thead>\n",
       "\t<tr><th></th><th scope=col>(Intercept)</th><th scope=col>speed</th><th scope=col>I(speed^2)</th></tr>\n",
       "</thead>\n",
       "<tbody>\n",
       "\t<tr><th scope=row>1</th><td>-7.071068</td><td>-108.89444</td><td>-1870.7217</td></tr>\n",
       "\t<tr><th scope=row>2</th><td> 0.000000</td><td>  37.01351</td><td> 1117.9377</td></tr>\n",
       "\t<tr><th scope=row>3</th><td> 0.000000</td><td>   0.00000</td><td> -230.0513</td></tr>\n",
       "</tbody>\n",
       "</table>\n"
      ],
      "text/latex": [
       "A matrix: 3 × 3 of type dbl\n",
       "\\begin{tabular}{r|lll}\n",
       "  & (Intercept) & speed & I(speed\\textasciicircum{}2)\\\\\n",
       "\\hline\n",
       "\t1 & -7.071068 & -108.89444 & -1870.7217\\\\\n",
       "\t2 &  0.000000 &   37.01351 &  1117.9377\\\\\n",
       "\t3 &  0.000000 &    0.00000 &  -230.0513\\\\\n",
       "\\end{tabular}\n"
      ],
      "text/markdown": [
       "\n",
       "A matrix: 3 × 3 of type dbl\n",
       "\n",
       "| <!--/--> | (Intercept) | speed | I(speed^2) |\n",
       "|---|---|---|---|\n",
       "| 1 | -7.071068 | -108.89444 | -1870.7217 |\n",
       "| 2 |  0.000000 |   37.01351 |  1117.9377 |\n",
       "| 3 |  0.000000 |    0.00000 |  -230.0513 |\n",
       "\n"
      ],
      "text/plain": [
       "  (Intercept) speed      I(speed^2)\n",
       "1 -7.071068   -108.89444 -1870.7217\n",
       "2  0.000000     37.01351  1117.9377\n",
       "3  0.000000      0.00000  -230.0513"
      ]
     },
     "metadata": {},
     "output_type": "display_data"
    }
   ],
   "source": [
    "qr_X <- qr(X)\n",
    "#qr_X\n",
    "Q <- qr.Q(qr_X)\n",
    "R <- qr.R(qr_X)\n",
    "R"
   ]
  },
  {
   "cell_type": "markdown",
   "metadata": {},
   "source": [
    "sacamos $ \\hat{\\Sigma_{\\hat{\\beta}}} $"
   ]
  },
  {
   "cell_type": "code",
   "execution_count": 153,
   "metadata": {
    "vscode": {
     "languageId": "r"
    }
   },
   "outputs": [
    {
     "data": {
      "text/html": [
       "<table class=\"dataframe\">\n",
       "<caption>A matrix: 3 × 3 of type dbl</caption>\n",
       "<thead>\n",
       "\t<tr><th></th><th scope=col>(Intercept)</th><th scope=col>speed</th><th scope=col>I(speed^2)</th></tr>\n",
       "</thead>\n",
       "<tbody>\n",
       "\t<tr><th scope=row>(Intercept)</th><td>219.5483705</td><td>-28.9523122</td><td> 0.872858710</td></tr>\n",
       "\t<tr><th scope=row>speed</th><td>-28.9523122</td><td>  4.1380528</td><td>-0.131439753</td></tr>\n",
       "\t<tr><th scope=row>I(speed^2)</th><td>  0.8728587</td><td> -0.1314398</td><td> 0.004351805</td></tr>\n",
       "</tbody>\n",
       "</table>\n"
      ],
      "text/latex": [
       "A matrix: 3 × 3 of type dbl\n",
       "\\begin{tabular}{r|lll}\n",
       "  & (Intercept) & speed & I(speed\\textasciicircum{}2)\\\\\n",
       "\\hline\n",
       "\t(Intercept) & 219.5483705 & -28.9523122 &  0.872858710\\\\\n",
       "\tspeed & -28.9523122 &   4.1380528 & -0.131439753\\\\\n",
       "\tI(speed\\textasciicircum{}2) &   0.8728587 &  -0.1314398 &  0.004351805\\\\\n",
       "\\end{tabular}\n"
      ],
      "text/markdown": [
       "\n",
       "A matrix: 3 × 3 of type dbl\n",
       "\n",
       "| <!--/--> | (Intercept) | speed | I(speed^2) |\n",
       "|---|---|---|---|\n",
       "| (Intercept) | 219.5483705 | -28.9523122 |  0.872858710 |\n",
       "| speed | -28.9523122 |   4.1380528 | -0.131439753 |\n",
       "| I(speed^2) |   0.8728587 |  -0.1314398 |  0.004351805 |\n",
       "\n"
      ],
      "text/plain": [
       "            (Intercept) speed       I(speed^2)  \n",
       "(Intercept) 219.5483705 -28.9523122  0.872858710\n",
       "speed       -28.9523122   4.1380528 -0.131439753\n",
       "I(speed^2)    0.8728587  -0.1314398  0.004351805"
      ]
     },
     "metadata": {},
     "output_type": "display_data"
    }
   ],
   "source": [
    "cov_matrix_beta = solve(R) %*% solve(t(R)) *sigma_2_est \n",
    "cov_matrix_beta"
   ]
  },
  {
   "cell_type": "markdown",
   "metadata": {},
   "source": [
    "ahora $ diag(\\sqrt{\\hat{ \\Sigma_{\\hat{\\beta}}}}) $"
   ]
  },
  {
   "cell_type": "code",
   "execution_count": 154,
   "metadata": {
    "vscode": {
     "languageId": "r"
    }
   },
   "outputs": [
    {
     "data": {
      "text/html": [
       "<style>\n",
       ".dl-inline {width: auto; margin:0; padding: 0}\n",
       ".dl-inline>dt, .dl-inline>dd {float: none; width: auto; display: inline-block}\n",
       ".dl-inline>dt::after {content: \":\\0020\"; padding-right: .5ex}\n",
       ".dl-inline>dt:not(:first-of-type) {padding-left: .5ex}\n",
       "</style><dl class=dl-inline><dt>(Intercept)</dt><dd>14.8171647250236</dd><dt>speed</dt><dd>2.03422044231195</dd><dt>I(speed^2)</dt><dd>0.0659682106823391</dd></dl>\n"
      ],
      "text/latex": [
       "\\begin{description*}\n",
       "\\item[(Intercept)] 14.8171647250236\n",
       "\\item[speed] 2.03422044231195\n",
       "\\item[I(speed\\textbackslash{}textasciicircum\\{\\}2)] 0.0659682106823391\n",
       "\\end{description*}\n"
      ],
      "text/markdown": [
       "(Intercept)\n",
       ":   14.8171647250236speed\n",
       ":   2.03422044231195I(speed^2)\n",
       ":   0.0659682106823391\n",
       "\n"
      ],
      "text/plain": [
       "(Intercept)       speed  I(speed^2) \n",
       "14.81716473  2.03422044  0.06596821 "
      ]
     },
     "metadata": {},
     "output_type": "display_data"
    },
    {
     "data": {
      "text/html": [
       "<strong>(Intercept):</strong> 14.8171647250236"
      ],
      "text/latex": [
       "\\textbf{(Intercept):} 14.8171647250236"
      ],
      "text/markdown": [
       "**(Intercept):** 14.8171647250236"
      ],
      "text/plain": [
       "(Intercept) \n",
       "   14.81716 "
      ]
     },
     "metadata": {},
     "output_type": "display_data"
    }
   ],
   "source": [
    "desv_beta_i = sqrt(diag(cov_matrix_beta))\n",
    "desv_beta_i\n",
    "desv_beta_i[1]"
   ]
  },
  {
   "cell_type": "markdown",
   "metadata": {},
   "source": [
    "comparamos con los resultados del modelo"
   ]
  },
  {
   "cell_type": "code",
   "execution_count": 155,
   "metadata": {
    "vscode": {
     "languageId": "r"
    }
   },
   "outputs": [
    {
     "data": {
      "text/html": [
       "<style>\n",
       ".dl-inline {width: auto; margin:0; padding: 0}\n",
       ".dl-inline>dt, .dl-inline>dd {float: none; width: auto; display: inline-block}\n",
       ".dl-inline>dt::after {content: \":\\0020\"; padding-right: .5ex}\n",
       ".dl-inline>dt:not(:first-of-type) {padding-left: .5ex}\n",
       "</style><dl class=dl-inline><dt>(Intercept)</dt><dd>14.8171647250236</dd><dt>speed</dt><dd>2.03422044231195</dd><dt>I(speed^2)</dt><dd>0.0659682106823391</dd></dl>\n"
      ],
      "text/latex": [
       "\\begin{description*}\n",
       "\\item[(Intercept)] 14.8171647250236\n",
       "\\item[speed] 2.03422044231195\n",
       "\\item[I(speed\\textbackslash{}textasciicircum\\{\\}2)] 0.0659682106823391\n",
       "\\end{description*}\n"
      ],
      "text/markdown": [
       "(Intercept)\n",
       ":   14.8171647250236speed\n",
       ":   2.03422044231195I(speed^2)\n",
       ":   0.0659682106823391\n",
       "\n"
      ],
      "text/plain": [
       "(Intercept)       speed  I(speed^2) \n",
       "14.81716473  2.03422044  0.06596821 "
      ]
     },
     "metadata": {},
     "output_type": "display_data"
    }
   ],
   "source": [
    "summary(cars.mod)$coefficients[, \"Std. Error\"]"
   ]
  },
  {
   "cell_type": "markdown",
   "metadata": {},
   "source": [
    "<b>(b) Para cada $\\hat{β}$ estime el estadístico t y el p-value asociado bajo la hipótesis\n",
    "nula $H0 : β_i = 0$ . Compare su resultado que el que arroja la función lm.\n",
    "¿Cuales regresores son estadísticamente significativos?\n"
   ]
  },
  {
   "cell_type": "markdown",
   "metadata": {},
   "source": [
    "$$ \\frac{\\hat{\\beta_i} - \\beta_i}{\\hat{\\sigma_{\\hat{\\beta_i}}}}  \\sim t_{n-p}$$"
   ]
  },
  {
   "cell_type": "markdown",
   "metadata": {},
   "source": [
    "mis $\\hat{\\beta_i}$ con qr:"
   ]
  },
  {
   "cell_type": "code",
   "execution_count": 156,
   "metadata": {
    "vscode": {
     "languageId": "r"
    }
   },
   "outputs": [
    {
     "data": {
      "text/html": [
       "<style>\n",
       ".dl-inline {width: auto; margin:0; padding: 0}\n",
       ".dl-inline>dt, .dl-inline>dd {float: none; width: auto; display: inline-block}\n",
       ".dl-inline>dt::after {content: \":\\0020\"; padding-right: .5ex}\n",
       ".dl-inline>dt:not(:first-of-type) {padding-left: .5ex}\n",
       "</style><dl class=dl-inline><dt>(Intercept)</dt><dd>2.4701377850663</dd><dt>speed</dt><dd>0.913287614242585</dd><dt>I(speed^2)</dt><dd>0.0999593020698439</dd></dl>\n"
      ],
      "text/latex": [
       "\\begin{description*}\n",
       "\\item[(Intercept)] 2.4701377850663\n",
       "\\item[speed] 0.913287614242585\n",
       "\\item[I(speed\\textbackslash{}textasciicircum\\{\\}2)] 0.0999593020698439\n",
       "\\end{description*}\n"
      ],
      "text/markdown": [
       "(Intercept)\n",
       ":   2.4701377850663speed\n",
       ":   0.913287614242585I(speed^2)\n",
       ":   0.0999593020698439\n",
       "\n"
      ],
      "text/plain": [
       "(Intercept)       speed  I(speed^2) \n",
       "  2.4701378   0.9132876   0.0999593 "
      ]
     },
     "metadata": {},
     "output_type": "display_data"
    }
   ],
   "source": [
    "beta_qr"
   ]
  },
  {
   "cell_type": "markdown",
   "metadata": {},
   "source": [
    "mis $\\hat{\\sigma_{\\hat{\\beta_i}}}$"
   ]
  },
  {
   "cell_type": "code",
   "execution_count": 157,
   "metadata": {
    "vscode": {
     "languageId": "r"
    }
   },
   "outputs": [
    {
     "data": {
      "text/html": [
       "<style>\n",
       ".dl-inline {width: auto; margin:0; padding: 0}\n",
       ".dl-inline>dt, .dl-inline>dd {float: none; width: auto; display: inline-block}\n",
       ".dl-inline>dt::after {content: \":\\0020\"; padding-right: .5ex}\n",
       ".dl-inline>dt:not(:first-of-type) {padding-left: .5ex}\n",
       "</style><dl class=dl-inline><dt>(Intercept)</dt><dd>14.8171647250236</dd><dt>speed</dt><dd>2.03422044231195</dd><dt>I(speed^2)</dt><dd>0.0659682106823391</dd></dl>\n"
      ],
      "text/latex": [
       "\\begin{description*}\n",
       "\\item[(Intercept)] 14.8171647250236\n",
       "\\item[speed] 2.03422044231195\n",
       "\\item[I(speed\\textbackslash{}textasciicircum\\{\\}2)] 0.0659682106823391\n",
       "\\end{description*}\n"
      ],
      "text/markdown": [
       "(Intercept)\n",
       ":   14.8171647250236speed\n",
       ":   2.03422044231195I(speed^2)\n",
       ":   0.0659682106823391\n",
       "\n"
      ],
      "text/plain": [
       "(Intercept)       speed  I(speed^2) \n",
       "14.81716473  2.03422044  0.06596821 "
      ]
     },
     "metadata": {},
     "output_type": "display_data"
    }
   ],
   "source": [
    "desv_beta_i"
   ]
  },
  {
   "cell_type": "markdown",
   "metadata": {},
   "source": [
    "sacamos los t stats"
   ]
  },
  {
   "cell_type": "code",
   "execution_count": 158,
   "metadata": {
    "vscode": {
     "languageId": "r"
    }
   },
   "outputs": [
    {
     "data": {
      "text/html": [
       "<style>\n",
       ".dl-inline {width: auto; margin:0; padding: 0}\n",
       ".dl-inline>dt, .dl-inline>dd {float: none; width: auto; display: inline-block}\n",
       ".dl-inline>dt::after {content: \":\\0020\"; padding-right: .5ex}\n",
       ".dl-inline>dt:not(:first-of-type) {padding-left: .5ex}\n",
       "</style><dl class=dl-inline><dt>(Intercept)</dt><dd>0.166707857468485</dd><dt>speed</dt><dd>0.448961968548802</dd><dt>I(speed^2)</dt><dd>1.5152647166858</dd></dl>\n"
      ],
      "text/latex": [
       "\\begin{description*}\n",
       "\\item[(Intercept)] 0.166707857468485\n",
       "\\item[speed] 0.448961968548802\n",
       "\\item[I(speed\\textbackslash{}textasciicircum\\{\\}2)] 1.5152647166858\n",
       "\\end{description*}\n"
      ],
      "text/markdown": [
       "(Intercept)\n",
       ":   0.166707857468485speed\n",
       ":   0.448961968548802I(speed^2)\n",
       ":   1.5152647166858\n",
       "\n"
      ],
      "text/plain": [
       "(Intercept)       speed  I(speed^2) \n",
       "  0.1667079   0.4489620   1.5152647 "
      ]
     },
     "metadata": {},
     "output_type": "display_data"
    }
   ],
   "source": [
    "beta_null = 0\n",
    "\n",
    "t_stats = (beta_qr[1:3] - beta_null) / desv_beta_i[1:3] \n",
    "\n",
    "t_stats"
   ]
  },
  {
   "cell_type": "markdown",
   "metadata": {},
   "source": [
    "ahora los p values"
   ]
  },
  {
   "cell_type": "code",
   "execution_count": 159,
   "metadata": {
    "vscode": {
     "languageId": "r"
    }
   },
   "outputs": [
    {
     "data": {
      "text/html": [
       "47"
      ],
      "text/latex": [
       "47"
      ],
      "text/markdown": [
       "47"
      ],
      "text/plain": [
       "[1] 47"
      ]
     },
     "metadata": {},
     "output_type": "display_data"
    },
    {
     "data": {
      "text/html": [
       "47"
      ],
      "text/latex": [
       "47"
      ],
      "text/markdown": [
       "47"
      ],
      "text/plain": [
       "[1] 47"
      ]
     },
     "metadata": {},
     "output_type": "display_data"
    }
   ],
   "source": [
    "#sacamos grados de libertad\n",
    "deg_freedom = length(y) - length(betas_qr)\n",
    "deg_freedom\n",
    "\n",
    "#comparamos con modelo \n",
    "cars.mod$df.residual"
   ]
  },
  {
   "cell_type": "code",
   "execution_count": 160,
   "metadata": {
    "vscode": {
     "languageId": "r"
    }
   },
   "outputs": [
    {
     "data": {
      "text/html": [
       "<style>\n",
       ".dl-inline {width: auto; margin:0; padding: 0}\n",
       ".dl-inline>dt, .dl-inline>dd {float: none; width: auto; display: inline-block}\n",
       ".dl-inline>dt::after {content: \":\\0020\"; padding-right: .5ex}\n",
       ".dl-inline>dt:not(:first-of-type) {padding-left: .5ex}\n",
       "</style><dl class=dl-inline><dt>(Intercept)</dt><dd>0.868315075848578</dd><dt>speed</dt><dd>0.655522449402814</dd><dt>I(speed^2)</dt><dd>0.136402432803738</dd></dl>\n"
      ],
      "text/latex": [
       "\\begin{description*}\n",
       "\\item[(Intercept)] 0.868315075848578\n",
       "\\item[speed] 0.655522449402814\n",
       "\\item[I(speed\\textbackslash{}textasciicircum\\{\\}2)] 0.136402432803738\n",
       "\\end{description*}\n"
      ],
      "text/markdown": [
       "(Intercept)\n",
       ":   0.868315075848578speed\n",
       ":   0.655522449402814I(speed^2)\n",
       ":   0.136402432803738\n",
       "\n"
      ],
      "text/plain": [
       "(Intercept)       speed  I(speed^2) \n",
       "  0.8683151   0.6555224   0.1364024 "
      ]
     },
     "metadata": {},
     "output_type": "display_data"
    }
   ],
   "source": [
    "p_values <- 2 * pt(-abs(t_stats), df = deg_freedom)\n",
    "p_values"
   ]
  },
  {
   "cell_type": "markdown",
   "metadata": {},
   "source": [
    "comparamos con lm:"
   ]
  },
  {
   "cell_type": "code",
   "execution_count": 161,
   "metadata": {
    "vscode": {
     "languageId": "r"
    }
   },
   "outputs": [
    {
     "data": {
      "text/html": [
       "<style>\n",
       ".dl-inline {width: auto; margin:0; padding: 0}\n",
       ".dl-inline>dt, .dl-inline>dd {float: none; width: auto; display: inline-block}\n",
       ".dl-inline>dt::after {content: \":\\0020\"; padding-right: .5ex}\n",
       ".dl-inline>dt:not(:first-of-type) {padding-left: .5ex}\n",
       "</style><dl class=dl-inline><dt>(Intercept)</dt><dd>0.868315075848578</dd><dt>speed</dt><dd>0.655522449402814</dd><dt>I(speed^2)</dt><dd>0.136402432803738</dd></dl>\n"
      ],
      "text/latex": [
       "\\begin{description*}\n",
       "\\item[(Intercept)] 0.868315075848578\n",
       "\\item[speed] 0.655522449402814\n",
       "\\item[I(speed\\textbackslash{}textasciicircum\\{\\}2)] 0.136402432803738\n",
       "\\end{description*}\n"
      ],
      "text/markdown": [
       "(Intercept)\n",
       ":   0.868315075848578speed\n",
       ":   0.655522449402814I(speed^2)\n",
       ":   0.136402432803738\n",
       "\n"
      ],
      "text/plain": [
       "(Intercept)       speed  I(speed^2) \n",
       "  0.8683151   0.6555224   0.1364024 "
      ]
     },
     "metadata": {},
     "output_type": "display_data"
    }
   ],
   "source": [
    "summary(cars.mod)$coefficients[, c(\"Pr(>|t|)\")]"
   ]
  },
  {
   "cell_type": "markdown",
   "metadata": {},
   "source": [
    "son iguales "
   ]
  },
  {
   "cell_type": "markdown",
   "metadata": {},
   "source": [
    "<b>(c) Estime los coeficientes $β$ vía la factorización de Cholesky. Se puede apoyar\n",
    "de la función chol. Compare su resultado que el que arroja la función lm.\n"
   ]
  },
  {
   "cell_type": "markdown",
   "metadata": {},
   "source": [
    "$$ X^{T}X\\beta = X^{T}y $$"
   ]
  },
  {
   "cell_type": "markdown",
   "metadata": {},
   "source": [
    "Factorización de Cholesky: $$ X^{T}X = L^{T}L $$"
   ]
  },
  {
   "cell_type": "code",
   "execution_count": 162,
   "metadata": {
    "vscode": {
     "languageId": "r"
    }
   },
   "outputs": [],
   "source": [
    "#calculamos X^t * X\n",
    "XTX = t(X) %*% X #factor de cholesky\n",
    "\n",
    "#calculamos XTy\n",
    "Xty = t(X) %*% y\n",
    "\n",
    "#sacamos L con descomposicion de cholesky\n",
    "L <- chol(XTX)\n",
    "#L\n",
    "\n",
    "#verificamos\n",
    "#t(L) %*% L\n",
    "\n",
    "#L %*% t(L) # no"
   ]
  },
  {
   "cell_type": "code",
   "execution_count": 163,
   "metadata": {
    "vscode": {
     "languageId": "r"
    }
   },
   "outputs": [
    {
     "data": {
      "text/html": [
       "<table class=\"dataframe\">\n",
       "<caption>A matrix: 3 × 1 of type dbl</caption>\n",
       "<tbody>\n",
       "\t<tr><th scope=row>(Intercept)</th><td>2.4701378</td></tr>\n",
       "\t<tr><th scope=row>speed</th><td>0.9132876</td></tr>\n",
       "\t<tr><th scope=row>I(speed^2)</th><td>0.0999593</td></tr>\n",
       "</tbody>\n",
       "</table>\n"
      ],
      "text/latex": [
       "A matrix: 3 × 1 of type dbl\n",
       "\\begin{tabular}{r|l}\n",
       "\t(Intercept) & 2.4701378\\\\\n",
       "\tspeed & 0.9132876\\\\\n",
       "\tI(speed\\textasciicircum{}2) & 0.0999593\\\\\n",
       "\\end{tabular}\n"
      ],
      "text/markdown": [
       "\n",
       "A matrix: 3 × 1 of type dbl\n",
       "\n",
       "| (Intercept) | 2.4701378 |\n",
       "| speed | 0.9132876 |\n",
       "| I(speed^2) | 0.0999593 |\n",
       "\n"
      ],
      "text/plain": [
       "            [,1]     \n",
       "(Intercept) 2.4701378\n",
       "speed       0.9132876\n",
       "I(speed^2)  0.0999593"
      ]
     },
     "metadata": {},
     "output_type": "display_data"
    }
   ],
   "source": [
    "#solve X^T * X * b= X^T * y for b \n",
    "b = solve(L) %*% solve(t(L)) %*% Xty \n",
    "b"
   ]
  },
  {
   "cell_type": "markdown",
   "metadata": {},
   "source": [
    "<h2> :("
   ]
  },
  {
   "cell_type": "code",
   "execution_count": 164,
   "metadata": {
    "vscode": {
     "languageId": "r"
    }
   },
   "outputs": [
    {
     "data": {
      "text/html": [
       "<style>\n",
       ".dl-inline {width: auto; margin:0; padding: 0}\n",
       ".dl-inline>dt, .dl-inline>dd {float: none; width: auto; display: inline-block}\n",
       ".dl-inline>dt::after {content: \":\\0020\"; padding-right: .5ex}\n",
       ".dl-inline>dt:not(:first-of-type) {padding-left: .5ex}\n",
       "</style><dl class=dl-inline><dt>(Intercept)</dt><dd>2.4701377850663</dd><dt>speed</dt><dd>0.913287614242585</dd><dt>I(speed^2)</dt><dd>0.0999593020698439</dd></dl>\n"
      ],
      "text/latex": [
       "\\begin{description*}\n",
       "\\item[(Intercept)] 2.4701377850663\n",
       "\\item[speed] 0.913287614242585\n",
       "\\item[I(speed\\textbackslash{}textasciicircum\\{\\}2)] 0.0999593020698439\n",
       "\\end{description*}\n"
      ],
      "text/markdown": [
       "(Intercept)\n",
       ":   2.4701377850663speed\n",
       ":   0.913287614242585I(speed^2)\n",
       ":   0.0999593020698439\n",
       "\n"
      ],
      "text/plain": [
       "(Intercept)       speed  I(speed^2) \n",
       "  2.4701378   0.9132876   0.0999593 "
      ]
     },
     "metadata": {},
     "output_type": "display_data"
    }
   ],
   "source": [
    "summary(cars.mod)$coefficients[, c(\"Estimate\")]"
   ]
  },
  {
   "cell_type": "markdown",
   "metadata": {},
   "source": [
    "<b>(d) Estime el error estándar de los residuales. Compare su resultado que el\n",
    "que arroja la función lm.\n"
   ]
  },
  {
   "cell_type": "markdown",
   "metadata": {},
   "source": [
    "$$ \\sigma_\\epsilon ^2 = \\frac{RSS_1}{n-p} = \\frac{||r||^2}{n-p} = \\frac{||Y-X\\beta||^2}{n-p} $$"
   ]
  },
  {
   "cell_type": "markdown",
   "metadata": {},
   "source": [
    "obtenemos RSS_1"
   ]
  },
  {
   "cell_type": "code",
   "execution_count": 165,
   "metadata": {
    "vscode": {
     "languageId": "r"
    }
   },
   "outputs": [],
   "source": [
    "RSS_1 = sum((y - X %*% beta_qr)^2)"
   ]
  },
  {
   "cell_type": "code",
   "execution_count": 166,
   "metadata": {
    "vscode": {
     "languageId": "r"
    }
   },
   "outputs": [
    {
     "data": {
      "text/html": [
       "15.1760701243277"
      ],
      "text/latex": [
       "15.1760701243277"
      ],
      "text/markdown": [
       "15.1760701243277"
      ],
      "text/plain": [
       "[1] 15.17607"
      ]
     },
     "metadata": {},
     "output_type": "display_data"
    }
   ],
   "source": [
    "\n",
    "residual_se = sqrt(RSS_1/(length(y) - length(betas_qr)))\n",
    "residual_se"
   ]
  },
  {
   "cell_type": "code",
   "execution_count": 167,
   "metadata": {
    "vscode": {
     "languageId": "r"
    }
   },
   "outputs": [
    {
     "data": {
      "text/html": [
       "15.1760701243277"
      ],
      "text/latex": [
       "15.1760701243277"
      ],
      "text/markdown": [
       "15.1760701243277"
      ],
      "text/plain": [
       "[1] 15.17607"
      ]
     },
     "metadata": {},
     "output_type": "display_data"
    }
   ],
   "source": [
    "#error estandar de los residuales segun el modelo cars.mod\n",
    "summary(cars.mod)$sigma"
   ]
  },
  {
   "cell_type": "markdown",
   "metadata": {},
   "source": [
    "<b>(e) Estime el estadístico F y el p-value asociado. Considere como modelo\n",
    "nulo: $dist_i = β_0 + ε$ . Compare su resultado que el que arroja la función\n",
    "lm. ¿Su modelo es estadísticamente significativo?\n"
   ]
  },
  {
   "cell_type": "markdown",
   "metadata": {},
   "source": [
    "obtenemos RSS_0"
   ]
  },
  {
   "cell_type": "code",
   "execution_count": 168,
   "metadata": {
    "vscode": {
     "languageId": "r"
    }
   },
   "outputs": [],
   "source": [
    "null_model <- lm(dist ~ 1, data = cars)\n",
    "beta_null = coef(null_model)\n",
    "beta_null = c(beta_null, 0, 0)\n",
    "\n",
    "RSS_0 = sum((y - X %*% beta_null)^2)"
   ]
  },
  {
   "cell_type": "code",
   "execution_count": 169,
   "metadata": {
    "vscode": {
     "languageId": "r"
    }
   },
   "outputs": [
    {
     "data": {
      "text/html": [
       "2"
      ],
      "text/latex": [
       "2"
      ],
      "text/markdown": [
       "2"
      ],
      "text/plain": [
       "[1] 2"
      ]
     },
     "metadata": {},
     "output_type": "display_data"
    }
   ],
   "source": [
    "q = length(beta_qr) - 1\n",
    "q"
   ]
  },
  {
   "cell_type": "code",
   "execution_count": 170,
   "metadata": {
    "vscode": {
     "languageId": "r"
    }
   },
   "outputs": [
    {
     "name": "stdout",
     "output_type": "stream",
     "text": [
      " F_value       Pr \n",
      "48.14374  0.00000 \n"
     ]
    },
    {
     "data": {
      "text/plain": [
       "\n",
       "Call:\n",
       "lm(formula = dist ~ speed + I(speed^2), data = cars)\n",
       "\n",
       "Residuals:\n",
       "    Min      1Q  Median      3Q     Max \n",
       "-28.720  -9.184  -3.188   4.628  45.152 \n",
       "\n",
       "Coefficients:\n",
       "            Estimate Std. Error t value Pr(>|t|)\n",
       "(Intercept)  2.47014   14.81716   0.167    0.868\n",
       "speed        0.91329    2.03422   0.449    0.656\n",
       "I(speed^2)   0.09996    0.06597   1.515    0.136\n",
       "\n",
       "Residual standard error: 15.18 on 47 degrees of freedom\n",
       "Multiple R-squared:  0.6673,\tAdjusted R-squared:  0.6532 \n",
       "F-statistic: 47.14 on 2 and 47 DF,  p-value: 5.852e-12\n"
      ]
     },
     "metadata": {},
     "output_type": "display_data"
    }
   ],
   "source": [
    "n = length(y)\n",
    "q = length(beta_qr) - 1\n",
    "\n",
    "#f stat\n",
    "F_stat <- ((RSS_0 - RSS_1)/q ) / (RSS_1 / (n - q))\n",
    "#p-value\n",
    "p_value <- 1 - pf(F_stat, df1 = deg_freedom, df2 = deg_freedom)\n",
    "\n",
    "\n",
    "#imprimir\n",
    "print(c(F_value = F_stat, Pr = p_value))\n",
    "\n",
    "#comparar\n",
    "summary(cars.mod)"
   ]
  },
  {
   "cell_type": "code",
   "execution_count": 171,
   "metadata": {
    "vscode": {
     "languageId": "r"
    }
   },
   "outputs": [
    {
     "data": {
      "text/plain": [
       "\n",
       "Call:\n",
       "lm(formula = dist ~ 1, data = cars)\n",
       "\n",
       "Residuals:\n",
       "   Min     1Q Median     3Q    Max \n",
       "-40.98 -16.98  -6.98  13.02  77.02 \n",
       "\n",
       "Coefficients:\n",
       "            Estimate Std. Error t value Pr(>|t|)    \n",
       "(Intercept)   42.980      3.644   11.79 6.38e-16 ***\n",
       "---\n",
       "Signif. codes:  0 ‘***’ 0.001 ‘**’ 0.01 ‘*’ 0.05 ‘.’ 0.1 ‘ ’ 1\n",
       "\n",
       "Residual standard error: 25.77 on 49 degrees of freedom\n"
      ]
     },
     "metadata": {},
     "output_type": "display_data"
    }
   ],
   "source": [
    "summary(null_model)"
   ]
  },
  {
   "cell_type": "markdown",
   "metadata": {},
   "source": [
    "son muy similares, <br><br>\n",
    "modelo: <br>\n",
    "<b>F-statistic: $47.14$ on 2 and 47 DF,  p-value: $5.852e-12$</b> <br> <br>\n",
    "nuestro resultado: <br>\n",
    "<b>F-statistic: $48.14374$ on 2 and 47 DF,  p-value: $0.00000$ </b><br>\n",
    "\n",
    "No acabo de entender el por que de la diferencia en el F stat, pero supongo que nuestro p value es valido, solo que no alcanza a mostrar con precision hasta los digitos requeridos. Igual nos indica que es pequeño y no hay suficiente evidencia para rechazar nuestra hipotesis. "
   ]
  },
  {
   "cell_type": "markdown",
   "metadata": {},
   "source": [
    "<b>(f) Calcule las métricas conocidas como R2 y R2 ajustado. Las expresiones\n",
    "matemáticas las puede encontrar en la solución de la práctica 1. Compare\n",
    "su resultado que el que arroja la función lm.\n"
   ]
  },
  {
   "cell_type": "markdown",
   "metadata": {},
   "source": [
    "model$response = y"
   ]
  },
  {
   "cell_type": "code",
   "execution_count": 172,
   "metadata": {
    "vscode": {
     "languageId": "r"
    }
   },
   "outputs": [
    {
     "data": {
      "text/html": [
       "<style>\n",
       ".dl-inline {width: auto; margin:0; padding: 0}\n",
       ".dl-inline>dt, .dl-inline>dd {float: none; width: auto; display: inline-block}\n",
       ".dl-inline>dt::after {content: \":\\0020\"; padding-right: .5ex}\n",
       ".dl-inline>dt:not(:first-of-type) {padding-left: .5ex}\n",
       "</style><dl class=dl-inline><dt>(Intercept)</dt><dd>2.4701377850663</dd><dt>speed</dt><dd>0.913287614242585</dd><dt>I(speed^2)</dt><dd>0.0999593020698439</dd></dl>\n"
      ],
      "text/latex": [
       "\\begin{description*}\n",
       "\\item[(Intercept)] 2.4701377850663\n",
       "\\item[speed] 0.913287614242585\n",
       "\\item[I(speed\\textbackslash{}textasciicircum\\{\\}2)] 0.0999593020698439\n",
       "\\end{description*}\n"
      ],
      "text/markdown": [
       "(Intercept)\n",
       ":   2.4701377850663speed\n",
       ":   0.913287614242585I(speed^2)\n",
       ":   0.0999593020698439\n",
       "\n"
      ],
      "text/plain": [
       "(Intercept)       speed  I(speed^2) \n",
       "  2.4701378   0.9132876   0.0999593 "
      ]
     },
     "metadata": {},
     "output_type": "display_data"
    },
    {
     "data": {
      "text/html": [
       "3"
      ],
      "text/latex": [
       "3"
      ],
      "text/markdown": [
       "3"
      ],
      "text/plain": [
       "[1] 3"
      ]
     },
     "metadata": {},
     "output_type": "display_data"
    }
   ],
   "source": [
    "cars.mod$coefficients[]\n",
    "\n",
    "length(cars.mod$coefficients[])"
   ]
  },
  {
   "cell_type": "code",
   "execution_count": 173,
   "metadata": {
    "vscode": {
     "languageId": "r"
    }
   },
   "outputs": [
    {
     "name": "stdout",
     "output_type": "stream",
     "text": [
      "       R2    R2_adj \n",
      "0.6673308 0.6456350 \n",
      "       R2    R2_adj \n",
      "0.6673308 0.6531747 \n"
     ]
    }
   ],
   "source": [
    "SSres = sum((y - X %*% beta_qr)^2)\n",
    "SStot = sum((y - mean(y))^2)\n",
    "n = length(y)\n",
    "k = length(beta_qr)\n",
    "\n",
    "\n",
    "R2 <- 1 -  SSres / SStot\n",
    "\n",
    "#calcular R^2 ajustado\n",
    "R2_adj <- 1 - (1 - R2)*(n - 1)/(n - k - 1) \n",
    "\n",
    "\n",
    "#imprimir R^2 y R^2 ajustado\n",
    "print(c(R2 = R2, R2_adj = R2_adj))\n",
    "\n",
    "#comparar con los resultados de lm()\n",
    "print(c(R2 = summary(cars.mod)$r.squared, R2_adj = summary(cars.mod)$adj.r.squared))"
   ]
  },
  {
   "cell_type": "markdown",
   "metadata": {},
   "source": [
    "son iguales"
   ]
  },
  {
   "cell_type": "markdown",
   "metadata": {},
   "source": [
    "<b>(g) Grafique en una sola figura lo siguiente:\n",
    "1. residuales vs. valores ajustados\n",
    "2. valores absolutos de los residuales estandarizados vs. valores ajustados\n",
    "Comparar sus resultados con lo que arroja el comando plot usando como\n",
    "argumento la salida del modelo ajustado. Hint: Se requiere calcular la\n",
    "matriz de influencia A."
   ]
  },
  {
   "cell_type": "code",
   "execution_count": 174,
   "metadata": {
    "vscode": {
     "languageId": "r"
    }
   },
   "outputs": [
    {
     "data": {
      "text/plain": [
       "\n",
       "Call:\n",
       "lm(formula = dist ~ speed + I(speed^2), data = cars)\n",
       "\n",
       "Residuals:\n",
       "    Min      1Q  Median      3Q     Max \n",
       "-28.720  -9.184  -3.188   4.628  45.152 \n",
       "\n",
       "Coefficients:\n",
       "            Estimate Std. Error t value Pr(>|t|)\n",
       "(Intercept)  2.47014   14.81716   0.167    0.868\n",
       "speed        0.91329    2.03422   0.449    0.656\n",
       "I(speed^2)   0.09996    0.06597   1.515    0.136\n",
       "\n",
       "Residual standard error: 15.18 on 47 degrees of freedom\n",
       "Multiple R-squared:  0.6673,\tAdjusted R-squared:  0.6532 \n",
       "F-statistic: 47.14 on 2 and 47 DF,  p-value: 5.852e-12\n"
      ]
     },
     "metadata": {},
     "output_type": "display_data"
    }
   ],
   "source": [
    "summary(cars.mod)"
   ]
  },
  {
   "cell_type": "code",
   "execution_count": 175,
   "metadata": {
    "vscode": {
     "languageId": "r"
    }
   },
   "outputs": [],
   "source": [
    "res_standard_error = summary(cars.mod)$sigma"
   ]
  },
  {
   "cell_type": "code",
   "execution_count": 176,
   "metadata": {
    "vscode": {
     "languageId": "r"
    }
   },
   "outputs": [
    {
     "data": {
      "text/html": [
       "15.1760701243277"
      ],
      "text/latex": [
       "15.1760701243277"
      ],
      "text/markdown": [
       "15.1760701243277"
      ],
      "text/plain": [
       "[1] 15.17607"
      ]
     },
     "metadata": {},
     "output_type": "display_data"
    }
   ],
   "source": [
    "res_standard_error"
   ]
  },
  {
   "cell_type": "code",
   "execution_count": 177,
   "metadata": {
    "vscode": {
     "languageId": "r"
    }
   },
   "outputs": [
    {
     "data": {
      "image/png": "[encoded data removed]",
      "text/plain": [
       "Plot with title “Residuales vs. Valores ajustados”"
      ]
     },
     "metadata": {
      "image/png": {
       "height": 420,
       "width": 420
      }
     },
     "output_type": "display_data"
    },
    {
     "data": {
      "image/png": "[encoded data removed]",
      "text/plain": [
       "Plot with title “Valores absolutos de los residuales estandarizados vs. Valores ajustados”"
      ]
     },
     "metadata": {
      "image/png": {
       "height": 420,
       "width": 420
      }
     },
     "output_type": "display_data"
    },
    {
     "data": {
      "image/png": "[encoded data removed]",
      "text/plain": [
       "Plot with title “”"
      ]
     },
     "metadata": {
      "image/png": {
       "height": 420,
       "width": 420
      }
     },
     "output_type": "display_data"
    },
    {
     "data": {
      "image/png": "[encoded data removed]",
      "text/plain": [
       "Plot with title “”"
      ]
     },
     "metadata": {
      "image/png": {
       "height": 420,
       "width": 420
      }
     },
     "output_type": "display_data"
    },
    {
     "data": {
      "image/png": "[encoded data removed]",
      "text/plain": [
       "Plot with title “”"
      ]
     },
     "metadata": {
      "image/png": {
       "height": 420,
       "width": 420
      }
     },
     "output_type": "display_data"
    },
    {
     "data": {
      "image/png": "[encoded data removed]",
      "text/plain": [
       "Plot with title “”"
      ]
     },
     "metadata": {
      "image/png": {
       "height": 420,
       "width": 420
      }
     },
     "output_type": "display_data"
    }
   ],
   "source": [
    "#=======///// GRAFICA 1 /////=======\n",
    "\n",
    "# Graficar los residuales vs. los valores ajustados\n",
    "plot(fitted(cars.mod), resid(cars.mod), xlab = \"Valores ajustados\", ylab = \"Residuales\", main = \"Residuales vs. Valores ajustados\")\n",
    "\n",
    "#=======///// GRAFICA 2 /////=======\n",
    "\n",
    "# Calcular los residuales estandarizados\n",
    "stand_resid <- ( resid(cars.mod) - mean(resid(cars.mod)) ) / res_standard_error\n",
    "#stand_resid <- ( resid(cars.mod) ) / summary(cars.mod)$sigma\n",
    "\n",
    "# Graficar los valores absolutos de los residuales estandarizados vs. los valores ajustados\n",
    "plot(fitted(cars.mod), abs(stand_resid), xlab = \"Valores ajustados\", ylab = \"Valores absolutos de los residuales estandarizados\", main = \"Valores absolutos de los residuales estandarizados vs. Valores ajustados\")\n",
    "\n",
    "#=======///// GRAFICA 3 /////=======\n",
    "\n",
    "# Comparar con los resultados de plot()\n",
    "par(mfrow = c(1, 1))\n",
    "plot(cars.mod)"
   ]
  },
  {
   "cell_type": "markdown",
   "metadata": {},
   "source": [
    "son similares"
   ]
  }
 ],
 "metadata": {
  "kernelspec": {
   "display_name": "R",
   "language": "R",
   "name": "ir"
  },
  "language_info": {
   "codemirror_mode": "r",
   "file_extension": ".r",
   "mimetype": "text/x-r-source",
   "name": "R",
   "pygments_lexer": "r",
   "version": "4.1.2"
  }
 },
 "nbformat": 4,
 "nbformat_minor": 2
}

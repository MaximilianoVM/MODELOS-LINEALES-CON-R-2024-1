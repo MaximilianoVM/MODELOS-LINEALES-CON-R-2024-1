{
 "cells": [
  {
   "cell_type": "markdown",
   "metadata": {},
   "source": [
    "<h1>Práctica 5</h1>\n",
    "\n",
    "<i>\n",
    "Maximiliano Vaca Montejano <br>\n",
    "364897 <br>\n",
    "maximiliano.vaca@uabc.edu.mx\n",
    "</i>"
   ]
  },
  {
   "cell_type": "markdown",
   "metadata": {},
   "source": [
    "<i>Profesor: Andrés García Medina <br>\n",
    "andres.garcia.medina@uabc.edu.mx <br>\n",
    "Fecha de entrega: jueves 9 de mayo, 2024 (12pm).</i>"
   ]
  },
  {
   "cell_type": "markdown",
   "metadata": {},
   "source": [
    "<h2>Ejercicio 1</h2>\n",
    "Los siguientes datos muestran las edades (en años) e indicadores de presencia\n",
    "o ausencia de daño significativo en la coronaria de 100 individuos seleccionados\n",
    "para participar en el estudio. <br> <br>\n",
    "\n",
    "<img src=\"figuras/10_fig_tabla.png\" width=\"900\">\n",
    "\n",
    "<br><br>\n",
    "Deseamos establecer una relacion entre la edad de una persona y su propension\n",
    "a padecer un problema en la coronaria"
   ]
  },
  {
   "cell_type": "markdown",
   "metadata": {},
   "source": [
    "<b>(a)</b> Encuentre el valor esperado de las betas asociadas por medio de optimización<br> \n",
    "directa (IRLWLS) y compare sus resultados con ayuda de la\n",
    "función $glm$"
   ]
  },
  {
   "cell_type": "code",
   "execution_count": 44,
   "metadata": {
    "vscode": {
     "languageId": "r"
    }
   },
   "outputs": [
    {
     "data": {
      "text/html": [
       "<table class=\"dataframe\">\n",
       "<caption>A data.frame: 10 × 2</caption>\n",
       "<thead>\n",
       "\t<tr><th></th><th scope=col>edad</th><th scope=col>CHD</th></tr>\n",
       "\t<tr><th></th><th scope=col>&lt;int&gt;</th><th scope=col>&lt;int&gt;</th></tr>\n",
       "</thead>\n",
       "<tbody>\n",
       "\t<tr><th scope=row>1</th><td>20</td><td>0</td></tr>\n",
       "\t<tr><th scope=row>2</th><td>23</td><td>0</td></tr>\n",
       "\t<tr><th scope=row>3</th><td>24</td><td>0</td></tr>\n",
       "\t<tr><th scope=row>4</th><td>25</td><td>0</td></tr>\n",
       "\t<tr><th scope=row>5</th><td>25</td><td>1</td></tr>\n",
       "\t<tr><th scope=row>6</th><td>26</td><td>0</td></tr>\n",
       "\t<tr><th scope=row>7</th><td>26</td><td>0</td></tr>\n",
       "\t<tr><th scope=row>8</th><td>28</td><td>0</td></tr>\n",
       "\t<tr><th scope=row>9</th><td>28</td><td>0</td></tr>\n",
       "\t<tr><th scope=row>10</th><td>29</td><td>0</td></tr>\n",
       "</tbody>\n",
       "</table>\n"
      ],
      "text/latex": [
       "A data.frame: 10 × 2\n",
       "\\begin{tabular}{r|ll}\n",
       "  & edad & CHD\\\\\n",
       "  & <int> & <int>\\\\\n",
       "\\hline\n",
       "\t1 & 20 & 0\\\\\n",
       "\t2 & 23 & 0\\\\\n",
       "\t3 & 24 & 0\\\\\n",
       "\t4 & 25 & 0\\\\\n",
       "\t5 & 25 & 1\\\\\n",
       "\t6 & 26 & 0\\\\\n",
       "\t7 & 26 & 0\\\\\n",
       "\t8 & 28 & 0\\\\\n",
       "\t9 & 28 & 0\\\\\n",
       "\t10 & 29 & 0\\\\\n",
       "\\end{tabular}\n"
      ],
      "text/markdown": [
       "\n",
       "A data.frame: 10 × 2\n",
       "\n",
       "| <!--/--> | edad &lt;int&gt; | CHD &lt;int&gt; |\n",
       "|---|---|---|\n",
       "| 1 | 20 | 0 |\n",
       "| 2 | 23 | 0 |\n",
       "| 3 | 24 | 0 |\n",
       "| 4 | 25 | 0 |\n",
       "| 5 | 25 | 1 |\n",
       "| 6 | 26 | 0 |\n",
       "| 7 | 26 | 0 |\n",
       "| 8 | 28 | 0 |\n",
       "| 9 | 28 | 0 |\n",
       "| 10 | 29 | 0 |\n",
       "\n"
      ],
      "text/plain": [
       "   edad CHD\n",
       "1  20   0  \n",
       "2  23   0  \n",
       "3  24   0  \n",
       "4  25   0  \n",
       "5  25   1  \n",
       "6  26   0  \n",
       "7  26   0  \n",
       "8  28   0  \n",
       "9  28   0  \n",
       "10 29   0  "
      ]
     },
     "metadata": {},
     "output_type": "display_data"
    }
   ],
   "source": [
    "data <- read.csv('datos/coronaria.csv')\n",
    "colnames(data) <- c(\"edad\", \"CHD\")\n",
    "\n",
    "head(data, 10)"
   ]
  },
  {
   "cell_type": "code",
   "execution_count": 45,
   "metadata": {
    "vscode": {
     "languageId": "r"
    }
   },
   "outputs": [],
   "source": [
    "#condiciones\n",
    "b0 = c(-10, 0.2); b0 = t(t(b0))\n",
    "tol = 1e-6\n",
    "m = 100 \n",
    "\n",
    "#definimos X y Y \n",
    "Y = data$CHD\n",
    "X = cbind(1, data$edad) # matriz de diseño\n",
    "\n",
    "#print(\"X:\"); head(X, 5)\n",
    "\n",
    "#X transpuesta \n",
    "Xt = t(X)\n",
    "\n",
    "#print(\"dim X:\"); dim(X)\n",
    "#print(\"dim b0:\"); dim(b0)\n",
    "\n",
    "# u \n",
    "u = 1 / (1 + exp(- X%*%b0))\n",
    "\n",
    "#print(\"u:\"); dim(u); head(u, 5)"
   ]
  },
  {
   "cell_type": "markdown",
   "metadata": {},
   "source": [
    "definimos W"
   ]
  },
  {
   "cell_type": "code",
   "execution_count": 46,
   "metadata": {
    "vscode": {
     "languageId": "r"
    }
   },
   "outputs": [
    {
     "data": {
      "text/html": [
       "<style>\n",
       ".list-inline {list-style: none; margin:0; padding: 0}\n",
       ".list-inline>li {display: inline-block}\n",
       ".list-inline>li:not(:last-child)::after {content: \"\\00b7\"; padding: 0 .5ex}\n",
       "</style>\n",
       "<ol class=list-inline><li>100</li><li>100</li></ol>\n"
      ],
      "text/latex": [
       "\\begin{enumerate*}\n",
       "\\item 100\n",
       "\\item 100\n",
       "\\end{enumerate*}\n"
      ],
      "text/markdown": [
       "1. 100\n",
       "2. 100\n",
       "\n",
       "\n"
      ],
      "text/plain": [
       "[1] 100 100"
      ]
     },
     "metadata": {},
     "output_type": "display_data"
    }
   ],
   "source": [
    "v = u*(1-u)\n",
    "\n",
    "W = diag(as.vector(v))\n",
    "\n",
    "dim(W)"
   ]
  },
  {
   "cell_type": "markdown",
   "metadata": {},
   "source": [
    "para b1"
   ]
  },
  {
   "cell_type": "code",
   "execution_count": 47,
   "metadata": {
    "vscode": {
     "languageId": "r"
    }
   },
   "outputs": [],
   "source": [
    "# b1 = b0 + solve(t(X)%*%W%*%X) %*% t(X) %*%(Y-u)\n",
    "\n",
    "# b1"
   ]
  },
  {
   "cell_type": "markdown",
   "metadata": {},
   "source": [
    "para cada b"
   ]
  },
  {
   "cell_type": "code",
   "execution_count": 48,
   "metadata": {
    "vscode": {
     "languageId": "r"
    }
   },
   "outputs": [],
   "source": [
    "i = 0\n",
    "\n",
    "#b <- c(b0) # no \n",
    "\n",
    "b <- list(b0)\n",
    "#as.vector(b)\n",
    "\n",
    "while ((m > tol) & (i < 100)) {\n",
    "    i <- i + 1\n",
    "\n",
    "    b1 <- b0 + solve(t(X)%*%W%*%X) %*% t(X) %*%(Y-u)\n",
    "\n",
    "    m <- sqrt(sum((b1 - b0)^2))\n",
    "    b0 <- b1\n",
    "    \n",
    "    #nueva μ\n",
    "    u = 1 / (1 + exp(- X%*%b0))\n",
    "    #nueva W\n",
    "    v = u*(1-u)\n",
    "    W = diag(as.vector(v))\n",
    "\n",
    "    b <- c(b, list(b0))\n",
    "}\n",
    "\n",
    "#b\n",
    "b <- as.matrix(b)"
   ]
  },
  {
   "cell_type": "code",
   "execution_count": 49,
   "metadata": {
    "vscode": {
     "languageId": "r"
    }
   },
   "outputs": [
    {
     "data": {
      "text/html": [
       "<table class=\"dataframe\">\n",
       "<caption>A matrix: 2 × 1 of type dbl</caption>\n",
       "<tbody>\n",
       "\t<tr><td>-5.3094534</td></tr>\n",
       "\t<tr><td> 0.1109211</td></tr>\n",
       "</tbody>\n",
       "</table>\n"
      ],
      "text/latex": [
       "A matrix: 2 × 1 of type dbl\n",
       "\\begin{tabular}{l}\n",
       "\t -5.3094534\\\\\n",
       "\t  0.1109211\\\\\n",
       "\\end{tabular}\n"
      ],
      "text/markdown": [
       "\n",
       "A matrix: 2 × 1 of type dbl\n",
       "\n",
       "| -5.3094534 |\n",
       "|  0.1109211 |\n",
       "\n"
      ],
      "text/plain": [
       "     [,1]      \n",
       "[1,] -5.3094534\n",
       "[2,]  0.1109211"
      ]
     },
     "metadata": {},
     "output_type": "display_data"
    }
   ],
   "source": [
    "b0"
   ]
  },
  {
   "cell_type": "code",
   "execution_count": 50,
   "metadata": {
    "vscode": {
     "languageId": "r"
    }
   },
   "outputs": [
    {
     "data": {
      "text/html": [
       "<table class=\"dataframe\">\n",
       "<caption>A matrix: 5 × 1</caption>\n",
       "<tbody>\n",
       "\t<tr><td>-10.0, 0.2</td></tr>\n",
       "\t<tr><td>-1.49720569, 0.03767488</td></tr>\n",
       "\t<tr><td>-4.38035829, 0.09253679</td></tr>\n",
       "\t<tr><td>-5.2216853, 0.1091822</td></tr>\n",
       "\t<tr><td>-5.3085973, 0.1109042</td></tr>\n",
       "</tbody>\n",
       "</table>\n"
      ],
      "text/latex": [
       "A matrix: 5 × 1\n",
       "\\begin{tabular}{l}\n",
       "\t -10.0, 0.2\\\\\n",
       "\t -1.49720569, 0.03767488\\\\\n",
       "\t -4.38035829, 0.09253679\\\\\n",
       "\t -5.2216853, 0.1091822\\\\\n",
       "\t -5.3085973, 0.1109042\\\\\n",
       "\\end{tabular}\n"
      ],
      "text/markdown": [
       "\n",
       "A matrix: 5 × 1\n",
       "\n",
       "| -10.0, 0.2 |\n",
       "| -1.49720569, 0.03767488 |\n",
       "| -4.38035829, 0.09253679 |\n",
       "| -5.2216853, 0.1091822 |\n",
       "| -5.3085973, 0.1109042 |\n",
       "\n"
      ],
      "text/plain": [
       "     [,1]                   \n",
       "[1,] -10.0, 0.2             \n",
       "[2,] -1.49720569, 0.03767488\n",
       "[3,] -4.38035829, 0.09253679\n",
       "[4,] -5.2216853, 0.1091822  \n",
       "[5,] -5.3085973, 0.1109042  "
      ]
     },
     "metadata": {},
     "output_type": "display_data"
    }
   ],
   "source": [
    "head(b, 5)"
   ]
  },
  {
   "cell_type": "markdown",
   "metadata": {},
   "source": [
    "excluimos el b0"
   ]
  },
  {
   "cell_type": "code",
   "execution_count": 51,
   "metadata": {
    "vscode": {
     "languageId": "r"
    }
   },
   "outputs": [
    {
     "data": {
      "text/html": [
       "<table class=\"dataframe\">\n",
       "<caption>A matrix: 5 × 1</caption>\n",
       "<tbody>\n",
       "\t<tr><td>-1.49720569, 0.03767488</td></tr>\n",
       "\t<tr><td>-4.38035829, 0.09253679</td></tr>\n",
       "\t<tr><td>-5.2216853, 0.1091822</td></tr>\n",
       "\t<tr><td>-5.3085973, 0.1109042</td></tr>\n",
       "\t<tr><td>-5.3094533, 0.1109211</td></tr>\n",
       "</tbody>\n",
       "</table>\n"
      ],
      "text/latex": [
       "A matrix: 5 × 1\n",
       "\\begin{tabular}{l}\n",
       "\t -1.49720569, 0.03767488\\\\\n",
       "\t -4.38035829, 0.09253679\\\\\n",
       "\t -5.2216853, 0.1091822\\\\\n",
       "\t -5.3085973, 0.1109042\\\\\n",
       "\t -5.3094533, 0.1109211\\\\\n",
       "\\end{tabular}\n"
      ],
      "text/markdown": [
       "\n",
       "A matrix: 5 × 1\n",
       "\n",
       "| -1.49720569, 0.03767488 |\n",
       "| -4.38035829, 0.09253679 |\n",
       "| -5.2216853, 0.1091822 |\n",
       "| -5.3085973, 0.1109042 |\n",
       "| -5.3094533, 0.1109211 |\n",
       "\n"
      ],
      "text/plain": [
       "     [,1]                   \n",
       "[1,] -1.49720569, 0.03767488\n",
       "[2,] -4.38035829, 0.09253679\n",
       "[3,] -5.2216853, 0.1091822  \n",
       "[4,] -5.3085973, 0.1109042  \n",
       "[5,] -5.3094533, 0.1109211  "
      ]
     },
     "metadata": {},
     "output_type": "display_data"
    },
    {
     "data": {
      "text/html": [
       "<table class=\"dataframe\">\n",
       "<caption>A matrix: 5 × 1</caption>\n",
       "<tbody>\n",
       "\t<tr><th scope=row>[2,]</th><td>-4.38035829, 0.09253679</td></tr>\n",
       "\t<tr><th scope=row>[3,]</th><td>-5.2216853, 0.1091822</td></tr>\n",
       "\t<tr><th scope=row>[4,]</th><td>-5.3085973, 0.1109042</td></tr>\n",
       "\t<tr><th scope=row>[5,]</th><td>-5.3094533, 0.1109211</td></tr>\n",
       "\t<tr><th scope=row>[6,]</th><td>-5.3094534, 0.1109211</td></tr>\n",
       "</tbody>\n",
       "</table>\n"
      ],
      "text/latex": [
       "A matrix: 5 × 1\n",
       "\\begin{tabular}{r|l}\n",
       "\t{[}2,{]} & -4.38035829, 0.09253679\\\\\n",
       "\t{[}3,{]} & -5.2216853, 0.1091822\\\\\n",
       "\t{[}4,{]} & -5.3085973, 0.1109042\\\\\n",
       "\t{[}5,{]} & -5.3094533, 0.1109211\\\\\n",
       "\t{[}6,{]} & -5.3094534, 0.1109211\\\\\n",
       "\\end{tabular}\n"
      ],
      "text/markdown": [
       "\n",
       "A matrix: 5 × 1\n",
       "\n",
       "| [2,] | -4.38035829, 0.09253679 |\n",
       "| [3,] | -5.2216853, 0.1091822 |\n",
       "| [4,] | -5.3085973, 0.1109042 |\n",
       "| [5,] | -5.3094533, 0.1109211 |\n",
       "| [6,] | -5.3094534, 0.1109211 |\n",
       "\n"
      ],
      "text/plain": [
       "     [,1]                   \n",
       "[2,] -4.38035829, 0.09253679\n",
       "[3,] -5.2216853, 0.1091822  \n",
       "[4,] -5.3085973, 0.1109042  \n",
       "[5,] -5.3094533, 0.1109211  \n",
       "[6,] -5.3094534, 0.1109211  "
      ]
     },
     "metadata": {},
     "output_type": "display_data"
    }
   ],
   "source": [
    "b <- as.matrix(b[2:dim(b)[1]])\n",
    "\n",
    "head(b, 5)\n",
    "tail(b, 5)"
   ]
  },
  {
   "cell_type": "markdown",
   "metadata": {},
   "source": [
    "comparamos con glm"
   ]
  },
  {
   "cell_type": "code",
   "execution_count": 52,
   "metadata": {
    "vscode": {
     "languageId": "r"
    }
   },
   "outputs": [
    {
     "data": {
      "text/html": [
       "<style>\n",
       ".dl-inline {width: auto; margin:0; padding: 0}\n",
       ".dl-inline>dt, .dl-inline>dd {float: none; width: auto; display: inline-block}\n",
       ".dl-inline>dt::after {content: \":\\0020\"; padding-right: .5ex}\n",
       ".dl-inline>dt:not(:first-of-type) {padding-left: .5ex}\n",
       "</style><dl class=dl-inline><dt>(Intercept)</dt><dd>-5.30945337391173</dd><dt>edad</dt><dd>0.110921142206757</dd></dl>\n"
      ],
      "text/latex": [
       "\\begin{description*}\n",
       "\\item[(Intercept)] -5.30945337391173\n",
       "\\item[edad] 0.110921142206757\n",
       "\\end{description*}\n"
      ],
      "text/markdown": [
       "(Intercept)\n",
       ":   -5.30945337391173edad\n",
       ":   0.110921142206757\n",
       "\n"
      ],
      "text/plain": [
       "(Intercept)        edad \n",
       " -5.3094534   0.1109211 "
      ]
     },
     "metadata": {},
     "output_type": "display_data"
    }
   ],
   "source": [
    "#comparar con glm\n",
    "\n",
    "glm_model <- glm(CHD ~ edad, data = data, family = binomial)\n",
    "\n",
    "b0_glm <- glm_model$coefficients\n",
    "b0_glm"
   ]
  },
  {
   "cell_type": "code",
   "execution_count": 53,
   "metadata": {
    "vscode": {
     "languageId": "r"
    }
   },
   "outputs": [
    {
     "data": {
      "text/html": [
       "<strong>(Intercept):</strong> 7.31681382148963e-12"
      ],
      "text/latex": [
       "\\textbf{(Intercept):} 7.31681382148963e-12"
      ],
      "text/markdown": [
       "**(Intercept):** 7.31681382148963e-12"
      ],
      "text/plain": [
       " (Intercept) \n",
       "7.316814e-12 "
      ]
     },
     "metadata": {},
     "output_type": "display_data"
    },
    {
     "data": {
      "text/html": [
       "<strong>edad:</strong> 1.43524081508417e-13"
      ],
      "text/latex": [
       "\\textbf{edad:} 1.43524081508417e-13"
      ],
      "text/markdown": [
       "**edad:** 1.43524081508417e-13"
      ],
      "text/plain": [
       "        edad \n",
       "1.435241e-13 "
      ]
     },
     "metadata": {},
     "output_type": "display_data"
    }
   ],
   "source": [
    "abs(b0[1] - b0_glm[1])\n",
    "abs(b0[2] - b0_glm[2])"
   ]
  },
  {
   "cell_type": "markdown",
   "metadata": {},
   "source": [
    "guardamos los betas obtenidos para mas tarde, en b_0 y b_1"
   ]
  },
  {
   "cell_type": "code",
   "execution_count": 54,
   "metadata": {
    "vscode": {
     "languageId": "r"
    }
   },
   "outputs": [],
   "source": [
    "b_0 = b0[1] ; b_1 = b0[2]"
   ]
  },
  {
   "cell_type": "markdown",
   "metadata": {},
   "source": [
    "difieren por muy poco, parece evidente que nuestra funcion de recurrencia converge al resultado del modelo"
   ]
  },
  {
   "cell_type": "markdown",
   "metadata": {},
   "source": [
    "<b>(b)</b> Encuentre la desviación estándar de las betas asociadas por medio de\n",
    "optimización directa (IRLWLS) y compare sus resultados con ayuda de la\n",
    "función glm. (20 pts)\n"
   ]
  },
  {
   "cell_type": "code",
   "execution_count": 55,
   "metadata": {
    "vscode": {
     "languageId": "r"
    }
   },
   "outputs": [
    {
     "data": {
      "text/html": [
       "<style>\n",
       ".list-inline {list-style: none; margin:0; padding: 0}\n",
       ".list-inline>li {display: inline-block}\n",
       ".list-inline>li:not(:last-child)::after {content: \"\\00b7\"; padding: 0 .5ex}\n",
       "</style>\n",
       "<ol class=list-inline><li>2</li><li>100</li></ol>\n"
      ],
      "text/latex": [
       "\\begin{enumerate*}\n",
       "\\item 2\n",
       "\\item 100\n",
       "\\end{enumerate*}\n"
      ],
      "text/markdown": [
       "1. 2\n",
       "2. 100\n",
       "\n",
       "\n"
      ],
      "text/plain": [
       "[1]   2 100"
      ]
     },
     "metadata": {},
     "output_type": "display_data"
    },
    {
     "data": {
      "text/html": [
       "<style>\n",
       ".list-inline {list-style: none; margin:0; padding: 0}\n",
       ".list-inline>li {display: inline-block}\n",
       ".list-inline>li:not(:last-child)::after {content: \"\\00b7\"; padding: 0 .5ex}\n",
       "</style>\n",
       "<ol class=list-inline><li>100</li><li>100</li></ol>\n"
      ],
      "text/latex": [
       "\\begin{enumerate*}\n",
       "\\item 100\n",
       "\\item 100\n",
       "\\end{enumerate*}\n"
      ],
      "text/markdown": [
       "1. 100\n",
       "2. 100\n",
       "\n",
       "\n"
      ],
      "text/plain": [
       "[1] 100 100"
      ]
     },
     "metadata": {},
     "output_type": "display_data"
    },
    {
     "data": {
      "text/html": [
       "<style>\n",
       ".list-inline {list-style: none; margin:0; padding: 0}\n",
       ".list-inline>li {display: inline-block}\n",
       ".list-inline>li:not(:last-child)::after {content: \"\\00b7\"; padding: 0 .5ex}\n",
       "</style>\n",
       "<ol class=list-inline><li>100</li><li>2</li></ol>\n"
      ],
      "text/latex": [
       "\\begin{enumerate*}\n",
       "\\item 100\n",
       "\\item 2\n",
       "\\end{enumerate*}\n"
      ],
      "text/markdown": [
       "1. 100\n",
       "2. 2\n",
       "\n",
       "\n"
      ],
      "text/plain": [
       "[1] 100   2"
      ]
     },
     "metadata": {},
     "output_type": "display_data"
    }
   ],
   "source": [
    "dim(t(X)); dim(W); dim(X)"
   ]
  },
  {
   "cell_type": "code",
   "execution_count": 56,
   "metadata": {
    "vscode": {
     "languageId": "r"
    }
   },
   "outputs": [
    {
     "name": "stdout",
     "output_type": "stream",
     "text": [
      "[1] \"V: \"\n"
     ]
    },
    {
     "data": {
      "text/html": [
       "<table class=\"dataframe\">\n",
       "<caption>A matrix: 2 × 2 of type dbl</caption>\n",
       "<tbody>\n",
       "\t<tr><td> 1.28517284</td><td>-0.0266770195</td></tr>\n",
       "\t<tr><td>-0.02667702</td><td> 0.0005788757</td></tr>\n",
       "</tbody>\n",
       "</table>\n"
      ],
      "text/latex": [
       "A matrix: 2 × 2 of type dbl\n",
       "\\begin{tabular}{ll}\n",
       "\t  1.28517284 & -0.0266770195\\\\\n",
       "\t -0.02667702 &  0.0005788757\\\\\n",
       "\\end{tabular}\n"
      ],
      "text/markdown": [
       "\n",
       "A matrix: 2 × 2 of type dbl\n",
       "\n",
       "|  1.28517284 | -0.0266770195 |\n",
       "| -0.02667702 |  0.0005788757 |\n",
       "\n"
      ],
      "text/plain": [
       "     [,1]        [,2]         \n",
       "[1,]  1.28517284 -0.0266770195\n",
       "[2,] -0.02667702  0.0005788757"
      ]
     },
     "metadata": {},
     "output_type": "display_data"
    },
    {
     "name": "stdout",
     "output_type": "stream",
     "text": [
      "[1] \"diag(V)\"\n"
     ]
    },
    {
     "data": {
      "text/html": [
       "<style>\n",
       ".list-inline {list-style: none; margin:0; padding: 0}\n",
       ".list-inline>li {display: inline-block}\n",
       ".list-inline>li:not(:last-child)::after {content: \"\\00b7\"; padding: 0 .5ex}\n",
       "</style>\n",
       "<ol class=list-inline><li>1.28517283557272</li><li>0.000578875702331837</li></ol>\n"
      ],
      "text/latex": [
       "\\begin{enumerate*}\n",
       "\\item 1.28517283557272\n",
       "\\item 0.000578875702331837\n",
       "\\end{enumerate*}\n"
      ],
      "text/markdown": [
       "1. 1.28517283557272\n",
       "2. 0.000578875702331837\n",
       "\n",
       "\n"
      ],
      "text/plain": [
       "[1] 1.2851728356 0.0005788757"
      ]
     },
     "metadata": {},
     "output_type": "display_data"
    },
    {
     "name": "stdout",
     "output_type": "stream",
     "text": [
      "[1] \"sqrt(diag(V))\"\n"
     ]
    },
    {
     "data": {
      "text/html": [
       "<style>\n",
       ".list-inline {list-style: none; margin:0; padding: 0}\n",
       ".list-inline>li {display: inline-block}\n",
       ".list-inline>li:not(:last-child)::after {content: \"\\00b7\"; padding: 0 .5ex}\n",
       "</style>\n",
       "<ol class=list-inline><li>1.13365463681525</li><li>0.0240598358749979</li></ol>\n"
      ],
      "text/latex": [
       "\\begin{enumerate*}\n",
       "\\item 1.13365463681525\n",
       "\\item 0.0240598358749979\n",
       "\\end{enumerate*}\n"
      ],
      "text/markdown": [
       "1. 1.13365463681525\n",
       "2. 0.0240598358749979\n",
       "\n",
       "\n"
      ],
      "text/plain": [
       "[1] 1.13365464 0.02405984"
      ]
     },
     "metadata": {},
     "output_type": "display_data"
    },
    {
     "name": "stdout",
     "output_type": "stream",
     "text": [
      "[1] \"glm model:\"\n"
     ]
    },
    {
     "data": {
      "text/html": [
       "<table class=\"dataframe\">\n",
       "<caption>A matrix: 2 × 4 of type dbl</caption>\n",
       "<thead>\n",
       "\t<tr><th></th><th scope=col>Estimate</th><th scope=col>Std. Error</th><th scope=col>z value</th><th scope=col>Pr(&gt;|z|)</th></tr>\n",
       "</thead>\n",
       "<tbody>\n",
       "\t<tr><th scope=row>(Intercept)</th><td>-5.3094534</td><td>1.13365365</td><td>-4.683488</td><td>2.820338e-06</td></tr>\n",
       "\t<tr><th scope=row>edad</th><td> 0.1109211</td><td>0.02405982</td><td> 4.610224</td><td>4.022356e-06</td></tr>\n",
       "</tbody>\n",
       "</table>\n"
      ],
      "text/latex": [
       "A matrix: 2 × 4 of type dbl\n",
       "\\begin{tabular}{r|llll}\n",
       "  & Estimate & Std. Error & z value & Pr(>\\textbar{}z\\textbar{})\\\\\n",
       "\\hline\n",
       "\t(Intercept) & -5.3094534 & 1.13365365 & -4.683488 & 2.820338e-06\\\\\n",
       "\tedad &  0.1109211 & 0.02405982 &  4.610224 & 4.022356e-06\\\\\n",
       "\\end{tabular}\n"
      ],
      "text/markdown": [
       "\n",
       "A matrix: 2 × 4 of type dbl\n",
       "\n",
       "| <!--/--> | Estimate | Std. Error | z value | Pr(&gt;|z|) |\n",
       "|---|---|---|---|---|\n",
       "| (Intercept) | -5.3094534 | 1.13365365 | -4.683488 | 2.820338e-06 |\n",
       "| edad |  0.1109211 | 0.02405982 |  4.610224 | 4.022356e-06 |\n",
       "\n"
      ],
      "text/plain": [
       "            Estimate   Std. Error z value   Pr(>|z|)    \n",
       "(Intercept) -5.3094534 1.13365365 -4.683488 2.820338e-06\n",
       "edad         0.1109211 0.02405982  4.610224 4.022356e-06"
      ]
     },
     "metadata": {},
     "output_type": "display_data"
    }
   ],
   "source": [
    "V = solve(t(X)%*%W%*%X)\n",
    "print(\"V: \"); V\n",
    "print(\"diag(V)\"); diag(V)\n",
    "print(\"sqrt(diag(V))\"); sqrt( diag( V ) )\n",
    "\n",
    "print(\"glm model:\")\n",
    "summary(glm_model)$coefficients"
   ]
  },
  {
   "cell_type": "markdown",
   "metadata": {},
   "source": [
    "son muy similares"
   ]
  },
  {
   "cell_type": "markdown",
   "metadata": {},
   "source": [
    "### de clase"
   ]
  },
  {
   "cell_type": "markdown",
   "metadata": {},
   "source": [
    "$$\\frac{momios~de~y=1~con~Z_1+1}{momios~de~y=1~con~Z_1} = e^{\\beta_1}$$\n",
    "\n",
    "usamos nuestro $\\beta_1$ <br>\n",
    "si comparamos dos individuos con 16 años de diferencia: \n",
    "\n",
    "$$\\frac{momios~de~y=1~con~Z_1+16}{momios~de~y=1~con~Z_1} = e^{16 * \\beta_1} $$"
   ]
  },
  {
   "cell_type": "code",
   "execution_count": 57,
   "metadata": {
    "vscode": {
     "languageId": "r"
    }
   },
   "outputs": [
    {
     "data": {
      "text/html": [
       "5.89873708913651"
      ],
      "text/latex": [
       "5.89873708913651"
      ],
      "text/markdown": [
       "5.89873708913651"
      ],
      "text/plain": [
       "[1] 5.898737"
      ]
     },
     "metadata": {},
     "output_type": "display_data"
    }
   ],
   "source": [
    "exp(16 * b_1)"
   ]
  },
  {
   "cell_type": "markdown",
   "metadata": {},
   "source": [
    "<b>(c)</b> Grafique los datos en conjunto con la solución del modelo de regresión\n",
    "lineal y un modelo lineal. Se espera que se obtenga una gráfica como la\n",
    "mostrada en la figura 1(a) (20 pts) <br>\n",
    "\n",
    "<img src=\"figuras/11_fig1_a.png\" width=\"400\">"
   ]
  },
  {
   "cell_type": "code",
   "execution_count": 58,
   "metadata": {
    "vscode": {
     "languageId": "r"
    }
   },
   "outputs": [
    {
     "data": {
      "image/png": "[encoded data removed]",
      "text/plain": [
       "plot without title"
      ]
     },
     "metadata": {
      "image/png": {
       "height": 420,
       "width": 420
      }
     },
     "output_type": "display_data"
    }
   ],
   "source": [
    "#graficar los datos, la curva ajustada y regresion lineal\n",
    "plot(data$edad, data$CHD, col = \"blue\", pch = 19, xlab = \"Edad\", ylab = \"CHD\")\n",
    "curve(1 / (1 + exp(-b_0 - b_1*x)), add = TRUE, col = \"red\")\n",
    "abline(glm_model, col = \"green\")"
   ]
  },
  {
   "cell_type": "markdown",
   "metadata": {},
   "source": [
    "<b>(d)</b> Utilice la libreria ROCR para graficar la curva ROC y determinar el area\n",
    "bajo la curva (AUC). Se espera que obtenga un grafico como el de la\n",
    "figura 1(b) (20 pts) <br>\n",
    "\n",
    "<img src=\"figuras/11_fig1_b.png\" width=\"400\">"
   ]
  },
  {
   "cell_type": "code",
   "execution_count": 59,
   "metadata": {
    "vscode": {
     "languageId": "r"
    }
   },
   "outputs": [],
   "source": [
    "#u"
   ]
  },
  {
   "cell_type": "code",
   "execution_count": 60,
   "metadata": {
    "vscode": {
     "languageId": "r"
    }
   },
   "outputs": [
    {
     "name": "stderr",
     "output_type": "stream",
     "text": [
      "Setting levels: control = 0, case = 1\n",
      "\n",
      "Warning message in roc.default(data$CHD, u):\n",
      "“Deprecated use a matrix as predictor. Unexpected results may be produced, please pass a numeric vector.”\n",
      "Setting direction: controls < cases\n",
      "\n"
     ]
    },
    {
     "data": {
      "text/html": [
       "0.799877600979192"
      ],
      "text/latex": [
       "0.799877600979192"
      ],
      "text/markdown": [
       "0.799877600979192"
      ],
      "text/plain": [
       "Area under the curve: 0.7999"
      ]
     },
     "metadata": {},
     "output_type": "display_data"
    },
    {
     "data": {
      "image/png": "[encoded data removed]",
      "text/plain": [
       "Plot with title “ROC”"
      ]
     },
     "metadata": {
      "image/png": {
       "height": 420,
       "width": 420
      }
     },
     "output_type": "display_data"
    }
   ],
   "source": [
    "library(pROC)\n",
    "\n",
    "# calcula la curva ROC para las predicciones del modelo u=\"miu\" con respecto \n",
    "# a las verdaderas etiquetas data$CHD.\n",
    "roc_obj <- roc(data$CHD, u)\n",
    "\n",
    "# grafica la curva ROC.\n",
    "plot(roc_obj, col = \"blue\", main = \"ROC\")\n",
    "\n",
    "# calcula el AUC de la curva ROC.\n",
    "# que tan bien el modelo puede distinguir entre las diferentes clases, de 0 a 1\n",
    "auc(roc_obj)"
   ]
  },
  {
   "cell_type": "markdown",
   "metadata": {},
   "source": [
    "obtenemos un valor de AUC=0.799877600979192, el cual se considera aceptable"
   ]
  },
  {
   "cell_type": "code",
   "execution_count": 61,
   "metadata": {
    "vscode": {
     "languageId": "r"
    }
   },
   "outputs": [
    {
     "name": "stdout",
     "output_type": "stream",
     "text": [
      "[1] \"confusion matrix\"\n"
     ]
    },
    {
     "data": {
      "text/plain": [
       "   u\n",
       "     0  1\n",
       "  0 45 12\n",
       "  1 14 29"
      ]
     },
     "metadata": {},
     "output_type": "display_data"
    }
   ],
   "source": [
    "\n",
    "# confusion matrix\n",
    "print(\"confusion matrix\")\n",
    "# predicciones del modelo u en clases binarias\n",
    "# Si la predicción es mayor que 0.5, se convierte en 1, \n",
    "# de lo contrario, se convierte en 0\n",
    "u <- ifelse(u > 0.5, 1, 0)\n",
    "#Las filas de la matriz representan las clases reales y las columnas representan las clases predichas\n",
    "table(data$CHD, u)"
   ]
  },
  {
   "cell_type": "code",
   "execution_count": null,
   "metadata": {
    "vscode": {
     "languageId": "r"
    }
   },
   "outputs": [],
   "source": []
  }
 ],
 "metadata": {
  "kernelspec": {
   "display_name": "R",
   "language": "R",
   "name": "ir"
  },
  "language_info": {
   "codemirror_mode": "r",
   "file_extension": ".r",
   "mimetype": "text/x-r-source",
   "name": "R",
   "pygments_lexer": "r",
   "version": "4.1.2"
  }
 },
 "nbformat": 4,
 "nbformat_minor": 2
}

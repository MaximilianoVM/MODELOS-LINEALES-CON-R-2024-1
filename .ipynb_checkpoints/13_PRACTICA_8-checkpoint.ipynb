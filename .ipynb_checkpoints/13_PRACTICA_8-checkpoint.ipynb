{
 "cells": [
  {
   "cell_type": "markdown",
   "metadata": {},
   "source": [
    "<h1>Práctica 7</h1>\n",
    "\n",
    "<i>\n",
    "Maximiliano Vaca Montejano <br>\n",
    "364897 <br>\n",
    "maximiliano.vaca@uabc.edu.mx\n",
    "</i>"
   ]
  },
  {
   "cell_type": "markdown",
   "metadata": {},
   "source": [
    "<i>Profesor: Andrés García Medina <br>\n",
    "andres.garcia.medina@uabc.edu.mx <br>\n",
    "Fecha de entrega: Fecha de entrega: Miercoles, 29 may, 23:59</i>"
   ]
  },
  {
   "cell_type": "markdown",
   "metadata": {},
   "source": [
    "# Ejercicio 1:  \n",
    "<b>Toxicidad de la cipermetrina en orugas del tabaco</b>"
   ]
  },
  {
   "cell_type": "markdown",
   "metadata": {},
   "source": [
    "## (b) \n",
    "Ajuste un modelo lineal generalizado (regresion Binomial) a traves de\n",
    "la funcion glm de R. Se espera que obtenga los siguientes resultados:\n",
    "$$ β_0 = −2.819, β_1 = −0.175, β_2 = 1.259, β_3 = −0.353 $$"
   ]
  },
  {
   "cell_type": "code",
   "execution_count": 48,
   "metadata": {
    "vscode": {
     "languageId": "r"
    }
   },
   "outputs": [
    {
     "data": {
      "text/html": [
       "<table class=\"dataframe\">\n",
       "<caption>A data.frame: 12 × 5</caption>\n",
       "<thead>\n",
       "\t<tr><th scope=col>log2_dosis</th><th scope=col>mortalidad</th><th scope=col>sexo</th><th scope=col>n</th><th scope=col>prop_mortalidad</th></tr>\n",
       "\t<tr><th scope=col>&lt;dbl&gt;</th><th scope=col>&lt;dbl&gt;</th><th scope=col>&lt;fct&gt;</th><th scope=col>&lt;dbl&gt;</th><th scope=col>&lt;dbl&gt;</th></tr>\n",
       "</thead>\n",
       "<tbody>\n",
       "\t<tr><td>0</td><td> 1</td><td>M</td><td>20</td><td>0.05</td></tr>\n",
       "\t<tr><td>1</td><td> 4</td><td>M</td><td>20</td><td>0.20</td></tr>\n",
       "\t<tr><td>2</td><td> 9</td><td>M</td><td>20</td><td>0.45</td></tr>\n",
       "\t<tr><td>3</td><td>13</td><td>M</td><td>20</td><td>0.65</td></tr>\n",
       "\t<tr><td>4</td><td>18</td><td>M</td><td>20</td><td>0.90</td></tr>\n",
       "\t<tr><td>5</td><td>20</td><td>M</td><td>20</td><td>1.00</td></tr>\n",
       "\t<tr><td>0</td><td> 0</td><td>H</td><td>20</td><td>0.00</td></tr>\n",
       "\t<tr><td>1</td><td> 2</td><td>H</td><td>20</td><td>0.10</td></tr>\n",
       "\t<tr><td>2</td><td> 6</td><td>H</td><td>20</td><td>0.30</td></tr>\n",
       "\t<tr><td>3</td><td>10</td><td>H</td><td>20</td><td>0.50</td></tr>\n",
       "\t<tr><td>4</td><td>12</td><td>H</td><td>20</td><td>0.60</td></tr>\n",
       "\t<tr><td>5</td><td>16</td><td>H</td><td>20</td><td>0.80</td></tr>\n",
       "</tbody>\n",
       "</table>\n"
      ],
      "text/latex": [
       "A data.frame: 12 × 5\n",
       "\\begin{tabular}{lllll}\n",
       " log2\\_dosis & mortalidad & sexo & n & prop\\_mortalidad\\\\\n",
       " <dbl> & <dbl> & <fct> & <dbl> & <dbl>\\\\\n",
       "\\hline\n",
       "\t 0 &  1 & M & 20 & 0.05\\\\\n",
       "\t 1 &  4 & M & 20 & 0.20\\\\\n",
       "\t 2 &  9 & M & 20 & 0.45\\\\\n",
       "\t 3 & 13 & M & 20 & 0.65\\\\\n",
       "\t 4 & 18 & M & 20 & 0.90\\\\\n",
       "\t 5 & 20 & M & 20 & 1.00\\\\\n",
       "\t 0 &  0 & H & 20 & 0.00\\\\\n",
       "\t 1 &  2 & H & 20 & 0.10\\\\\n",
       "\t 2 &  6 & H & 20 & 0.30\\\\\n",
       "\t 3 & 10 & H & 20 & 0.50\\\\\n",
       "\t 4 & 12 & H & 20 & 0.60\\\\\n",
       "\t 5 & 16 & H & 20 & 0.80\\\\\n",
       "\\end{tabular}\n"
      ],
      "text/markdown": [
       "\n",
       "A data.frame: 12 × 5\n",
       "\n",
       "| log2_dosis &lt;dbl&gt; | mortalidad &lt;dbl&gt; | sexo &lt;fct&gt; | n &lt;dbl&gt; | prop_mortalidad &lt;dbl&gt; |\n",
       "|---|---|---|---|---|\n",
       "| 0 |  1 | M | 20 | 0.05 |\n",
       "| 1 |  4 | M | 20 | 0.20 |\n",
       "| 2 |  9 | M | 20 | 0.45 |\n",
       "| 3 | 13 | M | 20 | 0.65 |\n",
       "| 4 | 18 | M | 20 | 0.90 |\n",
       "| 5 | 20 | M | 20 | 1.00 |\n",
       "| 0 |  0 | H | 20 | 0.00 |\n",
       "| 1 |  2 | H | 20 | 0.10 |\n",
       "| 2 |  6 | H | 20 | 0.30 |\n",
       "| 3 | 10 | H | 20 | 0.50 |\n",
       "| 4 | 12 | H | 20 | 0.60 |\n",
       "| 5 | 16 | H | 20 | 0.80 |\n",
       "\n"
      ],
      "text/plain": [
       "   log2_dosis mortalidad sexo n  prop_mortalidad\n",
       "1  0           1         M    20 0.05           \n",
       "2  1           4         M    20 0.20           \n",
       "3  2           9         M    20 0.45           \n",
       "4  3          13         M    20 0.65           \n",
       "5  4          18         M    20 0.90           \n",
       "6  5          20         M    20 1.00           \n",
       "7  0           0         H    20 0.00           \n",
       "8  1           2         H    20 0.10           \n",
       "9  2           6         H    20 0.30           \n",
       "10 3          10         H    20 0.50           \n",
       "11 4          12         H    20 0.60           \n",
       "12 5          16         H    20 0.80           "
      ]
     },
     "metadata": {},
     "output_type": "display_data"
    }
   ],
   "source": [
    "#datos\n",
    "dosis <- c(1, 2, 4, 8, 16, 32)\n",
    "log2_dosis <- log2(dosis)\n",
    "machos <- c(1, 4, 9, 13, 18, 20)\n",
    "hembras <- c(0, 2, 6, 10, 12, 16)\n",
    "n_machos <- 20\n",
    "n_hembras <- 20\n",
    "\n",
    "#dataframe\n",
    "data <- data.frame( log2_dosis = rep(log2_dosis, 2), mortalidad = c(machos, hembras), sexo = factor(rep(c(\"M\", \"H\"), each = length(dosis))), \n",
    "                   n = c(rep(n_machos, length(dosis)), rep(n_hembras, length(dosis))) )\n",
    "\n",
    "#hace falta definir proporciones para que lo reciba el modelo \n",
    "data$prop_mortalidad <- data$mortalidad / data$n\n",
    "\n",
    "data"
   ]
  },
  {
   "cell_type": "code",
   "execution_count": 49,
   "metadata": {
    "vscode": {
     "languageId": "r"
    }
   },
   "outputs": [
    {
     "name": "stderr",
     "output_type": "stream",
     "text": [
      "Warning message in eval(family$initialize):\n",
      "“non-integer #successes in a binomial glm!”\n"
     ]
    },
    {
     "data": {
      "text/plain": [
       "\n",
       "Call:\n",
       "glm(formula = prop_mortalidad ~ log2_dosis * sexo, family = binomial, \n",
       "    data = data)\n",
       "\n",
       "Deviance Residuals: \n",
       "     Min        1Q    Median        3Q       Max  \n",
       "-0.31271  -0.07176  -0.01698   0.08546   0.24680  \n",
       "\n",
       "Coefficients:\n",
       "                 Estimate Std. Error z value Pr(>|z|)\n",
       "(Intercept)       -2.9935     2.4717  -1.211    0.226\n",
       "log2_dosis         0.9060     0.7473   1.212    0.225\n",
       "sexoM              0.1750     3.4807   0.050    0.960\n",
       "log2_dosis:sexoM   0.3529     1.2074   0.292    0.770\n",
       "\n",
       "(Dispersion parameter for binomial family taken to be 1)\n",
       "\n",
       "    Null deviance: 6.24378  on 11  degrees of freedom\n",
       "Residual deviance: 0.24969  on  8  degrees of freedom\n",
       "AIC: 13.762\n",
       "\n",
       "Number of Fisher Scoring iterations: 5\n"
      ]
     },
     "metadata": {},
     "output_type": "display_data"
    }
   ],
   "source": [
    "#modelo\n",
    "modelo <- glm(prop_mortalidad ~ log2_dosis * sexo, family = binomial, data = data)\n",
    "\n",
    "summary(modelo)"
   ]
  },
  {
   "cell_type": "code",
   "execution_count": 50,
   "metadata": {
    "vscode": {
     "languageId": "r"
    }
   },
   "outputs": [
    {
     "data": {
      "text/html": [
       "<table class=\"dataframe\">\n",
       "<caption>A matrix: 12 × 4 of type dbl</caption>\n",
       "<thead>\n",
       "\t<tr><th></th><th scope=col>(Intercept)</th><th scope=col>log2_dosis</th><th scope=col>sexoM</th><th scope=col>log2_dosis:sexoM</th></tr>\n",
       "</thead>\n",
       "<tbody>\n",
       "\t<tr><th scope=row>1</th><td>1</td><td>0</td><td>1</td><td>0</td></tr>\n",
       "\t<tr><th scope=row>2</th><td>1</td><td>1</td><td>1</td><td>1</td></tr>\n",
       "\t<tr><th scope=row>3</th><td>1</td><td>2</td><td>1</td><td>2</td></tr>\n",
       "\t<tr><th scope=row>4</th><td>1</td><td>3</td><td>1</td><td>3</td></tr>\n",
       "\t<tr><th scope=row>5</th><td>1</td><td>4</td><td>1</td><td>4</td></tr>\n",
       "\t<tr><th scope=row>6</th><td>1</td><td>5</td><td>1</td><td>5</td></tr>\n",
       "\t<tr><th scope=row>7</th><td>1</td><td>0</td><td>0</td><td>0</td></tr>\n",
       "\t<tr><th scope=row>8</th><td>1</td><td>1</td><td>0</td><td>0</td></tr>\n",
       "\t<tr><th scope=row>9</th><td>1</td><td>2</td><td>0</td><td>0</td></tr>\n",
       "\t<tr><th scope=row>10</th><td>1</td><td>3</td><td>0</td><td>0</td></tr>\n",
       "\t<tr><th scope=row>11</th><td>1</td><td>4</td><td>0</td><td>0</td></tr>\n",
       "\t<tr><th scope=row>12</th><td>1</td><td>5</td><td>0</td><td>0</td></tr>\n",
       "</tbody>\n",
       "</table>\n"
      ],
      "text/latex": [
       "A matrix: 12 × 4 of type dbl\n",
       "\\begin{tabular}{r|llll}\n",
       "  & (Intercept) & log2\\_dosis & sexoM & log2\\_dosis:sexoM\\\\\n",
       "\\hline\n",
       "\t1 & 1 & 0 & 1 & 0\\\\\n",
       "\t2 & 1 & 1 & 1 & 1\\\\\n",
       "\t3 & 1 & 2 & 1 & 2\\\\\n",
       "\t4 & 1 & 3 & 1 & 3\\\\\n",
       "\t5 & 1 & 4 & 1 & 4\\\\\n",
       "\t6 & 1 & 5 & 1 & 5\\\\\n",
       "\t7 & 1 & 0 & 0 & 0\\\\\n",
       "\t8 & 1 & 1 & 0 & 0\\\\\n",
       "\t9 & 1 & 2 & 0 & 0\\\\\n",
       "\t10 & 1 & 3 & 0 & 0\\\\\n",
       "\t11 & 1 & 4 & 0 & 0\\\\\n",
       "\t12 & 1 & 5 & 0 & 0\\\\\n",
       "\\end{tabular}\n"
      ],
      "text/markdown": [
       "\n",
       "A matrix: 12 × 4 of type dbl\n",
       "\n",
       "| <!--/--> | (Intercept) | log2_dosis | sexoM | log2_dosis:sexoM |\n",
       "|---|---|---|---|---|\n",
       "| 1 | 1 | 0 | 1 | 0 |\n",
       "| 2 | 1 | 1 | 1 | 1 |\n",
       "| 3 | 1 | 2 | 1 | 2 |\n",
       "| 4 | 1 | 3 | 1 | 3 |\n",
       "| 5 | 1 | 4 | 1 | 4 |\n",
       "| 6 | 1 | 5 | 1 | 5 |\n",
       "| 7 | 1 | 0 | 0 | 0 |\n",
       "| 8 | 1 | 1 | 0 | 0 |\n",
       "| 9 | 1 | 2 | 0 | 0 |\n",
       "| 10 | 1 | 3 | 0 | 0 |\n",
       "| 11 | 1 | 4 | 0 | 0 |\n",
       "| 12 | 1 | 5 | 0 | 0 |\n",
       "\n"
      ],
      "text/plain": [
       "   (Intercept) log2_dosis sexoM log2_dosis:sexoM\n",
       "1  1           0          1     0               \n",
       "2  1           1          1     1               \n",
       "3  1           2          1     2               \n",
       "4  1           3          1     3               \n",
       "5  1           4          1     4               \n",
       "6  1           5          1     5               \n",
       "7  1           0          0     0               \n",
       "8  1           1          0     0               \n",
       "9  1           2          0     0               \n",
       "10 1           3          0     0               \n",
       "11 1           4          0     0               \n",
       "12 1           5          0     0               "
      ]
     },
     "metadata": {},
     "output_type": "display_data"
    }
   ],
   "source": [
    "# matriz de diseño \n",
    "X <- model.matrix(modelo)\n",
    "X"
   ]
  },
  {
   "cell_type": "markdown",
   "metadata": {},
   "source": [
    "$$ β_0 = −2.819, β_1 = −0.175, β_2 = 1.259, β_3 = −0.353 $$"
   ]
  },
  {
   "cell_type": "code",
   "execution_count": 51,
   "metadata": {
    "vscode": {
     "languageId": "r"
    }
   },
   "outputs": [
    {
     "data": {
      "text/plain": [
       "\n",
       "Call:\n",
       "glm(formula = prop_mortalidad ~ log2_dosis * sexo, family = binomial(link = \"logit\"), \n",
       "    data = data, weights = n)\n",
       "\n",
       "Deviance Residuals: \n",
       "     Min        1Q    Median        3Q       Max  \n",
       "-1.39849  -0.32094  -0.07592   0.38220   1.10375  \n",
       "\n",
       "Coefficients:\n",
       "                 Estimate Std. Error z value Pr(>|z|)    \n",
       "(Intercept)       -2.9935     0.5527  -5.416 6.09e-08 ***\n",
       "log2_dosis         0.9060     0.1671   5.422 5.89e-08 ***\n",
       "sexoM              0.1750     0.7783   0.225    0.822    \n",
       "log2_dosis:sexoM   0.3529     0.2700   1.307    0.191    \n",
       "---\n",
       "Signif. codes:  0 ‘***’ 0.001 ‘**’ 0.01 ‘*’ 0.05 ‘.’ 0.1 ‘ ’ 1\n",
       "\n",
       "(Dispersion parameter for binomial family taken to be 1)\n",
       "\n",
       "    Null deviance: 124.8756  on 11  degrees of freedom\n",
       "Residual deviance:   4.9937  on  8  degrees of freedom\n",
       "AIC: 43.104\n",
       "\n",
       "Number of Fisher Scoring iterations: 4\n"
      ]
     },
     "metadata": {},
     "output_type": "display_data"
    }
   ],
   "source": [
    "#modelo\n",
    "modelo <- glm(prop_mortalidad ~ log2_dosis * sexo, family = binomial(link = \"logit\"), weights = n, data = data)\n",
    "\n",
    "summary(modelo)"
   ]
  },
  {
   "cell_type": "code",
   "execution_count": 52,
   "metadata": {
    "vscode": {
     "languageId": "r"
    }
   },
   "outputs": [
    {
     "data": {
      "text/html": [
       "<table class=\"dataframe\">\n",
       "<caption>A matrix: 12 × 4 of type dbl</caption>\n",
       "<thead>\n",
       "\t<tr><th></th><th scope=col>(Intercept)</th><th scope=col>log2_dosis</th><th scope=col>sexoM</th><th scope=col>log2_dosis:sexoM</th></tr>\n",
       "</thead>\n",
       "<tbody>\n",
       "\t<tr><th scope=row>1</th><td>1</td><td>0</td><td>1</td><td>0</td></tr>\n",
       "\t<tr><th scope=row>2</th><td>1</td><td>1</td><td>1</td><td>1</td></tr>\n",
       "\t<tr><th scope=row>3</th><td>1</td><td>2</td><td>1</td><td>2</td></tr>\n",
       "\t<tr><th scope=row>4</th><td>1</td><td>3</td><td>1</td><td>3</td></tr>\n",
       "\t<tr><th scope=row>5</th><td>1</td><td>4</td><td>1</td><td>4</td></tr>\n",
       "\t<tr><th scope=row>6</th><td>1</td><td>5</td><td>1</td><td>5</td></tr>\n",
       "\t<tr><th scope=row>7</th><td>1</td><td>0</td><td>0</td><td>0</td></tr>\n",
       "\t<tr><th scope=row>8</th><td>1</td><td>1</td><td>0</td><td>0</td></tr>\n",
       "\t<tr><th scope=row>9</th><td>1</td><td>2</td><td>0</td><td>0</td></tr>\n",
       "\t<tr><th scope=row>10</th><td>1</td><td>3</td><td>0</td><td>0</td></tr>\n",
       "\t<tr><th scope=row>11</th><td>1</td><td>4</td><td>0</td><td>0</td></tr>\n",
       "\t<tr><th scope=row>12</th><td>1</td><td>5</td><td>0</td><td>0</td></tr>\n",
       "</tbody>\n",
       "</table>\n"
      ],
      "text/latex": [
       "A matrix: 12 × 4 of type dbl\n",
       "\\begin{tabular}{r|llll}\n",
       "  & (Intercept) & log2\\_dosis & sexoM & log2\\_dosis:sexoM\\\\\n",
       "\\hline\n",
       "\t1 & 1 & 0 & 1 & 0\\\\\n",
       "\t2 & 1 & 1 & 1 & 1\\\\\n",
       "\t3 & 1 & 2 & 1 & 2\\\\\n",
       "\t4 & 1 & 3 & 1 & 3\\\\\n",
       "\t5 & 1 & 4 & 1 & 4\\\\\n",
       "\t6 & 1 & 5 & 1 & 5\\\\\n",
       "\t7 & 1 & 0 & 0 & 0\\\\\n",
       "\t8 & 1 & 1 & 0 & 0\\\\\n",
       "\t9 & 1 & 2 & 0 & 0\\\\\n",
       "\t10 & 1 & 3 & 0 & 0\\\\\n",
       "\t11 & 1 & 4 & 0 & 0\\\\\n",
       "\t12 & 1 & 5 & 0 & 0\\\\\n",
       "\\end{tabular}\n"
      ],
      "text/markdown": [
       "\n",
       "A matrix: 12 × 4 of type dbl\n",
       "\n",
       "| <!--/--> | (Intercept) | log2_dosis | sexoM | log2_dosis:sexoM |\n",
       "|---|---|---|---|---|\n",
       "| 1 | 1 | 0 | 1 | 0 |\n",
       "| 2 | 1 | 1 | 1 | 1 |\n",
       "| 3 | 1 | 2 | 1 | 2 |\n",
       "| 4 | 1 | 3 | 1 | 3 |\n",
       "| 5 | 1 | 4 | 1 | 4 |\n",
       "| 6 | 1 | 5 | 1 | 5 |\n",
       "| 7 | 1 | 0 | 0 | 0 |\n",
       "| 8 | 1 | 1 | 0 | 0 |\n",
       "| 9 | 1 | 2 | 0 | 0 |\n",
       "| 10 | 1 | 3 | 0 | 0 |\n",
       "| 11 | 1 | 4 | 0 | 0 |\n",
       "| 12 | 1 | 5 | 0 | 0 |\n",
       "\n"
      ],
      "text/plain": [
       "   (Intercept) log2_dosis sexoM log2_dosis:sexoM\n",
       "1  1           0          1     0               \n",
       "2  1           1          1     1               \n",
       "3  1           2          1     2               \n",
       "4  1           3          1     3               \n",
       "5  1           4          1     4               \n",
       "6  1           5          1     5               \n",
       "7  1           0          0     0               \n",
       "8  1           1          0     0               \n",
       "9  1           2          0     0               \n",
       "10 1           3          0     0               \n",
       "11 1           4          0     0               \n",
       "12 1           5          0     0               "
      ]
     },
     "metadata": {},
     "output_type": "display_data"
    }
   ],
   "source": [
    "# matriz de diseño \n",
    "X <- model.matrix(modelo)\n",
    "X"
   ]
  },
  {
   "cell_type": "markdown",
   "metadata": {},
   "source": [
    "## (c)\n",
    "\n",
    "Considere el M ́etodo de scoring de Fisher (Algoritmo Newton-Raphson\n",
    "Modificado: variante IRLWS) para determinar las coeficientes a traves de\n",
    "la implementaci ́on de la siguiente funci ́on recursiva:\n",
    "$$β^{k+1} = (X^T U X)^{−1}X^T Uy^∗$$ "
   ]
  },
  {
   "cell_type": "markdown",
   "metadata": {},
   "source": []
  },
  {
   "cell_type": "markdown",
   "metadata": {},
   "source": [
    "# Ejercicio 2: "
   ]
  },
  {
   "cell_type": "markdown",
   "metadata": {},
   "source": [
    "Considere el estudio transversal de pacientes con una forma de cáncer de piel\n",
    "llamada melanoma maligno (Roberts et al. 1981). <br>Para una muestra de $n = 400$\n",
    "pacientes, se registró el sitio del tumor y su tipo histológico. <br>La cuestión de\n",
    "interés es si existe alguna asociación entre el tipo de tumor y su localización.<br>\n",
    "Intente responder esta pregunta con ayuda de los modelos lineales generalizados.<br><br>\n",
    "Los datos se muestran en la figura 2: \n",
    "\n",
    "<img src=\"figuras/13_fig2.png\" width=\"600\">"
   ]
  },
  {
   "cell_type": "code",
   "execution_count": 53,
   "metadata": {
    "vscode": {
     "languageId": "r"
    }
   },
   "outputs": [
    {
     "data": {
      "text/html": [
       "<table class=\"dataframe\">\n",
       "<caption>A data.frame: 4 × 3</caption>\n",
       "<thead>\n",
       "\t<tr><th scope=col>y</th><th scope=col>gender</th><th scope=col>faith</th></tr>\n",
       "\t<tr><th scope=col>&lt;dbl&gt;</th><th scope=col>&lt;fct&gt;</th><th scope=col>&lt;fct&gt;</th></tr>\n",
       "</thead>\n",
       "<tbody>\n",
       "\t<tr><td>435</td><td>F</td><td>Creyente   </td></tr>\n",
       "\t<tr><td>147</td><td>F</td><td>No creyente</td></tr>\n",
       "\t<tr><td>375</td><td>M</td><td>Creyente   </td></tr>\n",
       "\t<tr><td>134</td><td>M</td><td>No creyente</td></tr>\n",
       "</tbody>\n",
       "</table>\n"
      ],
      "text/latex": [
       "A data.frame: 4 × 3\n",
       "\\begin{tabular}{lll}\n",
       " y & gender & faith\\\\\n",
       " <dbl> & <fct> & <fct>\\\\\n",
       "\\hline\n",
       "\t 435 & F & Creyente   \\\\\n",
       "\t 147 & F & No creyente\\\\\n",
       "\t 375 & M & Creyente   \\\\\n",
       "\t 134 & M & No creyente\\\\\n",
       "\\end{tabular}\n"
      ],
      "text/markdown": [
       "\n",
       "A data.frame: 4 × 3\n",
       "\n",
       "| y &lt;dbl&gt; | gender &lt;fct&gt; | faith &lt;fct&gt; |\n",
       "|---|---|---|\n",
       "| 435 | F | Creyente    |\n",
       "| 147 | F | No creyente |\n",
       "| 375 | M | Creyente    |\n",
       "| 134 | M | No creyente |\n",
       "\n"
      ],
      "text/plain": [
       "  y   gender faith      \n",
       "1 435 F      Creyente   \n",
       "2 147 F      No creyente\n",
       "3 375 M      Creyente   \n",
       "4 134 M      No creyente"
      ]
     },
     "metadata": {},
     "output_type": "display_data"
    }
   ],
   "source": [
    "#al <- data.frame(y=c(435,147,375,134),gender=as.factor(c(\"F\",\"F\",\"M\",\"M\")),\n",
    "\n",
    "#crear el dataframe del ejemplo: \n",
    "al <- data.frame(y = c(435, 147, 375, 134),\n",
    "                 gender = as.factor(rep(c(\"F\", \"M\"), each = 2)),\n",
    "                 faith = as.factor(rep(c(\"Creyente\", \"No creyente\"), times = 2)))\n",
    "\n",
    "#mostrar el dataframe\n",
    "al"
   ]
  },
  {
   "cell_type": "markdown",
   "metadata": {},
   "source": [
    "* para ver si salio: <br><br>\n",
    "<img src=\"figuras/13_fig2.png\" width=\"500\">"
   ]
  },
  {
   "cell_type": "markdown",
   "metadata": {},
   "source": [
    "existe alguna asociación entre el tipo de tumor y su localización?"
   ]
  },
  {
   "cell_type": "code",
   "execution_count": 54,
   "metadata": {
    "vscode": {
     "languageId": "r"
    }
   },
   "outputs": [
    {
     "data": {
      "text/html": [
       "<table class=\"dataframe\">\n",
       "<caption>A data.frame: 12 × 3</caption>\n",
       "<thead>\n",
       "\t<tr><th scope=col>y</th><th scope=col>tumor_type</th><th scope=col>site</th></tr>\n",
       "\t<tr><th scope=col>&lt;dbl&gt;</th><th scope=col>&lt;fct&gt;</th><th scope=col>&lt;fct&gt;</th></tr>\n",
       "</thead>\n",
       "<tbody>\n",
       "\t<tr><td> 22</td><td>Hutch_freckle</td><td>Head       </td></tr>\n",
       "\t<tr><td> 16</td><td>Sup_melanoma </td><td>Head       </td></tr>\n",
       "\t<tr><td> 19</td><td>Nodular      </td><td>Head       </td></tr>\n",
       "\t<tr><td> 11</td><td>Indeterminate</td><td>Head       </td></tr>\n",
       "\t<tr><td>  1</td><td>Hutch_freckle</td><td>Trunk      </td></tr>\n",
       "\t<tr><td> 54</td><td>Sup_melanoma </td><td>Trunk      </td></tr>\n",
       "\t<tr><td> 33</td><td>Nodular      </td><td>Trunk      </td></tr>\n",
       "\t<tr><td> 17</td><td>Indeterminate</td><td>Trunk      </td></tr>\n",
       "\t<tr><td> 10</td><td>Hutch_freckle</td><td>Extremities</td></tr>\n",
       "\t<tr><td>115</td><td>Sup_melanoma </td><td>Extremities</td></tr>\n",
       "\t<tr><td> 73</td><td>Nodular      </td><td>Extremities</td></tr>\n",
       "\t<tr><td> 28</td><td>Indeterminate</td><td>Extremities</td></tr>\n",
       "</tbody>\n",
       "</table>\n"
      ],
      "text/latex": [
       "A data.frame: 12 × 3\n",
       "\\begin{tabular}{lll}\n",
       " y & tumor\\_type & site\\\\\n",
       " <dbl> & <fct> & <fct>\\\\\n",
       "\\hline\n",
       "\t  22 & Hutch\\_freckle & Head       \\\\\n",
       "\t  16 & Sup\\_melanoma  & Head       \\\\\n",
       "\t  19 & Nodular       & Head       \\\\\n",
       "\t  11 & Indeterminate & Head       \\\\\n",
       "\t   1 & Hutch\\_freckle & Trunk      \\\\\n",
       "\t  54 & Sup\\_melanoma  & Trunk      \\\\\n",
       "\t  33 & Nodular       & Trunk      \\\\\n",
       "\t  17 & Indeterminate & Trunk      \\\\\n",
       "\t  10 & Hutch\\_freckle & Extremities\\\\\n",
       "\t 115 & Sup\\_melanoma  & Extremities\\\\\n",
       "\t  73 & Nodular       & Extremities\\\\\n",
       "\t  28 & Indeterminate & Extremities\\\\\n",
       "\\end{tabular}\n"
      ],
      "text/markdown": [
       "\n",
       "A data.frame: 12 × 3\n",
       "\n",
       "| y &lt;dbl&gt; | tumor_type &lt;fct&gt; | site &lt;fct&gt; |\n",
       "|---|---|---|\n",
       "|  22 | Hutch_freckle | Head        |\n",
       "|  16 | Sup_melanoma  | Head        |\n",
       "|  19 | Nodular       | Head        |\n",
       "|  11 | Indeterminate | Head        |\n",
       "|   1 | Hutch_freckle | Trunk       |\n",
       "|  54 | Sup_melanoma  | Trunk       |\n",
       "|  33 | Nodular       | Trunk       |\n",
       "|  17 | Indeterminate | Trunk       |\n",
       "|  10 | Hutch_freckle | Extremities |\n",
       "| 115 | Sup_melanoma  | Extremities |\n",
       "|  73 | Nodular       | Extremities |\n",
       "|  28 | Indeterminate | Extremities |\n",
       "\n"
      ],
      "text/plain": [
       "   y   tumor_type    site       \n",
       "1   22 Hutch_freckle Head       \n",
       "2   16 Sup_melanoma  Head       \n",
       "3   19 Nodular       Head       \n",
       "4   11 Indeterminate Head       \n",
       "5    1 Hutch_freckle Trunk      \n",
       "6   54 Sup_melanoma  Trunk      \n",
       "7   33 Nodular       Trunk      \n",
       "8   17 Indeterminate Trunk      \n",
       "9   10 Hutch_freckle Extremities\n",
       "10 115 Sup_melanoma  Extremities\n",
       "11  73 Nodular       Extremities\n",
       "12  28 Indeterminate Extremities"
      ]
     },
     "metadata": {},
     "output_type": "display_data"
    }
   ],
   "source": [
    "tt <- data.frame(y=c(22, 16, 19, 11, 1, 54, 33, 17, 10, 115, 73, 28),\n",
    "                tumor_type=as.factor(c(\"Hutch_freckle\", \"Sup_melanoma\", \"Nodular\", \"Indeterminate\")),\n",
    "                site = as.factor(c(\"Head\", \"Head\", \"Head\", \"Head\", \"Trunk\", \"Trunk\", \"Trunk\", \"Trunk\", \"Extremities\", \"Extremities\", \"Extremities\", \"Extremities\")))\n",
    "\n",
    "tt"
   ]
  },
  {
   "cell_type": "code",
   "execution_count": 55,
   "metadata": {
    "vscode": {
     "languageId": "r"
    }
   },
   "outputs": [],
   "source": [
    "mod.0 <- glm(y ~ tumor_type + site, data=tt, family=poisson)"
   ]
  },
  {
   "cell_type": "code",
   "execution_count": 56,
   "metadata": {
    "vscode": {
     "languageId": "r"
    }
   },
   "outputs": [
    {
     "data": {
      "text/html": [
       "<table class=\"dataframe\">\n",
       "<caption>A matrix: 12 × 6 of type dbl</caption>\n",
       "<thead>\n",
       "\t<tr><th></th><th scope=col>(Intercept)</th><th scope=col>tumor_typeIndeterminate</th><th scope=col>tumor_typeNodular</th><th scope=col>tumor_typeSup_melanoma</th><th scope=col>siteHead</th><th scope=col>siteTrunk</th></tr>\n",
       "</thead>\n",
       "<tbody>\n",
       "\t<tr><th scope=row>1</th><td>1</td><td>0</td><td>0</td><td>0</td><td>1</td><td>0</td></tr>\n",
       "\t<tr><th scope=row>2</th><td>1</td><td>0</td><td>0</td><td>1</td><td>1</td><td>0</td></tr>\n",
       "\t<tr><th scope=row>3</th><td>1</td><td>0</td><td>1</td><td>0</td><td>1</td><td>0</td></tr>\n",
       "\t<tr><th scope=row>4</th><td>1</td><td>1</td><td>0</td><td>0</td><td>1</td><td>0</td></tr>\n",
       "\t<tr><th scope=row>5</th><td>1</td><td>0</td><td>0</td><td>0</td><td>0</td><td>1</td></tr>\n",
       "\t<tr><th scope=row>6</th><td>1</td><td>0</td><td>0</td><td>1</td><td>0</td><td>1</td></tr>\n",
       "\t<tr><th scope=row>7</th><td>1</td><td>0</td><td>1</td><td>0</td><td>0</td><td>1</td></tr>\n",
       "\t<tr><th scope=row>8</th><td>1</td><td>1</td><td>0</td><td>0</td><td>0</td><td>1</td></tr>\n",
       "\t<tr><th scope=row>9</th><td>1</td><td>0</td><td>0</td><td>0</td><td>0</td><td>0</td></tr>\n",
       "\t<tr><th scope=row>10</th><td>1</td><td>0</td><td>0</td><td>1</td><td>0</td><td>0</td></tr>\n",
       "\t<tr><th scope=row>11</th><td>1</td><td>0</td><td>1</td><td>0</td><td>0</td><td>0</td></tr>\n",
       "\t<tr><th scope=row>12</th><td>1</td><td>1</td><td>0</td><td>0</td><td>0</td><td>0</td></tr>\n",
       "</tbody>\n",
       "</table>\n"
      ],
      "text/latex": [
       "A matrix: 12 × 6 of type dbl\n",
       "\\begin{tabular}{r|llllll}\n",
       "  & (Intercept) & tumor\\_typeIndeterminate & tumor\\_typeNodular & tumor\\_typeSup\\_melanoma & siteHead & siteTrunk\\\\\n",
       "\\hline\n",
       "\t1 & 1 & 0 & 0 & 0 & 1 & 0\\\\\n",
       "\t2 & 1 & 0 & 0 & 1 & 1 & 0\\\\\n",
       "\t3 & 1 & 0 & 1 & 0 & 1 & 0\\\\\n",
       "\t4 & 1 & 1 & 0 & 0 & 1 & 0\\\\\n",
       "\t5 & 1 & 0 & 0 & 0 & 0 & 1\\\\\n",
       "\t6 & 1 & 0 & 0 & 1 & 0 & 1\\\\\n",
       "\t7 & 1 & 0 & 1 & 0 & 0 & 1\\\\\n",
       "\t8 & 1 & 1 & 0 & 0 & 0 & 1\\\\\n",
       "\t9 & 1 & 0 & 0 & 0 & 0 & 0\\\\\n",
       "\t10 & 1 & 0 & 0 & 1 & 0 & 0\\\\\n",
       "\t11 & 1 & 0 & 1 & 0 & 0 & 0\\\\\n",
       "\t12 & 1 & 1 & 0 & 0 & 0 & 0\\\\\n",
       "\\end{tabular}\n"
      ],
      "text/markdown": [
       "\n",
       "A matrix: 12 × 6 of type dbl\n",
       "\n",
       "| <!--/--> | (Intercept) | tumor_typeIndeterminate | tumor_typeNodular | tumor_typeSup_melanoma | siteHead | siteTrunk |\n",
       "|---|---|---|---|---|---|---|\n",
       "| 1 | 1 | 0 | 0 | 0 | 1 | 0 |\n",
       "| 2 | 1 | 0 | 0 | 1 | 1 | 0 |\n",
       "| 3 | 1 | 0 | 1 | 0 | 1 | 0 |\n",
       "| 4 | 1 | 1 | 0 | 0 | 1 | 0 |\n",
       "| 5 | 1 | 0 | 0 | 0 | 0 | 1 |\n",
       "| 6 | 1 | 0 | 0 | 1 | 0 | 1 |\n",
       "| 7 | 1 | 0 | 1 | 0 | 0 | 1 |\n",
       "| 8 | 1 | 1 | 0 | 0 | 0 | 1 |\n",
       "| 9 | 1 | 0 | 0 | 0 | 0 | 0 |\n",
       "| 10 | 1 | 0 | 0 | 1 | 0 | 0 |\n",
       "| 11 | 1 | 0 | 1 | 0 | 0 | 0 |\n",
       "| 12 | 1 | 1 | 0 | 0 | 0 | 0 |\n",
       "\n"
      ],
      "text/plain": [
       "   (Intercept) tumor_typeIndeterminate tumor_typeNodular tumor_typeSup_melanoma\n",
       "1  1           0                       0                 0                     \n",
       "2  1           0                       0                 1                     \n",
       "3  1           0                       1                 0                     \n",
       "4  1           1                       0                 0                     \n",
       "5  1           0                       0                 0                     \n",
       "6  1           0                       0                 1                     \n",
       "7  1           0                       1                 0                     \n",
       "8  1           1                       0                 0                     \n",
       "9  1           0                       0                 0                     \n",
       "10 1           0                       0                 1                     \n",
       "11 1           0                       1                 0                     \n",
       "12 1           1                       0                 0                     \n",
       "   siteHead siteTrunk\n",
       "1  1        0        \n",
       "2  1        0        \n",
       "3  1        0        \n",
       "4  1        0        \n",
       "5  0        1        \n",
       "6  0        1        \n",
       "7  0        1        \n",
       "8  0        1        \n",
       "9  0        0        \n",
       "10 0        0        \n",
       "11 0        0        \n",
       "12 0        0        "
      ]
     },
     "metadata": {},
     "output_type": "display_data"
    }
   ],
   "source": [
    "model.matrix(mod.0)"
   ]
  },
  {
   "cell_type": "code",
   "execution_count": 57,
   "metadata": {
    "vscode": {
     "languageId": "r"
    }
   },
   "outputs": [
    {
     "data": {
      "text/plain": [
       "\n",
       "Call:  glm(formula = y ~ tumor_type + site, family = poisson, data = tt)\n",
       "\n",
       "Coefficients:\n",
       "            (Intercept)  tumor_typeIndeterminate        tumor_typeNodular  \n",
       "                 2.9281                   0.5288                   1.3318  \n",
       " tumor_typeSup_melanoma                 siteHead                siteTrunk  \n",
       "                 1.7238                  -1.2010                  -0.7666  \n",
       "\n",
       "Degrees of Freedom: 11 Total (i.e. Null);  6 Residual\n",
       "Null Deviance:\t    301.4 \n",
       "Residual Deviance: 55.38 \tAIC: 125.9"
      ]
     },
     "metadata": {},
     "output_type": "display_data"
    }
   ],
   "source": [
    "mod.0"
   ]
  },
  {
   "cell_type": "code",
   "execution_count": 58,
   "metadata": {
    "vscode": {
     "languageId": "r"
    }
   },
   "outputs": [
    {
     "data": {
      "text/html": [
       "<style>\n",
       ".dl-inline {width: auto; margin:0; padding: 0}\n",
       ".dl-inline>dt, .dl-inline>dd {float: none; width: auto; display: inline-block}\n",
       ".dl-inline>dt::after {content: \":\\0020\"; padding-right: .5ex}\n",
       ".dl-inline>dt:not(:first-of-type) {padding-left: .5ex}\n",
       "</style><dl class=dl-inline><dt>1</dt><dd>5.62406016188986</dd><dt>2</dt><dd>31.5288220551558</dd><dt>3</dt><dd>21.3032581453755</dd><dt>4</dt><dd>9.54385964912825</dd><dt>5</dt><dd>8.68421054409069</dd><dt>6</dt><dd>48.6842105263214</dd><dt>7</dt><dd>32.894736842109</dd><dt>8</dt><dd>14.7368421052649</dd><dt>9</dt><dd>18.6917293615603</dd><dt>10</dt><dd>104.786967418523</dd><dt>11</dt><dd>70.8020050125156</dd><dt>12</dt><dd>31.719298245607</dd></dl>\n"
      ],
      "text/latex": [
       "\\begin{description*}\n",
       "\\item[1] 5.62406016188986\n",
       "\\item[2] 31.5288220551558\n",
       "\\item[3] 21.3032581453755\n",
       "\\item[4] 9.54385964912825\n",
       "\\item[5] 8.68421054409069\n",
       "\\item[6] 48.6842105263214\n",
       "\\item[7] 32.894736842109\n",
       "\\item[8] 14.7368421052649\n",
       "\\item[9] 18.6917293615603\n",
       "\\item[10] 104.786967418523\n",
       "\\item[11] 70.8020050125156\n",
       "\\item[12] 31.719298245607\n",
       "\\end{description*}\n"
      ],
      "text/markdown": [
       "1\n",
       ":   5.624060161889862\n",
       ":   31.52882205515583\n",
       ":   21.30325814537554\n",
       ":   9.543859649128255\n",
       ":   8.684210544090696\n",
       ":   48.68421052632147\n",
       ":   32.8947368421098\n",
       ":   14.73684210526499\n",
       ":   18.691729361560310\n",
       ":   104.78696741852311\n",
       ":   70.802005012515612\n",
       ":   31.719298245607\n",
       "\n"
      ],
      "text/plain": [
       "         1          2          3          4          5          6          7 \n",
       "  5.624060  31.528822  21.303258   9.543860   8.684211  48.684211  32.894737 \n",
       "         8          9         10         11         12 \n",
       " 14.736842  18.691729 104.786967  70.802005  31.719298 "
      ]
     },
     "metadata": {},
     "output_type": "display_data"
    }
   ],
   "source": [
    "fitted(mod.0)"
   ]
  },
  {
   "cell_type": "markdown",
   "metadata": {},
   "source": [
    "asdasda"
   ]
  },
  {
   "cell_type": "code",
   "execution_count": 59,
   "metadata": {
    "vscode": {
     "languageId": "r"
    }
   },
   "outputs": [],
   "source": [
    "mod.1 <- glm(y ~ tumor_type*site, data=tt, family=poisson)"
   ]
  },
  {
   "cell_type": "code",
   "execution_count": 60,
   "metadata": {
    "vscode": {
     "languageId": "r"
    }
   },
   "outputs": [
    {
     "data": {
      "text/html": [
       "<table class=\"dataframe\">\n",
       "<caption>A matrix: 12 × 12 of type dbl</caption>\n",
       "<thead>\n",
       "\t<tr><th></th><th scope=col>(Intercept)</th><th scope=col>tumor_typeIndeterminate</th><th scope=col>tumor_typeNodular</th><th scope=col>tumor_typeSup_melanoma</th><th scope=col>siteHead</th><th scope=col>siteTrunk</th><th scope=col>tumor_typeIndeterminate:siteHead</th><th scope=col>tumor_typeNodular:siteHead</th><th scope=col>tumor_typeSup_melanoma:siteHead</th><th scope=col>tumor_typeIndeterminate:siteTrunk</th><th scope=col>tumor_typeNodular:siteTrunk</th><th scope=col>tumor_typeSup_melanoma:siteTrunk</th></tr>\n",
       "</thead>\n",
       "<tbody>\n",
       "\t<tr><th scope=row>1</th><td>1</td><td>0</td><td>0</td><td>0</td><td>1</td><td>0</td><td>0</td><td>0</td><td>0</td><td>0</td><td>0</td><td>0</td></tr>\n",
       "\t<tr><th scope=row>2</th><td>1</td><td>0</td><td>0</td><td>1</td><td>1</td><td>0</td><td>0</td><td>0</td><td>1</td><td>0</td><td>0</td><td>0</td></tr>\n",
       "\t<tr><th scope=row>3</th><td>1</td><td>0</td><td>1</td><td>0</td><td>1</td><td>0</td><td>0</td><td>1</td><td>0</td><td>0</td><td>0</td><td>0</td></tr>\n",
       "\t<tr><th scope=row>4</th><td>1</td><td>1</td><td>0</td><td>0</td><td>1</td><td>0</td><td>1</td><td>0</td><td>0</td><td>0</td><td>0</td><td>0</td></tr>\n",
       "\t<tr><th scope=row>5</th><td>1</td><td>0</td><td>0</td><td>0</td><td>0</td><td>1</td><td>0</td><td>0</td><td>0</td><td>0</td><td>0</td><td>0</td></tr>\n",
       "\t<tr><th scope=row>6</th><td>1</td><td>0</td><td>0</td><td>1</td><td>0</td><td>1</td><td>0</td><td>0</td><td>0</td><td>0</td><td>0</td><td>1</td></tr>\n",
       "\t<tr><th scope=row>7</th><td>1</td><td>0</td><td>1</td><td>0</td><td>0</td><td>1</td><td>0</td><td>0</td><td>0</td><td>0</td><td>1</td><td>0</td></tr>\n",
       "\t<tr><th scope=row>8</th><td>1</td><td>1</td><td>0</td><td>0</td><td>0</td><td>1</td><td>0</td><td>0</td><td>0</td><td>1</td><td>0</td><td>0</td></tr>\n",
       "\t<tr><th scope=row>9</th><td>1</td><td>0</td><td>0</td><td>0</td><td>0</td><td>0</td><td>0</td><td>0</td><td>0</td><td>0</td><td>0</td><td>0</td></tr>\n",
       "\t<tr><th scope=row>10</th><td>1</td><td>0</td><td>0</td><td>1</td><td>0</td><td>0</td><td>0</td><td>0</td><td>0</td><td>0</td><td>0</td><td>0</td></tr>\n",
       "\t<tr><th scope=row>11</th><td>1</td><td>0</td><td>1</td><td>0</td><td>0</td><td>0</td><td>0</td><td>0</td><td>0</td><td>0</td><td>0</td><td>0</td></tr>\n",
       "\t<tr><th scope=row>12</th><td>1</td><td>1</td><td>0</td><td>0</td><td>0</td><td>0</td><td>0</td><td>0</td><td>0</td><td>0</td><td>0</td><td>0</td></tr>\n",
       "</tbody>\n",
       "</table>\n"
      ],
      "text/latex": [
       "A matrix: 12 × 12 of type dbl\n",
       "\\begin{tabular}{r|llllllllllll}\n",
       "  & (Intercept) & tumor\\_typeIndeterminate & tumor\\_typeNodular & tumor\\_typeSup\\_melanoma & siteHead & siteTrunk & tumor\\_typeIndeterminate:siteHead & tumor\\_typeNodular:siteHead & tumor\\_typeSup\\_melanoma:siteHead & tumor\\_typeIndeterminate:siteTrunk & tumor\\_typeNodular:siteTrunk & tumor\\_typeSup\\_melanoma:siteTrunk\\\\\n",
       "\\hline\n",
       "\t1 & 1 & 0 & 0 & 0 & 1 & 0 & 0 & 0 & 0 & 0 & 0 & 0\\\\\n",
       "\t2 & 1 & 0 & 0 & 1 & 1 & 0 & 0 & 0 & 1 & 0 & 0 & 0\\\\\n",
       "\t3 & 1 & 0 & 1 & 0 & 1 & 0 & 0 & 1 & 0 & 0 & 0 & 0\\\\\n",
       "\t4 & 1 & 1 & 0 & 0 & 1 & 0 & 1 & 0 & 0 & 0 & 0 & 0\\\\\n",
       "\t5 & 1 & 0 & 0 & 0 & 0 & 1 & 0 & 0 & 0 & 0 & 0 & 0\\\\\n",
       "\t6 & 1 & 0 & 0 & 1 & 0 & 1 & 0 & 0 & 0 & 0 & 0 & 1\\\\\n",
       "\t7 & 1 & 0 & 1 & 0 & 0 & 1 & 0 & 0 & 0 & 0 & 1 & 0\\\\\n",
       "\t8 & 1 & 1 & 0 & 0 & 0 & 1 & 0 & 0 & 0 & 1 & 0 & 0\\\\\n",
       "\t9 & 1 & 0 & 0 & 0 & 0 & 0 & 0 & 0 & 0 & 0 & 0 & 0\\\\\n",
       "\t10 & 1 & 0 & 0 & 1 & 0 & 0 & 0 & 0 & 0 & 0 & 0 & 0\\\\\n",
       "\t11 & 1 & 0 & 1 & 0 & 0 & 0 & 0 & 0 & 0 & 0 & 0 & 0\\\\\n",
       "\t12 & 1 & 1 & 0 & 0 & 0 & 0 & 0 & 0 & 0 & 0 & 0 & 0\\\\\n",
       "\\end{tabular}\n"
      ],
      "text/markdown": [
       "\n",
       "A matrix: 12 × 12 of type dbl\n",
       "\n",
       "| <!--/--> | (Intercept) | tumor_typeIndeterminate | tumor_typeNodular | tumor_typeSup_melanoma | siteHead | siteTrunk | tumor_typeIndeterminate:siteHead | tumor_typeNodular:siteHead | tumor_typeSup_melanoma:siteHead | tumor_typeIndeterminate:siteTrunk | tumor_typeNodular:siteTrunk | tumor_typeSup_melanoma:siteTrunk |\n",
       "|---|---|---|---|---|---|---|---|---|---|---|---|---|\n",
       "| 1 | 1 | 0 | 0 | 0 | 1 | 0 | 0 | 0 | 0 | 0 | 0 | 0 |\n",
       "| 2 | 1 | 0 | 0 | 1 | 1 | 0 | 0 | 0 | 1 | 0 | 0 | 0 |\n",
       "| 3 | 1 | 0 | 1 | 0 | 1 | 0 | 0 | 1 | 0 | 0 | 0 | 0 |\n",
       "| 4 | 1 | 1 | 0 | 0 | 1 | 0 | 1 | 0 | 0 | 0 | 0 | 0 |\n",
       "| 5 | 1 | 0 | 0 | 0 | 0 | 1 | 0 | 0 | 0 | 0 | 0 | 0 |\n",
       "| 6 | 1 | 0 | 0 | 1 | 0 | 1 | 0 | 0 | 0 | 0 | 0 | 1 |\n",
       "| 7 | 1 | 0 | 1 | 0 | 0 | 1 | 0 | 0 | 0 | 0 | 1 | 0 |\n",
       "| 8 | 1 | 1 | 0 | 0 | 0 | 1 | 0 | 0 | 0 | 1 | 0 | 0 |\n",
       "| 9 | 1 | 0 | 0 | 0 | 0 | 0 | 0 | 0 | 0 | 0 | 0 | 0 |\n",
       "| 10 | 1 | 0 | 0 | 1 | 0 | 0 | 0 | 0 | 0 | 0 | 0 | 0 |\n",
       "| 11 | 1 | 0 | 1 | 0 | 0 | 0 | 0 | 0 | 0 | 0 | 0 | 0 |\n",
       "| 12 | 1 | 1 | 0 | 0 | 0 | 0 | 0 | 0 | 0 | 0 | 0 | 0 |\n",
       "\n"
      ],
      "text/plain": [
       "   (Intercept) tumor_typeIndeterminate tumor_typeNodular tumor_typeSup_melanoma\n",
       "1  1           0                       0                 0                     \n",
       "2  1           0                       0                 1                     \n",
       "3  1           0                       1                 0                     \n",
       "4  1           1                       0                 0                     \n",
       "5  1           0                       0                 0                     \n",
       "6  1           0                       0                 1                     \n",
       "7  1           0                       1                 0                     \n",
       "8  1           1                       0                 0                     \n",
       "9  1           0                       0                 0                     \n",
       "10 1           0                       0                 1                     \n",
       "11 1           0                       1                 0                     \n",
       "12 1           1                       0                 0                     \n",
       "   siteHead siteTrunk tumor_typeIndeterminate:siteHead\n",
       "1  1        0         0                               \n",
       "2  1        0         0                               \n",
       "3  1        0         0                               \n",
       "4  1        0         1                               \n",
       "5  0        1         0                               \n",
       "6  0        1         0                               \n",
       "7  0        1         0                               \n",
       "8  0        1         0                               \n",
       "9  0        0         0                               \n",
       "10 0        0         0                               \n",
       "11 0        0         0                               \n",
       "12 0        0         0                               \n",
       "   tumor_typeNodular:siteHead tumor_typeSup_melanoma:siteHead\n",
       "1  0                          0                              \n",
       "2  0                          1                              \n",
       "3  1                          0                              \n",
       "4  0                          0                              \n",
       "5  0                          0                              \n",
       "6  0                          0                              \n",
       "7  0                          0                              \n",
       "8  0                          0                              \n",
       "9  0                          0                              \n",
       "10 0                          0                              \n",
       "11 0                          0                              \n",
       "12 0                          0                              \n",
       "   tumor_typeIndeterminate:siteTrunk tumor_typeNodular:siteTrunk\n",
       "1  0                                 0                          \n",
       "2  0                                 0                          \n",
       "3  0                                 0                          \n",
       "4  0                                 0                          \n",
       "5  0                                 0                          \n",
       "6  0                                 0                          \n",
       "7  0                                 1                          \n",
       "8  1                                 0                          \n",
       "9  0                                 0                          \n",
       "10 0                                 0                          \n",
       "11 0                                 0                          \n",
       "12 0                                 0                          \n",
       "   tumor_typeSup_melanoma:siteTrunk\n",
       "1  0                               \n",
       "2  0                               \n",
       "3  0                               \n",
       "4  0                               \n",
       "5  0                               \n",
       "6  1                               \n",
       "7  0                               \n",
       "8  0                               \n",
       "9  0                               \n",
       "10 0                               \n",
       "11 0                               \n",
       "12 0                               "
      ]
     },
     "metadata": {},
     "output_type": "display_data"
    }
   ],
   "source": [
    "model.matrix(mod.1)"
   ]
  },
  {
   "cell_type": "code",
   "execution_count": 61,
   "metadata": {
    "vscode": {
     "languageId": "r"
    }
   },
   "outputs": [
    {
     "data": {
      "text/plain": [
       "\n",
       "Call:  glm(formula = y ~ tumor_type * site, family = poisson, data = tt)\n",
       "\n",
       "Coefficients:\n",
       "                      (Intercept)            tumor_typeIndeterminate  \n",
       "                           2.3026                             1.0296  \n",
       "                tumor_typeNodular             tumor_typeSup_melanoma  \n",
       "                           1.9879                             2.4423  \n",
       "                         siteHead                          siteTrunk  \n",
       "                           0.7885                            -2.3026  \n",
       " tumor_typeIndeterminate:siteHead         tumor_typeNodular:siteHead  \n",
       "                          -1.7228                            -2.1345  \n",
       "  tumor_typeSup_melanoma:siteHead  tumor_typeIndeterminate:siteTrunk  \n",
       "                          -2.7608                             1.8036  \n",
       "      tumor_typeNodular:siteTrunk   tumor_typeSup_melanoma:siteTrunk  \n",
       "                           1.5086                             1.5466  \n",
       "\n",
       "Degrees of Freedom: 11 Total (i.e. Null);  0 Residual\n",
       "Null Deviance:\t    301.4 \n",
       "Residual Deviance: -2.065e-14 \tAIC: 82.5"
      ]
     },
     "metadata": {},
     "output_type": "display_data"
    }
   ],
   "source": [
    "mod.1"
   ]
  },
  {
   "cell_type": "markdown",
   "metadata": {},
   "source": [
    "Para probar si existe evidencia de una interacción entre tipo de tumor y sitio, la hipótesis nula\n",
    "de que mod.0 es correcto se compara con la alternativa más general de que mod.1 es\n",
    "correcto, utilizando un análisis de devianza"
   ]
  },
  {
   "cell_type": "code",
   "execution_count": 62,
   "metadata": {
    "vscode": {
     "languageId": "r"
    }
   },
   "outputs": [
    {
     "data": {
      "text/html": [
       "<table class=\"dataframe\">\n",
       "<caption>A anova: 2 × 5</caption>\n",
       "<thead>\n",
       "\t<tr><th></th><th scope=col>Resid. Df</th><th scope=col>Resid. Dev</th><th scope=col>Df</th><th scope=col>Deviance</th><th scope=col>Pr(&gt;Chi)</th></tr>\n",
       "\t<tr><th></th><th scope=col>&lt;dbl&gt;</th><th scope=col>&lt;dbl&gt;</th><th scope=col>&lt;dbl&gt;</th><th scope=col>&lt;dbl&gt;</th><th scope=col>&lt;dbl&gt;</th></tr>\n",
       "</thead>\n",
       "<tbody>\n",
       "\t<tr><th scope=row>1</th><td>6</td><td> 5.538243e+01</td><td>NA</td><td>      NA</td><td>          NA</td></tr>\n",
       "\t<tr><th scope=row>2</th><td>0</td><td>-2.065015e-14</td><td> 6</td><td>55.38243</td><td>3.880196e-10</td></tr>\n",
       "</tbody>\n",
       "</table>\n"
      ],
      "text/latex": [
       "A anova: 2 × 5\n",
       "\\begin{tabular}{r|lllll}\n",
       "  & Resid. Df & Resid. Dev & Df & Deviance & Pr(>Chi)\\\\\n",
       "  & <dbl> & <dbl> & <dbl> & <dbl> & <dbl>\\\\\n",
       "\\hline\n",
       "\t1 & 6 &  5.538243e+01 & NA &       NA &           NA\\\\\n",
       "\t2 & 0 & -2.065015e-14 &  6 & 55.38243 & 3.880196e-10\\\\\n",
       "\\end{tabular}\n"
      ],
      "text/markdown": [
       "\n",
       "A anova: 2 × 5\n",
       "\n",
       "| <!--/--> | Resid. Df &lt;dbl&gt; | Resid. Dev &lt;dbl&gt; | Df &lt;dbl&gt; | Deviance &lt;dbl&gt; | Pr(&gt;Chi) &lt;dbl&gt; |\n",
       "|---|---|---|---|---|---|\n",
       "| 1 | 6 |  5.538243e+01 | NA |       NA |           NA |\n",
       "| 2 | 0 | -2.065015e-14 |  6 | 55.38243 | 3.880196e-10 |\n",
       "\n"
      ],
      "text/plain": [
       "  Resid. Df Resid. Dev    Df Deviance Pr(>Chi)    \n",
       "1 6          5.538243e+01 NA       NA           NA\n",
       "2 0         -2.065015e-14  6 55.38243 3.880196e-10"
      ]
     },
     "metadata": {},
     "output_type": "display_data"
    }
   ],
   "source": [
    "anova(mod.0,mod.1,test=\"Chisq\")"
   ]
  },
  {
   "cell_type": "markdown",
   "metadata": {},
   "source": [
    "Un valor p de $3.880196e-10$ sugiere que hay evidencia para rechazar el modelo 0 y la hipótesis de que no existe alguna asociación entre el tipo de tumor y su localización."
   ]
  },
  {
   "cell_type": "markdown",
   "metadata": {},
   "source": [
    "Por lo tanto, basandonos en estos datos, podemos decir que si existe una relacion entre el tipo de tumor y su localizacion. Principalmente en las interacciones: \n",
    "\n",
    "tumor_typeSup_melanoma:siteHead  -2.7608\n",
    "\n",
    "tumor_typeSup_melanoma"
   ]
  },
  {
   "cell_type": "markdown",
   "metadata": {},
   "source": []
  },
  {
   "cell_type": "code",
   "execution_count": null,
   "metadata": {
    "vscode": {
     "languageId": "r"
    }
   },
   "outputs": [],
   "source": []
  }
 ],
 "metadata": {
  "kernelspec": {
   "display_name": "R",
   "language": "R",
   "name": "ir"
  },
  "language_info": {
   "codemirror_mode": "r",
   "file_extension": ".r",
   "mimetype": "text/x-r-source",
   "name": "R",
   "pygments_lexer": "r",
   "version": "4.1.2"
  }
 },
 "nbformat": 4,
 "nbformat_minor": 2
}

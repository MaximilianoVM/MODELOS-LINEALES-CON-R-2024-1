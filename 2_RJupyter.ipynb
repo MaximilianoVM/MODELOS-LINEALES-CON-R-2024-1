{
 "cells": [
  {
   "cell_type": "markdown",
   "id": "7dd1e41c-b9aa-416f-98a2-73f0a1f5f1c6",
   "metadata": {},
   "source": [
    "<h1>TIPOS DE OBJETOS EN R: Vectores</h1>"
   ]
  },
  {
   "cell_type": "code",
   "execution_count": 114,
   "id": "96ba4c13",
   "metadata": {
    "vscode": {
     "languageId": "r"
    }
   },
   "outputs": [],
   "source": [
    "x <- c(1, 2, 3, 4, 5, 6, 7)"
   ]
  },
  {
   "cell_type": "code",
   "execution_count": 115,
   "id": "6e47a7f9-6990-4448-a11f-29454697cc3c",
   "metadata": {
    "vscode": {
     "languageId": "r"
    }
   },
   "outputs": [
    {
     "name": "stdout",
     "output_type": "stream",
     "text": [
      "[1] 1 2 3 4 5 6 7\n"
     ]
    }
   ],
   "source": [
    "y <- c(1:7)\n",
    "print(y)"
   ]
  },
  {
   "cell_type": "code",
   "execution_count": 116,
   "id": "fd6895d5-2985-4efc-b0fd-bacbea4715c8",
   "metadata": {
    "vscode": {
     "languageId": "r"
    }
   },
   "outputs": [
    {
     "name": "stdout",
     "output_type": "stream",
     "text": [
      "[1]  TRUE  TRUE  TRUE  TRUE FALSE FALSE FALSE\n"
     ]
    }
   ],
   "source": [
    "cond1 <- x<=4\n",
    "cond2 <- x>=2\n",
    "\n",
    "print(cond1)"
   ]
  },
  {
   "cell_type": "code",
   "execution_count": 117,
   "id": "300d776d-e75f-4a5e-9c28-5daf01404fe6",
   "metadata": {
    "vscode": {
     "languageId": "r"
    }
   },
   "outputs": [
    {
     "name": "stdout",
     "output_type": "stream",
     "text": [
      "FALSE  TRUE  TRUE  TRUE FALSE FALSE FALSE \n",
      "    1     2     3     4     5     6     7 \n"
     ]
    }
   ],
   "source": [
    "names(x) <- c(cond1 & cond2)\n",
    "\n",
    "print(x)"
   ]
  },
  {
   "cell_type": "markdown",
   "id": "439d5cae-c455-40b4-9339-53095d2a1948",
   "metadata": {},
   "source": [
    "controlar el output de los dataframes"
   ]
  },
  {
   "cell_type": "code",
   "execution_count": 118,
   "id": "916fa3ee-4ecd-40ba-81e8-4636a3302660",
   "metadata": {
    "vscode": {
     "languageId": "r"
    }
   },
   "outputs": [],
   "source": [
    "options(repr.matrix.max.rows=5, repr.matrix.max.cols=10)"
   ]
  },
  {
   "cell_type": "code",
   "execution_count": 119,
   "id": "60731df8-614b-4026-b469-95649a4a73b5",
   "metadata": {
    "vscode": {
     "languageId": "r"
    }
   },
   "outputs": [
    {
     "data": {
      "text/html": [
       "<table>\n",
       "<thead><tr><th scope=col>speed</th><th scope=col>dist</th></tr></thead>\n",
       "<tbody>\n",
       "\t<tr><td>4 </td><td> 2</td></tr>\n",
       "\t<tr><td>4 </td><td>10</td></tr>\n",
       "\t<tr><td>7 </td><td> 4</td></tr>\n",
       "\t<tr><td>...</td><td>...</td></tr>\n",
       "\t<tr><td>24 </td><td>120</td></tr>\n",
       "\t<tr><td>25 </td><td> 85</td></tr>\n",
       "</tbody>\n",
       "</table>\n"
      ],
      "text/latex": [
       "\\begin{tabular}{r|ll}\n",
       " speed & dist\\\\\n",
       "\\hline\n",
       "\t 4  &  2\\\\\n",
       "\t 4  & 10\\\\\n",
       "\t 7  &  4\\\\\n",
       "\t ... & ...\\\\\n",
       "\t 24  & 120\\\\\n",
       "\t 25  &  85\\\\\n",
       "\\end{tabular}\n"
      ],
      "text/markdown": [
       "\n",
       "| speed | dist |\n",
       "|---|---|\n",
       "| 4  |  2 |\n",
       "| 4  | 10 |\n",
       "| 7  |  4 |\n",
       "| ... | ... |\n",
       "| 24  | 120 |\n",
       "| 25  |  85 |\n",
       "\n"
      ],
      "text/plain": [
       "    speed dist\n",
       "1   4      2  \n",
       "2   4     10  \n",
       "3   7      4  \n",
       "... ...   ... \n",
       "49  24    120 \n",
       "50  25     85 "
      ]
     },
     "metadata": {},
     "output_type": "display_data"
    }
   ],
   "source": [
    "cars"
   ]
  },
  {
   "cell_type": "code",
   "execution_count": 120,
   "id": "d7470de8-d927-499a-855b-924257487c79",
   "metadata": {
    "vscode": {
     "languageId": "r"
    }
   },
   "outputs": [],
   "source": [
    "#help(c)"
   ]
  },
  {
   "cell_type": "code",
   "execution_count": 121,
   "id": "3b92871d-3ff6-4e0d-98f5-0b24db400711",
   "metadata": {
    "vscode": {
     "languageId": "r"
    }
   },
   "outputs": [
    {
     "name": "stdout",
     "output_type": "stream",
     "text": [
      "[1] \"A\" \"B\" \"C\" \"D\"\n"
     ]
    }
   ],
   "source": [
    "x2 = c(\"A\", \"B\", \"C\", \"D\")\n",
    "print(x2)"
   ]
  },
  {
   "cell_type": "code",
   "execution_count": 122,
   "id": "9e70e988-c90f-4f14-aa7d-40c8330cea55",
   "metadata": {
    "vscode": {
     "languageId": "r"
    }
   },
   "outputs": [
    {
     "data": {
      "text/html": [
       "<ol class=list-inline>\n",
       "\t<li>'A'</li>\n",
       "\t<li>'B'</li>\n",
       "\t<li>'C'</li>\n",
       "\t<li>'D'</li>\n",
       "</ol>\n"
      ],
      "text/latex": [
       "\\begin{enumerate*}\n",
       "\\item 'A'\n",
       "\\item 'B'\n",
       "\\item 'C'\n",
       "\\item 'D'\n",
       "\\end{enumerate*}\n"
      ],
      "text/markdown": [
       "1. 'A'\n",
       "2. 'B'\n",
       "3. 'C'\n",
       "4. 'D'\n",
       "\n",
       "\n"
      ],
      "text/plain": [
       "[1] \"A\" \"B\" \"C\" \"D\""
      ]
     },
     "metadata": {},
     "output_type": "display_data"
    }
   ],
   "source": [
    "x3=LETTERS[1:4]\n",
    "x3"
   ]
  },
  {
   "cell_type": "code",
   "execution_count": 123,
   "id": "2be3d18f-dab2-4a39-b716-85e25e539b63",
   "metadata": {
    "vscode": {
     "languageId": "r"
    }
   },
   "outputs": [
    {
     "data": {
      "text/html": [
       "'numeric'"
      ],
      "text/latex": [
       "'numeric'"
      ],
      "text/markdown": [
       "'numeric'"
      ],
      "text/plain": [
       "[1] \"numeric\""
      ]
     },
     "metadata": {},
     "output_type": "display_data"
    }
   ],
   "source": [
    "mode(x)"
   ]
  },
  {
   "cell_type": "code",
   "execution_count": 124,
   "id": "0c6d1497-6f3a-443b-9b0f-871bf82a4cdf",
   "metadata": {
    "vscode": {
     "languageId": "r"
    }
   },
   "outputs": [
    {
     "name": "stdout",
     "output_type": "stream",
     "text": [
      "[1]  NA NaN NaN Inf   5\n"
     ]
    }
   ],
   "source": [
    "x4 <- c(NA, 0/0, Inf - Inf, Inf, 5)\n",
    "print(x4)"
   ]
  },
  {
   "cell_type": "code",
   "execution_count": 125,
   "id": "6f4b027a-43dc-4da5-afc1-2ecbd5490044",
   "metadata": {
    "vscode": {
     "languageId": "r"
    }
   },
   "outputs": [],
   "source": [
    "#help(Inf)"
   ]
  },
  {
   "cell_type": "code",
   "execution_count": 126,
   "id": "f7d20a3e-5379-4234-b7db-b09b35721c78",
   "metadata": {
    "vscode": {
     "languageId": "r"
    }
   },
   "outputs": [
    {
     "name": "stdout",
     "output_type": "stream",
     "text": [
      "[1]  1.3  0.6 -3.0  8.0\n",
      "[1]  1  0 -3  8\n"
     ]
    }
   ],
   "source": [
    "h1 = c(1.3, 0.6, -3, 8)\n",
    "print(h1)\n",
    "\n",
    "h2 = as.integer(h1)\n",
    "print(h2)"
   ]
  },
  {
   "cell_type": "markdown",
   "id": "2ad3a60b-82c7-4503-ab2b-cb132e1f1824",
   "metadata": {},
   "source": [
    "Vectores"
   ]
  },
  {
   "cell_type": "code",
   "execution_count": 127,
   "id": "de77fff3-50ef-4707-ade3-85f189c910b7",
   "metadata": {
    "vscode": {
     "languageId": "r"
    }
   },
   "outputs": [
    {
     "name": "stdout",
     "output_type": "stream",
     "text": [
      "[1]  TRUE FALSE  TRUE  TRUE\n"
     ]
    },
    {
     "data": {
      "text/html": [
       "4"
      ],
      "text/latex": [
       "4"
      ],
      "text/markdown": [
       "4"
      ],
      "text/plain": [
       "[1] 4"
      ]
     },
     "metadata": {},
     "output_type": "display_data"
    },
    {
     "data": {
      "text/html": [
       "'numeric'"
      ],
      "text/latex": [
       "'numeric'"
      ],
      "text/markdown": [
       "'numeric'"
      ],
      "text/plain": [
       "[1] \"numeric\""
      ]
     },
     "metadata": {},
     "output_type": "display_data"
    },
    {
     "data": {
      "text/html": [
       "'double'"
      ],
      "text/latex": [
       "'double'"
      ],
      "text/markdown": [
       "'double'"
      ],
      "text/plain": [
       "[1] \"double\""
      ]
     },
     "metadata": {},
     "output_type": "display_data"
    },
    {
     "data": {
      "text/html": [
       "FALSE"
      ],
      "text/latex": [
       "FALSE"
      ],
      "text/markdown": [
       "FALSE"
      ],
      "text/plain": [
       "[1] FALSE"
      ]
     },
     "metadata": {},
     "output_type": "display_data"
    },
    {
     "data": {
      "text/html": [
       "TRUE"
      ],
      "text/latex": [
       "TRUE"
      ],
      "text/markdown": [
       "TRUE"
      ],
      "text/plain": [
       "[1] TRUE"
      ]
     },
     "metadata": {},
     "output_type": "display_data"
    }
   ],
   "source": [
    "h3 = as.logical(h2)\n",
    "print(h3)\n",
    "\n",
    "length(h1)\n",
    "mode(h1)\n",
    "typeof(h1)\n",
    "is.logical(h2)\n",
    "is.logical(h3)"
   ]
  },
  {
   "attachments": {
    "2acc2ac5-936b-485b-b92b-59c4db5a6808.png": {
     "image/png": "[encoded data removed]"
    }
   },
   "cell_type": "markdown",
   "id": "e7d4c42c-bc10-4f34-804d-971f21fef876",
   "metadata": {},
   "source": [
    "![image.png](attachment:2acc2ac5-936b-485b-b92b-59c4db5a6808.png)"
   ]
  },
  {
   "cell_type": "code",
   "execution_count": 128,
   "id": "040b28f6-2f91-482b-80c7-0f957578eeb3",
   "metadata": {
    "vscode": {
     "languageId": "r"
    }
   },
   "outputs": [
    {
     "name": "stdout",
     "output_type": "stream",
     "text": [
      "[1] 10  9  8  7  6\n",
      "[1] 1 3 5 7 9\n"
     ]
    }
   ],
   "source": [
    "#definimos los vectores x e y \n",
    "x <- 10:6\n",
    "print(x)\n",
    "\n",
    "y <- seq(1,9,2)\n",
    "print(y)"
   ]
  },
  {
   "cell_type": "code",
   "execution_count": 129,
   "id": "1580e10e-4b5f-45ec-bdad-f0dd53fdda86",
   "metadata": {
    "vscode": {
     "languageId": "r"
    }
   },
   "outputs": [
    {
     "name": "stdout",
     "output_type": "stream",
     "text": [
      "[1] -0.1708177 -0.5039052 -0.8258336 -1.1349799 -1.4271164\n"
     ]
    }
   ],
   "source": [
    "#definimos f(x,y) en terminos de estos vectores. \n",
    "#guardamos los resultados en z\n",
    "\n",
    "z <- log( (x^2 + 2*y) / (x + y)^2 )\n",
    "\n",
    "print(z)"
   ]
  },
  {
   "cell_type": "markdown",
   "id": "72d8c5dc-d229-413c-9699-25ca74e2dfff",
   "metadata": {},
   "source": [
    "OPERACIONES CON VECTORES"
   ]
  },
  {
   "cell_type": "code",
   "execution_count": 130,
   "id": "d8cbf66a-e61d-4b5a-9f41-68a7b36c7f7d",
   "metadata": {
    "vscode": {
     "languageId": "r"
    }
   },
   "outputs": [
    {
     "name": "stdout",
     "output_type": "stream",
     "text": [
      "[1] 10  9  8  7  6\n"
     ]
    },
    {
     "data": {
      "text/html": [
       "30240"
      ],
      "text/latex": [
       "30240"
      ],
      "text/markdown": [
       "30240"
      ],
      "text/plain": [
       "[1] 30240"
      ]
     },
     "metadata": {},
     "output_type": "display_data"
    }
   ],
   "source": [
    "print(x)\n",
    "prod(x)"
   ]
  },
  {
   "cell_type": "code",
   "execution_count": 131,
   "id": "b3e65c3a-5c37-4a73-8d4e-6f3784e84d8e",
   "metadata": {
    "vscode": {
     "languageId": "r"
    }
   },
   "outputs": [
    {
     "data": {
      "text/html": [
       "30240"
      ],
      "text/latex": [
       "30240"
      ],
      "text/markdown": [
       "30240"
      ],
      "text/plain": [
       "[1] 30240"
      ]
     },
     "metadata": {},
     "output_type": "display_data"
    }
   ],
   "source": [
    "10*9*8*7*6"
   ]
  },
  {
   "cell_type": "markdown",
   "id": "88df0b9c-2d74-46bb-b78a-a47f9d5f5626",
   "metadata": {},
   "source": [
    "<h2>MATRICES Y ARREGLOS</h2>"
   ]
  },
  {
   "cell_type": "markdown",
   "id": "df777ae1-5cb7-477b-99a5-8b73acb1d8ce",
   "metadata": {},
   "source": [
    "<ul>\n",
    "    <li>Para crear una matriz en R es posible usar la función matrix, cuya sintaxis es matrix(datos, nrow, ncol, byrow=F, dimnames = NULL)</li>\n",
    "    <li>Si no aparecen ni el segundo ni el tercero, los datos se colocan en una matriz unidimensional, es decir, en un vector.</li>\n",
    "    \n",
    "</ul>.)>>li>\n",
    "</ul>"
   ]
  },
  {
   "cell_type": "markdown",
   "id": "0ca1fb4b-81da-4407-8cb6-b05c91c8ecb2",
   "metadata": {},
   "source": [
    "por ejemplo, para definir la matriz: <br>\n",
    "1 4 7 <br>\n",
    "2 5 8 <br>\n",
    "3 6 9 <br>"
   ]
  },
  {
   "cell_type": "code",
   "execution_count": 132,
   "id": "ada0b773-78e3-4914-ad5a-f638c9336707",
   "metadata": {
    "vscode": {
     "languageId": "r"
    }
   },
   "outputs": [
    {
     "name": "stdout",
     "output_type": "stream",
     "text": [
      "     [,1] [,2] [,3]\n",
      "[1,]    1    4    7\n",
      "[2,]    2    5    8\n",
      "[3,]    3    6    9\n"
     ]
    }
   ],
   "source": [
    "matriz <- matrix( c(1,2,3, 4,5,6, 7,8,9), nrow=3 )\n",
    "print(matriz)"
   ]
  },
  {
   "cell_type": "code",
   "execution_count": 133,
   "id": "ed74c9e5-62ef-45f1-a2cf-81f99b6ae1b0",
   "metadata": {
    "vscode": {
     "languageId": "r"
    }
   },
   "outputs": [
    {
     "name": "stdout",
     "output_type": "stream",
     "text": [
      "     [,1] [,2] [,3]\n",
      "[1,]    1    4    7\n",
      "[2,]    2    5    8\n",
      "[3,]    3    6    9\n"
     ]
    }
   ],
   "source": [
    "matrizz <- matrix( c(1:9), nrow=3 )\n",
    "print(matriz)"
   ]
  },
  {
   "cell_type": "code",
   "execution_count": 134,
   "id": "04fe6fa0-ad11-428d-963b-484df18e3bb4",
   "metadata": {
    "vscode": {
     "languageId": "r"
    }
   },
   "outputs": [
    {
     "data": {
      "text/html": [
       "<ol class=list-inline>\n",
       "\t<li>3</li>\n",
       "\t<li>3</li>\n",
       "</ol>\n"
      ],
      "text/latex": [
       "\\begin{enumerate*}\n",
       "\\item 3\n",
       "\\item 3\n",
       "\\end{enumerate*}\n"
      ],
      "text/markdown": [
       "1. 3\n",
       "2. 3\n",
       "\n",
       "\n"
      ],
      "text/plain": [
       "[1] 3 3"
      ]
     },
     "metadata": {},
     "output_type": "display_data"
    },
    {
     "name": "stdout",
     "output_type": "stream",
     "text": [
      "[1] 3 3\n"
     ]
    }
   ],
   "source": [
    "dim(matriz)\n",
    "print ( dim(matriz) )"
   ]
  },
  {
   "cell_type": "code",
   "execution_count": 135,
   "id": "1271fcaf-4c40-4863-ad58-37f7b23d244a",
   "metadata": {
    "vscode": {
     "languageId": "r"
    }
   },
   "outputs": [
    {
     "data": {
      "text/html": [
       "8"
      ],
      "text/latex": [
       "8"
      ],
      "text/markdown": [
       "8"
      ],
      "text/plain": [
       "[1] 8"
      ]
     },
     "metadata": {},
     "output_type": "display_data"
    }
   ],
   "source": [
    "matriz[2,3] # va a ser 8"
   ]
  },
  {
   "cell_type": "code",
   "execution_count": 136,
   "id": "31b886b7-3303-4a9d-83f9-02845e450e7c",
   "metadata": {
    "vscode": {
     "languageId": "r"
    }
   },
   "outputs": [
    {
     "data": {
      "text/html": [
       "<table>\n",
       "<tbody>\n",
       "\t<tr><td>4</td><td>7</td></tr>\n",
       "\t<tr><td>5</td><td>8</td></tr>\n",
       "</tbody>\n",
       "</table>\n"
      ],
      "text/latex": [
       "\\begin{tabular}{ll}\n",
       "\t 4 & 7\\\\\n",
       "\t 5 & 8\\\\\n",
       "\\end{tabular}\n"
      ],
      "text/markdown": [
       "\n",
       "| 4 | 7 |\n",
       "| 5 | 8 |\n",
       "\n"
      ],
      "text/plain": [
       "     [,1] [,2]\n",
       "[1,] 4    7   \n",
       "[2,] 5    8   "
      ]
     },
     "metadata": {},
     "output_type": "display_data"
    }
   ],
   "source": [
    "matriz[1:2, 2:3]"
   ]
  },
  {
   "cell_type": "code",
   "execution_count": 137,
   "id": "d92ffe34-a675-40c5-92d5-c78339fc95fc",
   "metadata": {
    "vscode": {
     "languageId": "r"
    }
   },
   "outputs": [
    {
     "name": "stdout",
     "output_type": "stream",
     "text": [
      "     [,1] [,2] [,3]\n",
      "[1,]    1    4    7\n",
      "[2,]    2    5    8\n",
      "[3,]    3    6    9\n"
     ]
    }
   ],
   "source": [
    "#re:\n",
    "print(matriz)"
   ]
  },
  {
   "cell_type": "code",
   "execution_count": 138,
   "id": "65bbbf31-617c-46fb-af8a-7ccd5dc55771",
   "metadata": {
    "vscode": {
     "languageId": "r"
    }
   },
   "outputs": [
    {
     "data": {
      "text/html": [
       "<table>\n",
       "<tbody>\n",
       "\t<tr><td>1</td><td>7</td></tr>\n",
       "\t<tr><td>2</td><td>8</td></tr>\n",
       "\t<tr><td>3</td><td>9</td></tr>\n",
       "</tbody>\n",
       "</table>\n"
      ],
      "text/latex": [
       "\\begin{tabular}{ll}\n",
       "\t 1 & 7\\\\\n",
       "\t 2 & 8\\\\\n",
       "\t 3 & 9\\\\\n",
       "\\end{tabular}\n"
      ],
      "text/markdown": [
       "\n",
       "| 1 | 7 |\n",
       "| 2 | 8 |\n",
       "| 3 | 9 |\n",
       "\n"
      ],
      "text/plain": [
       "     [,1] [,2]\n",
       "[1,] 1    7   \n",
       "[2,] 2    8   \n",
       "[3,] 3    9   "
      ]
     },
     "metadata": {},
     "output_type": "display_data"
    }
   ],
   "source": [
    "#     [ todo , (1,3) ]\n",
    "matriz[ ,c(1,3)]\n",
    "#c(1,3) == 1 3"
   ]
  },
  {
   "cell_type": "code",
   "execution_count": 139,
   "id": "9ce2a2ff-20c1-4013-b47b-ea3288ff5c80",
   "metadata": {
    "vscode": {
     "languageId": "r"
    }
   },
   "outputs": [
    {
     "name": "stdout",
     "output_type": "stream",
     "text": [
      "[1] 1 3\n"
     ]
    }
   ],
   "source": [
    "print(c(1,3))"
   ]
  },
  {
   "cell_type": "markdown",
   "id": "a045a8c0-220d-4ff2-a130-f9ef122930a1",
   "metadata": {},
   "source": [
    "MULTIPLICACION DE MATRICES: %*%"
   ]
  },
  {
   "cell_type": "code",
   "execution_count": 140,
   "id": "e0b3050d-7d42-4971-adb9-0ca3fd89befd",
   "metadata": {
    "vscode": {
     "languageId": "r"
    }
   },
   "outputs": [
    {
     "data": {
      "text/html": [
       "<table>\n",
       "<tbody>\n",
       "\t<tr><td>30 </td><td>66 </td><td>102</td></tr>\n",
       "\t<tr><td>36 </td><td>81 </td><td>126</td></tr>\n",
       "\t<tr><td>42 </td><td>96 </td><td>150</td></tr>\n",
       "</tbody>\n",
       "</table>\n"
      ],
      "text/latex": [
       "\\begin{tabular}{lll}\n",
       "\t 30  & 66  & 102\\\\\n",
       "\t 36  & 81  & 126\\\\\n",
       "\t 42  & 96  & 150\\\\\n",
       "\\end{tabular}\n"
      ],
      "text/markdown": [
       "\n",
       "| 30  | 66  | 102 |\n",
       "| 36  | 81  | 126 |\n",
       "| 42  | 96  | 150 |\n",
       "\n"
      ],
      "text/plain": [
       "     [,1] [,2] [,3]\n",
       "[1,] 30   66   102 \n",
       "[2,] 36   81   126 \n",
       "[3,] 42   96   150 "
      ]
     },
     "metadata": {},
     "output_type": "display_data"
    }
   ],
   "source": [
    "matriz%*%matriz"
   ]
  },
  {
   "cell_type": "markdown",
   "id": "60cb707f-f9b0-472c-b846-4d19bc850b6b",
   "metadata": {},
   "source": [
    "multiplicacion ELEMENTO X ELEMENTO: *"
   ]
  },
  {
   "cell_type": "code",
   "execution_count": 141,
   "id": "46292a42-8d30-4cc7-9d34-7d906ac45a0c",
   "metadata": {
    "vscode": {
     "languageId": "r"
    }
   },
   "outputs": [
    {
     "data": {
      "text/html": [
       "<table>\n",
       "<tbody>\n",
       "\t<tr><td>1 </td><td>16</td><td>49</td></tr>\n",
       "\t<tr><td>4 </td><td>25</td><td>64</td></tr>\n",
       "\t<tr><td>9 </td><td>36</td><td>81</td></tr>\n",
       "</tbody>\n",
       "</table>\n"
      ],
      "text/latex": [
       "\\begin{tabular}{lll}\n",
       "\t 1  & 16 & 49\\\\\n",
       "\t 4  & 25 & 64\\\\\n",
       "\t 9  & 36 & 81\\\\\n",
       "\\end{tabular}\n"
      ],
      "text/markdown": [
       "\n",
       "| 1  | 16 | 49 |\n",
       "| 4  | 25 | 64 |\n",
       "| 9  | 36 | 81 |\n",
       "\n"
      ],
      "text/plain": [
       "     [,1] [,2] [,3]\n",
       "[1,] 1    16   49  \n",
       "[2,] 4    25   64  \n",
       "[3,] 9    36   81  "
      ]
     },
     "metadata": {},
     "output_type": "display_data"
    }
   ],
   "source": [
    "matriz * matriz"
   ]
  },
  {
   "cell_type": "markdown",
   "id": "ba075233-f71b-4f45-9885-71dc3962b371",
   "metadata": {},
   "source": [
    "<h3>ARREGLOS</h3>"
   ]
  },
  {
   "cell_type": "markdown",
   "id": "e5393a8f-6daf-44fb-abae-7a5a4bb3ce84",
   "metadata": {},
   "source": [
    "Un arreglo (array) de datos es un objeto que puede ser concebido como una matriz\n",
    "multidimensional (hasta 8 dimensiones) <br>\n",
    "La sintaxis para definir un arreglo es array(data,dim)."
   ]
  },
  {
   "cell_type": "code",
   "execution_count": 142,
   "id": "a1b40f50-9483-4d2a-8fa0-17f5c38613d9",
   "metadata": {
    "vscode": {
     "languageId": "r"
    }
   },
   "outputs": [
    {
     "name": "stdout",
     "output_type": "stream",
     "text": [
      ", , 1\n",
      "\n",
      "     [,1] [,2] [,3] [,4]\n",
      "[1,]    1    4    7   10\n",
      "[2,]    2    5    8   11\n",
      "[3,]    3    6    9   12\n",
      "\n",
      ", , 2\n",
      "\n",
      "     [,1] [,2] [,3] [,4]\n",
      "[1,]   13   16   19   22\n",
      "[2,]   14   17   20   23\n",
      "[3,]   15   18   21   24\n",
      "\n"
     ]
    }
   ],
   "source": [
    "x <- array(c(1:24), dim = c(3,4, 2) ) \n",
    "print(x)"
   ]
  },
  {
   "cell_type": "markdown",
   "id": "0ba8b39b-4c62-4947-8d2e-a40bea3ce41e",
   "metadata": {},
   "source": [
    "<ul>\n",
    " <li>produce un arreglo bidimensional: la primera dimension tiene tres niveles, la segunda \n",
    "tien  och.\n",
    " <br>. <li>\n",
    "Al imprimir el arreglo R comienza con la dimensión mayor y va bajando hacia  a\n",
    "dimeos ón menor, imprimiendo matrices bidimensionales en c da ea.<br>\n",
    "\n",
    "</ul>pa."
   ]
  },
  {
   "cell_type": "markdown",
   "id": "8bd9f017-e92a-4860-a6c5-1067dfc1ac84",
   "metadata": {},
   "source": [
    " <h3>Arreglos (Vectores o matrices).</h3>"
   ]
  },
  {
   "cell_type": "code",
   "execution_count": 143,
   "id": "3b13c5c3-cfe2-41fd-925a-e64e5a17680c",
   "metadata": {
    "vscode": {
     "languageId": "r"
    }
   },
   "outputs": [
    {
     "data": {
      "text/html": [
       "<ol class=list-inline>\n",
       "\t<li>1</li>\n",
       "\t<li>2</li>\n",
       "\t<li>3</li>\n",
       "\t<li>4</li>\n",
       "\t<li>1</li>\n",
       "\t<li>2</li>\n",
       "\t<li>3</li>\n",
       "\t<li>4</li>\n",
       "</ol>\n"
      ],
      "text/latex": [
       "\\begin{enumerate*}\n",
       "\\item 1\n",
       "\\item 2\n",
       "\\item 3\n",
       "\\item 4\n",
       "\\item 1\n",
       "\\item 2\n",
       "\\item 3\n",
       "\\item 4\n",
       "\\end{enumerate*}\n"
      ],
      "text/markdown": [
       "1. 1\n",
       "2. 2\n",
       "3. 3\n",
       "4. 4\n",
       "5. 1\n",
       "6. 2\n",
       "7. 3\n",
       "8. 4\n",
       "\n",
       "\n"
      ],
      "text/plain": [
       "[1] 1 2 3 4 1 2 3 4"
      ]
     },
     "metadata": {},
     "output_type": "display_data"
    },
    {
     "data": {
      "text/html": [
       "<table>\n",
       "<tbody>\n",
       "\t<tr><td>1</td><td>3</td><td>5</td><td>1</td><td>3</td></tr>\n",
       "\t<tr><td>2</td><td>4</td><td>6</td><td>2</td><td>4</td></tr>\n",
       "</tbody>\n",
       "</table>\n"
      ],
      "text/latex": [
       "\\begin{tabular}{lllll}\n",
       "\t 1 & 3 & 5 & 1 & 3\\\\\n",
       "\t 2 & 4 & 6 & 2 & 4\\\\\n",
       "\\end{tabular}\n"
      ],
      "text/markdown": [
       "\n",
       "| 1 | 3 | 5 | 1 | 3 |\n",
       "| 2 | 4 | 6 | 2 | 4 |\n",
       "\n"
      ],
      "text/plain": [
       "     [,1] [,2] [,3] [,4] [,5]\n",
       "[1,] 1    3    5    1    3   \n",
       "[2,] 2    4    6    2    4   "
      ]
     },
     "metadata": {},
     "output_type": "display_data"
    }
   ],
   "source": [
    "array(1:4,8) # Vector de tamaño 8\n",
    "array(1:6,c(2,5)) # Matriz 2x5, se llena por columnas"
   ]
  },
  {
   "cell_type": "code",
   "execution_count": 144,
   "id": "d8267ee1-2ae0-48a5-a5f0-175b3ed08f29",
   "metadata": {
    "vscode": {
     "languageId": "r"
    }
   },
   "outputs": [
    {
     "name": "stdout",
     "output_type": "stream",
     "text": [
      "     [,1] [,2] [,3] [,4] [,5]\n",
      "[1,]    1    3    5    1    3\n",
      "[2,]    2    4    6    2    4\n"
     ]
    }
   ],
   "source": [
    "print(array(1:6,c(2,5)) )"
   ]
  },
  {
   "cell_type": "code",
   "execution_count": 145,
   "id": "d130010c-09ef-4be2-a306-053056765ef3",
   "metadata": {
    "vscode": {
     "languageId": "r"
    }
   },
   "outputs": [
    {
     "name": "stderr",
     "output_type": "stream",
     "text": [
      "Warning message in matrix(c(4, 5, 9, 52, 67, 48, 27), nrow = 2, ncol = 3):\n",
      "\"la longitud de los datos [7] no es un submúltiplo o múltiplo del número de filas [2] en la matriz\""
     ]
    },
    {
     "data": {
      "text/html": [
       "<table>\n",
       "<tbody>\n",
       "\t<tr><td>4 </td><td> 9</td><td>67</td></tr>\n",
       "\t<tr><td>5 </td><td>52</td><td>48</td></tr>\n",
       "</tbody>\n",
       "</table>\n"
      ],
      "text/latex": [
       "\\begin{tabular}{lll}\n",
       "\t 4  &  9 & 67\\\\\n",
       "\t 5  & 52 & 48\\\\\n",
       "\\end{tabular}\n"
      ],
      "text/markdown": [
       "\n",
       "| 4  |  9 | 67 |\n",
       "| 5  | 52 | 48 |\n",
       "\n"
      ],
      "text/plain": [
       "     [,1] [,2] [,3]\n",
       "[1,] 4     9   67  \n",
       "[2,] 5    52   48  "
      ]
     },
     "metadata": {},
     "output_type": "display_data"
    }
   ],
   "source": [
    "#matrices (por defecto llena por columnas)\n",
    "matrix(c(4,5, 9,52, 67,48, 27), nrow=2, ncol=3)"
   ]
  },
  {
   "cell_type": "code",
   "execution_count": 146,
   "id": "736ef4a7-d65a-408f-b6ea-1178762c4105",
   "metadata": {
    "vscode": {
     "languageId": "r"
    }
   },
   "outputs": [
    {
     "data": {
      "text/html": [
       "<table>\n",
       "<tbody>\n",
       "\t<tr><td> 4</td><td> 5</td><td> 9</td></tr>\n",
       "\t<tr><td>52</td><td>67</td><td>48</td></tr>\n",
       "</tbody>\n",
       "</table>\n"
      ],
      "text/latex": [
       "\\begin{tabular}{lll}\n",
       "\t  4 &  5 &  9\\\\\n",
       "\t 52 & 67 & 48\\\\\n",
       "\\end{tabular}\n"
      ],
      "text/markdown": [
       "\n",
       "|  4 |  5 |  9 |\n",
       "| 52 | 67 | 48 |\n",
       "\n"
      ],
      "text/plain": [
       "     [,1] [,2] [,3]\n",
       "[1,]  4    5    9  \n",
       "[2,] 52   67   48  "
      ]
     },
     "metadata": {},
     "output_type": "display_data"
    }
   ],
   "source": [
    "#para llenarla por filas: \n",
    "matrix(c(4,5,9, 52,67,48), nrow=2, ncol=3, byrow=TRUE)"
   ]
  },
  {
   "cell_type": "code",
   "execution_count": 147,
   "id": "8e7b4aa9-1d4c-4871-bc77-2834a029a2d1",
   "metadata": {
    "vscode": {
     "languageId": "r"
    }
   },
   "outputs": [
    {
     "data": {
      "text/html": [
       "<table>\n",
       "<tbody>\n",
       "\t<tr><td>a</td><td>A</td></tr>\n",
       "\t<tr><td>b</td><td>B</td></tr>\n",
       "\t<tr><td>c</td><td>C</td></tr>\n",
       "\t<tr><td>d</td><td>D</td></tr>\n",
       "</tbody>\n",
       "</table>\n"
      ],
      "text/latex": [
       "\\begin{tabular}{ll}\n",
       "\t a & A\\\\\n",
       "\t b & B\\\\\n",
       "\t c & C\\\\\n",
       "\t d & D\\\\\n",
       "\\end{tabular}\n"
      ],
      "text/markdown": [
       "\n",
       "| a | A |\n",
       "| b | B |\n",
       "| c | C |\n",
       "| d | D |\n",
       "\n"
      ],
      "text/plain": [
       "     [,1] [,2]\n",
       "[1,] a    A   \n",
       "[2,] b    B   \n",
       "[3,] c    C   \n",
       "[4,] d    D   "
      ]
     },
     "metadata": {},
     "output_type": "display_data"
    }
   ],
   "source": [
    "#Colocando vectores como columna\n",
    "(y<-cbind(letters[1:4],LETTERS[1:4]))"
   ]
  },
  {
   "cell_type": "code",
   "execution_count": 148,
   "id": "2404ae0d-c9ed-43f8-b29b-7490ef7b4ed1",
   "metadata": {
    "vscode": {
     "languageId": "r"
    }
   },
   "outputs": [],
   "source": [
    "##help(cbind)"
   ]
  },
  {
   "cell_type": "code",
   "execution_count": 149,
   "id": "fe5e3c88-3e52-475b-9d20-26fc15a412a4",
   "metadata": {
    "vscode": {
     "languageId": "r"
    }
   },
   "outputs": [
    {
     "data": {
      "text/html": [
       "'matrix'"
      ],
      "text/latex": [
       "'matrix'"
      ],
      "text/markdown": [
       "'matrix'"
      ],
      "text/plain": [
       "[1] \"matrix\""
      ]
     },
     "metadata": {},
     "output_type": "display_data"
    }
   ],
   "source": [
    "class(y)"
   ]
  },
  {
   "cell_type": "markdown",
   "id": "40c8a9c7-db58-4fa0-932a-ca343846a806",
   "metadata": {},
   "source": [
    "<h2>LISTAS Y FACTORES</h2>"
   ]
  },
  {
   "cell_type": "markdown",
   "id": "2767b138-cc46-4653-aa28-4018442c9b8f",
   "metadata": {},
   "source": [
    "<h3>LISTAS</h3>"
   ]
  },
  {
   "cell_type": "code",
   "execution_count": 150,
   "id": "416ebda9-3ffa-4d29-b894-3a647ea606a4",
   "metadata": {
    "vscode": {
     "languageId": "r"
    }
   },
   "outputs": [
    {
     "name": "stdout",
     "output_type": "stream",
     "text": [
      "$Marca\n",
      "[1] \"Chevrolet\"\n",
      "\n",
      "$Modelo\n",
      "[1] \"Aveo\"\n",
      "\n",
      "$n.puertas\n",
      "[1] 5\n",
      "\n",
      "$Año\n",
      "[1] 2006 2007\n",
      "\n"
     ]
    }
   ],
   "source": [
    "lista <- list( Marca=\"Chevrolet\", Modelo=\"Aveo\", n.puertas=5, Año=c(2006,2007) )\n",
    "\n",
    "print(lista)"
   ]
  },
  {
   "cell_type": "code",
   "execution_count": 151,
   "id": "c079c3ab",
   "metadata": {
    "vscode": {
     "languageId": "r"
    }
   },
   "outputs": [
    {
     "data": {
      "text/html": [
       "<dl>\n",
       "\t<dt>$Marca</dt>\n",
       "\t\t<dd>'Chevrolet'</dd>\n",
       "\t<dt>$Modelo</dt>\n",
       "\t\t<dd>'Aveo'</dd>\n",
       "\t<dt>$n.puertas</dt>\n",
       "\t\t<dd>5</dd>\n",
       "\t<dt>$Año</dt>\n",
       "\t\t<dd><ol class=list-inline>\n",
       "\t<li>2006</li>\n",
       "\t<li>2007</li>\n",
       "</ol>\n",
       "</dd>\n",
       "</dl>\n"
      ],
      "text/latex": [
       "\\begin{description}\n",
       "\\item[\\$Marca] 'Chevrolet'\n",
       "\\item[\\$Modelo] 'Aveo'\n",
       "\\item[\\$n.puertas] 5\n",
       "\\item[\\$Año] \\begin{enumerate*}\n",
       "\\item 2006\n",
       "\\item 2007\n",
       "\\end{enumerate*}\n",
       "\n",
       "\\end{description}\n"
      ],
      "text/markdown": [
       "$Marca\n",
       ":   'Chevrolet'\n",
       "$Modelo\n",
       ":   'Aveo'\n",
       "$n.puertas\n",
       ":   5\n",
       "$Año\n",
       ":   1. 2006\n",
       "2. 2007\n",
       "\n",
       "\n",
       "\n",
       "\n",
       "\n"
      ],
      "text/plain": [
       "$Marca\n",
       "[1] \"Chevrolet\"\n",
       "\n",
       "$Modelo\n",
       "[1] \"Aveo\"\n",
       "\n",
       "$n.puertas\n",
       "[1] 5\n",
       "\n",
       "$Año\n",
       "[1] 2006 2007\n"
      ]
     },
     "metadata": {},
     "output_type": "display_data"
    }
   ],
   "source": [
    "lista"
   ]
  },
  {
   "cell_type": "code",
   "execution_count": 152,
   "id": "26d6c168-ecd2-4631-a3c4-bac00f724e42",
   "metadata": {
    "vscode": {
     "languageId": "r"
    }
   },
   "outputs": [
    {
     "data": {
      "text/html": [
       "<strong>$Marca</strong> = 'Chevrolet'"
      ],
      "text/latex": [
       "\\textbf{\\$Marca} = 'Chevrolet'"
      ],
      "text/markdown": [
       "**$Marca** = 'Chevrolet'"
      ],
      "text/plain": [
       "$Marca\n",
       "[1] \"Chevrolet\"\n"
      ]
     },
     "metadata": {},
     "output_type": "display_data"
    },
    {
     "data": {
      "text/html": [
       "<strong>$Año</strong> = <ol class=list-inline>\n",
       "\t<li>2006</li>\n",
       "\t<li>2007</li>\n",
       "</ol>\n"
      ],
      "text/latex": [
       "\\textbf{\\$Año} = \\begin{enumerate*}\n",
       "\\item 2006\n",
       "\\item 2007\n",
       "\\end{enumerate*}\n"
      ],
      "text/markdown": [
       "**$Año** = 1. 2006\n",
       "2. 2007\n",
       "\n",
       "\n"
      ],
      "text/plain": [
       "$Año\n",
       "[1] 2006 2007\n"
      ]
     },
     "metadata": {},
     "output_type": "display_data"
    }
   ],
   "source": [
    "#seleccionamos posiciones de la lista\n",
    "lista[1]\n",
    "lista[4]"
   ]
  },
  {
   "cell_type": "code",
   "execution_count": 153,
   "id": "707f65a8-9c43-4b55-81a5-13ffa2b2f257",
   "metadata": {
    "vscode": {
     "languageId": "r"
    }
   },
   "outputs": [
    {
     "data": {
      "text/html": [
       "'Chevrolet'"
      ],
      "text/latex": [
       "'Chevrolet'"
      ],
      "text/markdown": [
       "'Chevrolet'"
      ],
      "text/plain": [
       "[1] \"Chevrolet\""
      ]
     },
     "metadata": {},
     "output_type": "display_data"
    },
    {
     "data": {
      "text/html": [
       "2007"
      ],
      "text/latex": [
       "2007"
      ],
      "text/markdown": [
       "2007"
      ],
      "text/plain": [
       "[1] 2007"
      ]
     },
     "metadata": {},
     "output_type": "display_data"
    }
   ],
   "source": [
    "lista[[1]]\n",
    "lista[[4]][2]"
   ]
  },
  {
   "cell_type": "code",
   "execution_count": 154,
   "id": "f0dfa2cf-1762-466f-8e84-5b3040c1d86a",
   "metadata": {
    "vscode": {
     "languageId": "r"
    }
   },
   "outputs": [
    {
     "data": {
      "text/html": [
       "'Chevrolet'"
      ],
      "text/latex": [
       "'Chevrolet'"
      ],
      "text/markdown": [
       "'Chevrolet'"
      ],
      "text/plain": [
       "[1] \"Chevrolet\""
      ]
     },
     "metadata": {},
     "output_type": "display_data"
    },
    {
     "data": {
      "text/html": [
       "'Aveo'"
      ],
      "text/latex": [
       "'Aveo'"
      ],
      "text/markdown": [
       "'Aveo'"
      ],
      "text/plain": [
       "[1] \"Aveo\""
      ]
     },
     "metadata": {},
     "output_type": "display_data"
    }
   ],
   "source": [
    "#tambien podemos referirnos a las posiciones por los nombres\n",
    "lista$Marca\n",
    "lista$Modelo"
   ]
  },
  {
   "cell_type": "code",
   "execution_count": 155,
   "id": "5e8064aa-0f7e-4e75-884b-dfc307d1d114",
   "metadata": {
    "vscode": {
     "languageId": "r"
    }
   },
   "outputs": [
    {
     "data": {
      "text/html": [
       "<ol class=list-inline>\n",
       "\t<li>2006</li>\n",
       "\t<li>2007</li>\n",
       "</ol>\n"
      ],
      "text/latex": [
       "\\begin{enumerate*}\n",
       "\\item 2006\n",
       "\\item 2007\n",
       "\\end{enumerate*}\n"
      ],
      "text/markdown": [
       "1. 2006\n",
       "2. 2007\n",
       "\n",
       "\n"
      ],
      "text/plain": [
       "[1] 2006 2007"
      ]
     },
     "metadata": {},
     "output_type": "display_data"
    }
   ],
   "source": [
    "lista$Año"
   ]
  },
  {
   "cell_type": "code",
   "execution_count": 156,
   "id": "4bbe9c6d-c618-41ad-b576-1d168483e63c",
   "metadata": {
    "vscode": {
     "languageId": "r"
    }
   },
   "outputs": [
    {
     "data": {
      "text/html": [
       "2007"
      ],
      "text/latex": [
       "2007"
      ],
      "text/markdown": [
       "2007"
      ],
      "text/plain": [
       "[1] 2007"
      ]
     },
     "metadata": {},
     "output_type": "display_data"
    }
   ],
   "source": [
    "lista$Año[2]"
   ]
  },
  {
   "cell_type": "markdown",
   "id": "36b703a2-ed8b-4536-bde3-4ac3a6f59f8c",
   "metadata": {},
   "source": [
    "<h3>Factores</h3>\n",
    "\n",
    "* Los factores, son vectores unidimensional que incluye los valores correspondientes a una variable categórica, pero también los diferentes niveles posibles de esta variable.\n",
    "\n",
    "* Los factores permiten trabajar con modelos y gráficas de variables categóricas (por eso son importantes)\n",
    "\n",
    "* Hay dos formas de crear factores, la primera es usar la función gl(), en donde especificamos el número de niveles, el número de repeticiones y el número total de datos respectivamente, y con el argumento labels se especifica el nombre de los niveles\n",
    "\n",
    "* La segunda forma es utiliza la función factor(), en donde especificamos los datos tipo caracter, el número de niveles y el número total de datos."
   ]
  },
  {
   "cell_type": "code",
   "execution_count": 157,
   "id": "9f280a2a-e37d-484f-9a58-7b0817b3ef8b",
   "metadata": {
    "vscode": {
     "languageId": "r"
    }
   },
   "outputs": [],
   "source": [
    "#help(factor)"
   ]
  },
  {
   "cell_type": "markdown",
   "id": "81f501de-d125-4da9-852e-8caac1a16136",
   "metadata": {},
   "source": [
    "Con la funcion gl():  <br>\n",
    "el código está generando un factor categórico llamado edades con 21 elementos distribuidos en 4 niveles (Niños, Jovenes, Adulto, Anciano), donde cada nivel se repite 5 veces."
   ]
  },
  {
   "cell_type": "code",
   "execution_count": 158,
   "id": "9ce894f7",
   "metadata": {
    "vscode": {
     "languageId": "r"
    }
   },
   "outputs": [
    {
     "name": "stdout",
     "output_type": "stream",
     "text": [
      " [1] Niños   Niños   Niños   Niños   Niños   Jovenes Jovenes Jovenes Jovenes\n",
      "[10] Jovenes Adulto  Adulto  Adulto  Adulto  Adulto  Anciano Anciano Anciano\n",
      "[19] Anciano Anciano Niños  \n",
      "Levels: Niños Jovenes Adulto Anciano\n"
     ]
    }
   ],
   "source": [
    "edades <- gl(4,5,21, labels=c(\"Niños\", \"Jovenes\", \"Adulto\", \"Anciano\"))\n",
    "\n",
    "print(edades)"
   ]
  },
  {
   "cell_type": "code",
   "execution_count": 159,
   "id": "63af86b9",
   "metadata": {
    "vscode": {
     "languageId": "r"
    }
   },
   "outputs": [
    {
     "data": {
      "image/png": "[encoded data removed]",
      "text/plain": [
       "plot without title"
      ]
     },
     "metadata": {},
     "output_type": "display_data"
    }
   ],
   "source": [
    "#grafica del factor\n",
    "plot(edades)"
   ]
  },
  {
   "cell_type": "code",
   "execution_count": 160,
   "id": "0d7d52f8",
   "metadata": {
    "vscode": {
     "languageId": "r"
    }
   },
   "outputs": [],
   "source": [
    "tipo <- c(\"A\", \"B\", \"AB\", \"O\")\n",
    "n = length(tipo)\n",
    "\n",
    "#con la funcion factor(): \n",
    "sangre <- factor( rep(tipo, n, 15) )"
   ]
  },
  {
   "cell_type": "markdown",
   "id": "351e145f",
   "metadata": {},
   "source": [
    "* tipo: El vector que se va a repetir.\n",
    "* n: Número de repeticiones del vector original.\n",
    "* 15: Número total de elementos en el nuevo vector resultante.\n",
    "\n",
    "n es la longitud del vector tipo, que es 4 en este caso (porque hay cuatro tipos de sangre: \"A\", \"B\", \"AB\", \"O\"). La parte 15 especifica que el resultado debe tener en total 15 elementos, y se logra repitiendo el vector original varias veces."
   ]
  },
  {
   "cell_type": "code",
   "execution_count": 161,
   "id": "195da964",
   "metadata": {
    "vscode": {
     "languageId": "r"
    }
   },
   "outputs": [
    {
     "name": "stdout",
     "output_type": "stream",
     "text": [
      " [1] A  B  AB O  A  B  AB O  A  B  AB O  A  B  AB\n",
      "Levels: A AB B O\n"
     ]
    }
   ],
   "source": [
    "print(sangre)"
   ]
  },
  {
   "cell_type": "code",
   "execution_count": 162,
   "id": "5333f0c8",
   "metadata": {
    "vscode": {
     "languageId": "r"
    }
   },
   "outputs": [
    {
     "data": {
      "image/png": "[encoded data removed]",
      "text/plain": [
       "plot without title"
      ]
     },
     "metadata": {},
     "output_type": "display_data"
    }
   ],
   "source": [
    "#grafica del factor\n",
    "plot(sangre)"
   ]
  },
  {
   "cell_type": "markdown",
   "id": "bbc67bc2",
   "metadata": {},
   "source": [
    "<h2>Factores</h2>\n",
    "En ocasiones es importante ordenar por nivel de importancia a los factores \n",
    "Usamos <i>ordered</i> en donde colocamos primero el vector que queremos ordenar, seguido del argumento <b>levels</b> en donde colocaremos primeros los niveles de mayor importancia"
   ]
  },
  {
   "cell_type": "code",
   "execution_count": 163,
   "id": "f7b40871",
   "metadata": {
    "vscode": {
     "languageId": "r"
    }
   },
   "outputs": [
    {
     "data": {
      "text/html": [
       "<ol class=list-inline>\n",
       "\t<li>MedioSuperior</li>\n",
       "\t<li>Primaria</li>\n",
       "\t<li>Secundaria</li>\n",
       "\t<li>Superior</li>\n",
       "\t<li>Preescolar</li>\n",
       "\t<li>MedioSuperior</li>\n",
       "\t<li>Primaria</li>\n",
       "\t<li>Secundaria</li>\n",
       "\t<li>Superior</li>\n",
       "\t<li>Preescolar</li>\n",
       "\t<li>MedioSuperior</li>\n",
       "\t<li>Primaria</li>\n",
       "\t<li>Secundaria</li>\n",
       "\t<li>Superior</li>\n",
       "\t<li>Preescolar</li>\n",
       "\t<li>MedioSuperior</li>\n",
       "\t<li>Primaria</li>\n",
       "</ol>\n",
       "\n",
       "<details>\n",
       "\t<summary style=display:list-item;cursor:pointer>\n",
       "\t\t<strong>Levels</strong>:\n",
       "\t</summary>\n",
       "\t<ol class=list-inline>\n",
       "\t\t<li>'MedioSuperior'</li>\n",
       "\t\t<li>'Preescolar'</li>\n",
       "\t\t<li>'Primaria'</li>\n",
       "\t\t<li>'Secundaria'</li>\n",
       "\t\t<li>'Superior'</li>\n",
       "\t</ol>\n",
       "</details>"
      ],
      "text/latex": [
       "\\begin{enumerate*}\n",
       "\\item MedioSuperior\n",
       "\\item Primaria\n",
       "\\item Secundaria\n",
       "\\item Superior\n",
       "\\item Preescolar\n",
       "\\item MedioSuperior\n",
       "\\item Primaria\n",
       "\\item Secundaria\n",
       "\\item Superior\n",
       "\\item Preescolar\n",
       "\\item MedioSuperior\n",
       "\\item Primaria\n",
       "\\item Secundaria\n",
       "\\item Superior\n",
       "\\item Preescolar\n",
       "\\item MedioSuperior\n",
       "\\item Primaria\n",
       "\\end{enumerate*}\n",
       "\n",
       "\\emph{Levels}: \\begin{enumerate*}\n",
       "\\item 'MedioSuperior'\n",
       "\\item 'Preescolar'\n",
       "\\item 'Primaria'\n",
       "\\item 'Secundaria'\n",
       "\\item 'Superior'\n",
       "\\end{enumerate*}\n"
      ],
      "text/markdown": [
       "1. MedioSuperior\n",
       "2. Primaria\n",
       "3. Secundaria\n",
       "4. Superior\n",
       "5. Preescolar\n",
       "6. MedioSuperior\n",
       "7. Primaria\n",
       "8. Secundaria\n",
       "9. Superior\n",
       "10. Preescolar\n",
       "11. MedioSuperior\n",
       "12. Primaria\n",
       "13. Secundaria\n",
       "14. Superior\n",
       "15. Preescolar\n",
       "16. MedioSuperior\n",
       "17. Primaria\n",
       "\n",
       "\n",
       "\n",
       "**Levels**: 1. 'MedioSuperior'\n",
       "2. 'Preescolar'\n",
       "3. 'Primaria'\n",
       "4. 'Secundaria'\n",
       "5. 'Superior'\n",
       "\n",
       "\n"
      ],
      "text/plain": [
       " [1] MedioSuperior Primaria      Secundaria    Superior      Preescolar   \n",
       " [6] MedioSuperior Primaria      Secundaria    Superior      Preescolar   \n",
       "[11] MedioSuperior Primaria      Secundaria    Superior      Preescolar   \n",
       "[16] MedioSuperior Primaria     \n",
       "Levels: MedioSuperior Preescolar Primaria Secundaria Superior"
      ]
     },
     "metadata": {},
     "output_type": "display_data"
    },
    {
     "data": {
      "image/png": "[encoded data removed]",
      "text/plain": [
       "plot without title"
      ]
     },
     "metadata": {},
     "output_type": "display_data"
    }
   ],
   "source": [
    "escolaridad <- factor( rep( \n",
    "    c( \"MedioSuperior\", \"Primaria\", \"Secundaria\", \"Superior\", \"Preescolar\"), \n",
    "    5, 17))\n",
    "\n",
    "escolaridad\n",
    "\n",
    "plot(escolaridad)"
   ]
  },
  {
   "cell_type": "code",
   "execution_count": 164,
   "id": "27581102",
   "metadata": {
    "vscode": {
     "languageId": "r"
    }
   },
   "outputs": [],
   "source": [
    "escolaridad_ordered <- ordered(escolaridad, levels=c(\"Superior\", \"MedioSuperior\", \"Secundaria\", \"Primaria\", \"Preescolar\"))"
   ]
  },
  {
   "cell_type": "code",
   "execution_count": 165,
   "id": "5ab8828c",
   "metadata": {
    "vscode": {
     "languageId": "r"
    }
   },
   "outputs": [
    {
     "data": {
      "image/png": "[encoded data removed]",
      "text/plain": [
       "plot without title"
      ]
     },
     "metadata": {},
     "output_type": "display_data"
    }
   ],
   "source": [
    "plot(escolaridad_ordered)"
   ]
  },
  {
   "cell_type": "markdown",
   "id": "4f095dc1",
   "metadata": {},
   "source": [
    "<h1>Data frame</h1>\n",
    "\"hoja de datos\""
   ]
  },
  {
   "cell_type": "code",
   "execution_count": 166,
   "id": "6205bc9c",
   "metadata": {
    "vscode": {
     "languageId": "r"
    }
   },
   "outputs": [
    {
     "data": {
      "text/html": [
       "<table>\n",
       "<thead><tr><th scope=col>Nombre</th><th scope=col>Edad</th><th scope=col>Población</th><th scope=col>Sexo</th><th scope=col>Edo.Civil</th></tr></thead>\n",
       "<tbody>\n",
       "\t<tr><td>Juan     </td><td>27       </td><td>Monterrey</td><td>M        </td><td>C        </td></tr>\n",
       "\t<tr><td>María    </td><td>34       </td><td>Apodaca  </td><td>F        </td><td>S        </td></tr>\n",
       "\t<tr><td>José     </td><td>40       </td><td>Guadalupe</td><td>M        </td><td>S        </td></tr>\n",
       "\t<tr><td>Carla    </td><td>39       </td><td>San Pedro</td><td>f        </td><td>C        </td></tr>\n",
       "</tbody>\n",
       "</table>\n"
      ],
      "text/latex": [
       "\\begin{tabular}{r|lllll}\n",
       " Nombre & Edad & Población & Sexo & Edo.Civil\\\\\n",
       "\\hline\n",
       "\t Juan      & 27        & Monterrey & M         & C        \\\\\n",
       "\t María     & 34        & Apodaca   & F         & S        \\\\\n",
       "\t José      & 40        & Guadalupe & M         & S        \\\\\n",
       "\t Carla     & 39        & San Pedro & f         & C        \\\\\n",
       "\\end{tabular}\n"
      ],
      "text/markdown": [
       "\n",
       "| Nombre | Edad | Población | Sexo | Edo.Civil |\n",
       "|---|---|---|---|---|\n",
       "| Juan      | 27        | Monterrey | M         | C         |\n",
       "| María     | 34        | Apodaca   | F         | S         |\n",
       "| José      | 40        | Guadalupe | M         | S         |\n",
       "| Carla     | 39        | San Pedro | f         | C         |\n",
       "\n"
      ],
      "text/plain": [
       "  Nombre Edad Población Sexo Edo.Civil\n",
       "1 Juan   27   Monterrey M    C        \n",
       "2 María  34   Apodaca   F    S        \n",
       "3 José   40   Guadalupe M    S        \n",
       "4 Carla  39   San Pedro f    C        "
      ]
     },
     "metadata": {},
     "output_type": "display_data"
    }
   ],
   "source": [
    "#creando un dataframe \n",
    "df = data.frame(\n",
    "    Nombre= c(\"Juan\", \"María\", \"José\", \"Carla\"), \n",
    "    Edad = c(27, 34, 40, 39), \n",
    "    Población = c(\"Monterrey\", \"Apodaca\", \"Guadalupe\", \"San Pedro\"), \n",
    "    Sexo = c(\"M\", \"F\", \"M\", \"f\"), \n",
    "    Edo.Civil = c(\"C\", \"S\", \"S\", \"C\")\n",
    ")\n",
    "\n",
    "df"
   ]
  },
  {
   "cell_type": "markdown",
   "id": "9c5dd19f",
   "metadata": {},
   "source": [
    "<h2>Listas y df ocultas</h2> \n",
    "Por defecto, tanto las listas como los data frame están invisibles en R, para hacerlas visibles y dejar de usar $ usamos la función attach y para hacerlas invisibles nuevamente\n",
    "usamos detach."
   ]
  },
  {
   "cell_type": "code",
   "execution_count": 167,
   "id": "1855e4c7",
   "metadata": {
    "vscode": {
     "languageId": "r"
    }
   },
   "outputs": [
    {
     "data": {
      "text/html": [
       "<dl>\n",
       "\t<dt>$Marca</dt>\n",
       "\t\t<dd>'Chevrolet'</dd>\n",
       "\t<dt>$Modelo</dt>\n",
       "\t\t<dd>'Aveo'</dd>\n",
       "\t<dt>$n.puertas</dt>\n",
       "\t\t<dd>5</dd>\n",
       "\t<dt>$Año</dt>\n",
       "\t\t<dd><ol class=list-inline>\n",
       "\t<li>2006</li>\n",
       "\t<li>2007</li>\n",
       "</ol>\n",
       "</dd>\n",
       "</dl>\n"
      ],
      "text/latex": [
       "\\begin{description}\n",
       "\\item[\\$Marca] 'Chevrolet'\n",
       "\\item[\\$Modelo] 'Aveo'\n",
       "\\item[\\$n.puertas] 5\n",
       "\\item[\\$Año] \\begin{enumerate*}\n",
       "\\item 2006\n",
       "\\item 2007\n",
       "\\end{enumerate*}\n",
       "\n",
       "\\end{description}\n"
      ],
      "text/markdown": [
       "$Marca\n",
       ":   'Chevrolet'\n",
       "$Modelo\n",
       ":   'Aveo'\n",
       "$n.puertas\n",
       ":   5\n",
       "$Año\n",
       ":   1. 2006\n",
       "2. 2007\n",
       "\n",
       "\n",
       "\n",
       "\n",
       "\n"
      ],
      "text/plain": [
       "$Marca\n",
       "[1] \"Chevrolet\"\n",
       "\n",
       "$Modelo\n",
       "[1] \"Aveo\"\n",
       "\n",
       "$n.puertas\n",
       "[1] 5\n",
       "\n",
       "$Año\n",
       "[1] 2006 2007\n"
      ]
     },
     "metadata": {},
     "output_type": "display_data"
    }
   ],
   "source": [
    "lista"
   ]
  },
  {
   "cell_type": "code",
   "execution_count": 168,
   "id": "cc76d203",
   "metadata": {
    "vscode": {
     "languageId": "r"
    }
   },
   "outputs": [
    {
     "name": "stderr",
     "output_type": "stream",
     "text": [
      "The following objects are masked from lista (pos = 3):\n",
      "\n",
      "    Año, Marca, Modelo, n.puertas\n",
      "\n",
      "The following objects are masked from lista (pos = 4):\n",
      "\n",
      "    Año, Marca, Modelo, n.puertas\n",
      "\n"
     ]
    },
    {
     "name": "stdout",
     "output_type": "stream",
     "text": [
      "[1] \"Chevrolet\"\n"
     ]
    }
   ],
   "source": [
    "attach(lista)\n",
    "print(Marca)"
   ]
  },
  {
   "cell_type": "code",
   "execution_count": 169,
   "id": "60c79bdf",
   "metadata": {
    "vscode": {
     "languageId": "r"
    }
   },
   "outputs": [
    {
     "data": {
      "text/html": [
       "'Aveo'"
      ],
      "text/latex": [
       "'Aveo'"
      ],
      "text/markdown": [
       "'Aveo'"
      ],
      "text/plain": [
       "[1] \"Aveo\""
      ]
     },
     "metadata": {},
     "output_type": "display_data"
    }
   ],
   "source": [
    "Modelo"
   ]
  },
  {
   "cell_type": "code",
   "execution_count": 175,
   "id": "f2329115",
   "metadata": {
    "vscode": {
     "languageId": "r"
    }
   },
   "outputs": [
    {
     "name": "stdout",
     "output_type": "stream",
     "text": [
      "[1] 27 34 40 39\n"
     ]
    }
   ],
   "source": [
    "attach(df)\n",
    "print(Edad)"
   ]
  },
  {
   "cell_type": "code",
   "execution_count": 176,
   "id": "a5b8ec11",
   "metadata": {
    "vscode": {
     "languageId": "r"
    }
   },
   "outputs": [],
   "source": [
    "detach(df)\n",
    "#print(Edad)"
   ]
  },
  {
   "cell_type": "code",
   "execution_count": 177,
   "id": "b1e4d325",
   "metadata": {
    "vscode": {
     "languageId": "r"
    }
   },
   "outputs": [
    {
     "data": {
      "text/html": [
       "<ol class=list-inline>\n",
       "\t<li>27</li>\n",
       "\t<li>34</li>\n",
       "\t<li>40</li>\n",
       "\t<li>39</li>\n",
       "</ol>\n"
      ],
      "text/latex": [
       "\\begin{enumerate*}\n",
       "\\item 27\n",
       "\\item 34\n",
       "\\item 40\n",
       "\\item 39\n",
       "\\end{enumerate*}\n"
      ],
      "text/markdown": [
       "1. 27\n",
       "2. 34\n",
       "3. 40\n",
       "4. 39\n",
       "\n",
       "\n"
      ],
      "text/plain": [
       "[1] 27 34 40 39"
      ]
     },
     "metadata": {},
     "output_type": "display_data"
    }
   ],
   "source": [
    "df$Edad"
   ]
  },
  {
   "cell_type": "markdown",
   "id": "e54786a0",
   "metadata": {},
   "source": [
    "<h2>Ejemplo</h2>"
   ]
  },
  {
   "cell_type": "code",
   "execution_count": 178,
   "id": "1bd204d5",
   "metadata": {
    "vscode": {
     "languageId": "r"
    }
   },
   "outputs": [
    {
     "data": {
      "text/html": [
       "<ol class=list-inline>\n",
       "\t<li>Azules</li>\n",
       "\t<li>Marrones</li>\n",
       "\t<li>Marrones</li>\n",
       "</ol>\n",
       "\n",
       "<details>\n",
       "\t<summary style=display:list-item;cursor:pointer>\n",
       "\t\t<strong>Levels</strong>:\n",
       "\t</summary>\n",
       "\t<ol class=list-inline>\n",
       "\t\t<li>'Azules'</li>\n",
       "\t\t<li>'Marrones'</li>\n",
       "\t\t<li>'Verdes'</li>\n",
       "\t\t<li>'Negros'</li>\n",
       "\t</ol>\n",
       "</details>"
      ],
      "text/latex": [
       "\\begin{enumerate*}\n",
       "\\item Azules\n",
       "\\item Marrones\n",
       "\\item Marrones\n",
       "\\end{enumerate*}\n",
       "\n",
       "\\emph{Levels}: \\begin{enumerate*}\n",
       "\\item 'Azules'\n",
       "\\item 'Marrones'\n",
       "\\item 'Verdes'\n",
       "\\item 'Negros'\n",
       "\\end{enumerate*}\n"
      ],
      "text/markdown": [
       "1. Azules\n",
       "2. Marrones\n",
       "3. Marrones\n",
       "\n",
       "\n",
       "\n",
       "**Levels**: 1. 'Azules'\n",
       "2. 'Marrones'\n",
       "3. 'Verdes'\n",
       "4. 'Negros'\n",
       "\n",
       "\n"
      ],
      "text/plain": [
       "[1] Azules   Marrones Marrones\n",
       "Levels: Azules Marrones Verdes Negros"
      ]
     },
     "metadata": {},
     "output_type": "display_data"
    },
    {
     "data": {
      "image/png": "[encoded data removed]",
      "text/plain": [
       "plot without title"
      ]
     },
     "metadata": {},
     "output_type": "display_data"
    }
   ],
   "source": [
    "#definimos el color de ojos \n",
    "ojos <- factor( c( \"Azules\", \"Marrones\", \"Marrones\"), \n",
    "                levels = c(\"Azules\", \"Marrones\", \"Verdes\", \"Negros\"))\n",
    "\n",
    "ojos \n",
    "plot(ojos)"
   ]
  },
  {
   "cell_type": "code",
   "execution_count": 179,
   "id": "3084a8ea",
   "metadata": {
    "vscode": {
     "languageId": "r"
    }
   },
   "outputs": [
    {
     "data": {
      "text/html": [
       "<table>\n",
       "<thead><tr><th scope=col>Color.ojos</th><th scope=col>Peso</th><th scope=col>Altura</th></tr></thead>\n",
       "<tbody>\n",
       "\t<tr><td>Azules  </td><td>68      </td><td>1.65    </td></tr>\n",
       "\t<tr><td>Marrones</td><td>65      </td><td>1.79    </td></tr>\n",
       "\t<tr><td>Marrones</td><td>88      </td><td>1.85    </td></tr>\n",
       "</tbody>\n",
       "</table>\n"
      ],
      "text/latex": [
       "\\begin{tabular}{r|lll}\n",
       " Color.ojos & Peso & Altura\\\\\n",
       "\\hline\n",
       "\t Azules   & 68       & 1.65    \\\\\n",
       "\t Marrones & 65       & 1.79    \\\\\n",
       "\t Marrones & 88       & 1.85    \\\\\n",
       "\\end{tabular}\n"
      ],
      "text/markdown": [
       "\n",
       "| Color.ojos | Peso | Altura |\n",
       "|---|---|---|\n",
       "| Azules   | 68       | 1.65     |\n",
       "| Marrones | 65       | 1.79     |\n",
       "| Marrones | 88       | 1.85     |\n",
       "\n"
      ],
      "text/plain": [
       "  Color.ojos Peso Altura\n",
       "1 Azules     68   1.65  \n",
       "2 Marrones   65   1.79  \n",
       "3 Marrones   88   1.85  "
      ]
     },
     "metadata": {},
     "output_type": "display_data"
    }
   ],
   "source": [
    "#ahora los pesos y alturas \n",
    "datos <- data.frame(Color.ojos=ojos, Peso=c(68, 65, 88), Altura=c(1.65, 1.79, 1.85))\n",
    "\n",
    "datos"
   ]
  },
  {
   "cell_type": "markdown",
   "id": "ce61f8ae",
   "metadata": {},
   "source": [
    "<h3>Data frame</h3> \n",
    "podemos forzar a que una matriz se convierta en una hoja de datos"
   ]
  },
  {
   "cell_type": "code",
   "execution_count": 183,
   "id": "0dcb0932",
   "metadata": {
    "vscode": {
     "languageId": "r"
    }
   },
   "outputs": [
    {
     "data": {
      "text/html": [
       "<table>\n",
       "<tbody>\n",
       "\t<tr><td>1</td><td>4</td><td>7</td></tr>\n",
       "\t<tr><td>2</td><td>5</td><td>8</td></tr>\n",
       "\t<tr><td>3</td><td>6</td><td>9</td></tr>\n",
       "</tbody>\n",
       "</table>\n"
      ],
      "text/latex": [
       "\\begin{tabular}{lll}\n",
       "\t 1 & 4 & 7\\\\\n",
       "\t 2 & 5 & 8\\\\\n",
       "\t 3 & 6 & 9\\\\\n",
       "\\end{tabular}\n"
      ],
      "text/markdown": [
       "\n",
       "| 1 | 4 | 7 |\n",
       "| 2 | 5 | 8 |\n",
       "| 3 | 6 | 9 |\n",
       "\n"
      ],
      "text/plain": [
       "     [,1] [,2] [,3]\n",
       "[1,] 1    4    7   \n",
       "[2,] 2    5    8   \n",
       "[3,] 3    6    9   "
      ]
     },
     "metadata": {},
     "output_type": "display_data"
    },
    {
     "name": "stdout",
     "output_type": "stream",
     "text": [
      "     [,1] [,2] [,3]\n",
      "[1,]    1    4    7\n",
      "[2,]    2    5    8\n",
      "[3,]    3    6    9\n"
     ]
    },
    {
     "data": {
      "text/html": [
       "'double'"
      ],
      "text/latex": [
       "'double'"
      ],
      "text/markdown": [
       "'double'"
      ],
      "text/plain": [
       "[1] \"double\""
      ]
     },
     "metadata": {},
     "output_type": "display_data"
    },
    {
     "data": {
      "text/html": [
       "'numeric'"
      ],
      "text/latex": [
       "'numeric'"
      ],
      "text/markdown": [
       "'numeric'"
      ],
      "text/plain": [
       "[1] \"numeric\""
      ]
     },
     "metadata": {},
     "output_type": "display_data"
    },
    {
     "data": {
      "text/html": [
       "'matrix'"
      ],
      "text/latex": [
       "'matrix'"
      ],
      "text/markdown": [
       "'matrix'"
      ],
      "text/plain": [
       "[1] \"matrix\""
      ]
     },
     "metadata": {},
     "output_type": "display_data"
    }
   ],
   "source": [
    "matriz\n",
    "print(matriz)\n",
    "\n",
    "typeof(matriz)\n",
    "mode(matriz)\n",
    "class(matriz)"
   ]
  },
  {
   "cell_type": "code",
   "execution_count": 187,
   "id": "d1f56e20",
   "metadata": {
    "vscode": {
     "languageId": "r"
    }
   },
   "outputs": [
    {
     "data": {
      "text/html": [
       "<table>\n",
       "<thead><tr><th scope=col>V1</th><th scope=col>V2</th><th scope=col>V3</th></tr></thead>\n",
       "<tbody>\n",
       "\t<tr><td>1</td><td>4</td><td>7</td></tr>\n",
       "\t<tr><td>2</td><td>5</td><td>8</td></tr>\n",
       "\t<tr><td>3</td><td>6</td><td>9</td></tr>\n",
       "</tbody>\n",
       "</table>\n"
      ],
      "text/latex": [
       "\\begin{tabular}{r|lll}\n",
       " V1 & V2 & V3\\\\\n",
       "\\hline\n",
       "\t 1 & 4 & 7\\\\\n",
       "\t 2 & 5 & 8\\\\\n",
       "\t 3 & 6 & 9\\\\\n",
       "\\end{tabular}\n"
      ],
      "text/markdown": [
       "\n",
       "| V1 | V2 | V3 |\n",
       "|---|---|---|\n",
       "| 1 | 4 | 7 |\n",
       "| 2 | 5 | 8 |\n",
       "| 3 | 6 | 9 |\n",
       "\n"
      ],
      "text/plain": [
       "  V1 V2 V3\n",
       "1 1  4  7 \n",
       "2 2  5  8 \n",
       "3 3  6  9 "
      ]
     },
     "metadata": {},
     "output_type": "display_data"
    },
    {
     "name": "stdout",
     "output_type": "stream",
     "text": [
      "  V1 V2 V3\n",
      "1  1  4  7\n",
      "2  2  5  8\n",
      "3  3  6  9\n"
     ]
    },
    {
     "data": {
      "text/html": [
       "'list'"
      ],
      "text/latex": [
       "'list'"
      ],
      "text/markdown": [
       "'list'"
      ],
      "text/plain": [
       "[1] \"list\""
      ]
     },
     "metadata": {},
     "output_type": "display_data"
    },
    {
     "data": {
      "text/html": [
       "'list'"
      ],
      "text/latex": [
       "'list'"
      ],
      "text/markdown": [
       "'list'"
      ],
      "text/plain": [
       "[1] \"list\""
      ]
     },
     "metadata": {},
     "output_type": "display_data"
    },
    {
     "data": {
      "text/html": [
       "'data.frame'"
      ],
      "text/latex": [
       "'data.frame'"
      ],
      "text/markdown": [
       "'data.frame'"
      ],
      "text/plain": [
       "[1] \"data.frame\""
      ]
     },
     "metadata": {},
     "output_type": "display_data"
    }
   ],
   "source": [
    "#lo pasamos a dataframe\n",
    "datos2 <- as.data.frame(matriz)\n",
    "\n",
    "datos2\n",
    "print(datos2)\n",
    "\n",
    "typeof(datos2)\n",
    "mode(datos2)\n",
    "class(datos2)"
   ]
  },
  {
   "cell_type": "code",
   "execution_count": 189,
   "id": "d912758e",
   "metadata": {
    "vscode": {
     "languageId": "r"
    }
   },
   "outputs": [
    {
     "data": {
      "text/html": [
       "<ol class=list-inline>\n",
       "\t<li>'V1'</li>\n",
       "\t<li>'V2'</li>\n",
       "\t<li>'V3'</li>\n",
       "</ol>\n"
      ],
      "text/latex": [
       "\\begin{enumerate*}\n",
       "\\item 'V1'\n",
       "\\item 'V2'\n",
       "\\item 'V3'\n",
       "\\end{enumerate*}\n"
      ],
      "text/markdown": [
       "1. 'V1'\n",
       "2. 'V2'\n",
       "3. 'V3'\n",
       "\n",
       "\n"
      ],
      "text/plain": [
       "[1] \"V1\" \"V2\" \"V3\""
      ]
     },
     "metadata": {},
     "output_type": "display_data"
    },
    {
     "data": {
      "text/html": [
       "<ol class=list-inline>\n",
       "\t<li>'V1'</li>\n",
       "\t<li>'V2'</li>\n",
       "\t<li>'V3'</li>\n",
       "</ol>\n"
      ],
      "text/latex": [
       "\\begin{enumerate*}\n",
       "\\item 'V1'\n",
       "\\item 'V2'\n",
       "\\item 'V3'\n",
       "\\end{enumerate*}\n"
      ],
      "text/markdown": [
       "1. 'V1'\n",
       "2. 'V2'\n",
       "3. 'V3'\n",
       "\n",
       "\n"
      ],
      "text/plain": [
       "[1] \"V1\" \"V2\" \"V3\""
      ]
     },
     "metadata": {},
     "output_type": "display_data"
    },
    {
     "data": {
      "text/html": [
       "<ol class=list-inline>\n",
       "\t<li>'1'</li>\n",
       "\t<li>'2'</li>\n",
       "\t<li>'3'</li>\n",
       "</ol>\n"
      ],
      "text/latex": [
       "\\begin{enumerate*}\n",
       "\\item '1'\n",
       "\\item '2'\n",
       "\\item '3'\n",
       "\\end{enumerate*}\n"
      ],
      "text/markdown": [
       "1. '1'\n",
       "2. '2'\n",
       "3. '3'\n",
       "\n",
       "\n"
      ],
      "text/plain": [
       "[1] \"1\" \"2\" \"3\""
      ]
     },
     "metadata": {},
     "output_type": "display_data"
    }
   ],
   "source": [
    "names(datos2)\n",
    "colnames(datos2)\n",
    "rownames(datos2)"
   ]
  },
  {
   "cell_type": "markdown",
   "id": "aeb2f662",
   "metadata": {},
   "source": [
    "podemos modificar esos nombres"
   ]
  },
  {
   "cell_type": "code",
   "execution_count": 191,
   "id": "c69abb96",
   "metadata": {
    "vscode": {
     "languageId": "r"
    }
   },
   "outputs": [
    {
     "data": {
      "text/html": [
       "<table>\n",
       "<thead><tr><th scope=col>Variable 1</th><th scope=col>Variable 2</th><th scope=col>Variable 3</th></tr></thead>\n",
       "<tbody>\n",
       "\t<tr><td>1</td><td>4</td><td>7</td></tr>\n",
       "\t<tr><td>2</td><td>5</td><td>8</td></tr>\n",
       "\t<tr><td>3</td><td>6</td><td>9</td></tr>\n",
       "</tbody>\n",
       "</table>\n"
      ],
      "text/latex": [
       "\\begin{tabular}{r|lll}\n",
       " Variable 1 & Variable 2 & Variable 3\\\\\n",
       "\\hline\n",
       "\t 1 & 4 & 7\\\\\n",
       "\t 2 & 5 & 8\\\\\n",
       "\t 3 & 6 & 9\\\\\n",
       "\\end{tabular}\n"
      ],
      "text/markdown": [
       "\n",
       "| Variable 1 | Variable 2 | Variable 3 |\n",
       "|---|---|---|\n",
       "| 1 | 4 | 7 |\n",
       "| 2 | 5 | 8 |\n",
       "| 3 | 6 | 9 |\n",
       "\n"
      ],
      "text/plain": [
       "  Variable 1 Variable 2 Variable 3\n",
       "1 1          4          7         \n",
       "2 2          5          8         \n",
       "3 3          6          9         "
      ]
     },
     "metadata": {},
     "output_type": "display_data"
    },
    {
     "name": "stdout",
     "output_type": "stream",
     "text": [
      "  Variable 1 Variable 2 Variable 3\n",
      "1          1          4          7\n",
      "2          2          5          8\n",
      "3          3          6          9\n"
     ]
    }
   ],
   "source": [
    "names(datos2) <- c(\"Variable 1\", \"Variable 2\", \"Variable 3\")\n",
    "\n",
    "datos2\n",
    "print(datos2)"
   ]
  },
  {
   "cell_type": "markdown",
   "id": "7e1b73db",
   "metadata": {},
   "source": []
  },
  {
   "cell_type": "code",
   "execution_count": null,
   "id": "590e1aeb",
   "metadata": {
    "vscode": {
     "languageId": "r"
    }
   },
   "outputs": [],
   "source": []
  }
 ],
 "metadata": {
  "kernelspec": {
   "display_name": "R",
   "language": "R",
   "name": "ir"
  },
  "language_info": {
   "codemirror_mode": "r",
   "file_extension": ".r",
   "mimetype": "text/x-r-source",
   "name": "R",
   "pygments_lexer": "r",
   "version": "3.6.1"
  }
 },
 "nbformat": 4,
 "nbformat_minor": 5
}
